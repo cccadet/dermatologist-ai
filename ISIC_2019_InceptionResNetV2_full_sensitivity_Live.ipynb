{
  "nbformat": 4,
  "nbformat_minor": 0,
  "metadata": {
    "colab": {
      "name": "Transferência de Aprendizado e Fine Tuning - InceptionResNetV2-full - sensitivity- Live.ipynb",
      "provenance": [],
      "collapsed_sections": [],
      "toc_visible": true,
      "machine_shape": "hm",
      "include_colab_link": true
    },
    "kernelspec": {
      "name": "python3",
      "display_name": "Python 3"
    },
    "accelerator": "GPU"
  },
  "cells": [
    {
      "cell_type": "markdown",
      "metadata": {
        "id": "view-in-github",
        "colab_type": "text"
      },
      "source": [
        "<a href=\"https://colab.research.google.com/github/cccadet/dermatologist-ai/blob/master/ISIC_2019_InceptionResNetV2_full_sensitivity_Live.ipynb\" target=\"_parent\"><img src=\"https://colab.research.google.com/assets/colab-badge.svg\" alt=\"Open In Colab\"/></a>"
      ]
    },
    {
      "cell_type": "markdown",
      "metadata": {
        "id": "QWiCoYphcSld",
        "colab_type": "text"
      },
      "source": [
        "## Pré: Conexão com Google Drive"
      ]
    },
    {
      "cell_type": "code",
      "metadata": {
        "id": "71Fn8Ezffe1C",
        "colab_type": "code",
        "outputId": "56d2fe5c-9103-4c6c-c398-6fdc5e13f275",
        "colab": {
          "base_uri": "https://localhost:8080/",
          "height": 121
        }
      },
      "source": [
        "from google.colab import drive\n",
        "drive.mount('/content/drive')"
      ],
      "execution_count": 1,
      "outputs": [
        {
          "output_type": "stream",
          "text": [
            "Go to this URL in a browser: https://accounts.google.com/o/oauth2/auth?client_id=947318989803-6bn6qk8qdgf4n4g3pfee6491hc0brc4i.apps.googleusercontent.com&redirect_uri=urn%3aietf%3awg%3aoauth%3a2.0%3aoob&response_type=code&scope=email%20https%3a%2f%2fwww.googleapis.com%2fauth%2fdocs.test%20https%3a%2f%2fwww.googleapis.com%2fauth%2fdrive%20https%3a%2f%2fwww.googleapis.com%2fauth%2fdrive.photos.readonly%20https%3a%2f%2fwww.googleapis.com%2fauth%2fpeopleapi.readonly\n",
            "\n",
            "Enter your authorization code:\n",
            "··········\n",
            "Mounted at /content/drive\n"
          ],
          "name": "stdout"
        }
      ]
    },
    {
      "cell_type": "markdown",
      "metadata": {
        "id": "19QTXXYFazRX",
        "colab_type": "text"
      },
      "source": [
        "## Etapa 1: Instalação das dependências"
      ]
    },
    {
      "cell_type": "code",
      "metadata": {
        "id": "KmIh3NZAaEkC",
        "colab_type": "code",
        "outputId": "6ef17bce-07c3-40b1-8ee9-12e02b5e7fd3",
        "colab": {
          "base_uri": "https://localhost:8080/",
          "height": 1000
        }
      },
      "source": [
        "!pip install tensorflow-gpu==2\n",
        "!pip install tqdm\n",
        "!pip install kaggle\n",
        "!pip install keras-rectified-adam"
      ],
      "execution_count": 2,
      "outputs": [
        {
          "output_type": "stream",
          "text": [
            "Collecting tensorflow-gpu==2\n",
            "\u001b[?25l  Downloading https://files.pythonhosted.org/packages/25/44/47f0722aea081697143fbcf5d2aa60d1aee4aaacb5869aee2b568974777b/tensorflow_gpu-2.0.0-cp36-cp36m-manylinux2010_x86_64.whl (380.8MB)\n",
            "\u001b[K     |████████████████████████████████| 380.8MB 39kB/s \n",
            "\u001b[?25hRequirement already satisfied: protobuf>=3.6.1 in /usr/local/lib/python3.6/dist-packages (from tensorflow-gpu==2) (3.10.0)\n",
            "Requirement already satisfied: numpy<2.0,>=1.16.0 in /usr/local/lib/python3.6/dist-packages (from tensorflow-gpu==2) (1.17.5)\n",
            "Requirement already satisfied: termcolor>=1.1.0 in /usr/local/lib/python3.6/dist-packages (from tensorflow-gpu==2) (1.1.0)\n",
            "Requirement already satisfied: wheel>=0.26 in /usr/local/lib/python3.6/dist-packages (from tensorflow-gpu==2) (0.34.2)\n",
            "Requirement already satisfied: gast==0.2.2 in /usr/local/lib/python3.6/dist-packages (from tensorflow-gpu==2) (0.2.2)\n",
            "Requirement already satisfied: grpcio>=1.8.6 in /usr/local/lib/python3.6/dist-packages (from tensorflow-gpu==2) (1.15.0)\n",
            "Requirement already satisfied: absl-py>=0.7.0 in /usr/local/lib/python3.6/dist-packages (from tensorflow-gpu==2) (0.9.0)\n",
            "Requirement already satisfied: six>=1.10.0 in /usr/local/lib/python3.6/dist-packages (from tensorflow-gpu==2) (1.12.0)\n",
            "Collecting tensorboard<2.1.0,>=2.0.0\n",
            "\u001b[?25l  Downloading https://files.pythonhosted.org/packages/76/54/99b9d5d52d5cb732f099baaaf7740403e83fe6b0cedde940fabd2b13d75a/tensorboard-2.0.2-py3-none-any.whl (3.8MB)\n",
            "\u001b[K     |████████████████████████████████| 3.8MB 38.1MB/s \n",
            "\u001b[?25hRequirement already satisfied: google-pasta>=0.1.6 in /usr/local/lib/python3.6/dist-packages (from tensorflow-gpu==2) (0.1.8)\n",
            "Requirement already satisfied: opt-einsum>=2.3.2 in /usr/local/lib/python3.6/dist-packages (from tensorflow-gpu==2) (3.1.0)\n",
            "Requirement already satisfied: wrapt>=1.11.1 in /usr/local/lib/python3.6/dist-packages (from tensorflow-gpu==2) (1.11.2)\n",
            "Requirement already satisfied: keras-preprocessing>=1.0.5 in /usr/local/lib/python3.6/dist-packages (from tensorflow-gpu==2) (1.1.0)\n",
            "Requirement already satisfied: astor>=0.6.0 in /usr/local/lib/python3.6/dist-packages (from tensorflow-gpu==2) (0.8.1)\n",
            "Collecting tensorflow-estimator<2.1.0,>=2.0.0\n",
            "\u001b[?25l  Downloading https://files.pythonhosted.org/packages/fc/08/8b927337b7019c374719145d1dceba21a8bb909b93b1ad6f8fb7d22c1ca1/tensorflow_estimator-2.0.1-py2.py3-none-any.whl (449kB)\n",
            "\u001b[K     |████████████████████████████████| 450kB 32.0MB/s \n",
            "\u001b[?25hRequirement already satisfied: keras-applications>=1.0.8 in /usr/local/lib/python3.6/dist-packages (from tensorflow-gpu==2) (1.0.8)\n",
            "Requirement already satisfied: setuptools in /usr/local/lib/python3.6/dist-packages (from protobuf>=3.6.1->tensorflow-gpu==2) (45.1.0)\n",
            "Requirement already satisfied: werkzeug>=0.11.15 in /usr/local/lib/python3.6/dist-packages (from tensorboard<2.1.0,>=2.0.0->tensorflow-gpu==2) (0.16.1)\n",
            "Collecting google-auth<2,>=1.6.3\n",
            "\u001b[?25l  Downloading https://files.pythonhosted.org/packages/1c/6d/7aae38a9022f982cf8167775c7fc299f203417b698c27080ce09060bba07/google_auth-1.11.0-py2.py3-none-any.whl (76kB)\n",
            "\u001b[K     |████████████████████████████████| 81kB 9.8MB/s \n",
            "\u001b[?25hRequirement already satisfied: requests<3,>=2.21.0 in /usr/local/lib/python3.6/dist-packages (from tensorboard<2.1.0,>=2.0.0->tensorflow-gpu==2) (2.21.0)\n",
            "Requirement already satisfied: markdown>=2.6.8 in /usr/local/lib/python3.6/dist-packages (from tensorboard<2.1.0,>=2.0.0->tensorflow-gpu==2) (3.1.1)\n",
            "Requirement already satisfied: google-auth-oauthlib<0.5,>=0.4.1 in /usr/local/lib/python3.6/dist-packages (from tensorboard<2.1.0,>=2.0.0->tensorflow-gpu==2) (0.4.1)\n",
            "Requirement already satisfied: h5py in /usr/local/lib/python3.6/dist-packages (from keras-applications>=1.0.8->tensorflow-gpu==2) (2.8.0)\n",
            "Requirement already satisfied: cachetools<5.0,>=2.0.0 in /usr/local/lib/python3.6/dist-packages (from google-auth<2,>=1.6.3->tensorboard<2.1.0,>=2.0.0->tensorflow-gpu==2) (4.0.0)\n",
            "Requirement already satisfied: pyasn1-modules>=0.2.1 in /usr/local/lib/python3.6/dist-packages (from google-auth<2,>=1.6.3->tensorboard<2.1.0,>=2.0.0->tensorflow-gpu==2) (0.2.8)\n",
            "Requirement already satisfied: rsa<4.1,>=3.1.4 in /usr/local/lib/python3.6/dist-packages (from google-auth<2,>=1.6.3->tensorboard<2.1.0,>=2.0.0->tensorflow-gpu==2) (4.0)\n",
            "Requirement already satisfied: chardet<3.1.0,>=3.0.2 in /usr/local/lib/python3.6/dist-packages (from requests<3,>=2.21.0->tensorboard<2.1.0,>=2.0.0->tensorflow-gpu==2) (3.0.4)\n",
            "Requirement already satisfied: idna<2.9,>=2.5 in /usr/local/lib/python3.6/dist-packages (from requests<3,>=2.21.0->tensorboard<2.1.0,>=2.0.0->tensorflow-gpu==2) (2.8)\n",
            "Requirement already satisfied: urllib3<1.25,>=1.21.1 in /usr/local/lib/python3.6/dist-packages (from requests<3,>=2.21.0->tensorboard<2.1.0,>=2.0.0->tensorflow-gpu==2) (1.24.3)\n",
            "Requirement already satisfied: certifi>=2017.4.17 in /usr/local/lib/python3.6/dist-packages (from requests<3,>=2.21.0->tensorboard<2.1.0,>=2.0.0->tensorflow-gpu==2) (2019.11.28)\n",
            "Requirement already satisfied: requests-oauthlib>=0.7.0 in /usr/local/lib/python3.6/dist-packages (from google-auth-oauthlib<0.5,>=0.4.1->tensorboard<2.1.0,>=2.0.0->tensorflow-gpu==2) (1.3.0)\n",
            "Requirement already satisfied: pyasn1<0.5.0,>=0.4.6 in /usr/local/lib/python3.6/dist-packages (from pyasn1-modules>=0.2.1->google-auth<2,>=1.6.3->tensorboard<2.1.0,>=2.0.0->tensorflow-gpu==2) (0.4.8)\n",
            "Requirement already satisfied: oauthlib>=3.0.0 in /usr/local/lib/python3.6/dist-packages (from requests-oauthlib>=0.7.0->google-auth-oauthlib<0.5,>=0.4.1->tensorboard<2.1.0,>=2.0.0->tensorflow-gpu==2) (3.1.0)\n",
            "\u001b[31mERROR: tensorflow 1.15.0 has requirement tensorboard<1.16.0,>=1.15.0, but you'll have tensorboard 2.0.2 which is incompatible.\u001b[0m\n",
            "\u001b[31mERROR: tensorflow 1.15.0 has requirement tensorflow-estimator==1.15.1, but you'll have tensorflow-estimator 2.0.1 which is incompatible.\u001b[0m\n",
            "\u001b[31mERROR: tensorboard 2.0.2 has requirement grpcio>=1.24.3, but you'll have grpcio 1.15.0 which is incompatible.\u001b[0m\n",
            "\u001b[31mERROR: google-colab 1.0.0 has requirement google-auth~=1.4.0, but you'll have google-auth 1.11.0 which is incompatible.\u001b[0m\n",
            "Installing collected packages: google-auth, tensorboard, tensorflow-estimator, tensorflow-gpu\n",
            "  Found existing installation: google-auth 1.4.2\n",
            "    Uninstalling google-auth-1.4.2:\n",
            "      Successfully uninstalled google-auth-1.4.2\n",
            "  Found existing installation: tensorboard 1.15.0\n",
            "    Uninstalling tensorboard-1.15.0:\n",
            "      Successfully uninstalled tensorboard-1.15.0\n",
            "  Found existing installation: tensorflow-estimator 1.15.1\n",
            "    Uninstalling tensorflow-estimator-1.15.1:\n",
            "      Successfully uninstalled tensorflow-estimator-1.15.1\n",
            "Successfully installed google-auth-1.11.0 tensorboard-2.0.2 tensorflow-estimator-2.0.1 tensorflow-gpu-2.0.0\n"
          ],
          "name": "stdout"
        },
        {
          "output_type": "display_data",
          "data": {
            "application/vnd.colab-display-data+json": {
              "pip_warning": {
                "packages": [
                  "google"
                ]
              }
            }
          },
          "metadata": {
            "tags": []
          }
        },
        {
          "output_type": "stream",
          "text": [
            "Requirement already satisfied: tqdm in /usr/local/lib/python3.6/dist-packages (4.28.1)\n",
            "Requirement already satisfied: kaggle in /usr/local/lib/python3.6/dist-packages (1.5.6)\n",
            "Requirement already satisfied: certifi in /usr/local/lib/python3.6/dist-packages (from kaggle) (2019.11.28)\n",
            "Requirement already satisfied: urllib3<1.25,>=1.21.1 in /usr/local/lib/python3.6/dist-packages (from kaggle) (1.24.3)\n",
            "Requirement already satisfied: python-slugify in /usr/local/lib/python3.6/dist-packages (from kaggle) (4.0.0)\n",
            "Requirement already satisfied: python-dateutil in /usr/local/lib/python3.6/dist-packages (from kaggle) (2.6.1)\n",
            "Requirement already satisfied: requests in /usr/local/lib/python3.6/dist-packages (from kaggle) (2.21.0)\n",
            "Requirement already satisfied: six>=1.10 in /usr/local/lib/python3.6/dist-packages (from kaggle) (1.12.0)\n",
            "Requirement already satisfied: tqdm in /usr/local/lib/python3.6/dist-packages (from kaggle) (4.28.1)\n",
            "Requirement already satisfied: text-unidecode>=1.3 in /usr/local/lib/python3.6/dist-packages (from python-slugify->kaggle) (1.3)\n",
            "Requirement already satisfied: idna<2.9,>=2.5 in /usr/local/lib/python3.6/dist-packages (from requests->kaggle) (2.8)\n",
            "Requirement already satisfied: chardet<3.1.0,>=3.0.2 in /usr/local/lib/python3.6/dist-packages (from requests->kaggle) (3.0.4)\n",
            "Collecting keras-rectified-adam\n",
            "  Downloading https://files.pythonhosted.org/packages/21/79/9521f66b92186702cb58a214c1b923b416266381cd824e15a1733f6a5b06/keras-rectified-adam-0.17.0.tar.gz\n",
            "Requirement already satisfied: numpy in /usr/local/lib/python3.6/dist-packages (from keras-rectified-adam) (1.17.5)\n",
            "Requirement already satisfied: Keras in /usr/local/lib/python3.6/dist-packages (from keras-rectified-adam) (2.2.5)\n",
            "Requirement already satisfied: pyyaml in /usr/local/lib/python3.6/dist-packages (from Keras->keras-rectified-adam) (3.13)\n",
            "Requirement already satisfied: h5py in /usr/local/lib/python3.6/dist-packages (from Keras->keras-rectified-adam) (2.8.0)\n",
            "Requirement already satisfied: scipy>=0.14 in /usr/local/lib/python3.6/dist-packages (from Keras->keras-rectified-adam) (1.4.1)\n",
            "Requirement already satisfied: keras-preprocessing>=1.1.0 in /usr/local/lib/python3.6/dist-packages (from Keras->keras-rectified-adam) (1.1.0)\n",
            "Requirement already satisfied: keras-applications>=1.0.8 in /usr/local/lib/python3.6/dist-packages (from Keras->keras-rectified-adam) (1.0.8)\n",
            "Requirement already satisfied: six>=1.9.0 in /usr/local/lib/python3.6/dist-packages (from Keras->keras-rectified-adam) (1.12.0)\n",
            "Building wheels for collected packages: keras-rectified-adam\n",
            "  Building wheel for keras-rectified-adam (setup.py) ... \u001b[?25l\u001b[?25hdone\n",
            "  Created wheel for keras-rectified-adam: filename=keras_rectified_adam-0.17.0-cp36-none-any.whl size=14781 sha256=ca95c0097cb41250ec4e538e4dbcba330718258e9c1590fc340067f6a89b608f\n",
            "  Stored in directory: /root/.cache/pip/wheels/7b/01/27/3a934e1a5644f5b93c720422a6ef97034ea78a21ba71cfb549\n",
            "Successfully built keras-rectified-adam\n",
            "Installing collected packages: keras-rectified-adam\n",
            "Successfully installed keras-rectified-adam-0.17.0\n"
          ],
          "name": "stdout"
        }
      ]
    },
    {
      "cell_type": "markdown",
      "metadata": {
        "id": "LpbQm2i9jYrP",
        "colab_type": "text"
      },
      "source": [
        "### Importação das bibliotecas"
      ]
    },
    {
      "cell_type": "code",
      "metadata": {
        "id": "wYfBGnPGGrJH",
        "colab_type": "code",
        "outputId": "47a68656-d926-4d3d-d000-c6ac01afb01c",
        "colab": {
          "base_uri": "https://localhost:8080/",
          "height": 34
        }
      },
      "source": [
        "import zipfile\n",
        "import os\n",
        "import numpy as np\n",
        "import tensorflow as tf\n",
        "\n",
        "import matplotlib.pyplot as plt\n",
        "import pandas as pd\n",
        "import sys\n",
        "import itertools\n",
        "from keras_radam import RAdam\n",
        "import shutil\n",
        "\n",
        "from tqdm import tqdm_notebook\n",
        "from tensorflow.keras.preprocessing.image import ImageDataGenerator\n",
        "\n",
        "%matplotlib inline\n",
        "tf.__version__"
      ],
      "execution_count": 42,
      "outputs": [
        {
          "output_type": "execute_result",
          "data": {
            "text/plain": [
              "'2.0.0'"
            ]
          },
          "metadata": {
            "tags": []
          },
          "execution_count": 42
        }
      ]
    },
    {
      "cell_type": "markdown",
      "metadata": {
        "id": "Vqc2bvfSbMfZ",
        "colab_type": "text"
      },
      "source": [
        "### Otimizações tensorflow"
      ]
    },
    {
      "cell_type": "code",
      "metadata": {
        "id": "6blgc5uSbHeE",
        "colab_type": "code",
        "colab": {}
      },
      "source": [
        "#from tensorflow.keras.mixed_precision import experimental as mixed_precision\n",
        "#policy = mixed_precision.Policy('mixed_float16')\n",
        "#mixed_precision.set_policy(policy)\n",
        "tf.config.optimizer.set_jit(True)"
      ],
      "execution_count": 0,
      "outputs": []
    },
    {
      "cell_type": "markdown",
      "metadata": {
        "id": "jQl1fF9Ca80N",
        "colab_type": "text"
      },
      "source": [
        "### Fazendo o download da base de dados de imagens"
      ]
    },
    {
      "cell_type": "code",
      "metadata": {
        "id": "mLWquLOxa-V5",
        "colab_type": "code",
        "outputId": "8f558abe-4017-488d-a159-27df87efec24",
        "colab": {
          "base_uri": "https://localhost:8080/",
          "height": 235
        }
      },
      "source": [
        "%%time\n",
        "if (os.path.isdir('./train')==False):\n",
        "  !wget --no-check-certificate \\\n",
        "      https://s3.amazonaws.com/isic-challenge-2019/ISIC_2019_Training_Input.zip \\\n",
        "      -O ./skin_cancer_train.zip"
      ],
      "execution_count": 9,
      "outputs": [
        {
          "output_type": "stream",
          "text": [
            "--2020-02-04 01:58:06--  https://s3.amazonaws.com/isic-challenge-2019/ISIC_2019_Training_Input.zip\n",
            "Resolving s3.amazonaws.com (s3.amazonaws.com)... 52.216.205.245\n",
            "Connecting to s3.amazonaws.com (s3.amazonaws.com)|52.216.205.245|:443... connected.\n",
            "HTTP request sent, awaiting response... 200 OK\n",
            "Length: 9771618190 (9.1G) [application/zip]\n",
            "Saving to: ‘./skin_cancer_train.zip’\n",
            "\n",
            "./skin_cancer_train 100%[===================>]   9.10G  46.7MB/s    in 4m 15s  \n",
            "\n",
            "2020-02-04 02:02:21 (36.6 MB/s) - ‘./skin_cancer_train.zip’ saved [9771618190/9771618190]\n",
            "\n",
            "CPU times: user 1.8 s, sys: 378 ms, total: 2.17 s\n",
            "Wall time: 4min 16s\n"
          ],
          "name": "stdout"
        }
      ]
    },
    {
      "cell_type": "code",
      "metadata": {
        "id": "Zfok_61Mr5GU",
        "colab_type": "code",
        "outputId": "9c85d3e8-3e2e-42db-d0de-5535a9056e75",
        "colab": {
          "base_uri": "https://localhost:8080/",
          "height": 235
        }
      },
      "source": [
        "%%time\n",
        "if (os.path.isdir('./test')==False):\n",
        "  !wget --no-check-certificate \\\n",
        "      https://s3.amazonaws.com/isic-challenge-2019/ISIC_2019_Test_Input.zip \\\n",
        "      -O ./skin_cancer_test.zip"
      ],
      "execution_count": 10,
      "outputs": [
        {
          "output_type": "stream",
          "text": [
            "--2020-02-04 02:02:23--  https://s3.amazonaws.com/isic-challenge-2019/ISIC_2019_Test_Input.zip\n",
            "Resolving s3.amazonaws.com (s3.amazonaws.com)... 52.217.38.94\n",
            "Connecting to s3.amazonaws.com (s3.amazonaws.com)|52.217.38.94|:443... connected.\n",
            "HTTP request sent, awaiting response... 200 OK\n",
            "Length: 3823247963 (3.6G) [application/zip]\n",
            "Saving to: ‘./skin_cancer_test.zip’\n",
            "\n",
            "./skin_cancer_test. 100%[===================>]   3.56G  37.2MB/s    in 83s     \n",
            "\n",
            "2020-02-04 02:03:46 (43.8 MB/s) - ‘./skin_cancer_test.zip’ saved [3823247963/3823247963]\n",
            "\n",
            "CPU times: user 680 ms, sys: 136 ms, total: 816 ms\n",
            "Wall time: 1min 28s\n"
          ],
          "name": "stdout"
        }
      ]
    },
    {
      "cell_type": "markdown",
      "metadata": {
        "id": "5-tk5DfRjXN3",
        "colab_type": "text"
      },
      "source": [
        "## Etapa 2: Pré-processamento"
      ]
    },
    {
      "cell_type": "markdown",
      "metadata": {
        "id": "VSDt-MEVjlsA",
        "colab_type": "text"
      },
      "source": [
        "### Configurando os caminhos (paths)"
      ]
    },
    {
      "cell_type": "code",
      "metadata": {
        "id": "gWRIeZgpJkGM",
        "colab_type": "code",
        "colab": {}
      },
      "source": [
        "train_dir = \"./train\"\n",
        "valid_dir = \"./valid\"\n",
        "test_dir = \"./test\"\n",
        "\n",
        "download_path = './'\n",
        "derm_ai_path_V1 = '/content/drive/My Drive/Colab Notebooks/Dermatologist_AI'\n",
        "derm_ai_path = '/content/drive/My Drive/Colab Notebooks/Dermatologist_AI/ISIC_2019'\n",
        "#ground_truth_file = os.path.join(derm_ai_path, 'ground_truth.csv')"
      ],
      "execution_count": 0,
      "outputs": []
    },
    {
      "cell_type": "code",
      "metadata": {
        "id": "n35JE--zsSYq",
        "colab_type": "code",
        "colab": {}
      },
      "source": [
        "def dcp(download_path, path, file):\n",
        "  if (os.path.isdir(path)==False):\n",
        "    dataset_path = os.path.join(download_path,file)\n",
        "    zip_object = zipfile.ZipFile(file=dataset_path, mode=\"r\")\n",
        "    zip_object.extractall(\"./\")\n",
        "    zip_object.close()"
      ],
      "execution_count": 0,
      "outputs": []
    },
    {
      "cell_type": "markdown",
      "metadata": {
        "id": "MlsIOpGljdlS",
        "colab_type": "text"
      },
      "source": [
        "### Descompactando a base de dados de Treinamento"
      ]
    },
    {
      "cell_type": "code",
      "metadata": {
        "id": "wITWICPaIryU",
        "colab_type": "code",
        "outputId": "cc335ecb-bb2a-44d0-8b23-98085a9cbf6e",
        "colab": {
          "base_uri": "https://localhost:8080/",
          "height": 50
        }
      },
      "source": [
        "%%time\n",
        "dcp(download_path, './train', 'skin_cancer_train.zip')"
      ],
      "execution_count": 15,
      "outputs": [
        {
          "output_type": "stream",
          "text": [
            "CPU times: user 54.1 s, sys: 17.1 s, total: 1min 11s\n",
            "Wall time: 4min 52s\n"
          ],
          "name": "stdout"
        }
      ]
    },
    {
      "cell_type": "code",
      "metadata": {
        "id": "pSPYMXDr0FrL",
        "colab_type": "code",
        "colab": {}
      },
      "source": [
        "!rm ./skin_cancer_train.zip"
      ],
      "execution_count": 0,
      "outputs": []
    },
    {
      "cell_type": "markdown",
      "metadata": {
        "id": "HNLiNlROcm-x",
        "colab_type": "text"
      },
      "source": [
        "### Descompactando a base de dados de Testes"
      ]
    },
    {
      "cell_type": "code",
      "metadata": {
        "id": "_GOUKbpSobfH",
        "colab_type": "code",
        "outputId": "d2de65fc-58b7-4f15-e218-3228e0983802",
        "colab": {
          "base_uri": "https://localhost:8080/",
          "height": 50
        }
      },
      "source": [
        "%%time\n",
        "dcp(download_path, './test', 'skin_cancer_test.zip')"
      ],
      "execution_count": 17,
      "outputs": [
        {
          "output_type": "stream",
          "text": [
            "CPU times: user 24.3 s, sys: 6.5 s, total: 30.8 s\n",
            "Wall time: 1min 50s\n"
          ],
          "name": "stdout"
        }
      ]
    },
    {
      "cell_type": "code",
      "metadata": {
        "id": "VJIITobvZSRK",
        "colab_type": "code",
        "colab": {}
      },
      "source": [
        "!rm ./skin_cancer_test.zip"
      ],
      "execution_count": 0,
      "outputs": []
    },
    {
      "cell_type": "code",
      "metadata": {
        "id": "L1CAr2r1DuzM",
        "colab_type": "code",
        "colab": {
          "base_uri": "https://localhost:8080/",
          "height": 195
        },
        "outputId": "c1530abe-e660-4628-f396-bc71c37bf6e0"
      },
      "source": [
        "# Read in the data\n",
        "ground_truth = pd.read_csv('https://s3.amazonaws.com/isic-challenge-2019/ISIC_2019_Training_GroundTruth.csv')\n",
        "\n",
        "# Display some information in the dataset\n",
        "ground_truth.head()"
      ],
      "execution_count": 27,
      "outputs": [
        {
          "output_type": "execute_result",
          "data": {
            "text/html": [
              "<div>\n",
              "<style scoped>\n",
              "    .dataframe tbody tr th:only-of-type {\n",
              "        vertical-align: middle;\n",
              "    }\n",
              "\n",
              "    .dataframe tbody tr th {\n",
              "        vertical-align: top;\n",
              "    }\n",
              "\n",
              "    .dataframe thead th {\n",
              "        text-align: right;\n",
              "    }\n",
              "</style>\n",
              "<table border=\"1\" class=\"dataframe\">\n",
              "  <thead>\n",
              "    <tr style=\"text-align: right;\">\n",
              "      <th></th>\n",
              "      <th>image</th>\n",
              "      <th>MEL</th>\n",
              "      <th>NV</th>\n",
              "      <th>BCC</th>\n",
              "      <th>AK</th>\n",
              "      <th>BKL</th>\n",
              "      <th>DF</th>\n",
              "      <th>VASC</th>\n",
              "      <th>SCC</th>\n",
              "      <th>UNK</th>\n",
              "    </tr>\n",
              "  </thead>\n",
              "  <tbody>\n",
              "    <tr>\n",
              "      <th>0</th>\n",
              "      <td>ISIC_0000000</td>\n",
              "      <td>0.0</td>\n",
              "      <td>1.0</td>\n",
              "      <td>0.0</td>\n",
              "      <td>0.0</td>\n",
              "      <td>0.0</td>\n",
              "      <td>0.0</td>\n",
              "      <td>0.0</td>\n",
              "      <td>0.0</td>\n",
              "      <td>0.0</td>\n",
              "    </tr>\n",
              "    <tr>\n",
              "      <th>1</th>\n",
              "      <td>ISIC_0000001</td>\n",
              "      <td>0.0</td>\n",
              "      <td>1.0</td>\n",
              "      <td>0.0</td>\n",
              "      <td>0.0</td>\n",
              "      <td>0.0</td>\n",
              "      <td>0.0</td>\n",
              "      <td>0.0</td>\n",
              "      <td>0.0</td>\n",
              "      <td>0.0</td>\n",
              "    </tr>\n",
              "    <tr>\n",
              "      <th>2</th>\n",
              "      <td>ISIC_0000002</td>\n",
              "      <td>1.0</td>\n",
              "      <td>0.0</td>\n",
              "      <td>0.0</td>\n",
              "      <td>0.0</td>\n",
              "      <td>0.0</td>\n",
              "      <td>0.0</td>\n",
              "      <td>0.0</td>\n",
              "      <td>0.0</td>\n",
              "      <td>0.0</td>\n",
              "    </tr>\n",
              "    <tr>\n",
              "      <th>3</th>\n",
              "      <td>ISIC_0000003</td>\n",
              "      <td>0.0</td>\n",
              "      <td>1.0</td>\n",
              "      <td>0.0</td>\n",
              "      <td>0.0</td>\n",
              "      <td>0.0</td>\n",
              "      <td>0.0</td>\n",
              "      <td>0.0</td>\n",
              "      <td>0.0</td>\n",
              "      <td>0.0</td>\n",
              "    </tr>\n",
              "    <tr>\n",
              "      <th>4</th>\n",
              "      <td>ISIC_0000004</td>\n",
              "      <td>1.0</td>\n",
              "      <td>0.0</td>\n",
              "      <td>0.0</td>\n",
              "      <td>0.0</td>\n",
              "      <td>0.0</td>\n",
              "      <td>0.0</td>\n",
              "      <td>0.0</td>\n",
              "      <td>0.0</td>\n",
              "      <td>0.0</td>\n",
              "    </tr>\n",
              "  </tbody>\n",
              "</table>\n",
              "</div>"
            ],
            "text/plain": [
              "          image  MEL   NV  BCC   AK  BKL   DF  VASC  SCC  UNK\n",
              "0  ISIC_0000000  0.0  1.0  0.0  0.0  0.0  0.0   0.0  0.0  0.0\n",
              "1  ISIC_0000001  0.0  1.0  0.0  0.0  0.0  0.0   0.0  0.0  0.0\n",
              "2  ISIC_0000002  1.0  0.0  0.0  0.0  0.0  0.0   0.0  0.0  0.0\n",
              "3  ISIC_0000003  0.0  1.0  0.0  0.0  0.0  0.0   0.0  0.0  0.0\n",
              "4  ISIC_0000004  1.0  0.0  0.0  0.0  0.0  0.0   0.0  0.0  0.0"
            ]
          },
          "metadata": {
            "tags": []
          },
          "execution_count": 27
        }
      ]
    },
    {
      "cell_type": "code",
      "metadata": {
        "id": "U_VyLoDlDuvB",
        "colab_type": "code",
        "colab": {}
      },
      "source": [
        "# Set y as the labels\n",
        "y = []\n",
        "for row in ground_truth.iterrows():\n",
        "    innerlist = []\n",
        "    newlist = row[1].index[row[1].values[1:].argmax() + 1]\n",
        "    y.append(newlist)\n",
        "\n",
        "\n",
        "#add a name to the label series\n",
        "yd = pd.Series(y) \n",
        "yd.name = 'cclass'\n",
        "\n",
        "from sklearn.model_selection import train_test_split\n",
        "df_train, df_val = train_test_split(ground_truth, test_size=0.2, random_state=41, stratify=yd)\n",
        "\n",
        "# Get a list of images in each of the two folders\n",
        "folder = os.listdir('ISIC_2019_Training_Input')\n",
        "\n",
        "# Get a list of train and val images\n",
        "#all_list = list(ground_truth['image'])\n",
        "#\n",
        "train_list = list(df_train['image'])\n",
        "val_list = list(df_val['image'])"
      ],
      "execution_count": 0,
      "outputs": []
    },
    {
      "cell_type": "code",
      "metadata": {
        "id": "Fg7sw4djDuqC",
        "colab_type": "code",
        "colab": {}
      },
      "source": [
        "#os.mkdir(train_dir)\n",
        "os.mkdir(valid_dir)"
      ],
      "execution_count": 0,
      "outputs": []
    },
    {
      "cell_type": "code",
      "metadata": {
        "id": "yQVWYQtfDucv",
        "colab_type": "code",
        "colab": {}
      },
      "source": [
        "#create sub directory for the classes\n",
        "for col in ground_truth.columns:\n",
        "    if not (col == 'image' or  col == 'UNK'):\n",
        "        dir_path = os.path.join(train_dir, col)\n",
        "        if not os.path.exists(dir_path):\n",
        "          os.mkdir(dir_path)\n",
        "        dir_path = os.path.join(valid_dir, col)\n",
        "        if not os.path.exists(dir_path):\n",
        "          os.mkdir(dir_path)"
      ],
      "execution_count": 0,
      "outputs": []
    },
    {
      "cell_type": "code",
      "metadata": {
        "id": "qRTSwhmAHxt0",
        "colab_type": "code",
        "colab": {}
      },
      "source": [
        "# Transfer the training images\n",
        "for row in df_train.iterrows():\n",
        "    image = row[1].image\n",
        "    # The argmax error was occuring because the first column (image) is a string.\n",
        "    # By using row[1].values[1:] we skip the first column.  This means we need \n",
        "    # add 1 to get the correct row[1].index.\n",
        "    label = row[1].index[row[1].values[1:].argmax() + 1]\n",
        "    fname = image + '.jpg'\n",
        "\n",
        "    if fname in folder:\n",
        "        # source path to image\n",
        "        src = os.path.join('ISIC_2019_Training_Input', fname)\n",
        "        # destination path to image\n",
        "        dst = os.path.join(train_dir, label, fname)\n",
        "        # copy the image from the source to the destination\n",
        "        shutil.copyfile(src, dst)"
      ],
      "execution_count": 0,
      "outputs": []
    },
    {
      "cell_type": "code",
      "metadata": {
        "id": "IjK3evbLHxlf",
        "colab_type": "code",
        "colab": {}
      },
      "source": [
        "# Transfer the valid images\n",
        "for row in df_val.iterrows():\n",
        "    image = row[1].image\n",
        "    # The argmax error was occuring because the first column (image) is a string.\n",
        "    # By using row[1].values[1:] we skip the first column.  This means we need \n",
        "    # add 1 to get the correct row[1].index.\n",
        "    label = row[1].index[row[1].values[1:].argmax() + 1]\n",
        "    fname = image + '.jpg'\n",
        "\n",
        "    if fname in folder:\n",
        "        # source path to image\n",
        "        src = os.path.join('ISIC_2019_Training_Input', fname)\n",
        "        # destination path to image\n",
        "        dst = os.path.join(valid_dir, label, fname)\n",
        "        # copy the image from the source to the destination\n",
        "        shutil.copyfile(src, dst)"
      ],
      "execution_count": 0,
      "outputs": []
    },
    {
      "cell_type": "code",
      "metadata": {
        "id": "Q6bWTXeTHxcD",
        "colab_type": "code",
        "colab": {
          "base_uri": "https://localhost:8080/",
          "height": 168
        },
        "outputId": "407a24ca-06fd-4494-b755-649f4ae49bd5"
      },
      "source": [
        "# training examples\n",
        "total = 0\n",
        "for col in ground_truth.columns:\n",
        "    if not (col == 'image' or  col == 'UNK'):\n",
        "        npath = os.path.join(train_dir, col)\n",
        "        print(col,len(os.listdir(npath)))\n",
        "        total = total+len(os.listdir(npath))\n",
        "print('total = ',total)"
      ],
      "execution_count": 45,
      "outputs": [
        {
          "output_type": "stream",
          "text": [
            "MEL 3618\n",
            "NV 10300\n",
            "BCC 2658\n",
            "AK 694\n",
            "BKL 2099\n",
            "DF 191\n",
            "VASC 202\n",
            "SCC 502\n",
            "total =  20264\n"
          ],
          "name": "stdout"
        }
      ]
    },
    {
      "cell_type": "code",
      "metadata": {
        "id": "W73tLgR0IuaF",
        "colab_type": "code",
        "colab": {
          "base_uri": "https://localhost:8080/",
          "height": 168
        },
        "outputId": "8adadb52-da78-4cb0-cacc-d9f69dce250e"
      },
      "source": [
        "# validation examples\n",
        "total = 0\n",
        "for col in ground_truth.columns:\n",
        "    if not (col == 'image' or  col == 'UNK'):\n",
        "        npath = os.path.join(valid_dir, col)\n",
        "        print(col,len(os.listdir(npath)))\n",
        "        total = total+len(os.listdir(npath))\n",
        "print('total = ',total)"
      ],
      "execution_count": 46,
      "outputs": [
        {
          "output_type": "stream",
          "text": [
            "MEL 904\n",
            "NV 2575\n",
            "BCC 665\n",
            "AK 173\n",
            "BKL 525\n",
            "DF 48\n",
            "VASC 51\n",
            "SCC 126\n",
            "total =  5067\n"
          ],
          "name": "stdout"
        }
      ]
    },
    {
      "cell_type": "code",
      "metadata": {
        "id": "SNZHzSOBIuQ3",
        "colab_type": "code",
        "colab": {}
      },
      "source": [
        "import os, random\n",
        "mellen = len(os.listdir('./valid/MEL'))\n",
        "nvlen = len(os.listdir('./valid/NV'))\n",
        "for i in range(nvlen - mellen):\n",
        "    file = random.choice(os.listdir(\"./valid/NV\"))\n",
        "    dst = os.path.join(valid_dir,'NV', file)\n",
        "    os.remove(dst)"
      ],
      "execution_count": 0,
      "outputs": []
    },
    {
      "cell_type": "code",
      "metadata": {
        "id": "zG7s-4ChKL7D",
        "colab_type": "code",
        "colab": {
          "base_uri": "https://localhost:8080/",
          "height": 168
        },
        "outputId": "5112986d-66ac-4b32-f43f-e796821cc30b"
      },
      "source": [
        "# validation examples\n",
        "total = 0\n",
        "for col in ground_truth.columns:\n",
        "    if not (col == 'image' or  col == 'UNK'):\n",
        "        npath = os.path.join(valid_dir, col)\n",
        "        print(col,len(os.listdir(npath)))\n",
        "        total = total+len(os.listdir(npath))\n",
        "print('total = ',total)        \n",
        "val_len = total"
      ],
      "execution_count": 50,
      "outputs": [
        {
          "output_type": "stream",
          "text": [
            "MEL 904\n",
            "NV 904\n",
            "BCC 665\n",
            "AK 173\n",
            "BKL 525\n",
            "DF 48\n",
            "VASC 51\n",
            "SCC 126\n",
            "total =  3396\n"
          ],
          "name": "stdout"
        }
      ]
    },
    {
      "cell_type": "markdown",
      "metadata": {
        "id": "ZXsBWZbRq1Ry",
        "colab_type": "text"
      },
      "source": [
        "AK\n",
        "BCC\n",
        "BKL\n",
        "DF\n",
        "MEL Melanoma\n",
        "NV\n",
        "SCC\n",
        "VASC"
      ]
    },
    {
      "cell_type": "markdown",
      "metadata": {
        "id": "YJRlLGaotJ_J",
        "colab_type": "text"
      },
      "source": [
        "### Criando geradores de dados (Data Generators)\n",
        "\n",
        "Redimensionando as imagens\n",
        "\n",
        "    Grandes arquiteturas treinadas suportam somente alguns tamanhos pré-definidos.\n",
        "\n",
        "Por exemplo: InceptionResNetV2 (que estamos usando) suporta: (299x299)."
      ]
    },
    {
      "cell_type": "code",
      "metadata": {
        "id": "ydIUm9MvK4pn",
        "colab_type": "code",
        "colab": {}
      },
      "source": [
        "# Data Augmentation (https://keras.io/preprocessing/image/)\n",
        "data_gen_train = ImageDataGenerator(#validation_split=0.2,\n",
        "                                    rescale=1/255., \n",
        "                                    horizontal_flip= True, \n",
        "                                    vertical_flip = True, \n",
        "                                    height_shift_range=0.10, \n",
        "                                    width_shift_range=0.10,\n",
        "                                    rotation_range=180,\n",
        "                                    shear_range=0.01,\n",
        "                                    zoom_range=[0.95, 1.25],\n",
        "                                    fill_mode='constant',\n",
        "                                    #data_format='channels_last',\n",
        "                                    #brightness_range=[0.9, 1.1]\n",
        "                                    )\n",
        "\n",
        "data_gen_valid = ImageDataGenerator(rescale=1/255., \n",
        "                                   fill_mode=\"constant\"\n",
        ")\n",
        "\n",
        "data_gen_test = ImageDataGenerator(rescale=1/255., \n",
        "                                   fill_mode=\"constant\"\n",
        ")"
      ],
      "execution_count": 0,
      "outputs": []
    },
    {
      "cell_type": "code",
      "metadata": {
        "id": "r2K46zJnLbzP",
        "colab_type": "code",
        "outputId": "17f632f2-67da-42db-e221-da752efffc62",
        "colab": {
          "base_uri": "https://localhost:8080/",
          "height": 67
        }
      },
      "source": [
        "train_generator = data_gen_train.flow_from_directory(train_dir, target_size=(299,299), batch_size=32, class_mode=\"categorical\")\n",
        "valid_generator = data_gen_valid.flow_from_directory(valid_dir, target_size=(299,299), batch_size=32, class_mode=\"categorical\")\n",
        "test_generator  = data_gen_test.flow_from_directory(test_dir, target_size=(299,299), batch_size=32, class_mode=\"categorical\", shuffle=False)"
      ],
      "execution_count": 26,
      "outputs": [
        {
          "output_type": "stream",
          "text": [
            "Found 0 images belonging to 0 classes.\n",
            "Found 0 images belonging to 0 classes.\n",
            "Found 0 images belonging to 0 classes.\n"
          ],
          "name": "stdout"
        }
      ]
    },
    {
      "cell_type": "markdown",
      "metadata": {
        "id": "pl0Lin9Cc9dG",
        "colab_type": "text"
      },
      "source": [
        "#### Exibição de 3 imagens carregadas"
      ]
    },
    {
      "cell_type": "code",
      "metadata": {
        "id": "cKn3UrOG--w-",
        "colab_type": "code",
        "colab": {}
      },
      "source": [
        "x,y = train_generator.next()\n",
        "for i in range(0,3):\n",
        "    image = x[i]\n",
        "    label = y[i]\n",
        "    print (label)\n",
        "    plt.imshow(image)\n",
        "    plt.show()"
      ],
      "execution_count": 0,
      "outputs": []
    },
    {
      "cell_type": "markdown",
      "metadata": {
        "id": "-YLQb_WOmjwP",
        "colab_type": "text"
      },
      "source": [
        "## Etapa 3: Construindo o modelo"
      ]
    },
    {
      "cell_type": "markdown",
      "metadata": {
        "id": "PoMFwC51mmNa",
        "colab_type": "text"
      },
      "source": [
        "### Carregando o modelo pré-treinado (InceptionResNetV2)"
      ]
    },
    {
      "cell_type": "code",
      "metadata": {
        "id": "IRRKgkWqAyNF",
        "colab_type": "code",
        "colab": {}
      },
      "source": [
        "img_shape = (299, 299, 3)\n",
        "base_model = tf.keras.applications.InceptionResNetV2(input_shape = img_shape, \n",
        "                                               include_top = False,\n",
        "                                               weights = \"imagenet\")"
      ],
      "execution_count": 0,
      "outputs": []
    },
    {
      "cell_type": "code",
      "metadata": {
        "id": "f-ycQa3Bvqmu",
        "colab_type": "code",
        "colab": {}
      },
      "source": [
        "checkpoint_filepath = os.path.join(derm_ai_path_V1, 'InceptionResNetV2_full_sp.weights.best.my.hdf5')\n",
        "base_model.load_weights(checkpoint_filepath)"
      ],
      "execution_count": 0,
      "outputs": []
    },
    {
      "cell_type": "markdown",
      "metadata": {
        "id": "iRDmVCtFofpc",
        "colab_type": "text"
      },
      "source": [
        "### Congelando o modelo base"
      ]
    },
    {
      "cell_type": "code",
      "metadata": {
        "id": "pBji0sKmDJCG",
        "colab_type": "code",
        "colab": {}
      },
      "source": [
        "base_model.trainable = False"
      ],
      "execution_count": 0,
      "outputs": []
    },
    {
      "cell_type": "markdown",
      "metadata": {
        "id": "lZTcqkBipEEM",
        "colab_type": "text"
      },
      "source": [
        "### Definindo o cabeçalho personalizado da rede neural"
      ]
    },
    {
      "cell_type": "code",
      "metadata": {
        "id": "tjjmu5qEEjgQ",
        "colab_type": "code",
        "colab": {}
      },
      "source": [
        "#base_model.output\n",
        "global_average_layer = tf.keras.layers.GlobalAveragePooling2D()(base_model.output)\n",
        "#global_average_layer\n",
        "prediction_layer = tf.keras.layers.Dense(units = 7, activation = \"softmax\")(global_average_layer)"
      ],
      "execution_count": 0,
      "outputs": []
    },
    {
      "cell_type": "markdown",
      "metadata": {
        "id": "SwzYZTTwqT8l",
        "colab_type": "text"
      },
      "source": [
        "### Definindo o modelo"
      ]
    },
    {
      "cell_type": "code",
      "metadata": {
        "id": "NDs-4oiTGm7r",
        "colab_type": "code",
        "colab": {}
      },
      "source": [
        "model = tf.keras.models.Model(inputs = base_model.input, outputs = prediction_layer)\n",
        "#model.summary()"
      ],
      "execution_count": 0,
      "outputs": []
    },
    {
      "cell_type": "markdown",
      "metadata": {
        "id": "qBrj4jkqrVfy",
        "colab_type": "text"
      },
      "source": [
        "### Compilando o modelo"
      ]
    },
    {
      "cell_type": "code",
      "metadata": {
        "id": "pN-fufl4Ia-V",
        "colab_type": "code",
        "colab": {}
      },
      "source": [
        "#model.compile(optimizer=\"adam\", loss=\"categorical_crossentropy\", metrics=[\"accuracy\"])\n",
        "#model.compile(optimizer=tf.keras.optimizers.RMSprop(lr = 0.0001), loss=\"categorical_crossentropy\", metrics=[\"accuracy\"])\n",
        "#model.compile(optimizer=\"adam\", loss=\"categorical_crossentropy\", metrics=[tf.keras.metrics.CategoricalAccuracy()])\n",
        "#model.compile(optimizer=\"adam\", loss=\"categorical_crossentropy\", metrics=[tf.keras.metrics.AUC()])\n",
        "#model.compile(optimizer=\"adam\", loss=\"categorical_crossentropy\", metrics=[tf.keras.metrics.Recall(thresholds=0.2, class_id=0)])\n",
        "#model.compile(optimizer=\"adam\", loss=\"categorical_crossentropy\", metrics=[tf.keras.metrics.SpecificityAtSensitivity(1)])\n",
        "model.compile(optimizer=RAdam(), loss=\"categorical_crossentropy\", metrics=[tf.keras.metrics.SpecificityAtSensitivity(1)])"
      ],
      "execution_count": 0,
      "outputs": []
    },
    {
      "cell_type": "markdown",
      "metadata": {
        "id": "eSzbQEcpv4C-",
        "colab_type": "text"
      },
      "source": [
        "### Treinando o modelo"
      ]
    },
    {
      "cell_type": "code",
      "metadata": {
        "id": "G5f0BqOhNMTP",
        "colab_type": "code",
        "colab": {}
      },
      "source": [
        "%%time\n",
        "model.fit_generator(train_generator, epochs=5, validation_data=valid_generator)"
      ],
      "execution_count": 0,
      "outputs": []
    },
    {
      "cell_type": "markdown",
      "metadata": {
        "id": "t_Dx30HVxWr2",
        "colab_type": "text"
      },
      "source": [
        "### Avaliação do modelo de transferência de aprendizagem"
      ]
    },
    {
      "cell_type": "code",
      "metadata": {
        "id": "VtdeLEMoPtHf",
        "colab_type": "code",
        "colab": {}
      },
      "source": [
        "valid_loss, valid_spec = model.evaluate_generator(valid_generator)\n",
        "valid_spec"
      ],
      "execution_count": 0,
      "outputs": []
    },
    {
      "cell_type": "markdown",
      "metadata": {
        "id": "3mmrlX05yhkU",
        "colab_type": "text"
      },
      "source": [
        "## Etapa 4: Fine tuning\n",
        "\n",
        "\n",
        "Algumas questões principais:\n",
        "\n",
        "- NEM SEMPRE é necessário realizar o Fine Tuning em toda a rede neural, pois somente em algumas camadas já é suficiente. A ideia é adotar parte específica da rede neural para nosso problema específico\n",
        "- Inicie o Fine Tuning DEPOIS que você finalizou a transferência de aprendizagem. Se você tentar o Fine Tuning imediatamente, os gradientes serão muito diferentes entre o cabeçalho personalizado e algumas camadas descongeladas do modelo base \n",
        "- Mais informações em como usar o Fine Tuning acesse: \n",
        " https://www.analyticsvidhya.com/blog/2017/06/transfer-learning-the-art-of-fine-tuning-a-pre-trained-model/"
      ]
    },
    {
      "cell_type": "markdown",
      "metadata": {
        "id": "Vg-Na6Wmypx5",
        "colab_type": "text"
      },
      "source": [
        "### Descongelando algumas camadas do topo do modelo base"
      ]
    },
    {
      "cell_type": "code",
      "metadata": {
        "id": "rETk3nWcTqNv",
        "colab_type": "code",
        "colab": {}
      },
      "source": [
        "base_model.trainable = True\n",
        "len(base_model.layers)"
      ],
      "execution_count": 0,
      "outputs": []
    },
    {
      "cell_type": "markdown",
      "metadata": {
        "id": "Kl6DPsvyxK6I",
        "colab_type": "text"
      },
      "source": [
        "Descomentar trecho abaixo para manter camadas congeladas. O número informado no parâmetro `fine_tuning_at` define o número das primeiras camadas que ficarão congeladas. Supondo que a rede tenha 780 camadas e seja informado o valor 500, até a camada 500 a rede ficará congelada."
      ]
    },
    {
      "cell_type": "code",
      "metadata": {
        "id": "4tJOR1c5T0zW",
        "colab_type": "code",
        "colab": {}
      },
      "source": [
        "#fine_tuning_at = 500\n",
        "#for layer in base_model.layers[:fine_tuning_at]:\n",
        "#  layer.trainable = False"
      ],
      "execution_count": 0,
      "outputs": []
    },
    {
      "cell_type": "markdown",
      "metadata": {
        "id": "TIjXrxRa1alF",
        "colab_type": "text"
      },
      "source": [
        "### Compilando o modelo para fine tuning"
      ]
    },
    {
      "cell_type": "code",
      "metadata": {
        "id": "d-Baj4cLVLJm",
        "colab_type": "code",
        "colab": {}
      },
      "source": [
        "#model.compile(optimizer=tf.keras.optimizers.RMSprop(lr = 0.0001), loss=\"categorical_crossentropy\", metrics=[\"accuracy\"])\n",
        "#model.compile(optimizer=\"adam\", loss=\"categorical_crossentropy\", metrics=[\"accuracy\"])\n",
        "#model.compile(optimizer=\"adam\", loss=\"categorical_crossentropy\", metrics=[tf.keras.metrics.CategoricalAccuracy()])\n",
        "#model.compile(optimizer=\"adam\", loss=\"categorical_crossentropy\", metrics=[tf.keras.metrics.AUC()])\n",
        "#model.compile(optimizer=\"adam\", loss=\"categorical_crossentropy\", metrics=[tf.keras.metrics.Recall(thresholds=0.2, class_id=0)])\n",
        "model.compile(optimizer=RAdam(), loss=\"categorical_crossentropy\", metrics=[tf.keras.metrics.SpecificityAtSensitivity()])"
      ],
      "execution_count": 0,
      "outputs": []
    },
    {
      "cell_type": "markdown",
      "metadata": {
        "id": "CD57phTH2QAI",
        "colab_type": "text"
      },
      "source": [
        "### Fine tuning"
      ]
    },
    {
      "cell_type": "code",
      "metadata": {
        "id": "cpxAlMx8V3aZ",
        "colab_type": "code",
        "outputId": "b3f4920a-451e-41dd-812b-0c029b8b7412",
        "colab": {
          "base_uri": "https://localhost:8080/",
          "height": 751
        }
      },
      "source": [
        "%%time\n",
        "\n",
        "checkpoint_filepath = os.path.join(derm_ai_path, 'InceptionResNetV2_sp.weights.best.my.hdf5')\n",
        "\n",
        "my_checkpointer = tf.keras.callbacks.ModelCheckpoint(filepath=checkpoint_filepath,\n",
        "                                                 save_best_only=True,\n",
        "                                                 monitor='val_specificity_at_sensitivity_1',\n",
        "                                                 #monitor='val_categorical_accuracy',\n",
        "                                                 verbose=1)\n",
        "\n",
        "model.fit_generator(train_generator, epochs=20, validation_data=valid_generator, callbacks=[my_checkpointer]) #10 ac 5 ss-ac"
      ],
      "execution_count": 0,
      "outputs": [
        {
          "output_type": "stream",
          "text": [
            "Epoch 1/10\n",
            "62/63 [============================>.] - ETA: 5s - loss: 0.5815 - specificity_at_sensitivity_1: 0.0000e+00 \n",
            "Epoch 00001: val_specificity_at_sensitivity_1 improved from inf to 0.00000, saving model to /content/drive/My Drive/Colab Notebooks/Dermatologist_AI/InceptionResNetV2_full_sp.weights.best.my.hdf5\n",
            "63/63 [==============================] - 363s 6s/step - loss: 0.5793 - specificity_at_sensitivity_1: 0.0000e+00 - val_loss: 1.0559 - val_specificity_at_sensitivity_1: 0.0000e+00\n",
            "Epoch 2/10\n",
            "62/63 [============================>.] - ETA: 4s - loss: 0.5915 - specificity_at_sensitivity_1: 0.0000e+00\n",
            "Epoch 00002: val_specificity_at_sensitivity_1 did not improve from 0.00000\n",
            "63/63 [==============================] - 315s 5s/step - loss: 0.5921 - specificity_at_sensitivity_1: 0.0000e+00 - val_loss: 1.5533 - val_specificity_at_sensitivity_1: 0.0000e+00\n",
            "Epoch 3/10\n",
            "62/63 [============================>.] - ETA: 4s - loss: 0.5565 - specificity_at_sensitivity_1: 0.0000e+00\n",
            "Epoch 00003: val_specificity_at_sensitivity_1 did not improve from 0.00000\n",
            "63/63 [==============================] - 316s 5s/step - loss: 0.5560 - specificity_at_sensitivity_1: 0.0000e+00 - val_loss: 0.8654 - val_specificity_at_sensitivity_1: 0.0000e+00\n",
            "Epoch 4/10\n",
            "62/63 [============================>.] - ETA: 4s - loss: 0.5556 - specificity_at_sensitivity_1: 0.0000e+00\n",
            "Epoch 00004: val_specificity_at_sensitivity_1 did not improve from 0.00000\n",
            "63/63 [==============================] - 316s 5s/step - loss: 0.5534 - specificity_at_sensitivity_1: 0.0000e+00 - val_loss: 0.7189 - val_specificity_at_sensitivity_1: 0.0000e+00\n",
            "Epoch 5/10\n",
            "62/63 [============================>.] - ETA: 4s - loss: 0.5407 - specificity_at_sensitivity_1: 0.0000e+00\n",
            "Epoch 00005: val_specificity_at_sensitivity_1 did not improve from 0.00000\n",
            "63/63 [==============================] - 317s 5s/step - loss: 0.5419 - specificity_at_sensitivity_1: 0.0000e+00 - val_loss: 1.0708 - val_specificity_at_sensitivity_1: 0.0000e+00\n",
            "Epoch 6/10\n",
            "62/63 [============================>.] - ETA: 4s - loss: 0.5232 - specificity_at_sensitivity_1: 0.0000e+00\n",
            "Epoch 00006: val_specificity_at_sensitivity_1 did not improve from 0.00000\n",
            "63/63 [==============================] - 315s 5s/step - loss: 0.5216 - specificity_at_sensitivity_1: 0.0000e+00 - val_loss: 2.5342 - val_specificity_at_sensitivity_1: 0.0000e+00\n",
            "Epoch 7/10\n",
            "62/63 [============================>.] - ETA: 4s - loss: 0.4948 - specificity_at_sensitivity_1: 0.0000e+00\n",
            "Epoch 00007: val_specificity_at_sensitivity_1 did not improve from 0.00000\n",
            "63/63 [==============================] - 314s 5s/step - loss: 0.4928 - specificity_at_sensitivity_1: 0.0000e+00 - val_loss: 1.5059 - val_specificity_at_sensitivity_1: 0.0000e+00\n",
            "Epoch 8/10\n",
            "62/63 [============================>.] - ETA: 4s - loss: 0.4705 - specificity_at_sensitivity_1: 0.0000e+00\n",
            "Epoch 00008: val_specificity_at_sensitivity_1 did not improve from 0.00000\n",
            "63/63 [==============================] - 316s 5s/step - loss: 0.4711 - specificity_at_sensitivity_1: 0.0000e+00 - val_loss: 1.5485 - val_specificity_at_sensitivity_1: 0.0000e+00\n",
            "Epoch 9/10\n",
            "62/63 [============================>.] - ETA: 4s - loss: 0.4479 - specificity_at_sensitivity_1: 0.0000e+00\n",
            "Epoch 00009: val_specificity_at_sensitivity_1 did not improve from 0.00000\n",
            "63/63 [==============================] - 318s 5s/step - loss: 0.4453 - specificity_at_sensitivity_1: 0.0000e+00 - val_loss: 0.6761 - val_specificity_at_sensitivity_1: 0.0000e+00\n",
            "Epoch 10/10\n",
            "62/63 [============================>.] - ETA: 4s - loss: 0.4263 - specificity_at_sensitivity_1: 0.0000e+00\n",
            "Epoch 00010: val_specificity_at_sensitivity_1 did not improve from 0.00000\n",
            "63/63 [==============================] - 315s 5s/step - loss: 0.4247 - specificity_at_sensitivity_1: 0.0000e+00 - val_loss: 0.8018 - val_specificity_at_sensitivity_1: 0.0000e+00\n",
            "CPU times: user 1h 12min 39s, sys: 1min 11s, total: 1h 13min 51s\n",
            "Wall time: 53min 24s\n"
          ],
          "name": "stdout"
        }
      ]
    },
    {
      "cell_type": "markdown",
      "metadata": {
        "id": "rutvwJBp6s2x",
        "colab_type": "text"
      },
      "source": [
        "### Avaliação do modelo com fine tuning"
      ]
    },
    {
      "cell_type": "code",
      "metadata": {
        "id": "sTEuVXgmXCbt",
        "colab_type": "code",
        "outputId": "fd7e01bf-6032-4c76-f6a3-1959a256dc1c",
        "colab": {
          "base_uri": "https://localhost:8080/",
          "height": 34
        }
      },
      "source": [
        "valid_loss, valid_score = model.evaluate_generator(valid_generator)\n",
        "valid_score"
      ],
      "execution_count": 0,
      "outputs": [
        {
          "output_type": "execute_result",
          "data": {
            "text/plain": [
              "0.0"
            ]
          },
          "metadata": {
            "tags": []
          },
          "execution_count": 36
        }
      ]
    },
    {
      "cell_type": "markdown",
      "metadata": {
        "id": "e9x5AIM4dnOC",
        "colab_type": "text"
      },
      "source": [
        "### Salvar modelo após Fine Tuning"
      ]
    },
    {
      "cell_type": "code",
      "metadata": {
        "id": "yantLEDZdOB7",
        "colab_type": "code",
        "outputId": "94a05505-7940-475a-a409-f3f469bd5608",
        "colab": {
          "base_uri": "https://localhost:8080/",
          "height": 51
        }
      },
      "source": [
        "%%time\n",
        "# Save the entire model to a HDF5 file.\n",
        "# The '.h5' extension indicates that the model shuold be saved to HDF5.\n",
        "\n",
        "InceptionResNetV2_model_file = os.path.join(derm_ai_path, 'InceptionResNetV2_full_sp.h5')\n",
        "model.save(InceptionResNetV2_model_file) "
      ],
      "execution_count": 0,
      "outputs": [
        {
          "output_type": "stream",
          "text": [
            "CPU times: user 5.03 s, sys: 689 ms, total: 5.72 s\n",
            "Wall time: 6.1 s\n"
          ],
          "name": "stdout"
        }
      ]
    },
    {
      "cell_type": "markdown",
      "metadata": {
        "id": "tGehXq7adtoh",
        "colab_type": "text"
      },
      "source": [
        "### Carregar modelo após Fine Tuning com os melhores pesos"
      ]
    },
    {
      "cell_type": "code",
      "metadata": {
        "id": "KHICSyGEpizT",
        "colab_type": "code",
        "outputId": "97012e42-8fc1-4a2d-9cdc-c5ce8774b41d",
        "colab": {
          "base_uri": "https://localhost:8080/",
          "height": 51
        }
      },
      "source": [
        "%%time\n",
        "\n",
        "#InceptionResNetV2_model_file = os.path.join(derm_ai_path, 'InceptionResNetV2_full_sp.h5')\n",
        "checkpoint_filepath = os.path.join(derm_ai_path, 'InceptionResNetV2_full_sp.weights.best.my.hdf5')\n",
        "\n",
        "# Recreate the exact same model, including its weights and the optimizer\n",
        "#model = tf.keras.models.load_model(InceptionResNetV2_model_file)\n",
        "model.load_weights(checkpoint_filepath)\n",
        "\n",
        "# Show the model architecture\n",
        "#model.summary()"
      ],
      "execution_count": 0,
      "outputs": [
        {
          "output_type": "stream",
          "text": [
            "CPU times: user 1.61 s, sys: 212 ms, total: 1.82 s\n",
            "Wall time: 3.77 s\n"
          ],
          "name": "stdout"
        }
      ]
    },
    {
      "cell_type": "markdown",
      "metadata": {
        "id": "YEnRn26Zd275",
        "colab_type": "text"
      },
      "source": [
        "### Execução das predições na base de testes"
      ]
    },
    {
      "cell_type": "code",
      "metadata": {
        "id": "62gwZu7Lhsb-",
        "colab_type": "code",
        "outputId": "1d6e95a0-5d4d-4574-f355-1911fc96376f",
        "colab": {
          "base_uri": "https://localhost:8080/",
          "height": 68
        }
      },
      "source": [
        "%%time\n",
        "\n",
        "test_generator.reset()\n",
        "pred=model.predict_generator(test_generator,\n",
        "                              verbose=1)"
      ],
      "execution_count": 0,
      "outputs": [
        {
          "output_type": "stream",
          "text": [
            "19/19 [==============================] - 229s 12s/step\n",
            "CPU times: user 3min 59s, sys: 3.65 s, total: 4min 3s\n",
            "Wall time: 3min 49s\n"
          ],
          "name": "stdout"
        }
      ]
    },
    {
      "cell_type": "markdown",
      "metadata": {
        "id": "XOwX-WyOd90K",
        "colab_type": "text"
      },
      "source": [
        "### Identificar classe predita"
      ]
    },
    {
      "cell_type": "code",
      "metadata": {
        "id": "vWto3bzwhsEM",
        "colab_type": "code",
        "colab": {}
      },
      "source": [
        "def predClasses(pred, train_generator):\n",
        "  predicted_class_indices=np.argmax(pred,axis=1)\n",
        "\n",
        "  labels = (train_generator.class_indices)\n",
        "  labels = dict((v,k) for k,v in labels.items())\n",
        "  predictions = [labels[k] for k in predicted_class_indices]\n",
        "  return predicted_class_indices, labels, predictions\n",
        "\n",
        "  "
      ],
      "execution_count": 0,
      "outputs": []
    },
    {
      "cell_type": "markdown",
      "metadata": {
        "id": "j87O7hoeeHex",
        "colab_type": "text"
      },
      "source": [
        "### Salvar resultado para conferência"
      ]
    },
    {
      "cell_type": "code",
      "metadata": {
        "id": "7lnWqtgTtzrj",
        "colab_type": "code",
        "colab": {}
      },
      "source": [
        "results_file = os.path.join(derm_ai_path, 'results_InceptionResNetV2_full_sp2.csv')\n",
        "\n",
        "def saveResultsFile(results_file,pred, test_generator):\n",
        "  filenames=test_generator.filenames\n",
        "  results=pd.DataFrame({\"Id\":filenames,\n",
        "                        \"task_1\":pred[:,0],\n",
        "                        \"task_2\":pred[:,2]})\n",
        "  results.to_csv(results_file,index=False)\n",
        "\n",
        "saveResultsFile(results_file, pred, test_generator)"
      ],
      "execution_count": 0,
      "outputs": []
    },
    {
      "cell_type": "markdown",
      "metadata": {
        "id": "HgC8QOCUeLkd",
        "colab_type": "text"
      },
      "source": [
        "### Rodar avaliação do modelo em relação a base de testes"
      ]
    },
    {
      "cell_type": "code",
      "metadata": {
        "id": "W0FkY1UJxJ3X",
        "colab_type": "code",
        "outputId": "f5605ede-22f5-4860-e251-1aa1203cfb09",
        "colab": {
          "base_uri": "https://localhost:8080/",
          "height": 728
        }
      },
      "source": [
        "def testScore(results_file, threshold, ground_truth_file, derm_ai_path):\n",
        "  sys.path.append(derm_ai_path)\n",
        "  import get_results as results\n",
        "\n",
        "  #threshold = 0.5\n",
        "\n",
        "  # get ground truth labels for test dataset\n",
        "  truth = pd.read_csv(ground_truth_file)\n",
        "  y_true = truth.as_matrix(columns=[\"task_1\", \"task_2\"])\n",
        "\n",
        "  # get model predictions for test dataset\n",
        "  y_pred = pd.read_csv(results_file)\n",
        "  y_pred = y_pred.as_matrix(columns=[\"task_1\", \"task_2\"])\n",
        "\n",
        "  # plot ROC curves and print scores\n",
        "  results.plot_roc_auc(y_true, y_pred)\n",
        "  # plot confusion matrix\n",
        "  classes = ['benign', 'malignant']\n",
        "  results.plot_confusion_matrix(y_true[:,0], y_pred[:,0], threshold, classes)\n",
        "\n",
        "threshold = 0.3\n",
        "testScore(results_file, threshold, ground_truth_file, derm_ai_path)"
      ],
      "execution_count": 0,
      "outputs": [
        {
          "output_type": "stream",
          "text": [
            "/usr/local/lib/python3.6/dist-packages/ipykernel_launcher.py:9: FutureWarning: Method .as_matrix will be removed in a future version. Use .values instead.\n",
            "  if __name__ == '__main__':\n",
            "/usr/local/lib/python3.6/dist-packages/ipykernel_launcher.py:13: FutureWarning: Method .as_matrix will be removed in a future version. Use .values instead.\n",
            "  del sys.path[0]\n"
          ],
          "name": "stderr"
        },
        {
          "output_type": "display_data",
          "data": {
            "image/png": "[encoded data removed]",
            "text/plain": [
              "<Figure size 432x288 with 1 Axes>"
            ]
          },
          "metadata": {
            "tags": []
          }
        },
        {
          "output_type": "stream",
          "text": [
            "Category 1 Score: 0.738\n",
            "Category 2 Score: 0.885\n",
            "Category 3 Score: 0.812\n"
          ],
          "name": "stdout"
        },
        {
          "output_type": "display_data",
          "data": {
            "image/png": "[encoded data removed]",
            "text/plain": [
              "<Figure size 432x288 with 2 Axes>"
            ]
          },
          "metadata": {
            "tags": []
          }
        }
      ]
    },
    {
      "cell_type": "markdown",
      "metadata": {
        "id": "hwSqJwVIeVed",
        "colab_type": "text"
      },
      "source": [
        "### Salvar modelo com score obtido"
      ]
    },
    {
      "cell_type": "code",
      "metadata": {
        "id": "RVVT-k68y_d8",
        "colab_type": "code",
        "colab": {}
      },
      "source": [
        "InceptionResNetV2_best_model_file = os.path.join(derm_ai_path, 'InceptionResNetV2_full_t3_malig_70_sp.h5')"
      ],
      "execution_count": 0,
      "outputs": []
    },
    {
      "cell_type": "code",
      "metadata": {
        "id": "SGFyfBB6PN0G",
        "colab_type": "code",
        "colab": {}
      },
      "source": [
        "model.save(InceptionResNetV2_best_model_file) "
      ],
      "execution_count": 0,
      "outputs": []
    },
    {
      "cell_type": "markdown",
      "metadata": {
        "id": "A26Tz54SeeuJ",
        "colab_type": "text"
      },
      "source": [
        "### Carregar melhor modelo "
      ]
    },
    {
      "cell_type": "code",
      "metadata": {
        "id": "5U3ahZlupSLv",
        "colab_type": "code",
        "colab": {}
      },
      "source": [
        "#model = tf.keras.models.load_model(InceptionResNetV2_best_model_file)\n",
        "\n",
        "checkpoint_filepath = os.path.join(derm_ai_path, 'InceptionResNetV2_full_sp.weights.best.my.hdf5')\n",
        "model.load_weights(checkpoint_filepath)"
      ],
      "execution_count": 0,
      "outputs": []
    },
    {
      "cell_type": "markdown",
      "metadata": {
        "id": "c14Jo3t8zyS_",
        "colab_type": "text"
      },
      "source": [
        "## Etapa 5: Tensorflow Lite"
      ]
    },
    {
      "cell_type": "markdown",
      "metadata": {
        "id": "9REtjTTqelih",
        "colab_type": "text"
      },
      "source": [
        "### Converter modelo para formato tflite"
      ]
    },
    {
      "cell_type": "code",
      "metadata": {
        "id": "tWegT8KGjUES",
        "colab_type": "code",
        "colab": {}
      },
      "source": [
        "# Convert the model.\n",
        "converter = tf.lite.TFLiteConverter.from_keras_model(model)\n",
        "converter.post_training_quantize=True\n",
        "tflite_model = converter.convert()\n",
        "\n",
        "#converter.post_training_quantize=True\n",
        "\n",
        "# Weight quantization\n",
        "converter.optimizations = [tf.lite.Optimize.OPTIMIZE_FOR_SIZE]\n",
        "tflite_model_quantization = converter.convert()"
      ],
      "execution_count": 0,
      "outputs": []
    },
    {
      "cell_type": "markdown",
      "metadata": {
        "id": "KGgID5zdeuuR",
        "colab_type": "text"
      },
      "source": [
        "### Salvar arquivo convertido"
      ]
    },
    {
      "cell_type": "code",
      "metadata": {
        "id": "Vn8Vbj_Rn0vh",
        "colab_type": "code",
        "outputId": "518a6829-ae4b-4e8f-8efd-23cd802af23c",
        "colab": {
          "base_uri": "https://localhost:8080/",
          "height": 34
        }
      },
      "source": [
        "InceptionResNetV2_tflite = os.path.join(derm_ai_path, 'InceptionResNetV2_full_t3_malig_70_sp.tflite')\n",
        "open(InceptionResNetV2_tflite, \"wb\").write(tflite_model)"
      ],
      "execution_count": 0,
      "outputs": [
        {
          "output_type": "execute_result",
          "data": {
            "text/plain": [
              "217227564"
            ]
          },
          "metadata": {
            "tags": []
          },
          "execution_count": 15
        }
      ]
    },
    {
      "cell_type": "markdown",
      "metadata": {
        "id": "CNS9axbd2Mmm",
        "colab_type": "text"
      },
      "source": [
        "### Testar modelo convertido (TFLite)\n",
        "https://medium.com/towards-artificial-intelligence/testing-tensorflow-lite-image-classification-model-e9c0100d8de3\n",
        "\n",
        "https://colab.research.google.com/github/frogermcs/TFLite-Tester/blob/master/notebooks/Testing_TFLite_model.ipynb#scrollTo=6WEyRJNsR5uL\n",
        "\n",
        "https://aihub.cloud.google.com/p/products%2F6ca92c9c-6932-45f8-8f08-15a1a6dfafc7"
      ]
    },
    {
      "cell_type": "code",
      "metadata": {
        "id": "QiQtyaEiouht",
        "colab_type": "code",
        "outputId": "7d57508a-59c3-4907-974d-21a96b9776ae",
        "colab": {
          "base_uri": "https://localhost:8080/",
          "height": 136
        }
      },
      "source": [
        "tflite_interpreter = tf.lite.Interpreter(model_path=InceptionResNetV2_tflite)\n",
        "\n",
        "input_details = tflite_interpreter.get_input_details()\n",
        "output_details = tflite_interpreter.get_output_details()\n",
        "\n",
        "print(\"== Input details ==\")\n",
        "print(\"shape:\", input_details[0]['shape'])\n",
        "print(\"type:\", input_details[0]['dtype'])\n",
        "print(\"\\n== Output details ==\")\n",
        "print(\"shape:\", output_details[0]['shape'])\n",
        "print(\"type:\", output_details[0]['dtype'])"
      ],
      "execution_count": 0,
      "outputs": [
        {
          "output_type": "stream",
          "text": [
            "== Input details ==\n",
            "shape: [  1 299 299   3]\n",
            "type: <class 'numpy.float32'>\n",
            "\n",
            "== Output details ==\n",
            "shape: [1 3]\n",
            "type: <class 'numpy.float32'>\n"
          ],
          "name": "stdout"
        }
      ]
    },
    {
      "cell_type": "code",
      "metadata": {
        "id": "CqBOR0U_3D4N",
        "colab_type": "code",
        "outputId": "d9290dda-d872-46b4-ded7-7816a7aab7a8",
        "colab": {
          "base_uri": "https://localhost:8080/",
          "height": 102
        }
      },
      "source": [
        "tflite_interpreter.resize_tensor_input(input_details[0]['index'], (32, 299, 299, 3))\n",
        "tflite_interpreter.resize_tensor_input(output_details[0]['index'], (32, 3))\n",
        "tflite_interpreter.allocate_tensors()\n",
        "\n",
        "input_details = tflite_interpreter.get_input_details()\n",
        "output_details = tflite_interpreter.get_output_details()\n",
        "\n",
        "print(\"== Input details ==\")\n",
        "print(\"shape:\", input_details[0]['shape'])\n",
        "print(\"\\n== Output details ==\")\n",
        "print(\"shape:\", output_details[0]['shape'])"
      ],
      "execution_count": 0,
      "outputs": [
        {
          "output_type": "stream",
          "text": [
            "== Input details ==\n",
            "shape: [ 32 299 299   3]\n",
            "\n",
            "== Output details ==\n",
            "shape: [32  3]\n"
          ],
          "name": "stdout"
        }
      ]
    },
    {
      "cell_type": "code",
      "metadata": {
        "id": "Dy3U_uTLGu7Q",
        "colab_type": "code",
        "colab": {}
      },
      "source": [
        "test_generator.reset()\n",
        "#pred=model.predict_generator(test_generator,verbose=1)"
      ],
      "execution_count": 0,
      "outputs": []
    },
    {
      "cell_type": "code",
      "metadata": {
        "id": "3SEwVSF_FNLD",
        "colab_type": "code",
        "outputId": "a7a7ff9b-556e-48b2-e8f2-a74a347e0562",
        "colab": {
          "base_uri": "https://localhost:8080/",
          "height": 34
        }
      },
      "source": [
        "test_image_batch, test_label_batch = next(iter(test_generator))\n",
        "true_label_ids = np.argmax(test_label_batch, axis=-1)\n",
        "\n",
        "print(\"Validation batch shape:\", test_image_batch.shape)"
      ],
      "execution_count": 0,
      "outputs": [
        {
          "output_type": "stream",
          "text": [
            "Validation batch shape: (32, 299, 299, 3)\n"
          ],
          "name": "stdout"
        }
      ]
    },
    {
      "cell_type": "code",
      "metadata": {
        "id": "GIm0J1xu4bXV",
        "colab_type": "code",
        "outputId": "9573f7b6-d4ee-4732-8759-fc4148ee1fa3",
        "colab": {
          "base_uri": "https://localhost:8080/",
          "height": 34
        }
      },
      "source": [
        "tflite_interpreter.set_tensor(input_details[0]['index'], test_image_batch)\n",
        "\n",
        "tflite_interpreter.invoke()\n",
        "\n",
        "tflite_model_predictions = tflite_interpreter.get_tensor(output_details[0]['index'])\n",
        "print(\"Prediction results shape:\", tflite_model_predictions.shape)"
      ],
      "execution_count": 0,
      "outputs": [
        {
          "output_type": "stream",
          "text": [
            "Prediction results shape: (32, 3)\n"
          ],
          "name": "stdout"
        }
      ]
    },
    {
      "cell_type": "code",
      "metadata": {
        "id": "3_kGvX4wGAyE",
        "colab_type": "code",
        "colab": {}
      },
      "source": [
        "tflite_model_predictions"
      ],
      "execution_count": 0,
      "outputs": []
    },
    {
      "cell_type": "code",
      "metadata": {
        "id": "sp0Q1us64bPP",
        "colab_type": "code",
        "outputId": "582137a3-817c-4117-8e7c-55ea91e334e1",
        "colab": {
          "base_uri": "https://localhost:8080/",
          "height": 340
        }
      },
      "source": [
        "results_file_tflite = os.path.join(derm_ai_path, 'results_tflite_InceptionResNetV2_full_sp.csv')\n",
        "\n",
        "saveResultsFile(results_file_tflite, tflite_model_predictions, test_generator)"
      ],
      "execution_count": 0,
      "outputs": [
        {
          "output_type": "error",
          "ename": "ValueError",
          "evalue": "ignored",
          "traceback": [
            "\u001b[0;31m---------------------------------------------------------------------------\u001b[0m",
            "\u001b[0;31mValueError\u001b[0m                                Traceback (most recent call last)",
            "\u001b[0;32m<ipython-input-48-629ad2274c95>\u001b[0m in \u001b[0;36m<module>\u001b[0;34m()\u001b[0m\n\u001b[1;32m      1\u001b[0m \u001b[0mresults_file_tflite\u001b[0m \u001b[0;34m=\u001b[0m \u001b[0mos\u001b[0m\u001b[0;34m.\u001b[0m\u001b[0mpath\u001b[0m\u001b[0;34m.\u001b[0m\u001b[0mjoin\u001b[0m\u001b[0;34m(\u001b[0m\u001b[0mderm_ai_path\u001b[0m\u001b[0;34m,\u001b[0m \u001b[0;34m'results_tflite_InceptionResNetV2_full_sp.csv'\u001b[0m\u001b[0;34m)\u001b[0m\u001b[0;34m\u001b[0m\u001b[0;34m\u001b[0m\u001b[0m\n\u001b[1;32m      2\u001b[0m \u001b[0;34m\u001b[0m\u001b[0m\n\u001b[0;32m----> 3\u001b[0;31m \u001b[0msaveResultsFile\u001b[0m\u001b[0;34m(\u001b[0m\u001b[0mresults_file_tflite\u001b[0m\u001b[0;34m,\u001b[0m \u001b[0mtflite_model_predictions\u001b[0m\u001b[0;34m,\u001b[0m \u001b[0mtest_generator\u001b[0m\u001b[0;34m)\u001b[0m\u001b[0;34m\u001b[0m\u001b[0;34m\u001b[0m\u001b[0m\n\u001b[0m",
            "\u001b[0;32m<ipython-input-28-c1f1fec30cba>\u001b[0m in \u001b[0;36msaveResultsFile\u001b[0;34m(results_file, pred, test_generator)\u001b[0m\n\u001b[1;32m      5\u001b[0m   results=pd.DataFrame({\"Id\":filenames,\n\u001b[1;32m      6\u001b[0m                         \u001b[0;34m\"task_1\"\u001b[0m\u001b[0;34m:\u001b[0m\u001b[0mpred\u001b[0m\u001b[0;34m[\u001b[0m\u001b[0;34m:\u001b[0m\u001b[0;34m,\u001b[0m\u001b[0;36m0\u001b[0m\u001b[0;34m]\u001b[0m\u001b[0;34m,\u001b[0m\u001b[0;34m\u001b[0m\u001b[0;34m\u001b[0m\u001b[0m\n\u001b[0;32m----> 7\u001b[0;31m                         \"task_2\":pred[:,2]})\n\u001b[0m\u001b[1;32m      8\u001b[0m   \u001b[0mresults\u001b[0m\u001b[0;34m.\u001b[0m\u001b[0mto_csv\u001b[0m\u001b[0;34m(\u001b[0m\u001b[0mresults_file\u001b[0m\u001b[0;34m,\u001b[0m\u001b[0mindex\u001b[0m\u001b[0;34m=\u001b[0m\u001b[0;32mFalse\u001b[0m\u001b[0;34m)\u001b[0m\u001b[0;34m\u001b[0m\u001b[0;34m\u001b[0m\u001b[0m\n\u001b[1;32m      9\u001b[0m \u001b[0;34m\u001b[0m\u001b[0m\n",
            "\u001b[0;32m/usr/local/lib/python3.6/dist-packages/pandas/core/frame.py\u001b[0m in \u001b[0;36m__init__\u001b[0;34m(self, data, index, columns, dtype, copy)\u001b[0m\n\u001b[1;32m    409\u001b[0m             )\n\u001b[1;32m    410\u001b[0m         \u001b[0;32melif\u001b[0m \u001b[0misinstance\u001b[0m\u001b[0;34m(\u001b[0m\u001b[0mdata\u001b[0m\u001b[0;34m,\u001b[0m \u001b[0mdict\u001b[0m\u001b[0;34m)\u001b[0m\u001b[0;34m:\u001b[0m\u001b[0;34m\u001b[0m\u001b[0;34m\u001b[0m\u001b[0m\n\u001b[0;32m--> 411\u001b[0;31m             \u001b[0mmgr\u001b[0m \u001b[0;34m=\u001b[0m \u001b[0minit_dict\u001b[0m\u001b[0;34m(\u001b[0m\u001b[0mdata\u001b[0m\u001b[0;34m,\u001b[0m \u001b[0mindex\u001b[0m\u001b[0;34m,\u001b[0m \u001b[0mcolumns\u001b[0m\u001b[0;34m,\u001b[0m \u001b[0mdtype\u001b[0m\u001b[0;34m=\u001b[0m\u001b[0mdtype\u001b[0m\u001b[0;34m)\u001b[0m\u001b[0;34m\u001b[0m\u001b[0;34m\u001b[0m\u001b[0m\n\u001b[0m\u001b[1;32m    412\u001b[0m         \u001b[0;32melif\u001b[0m \u001b[0misinstance\u001b[0m\u001b[0;34m(\u001b[0m\u001b[0mdata\u001b[0m\u001b[0;34m,\u001b[0m \u001b[0mma\u001b[0m\u001b[0;34m.\u001b[0m\u001b[0mMaskedArray\u001b[0m\u001b[0;34m)\u001b[0m\u001b[0;34m:\u001b[0m\u001b[0;34m\u001b[0m\u001b[0;34m\u001b[0m\u001b[0m\n\u001b[1;32m    413\u001b[0m             \u001b[0;32mimport\u001b[0m \u001b[0mnumpy\u001b[0m\u001b[0;34m.\u001b[0m\u001b[0mma\u001b[0m\u001b[0;34m.\u001b[0m\u001b[0mmrecords\u001b[0m \u001b[0;32mas\u001b[0m \u001b[0mmrecords\u001b[0m\u001b[0;34m\u001b[0m\u001b[0;34m\u001b[0m\u001b[0m\n",
            "\u001b[0;32m/usr/local/lib/python3.6/dist-packages/pandas/core/internals/construction.py\u001b[0m in \u001b[0;36minit_dict\u001b[0;34m(data, index, columns, dtype)\u001b[0m\n\u001b[1;32m    255\u001b[0m             \u001b[0marr\u001b[0m \u001b[0;32mif\u001b[0m \u001b[0;32mnot\u001b[0m \u001b[0mis_datetime64tz_dtype\u001b[0m\u001b[0;34m(\u001b[0m\u001b[0marr\u001b[0m\u001b[0;34m)\u001b[0m \u001b[0;32melse\u001b[0m \u001b[0marr\u001b[0m\u001b[0;34m.\u001b[0m\u001b[0mcopy\u001b[0m\u001b[0;34m(\u001b[0m\u001b[0;34m)\u001b[0m \u001b[0;32mfor\u001b[0m \u001b[0marr\u001b[0m \u001b[0;32min\u001b[0m \u001b[0marrays\u001b[0m\u001b[0;34m\u001b[0m\u001b[0;34m\u001b[0m\u001b[0m\n\u001b[1;32m    256\u001b[0m         ]\n\u001b[0;32m--> 257\u001b[0;31m     \u001b[0;32mreturn\u001b[0m \u001b[0marrays_to_mgr\u001b[0m\u001b[0;34m(\u001b[0m\u001b[0marrays\u001b[0m\u001b[0;34m,\u001b[0m \u001b[0mdata_names\u001b[0m\u001b[0;34m,\u001b[0m \u001b[0mindex\u001b[0m\u001b[0;34m,\u001b[0m \u001b[0mcolumns\u001b[0m\u001b[0;34m,\u001b[0m \u001b[0mdtype\u001b[0m\u001b[0;34m=\u001b[0m\u001b[0mdtype\u001b[0m\u001b[0;34m)\u001b[0m\u001b[0;34m\u001b[0m\u001b[0;34m\u001b[0m\u001b[0m\n\u001b[0m\u001b[1;32m    258\u001b[0m \u001b[0;34m\u001b[0m\u001b[0m\n\u001b[1;32m    259\u001b[0m \u001b[0;34m\u001b[0m\u001b[0m\n",
            "\u001b[0;32m/usr/local/lib/python3.6/dist-packages/pandas/core/internals/construction.py\u001b[0m in \u001b[0;36marrays_to_mgr\u001b[0;34m(arrays, arr_names, index, columns, dtype)\u001b[0m\n\u001b[1;32m     75\u001b[0m     \u001b[0;31m# figure out the index, if necessary\u001b[0m\u001b[0;34m\u001b[0m\u001b[0;34m\u001b[0m\u001b[0;34m\u001b[0m\u001b[0m\n\u001b[1;32m     76\u001b[0m     \u001b[0;32mif\u001b[0m \u001b[0mindex\u001b[0m \u001b[0;32mis\u001b[0m \u001b[0;32mNone\u001b[0m\u001b[0;34m:\u001b[0m\u001b[0;34m\u001b[0m\u001b[0;34m\u001b[0m\u001b[0m\n\u001b[0;32m---> 77\u001b[0;31m         \u001b[0mindex\u001b[0m \u001b[0;34m=\u001b[0m \u001b[0mextract_index\u001b[0m\u001b[0;34m(\u001b[0m\u001b[0marrays\u001b[0m\u001b[0;34m)\u001b[0m\u001b[0;34m\u001b[0m\u001b[0;34m\u001b[0m\u001b[0m\n\u001b[0m\u001b[1;32m     78\u001b[0m     \u001b[0;32melse\u001b[0m\u001b[0;34m:\u001b[0m\u001b[0;34m\u001b[0m\u001b[0;34m\u001b[0m\u001b[0m\n\u001b[1;32m     79\u001b[0m         \u001b[0mindex\u001b[0m \u001b[0;34m=\u001b[0m \u001b[0mensure_index\u001b[0m\u001b[0;34m(\u001b[0m\u001b[0mindex\u001b[0m\u001b[0;34m)\u001b[0m\u001b[0;34m\u001b[0m\u001b[0;34m\u001b[0m\u001b[0m\n",
            "\u001b[0;32m/usr/local/lib/python3.6/dist-packages/pandas/core/internals/construction.py\u001b[0m in \u001b[0;36mextract_index\u001b[0;34m(data)\u001b[0m\n\u001b[1;32m    366\u001b[0m             \u001b[0mlengths\u001b[0m \u001b[0;34m=\u001b[0m \u001b[0mlist\u001b[0m\u001b[0;34m(\u001b[0m\u001b[0mset\u001b[0m\u001b[0;34m(\u001b[0m\u001b[0mraw_lengths\u001b[0m\u001b[0;34m)\u001b[0m\u001b[0;34m)\u001b[0m\u001b[0;34m\u001b[0m\u001b[0;34m\u001b[0m\u001b[0m\n\u001b[1;32m    367\u001b[0m             \u001b[0;32mif\u001b[0m \u001b[0mlen\u001b[0m\u001b[0;34m(\u001b[0m\u001b[0mlengths\u001b[0m\u001b[0;34m)\u001b[0m \u001b[0;34m>\u001b[0m \u001b[0;36m1\u001b[0m\u001b[0;34m:\u001b[0m\u001b[0;34m\u001b[0m\u001b[0;34m\u001b[0m\u001b[0m\n\u001b[0;32m--> 368\u001b[0;31m                 \u001b[0;32mraise\u001b[0m \u001b[0mValueError\u001b[0m\u001b[0;34m(\u001b[0m\u001b[0;34m\"arrays must all be same length\"\u001b[0m\u001b[0;34m)\u001b[0m\u001b[0;34m\u001b[0m\u001b[0;34m\u001b[0m\u001b[0m\n\u001b[0m\u001b[1;32m    369\u001b[0m \u001b[0;34m\u001b[0m\u001b[0m\n\u001b[1;32m    370\u001b[0m             \u001b[0;32mif\u001b[0m \u001b[0mhave_dicts\u001b[0m\u001b[0;34m:\u001b[0m\u001b[0;34m\u001b[0m\u001b[0;34m\u001b[0m\u001b[0m\n",
            "\u001b[0;31mValueError\u001b[0m: arrays must all be same length"
          ]
        }
      ]
    },
    {
      "cell_type": "code",
      "metadata": {
        "id": "CQ9zBKLT4bCB",
        "colab_type": "code",
        "colab": {}
      },
      "source": [
        ""
      ],
      "execution_count": 0,
      "outputs": []
    }
  ]
}