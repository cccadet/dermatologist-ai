{
  "nbformat": 4,
  "nbformat_minor": 0,
  "metadata": {
    "colab": {
      "name": "01_Train1_ISIC_2019_DeepStack_Base.ipynb",
      "provenance": [],
      "collapsed_sections": [
        "QWiCoYphcSld",
        "HzglsbW7qBwz",
        "LpbQm2i9jYrP",
        "Vqc2bvfSbMfZ",
        "jQl1fF9Ca80N",
        "5gfYxIxDqN6f",
        "MlsIOpGljdlS",
        "HNLiNlROcm-x",
        "BXaZWN0uqZNK",
        "1VT0vKNCqzmi",
        "b-h7pZBzq5Gu",
        "dN1GC7rlrASa",
        "JuJTelonrFtr",
        "arX5o8G_rOiq",
        "a4v3E426rTpK"
      ],
      "toc_visible": true,
      "machine_shape": "hm",
      "include_colab_link": true
    },
    "kernelspec": {
      "name": "python3",
      "display_name": "Python 3"
    },
    "accelerator": "GPU"
  },
  "cells": [
    {
      "cell_type": "markdown",
      "metadata": {
        "id": "view-in-github",
        "colab_type": "text"
      },
      "source": [
        "<a href=\"https://colab.research.google.com/github/cccadet/dermatologist-ai/blob/master/01_Train1_ISIC_2019_DeepStack_Base.ipynb\" target=\"_parent\"><img src=\"https://colab.research.google.com/assets/colab-badge.svg\" alt=\"Open In Colab\"/></a>"
      ]
    },
    {
      "cell_type": "markdown",
      "metadata": {
        "id": "QWiCoYphcSld",
        "colab_type": "text"
      },
      "source": [
        "## Pré: Conexão com Google Drive"
      ]
    },
    {
      "cell_type": "code",
      "metadata": {
        "id": "71Fn8Ezffe1C",
        "colab_type": "code",
        "colab": {}
      },
      "source": [
        "from google.colab import drive\n",
        "drive.mount('/content/drive')"
      ],
      "execution_count": null,
      "outputs": []
    },
    {
      "cell_type": "markdown",
      "metadata": {
        "id": "19QTXXYFazRX",
        "colab_type": "text"
      },
      "source": [
        "## Etapa 1: Instalação das dependências"
      ]
    },
    {
      "cell_type": "markdown",
      "metadata": {
        "id": "HzglsbW7qBwz",
        "colab_type": "text"
      },
      "source": [
        "### Instalação de bibliotecas"
      ]
    },
    {
      "cell_type": "code",
      "metadata": {
        "id": "KmIh3NZAaEkC",
        "colab_type": "code",
        "colab": {}
      },
      "source": [
        "!pip install tensorflow-gpu\n",
        "!pip install tqdm\n",
        "#!pip install tensorflow-addons\n",
        "!pip install tfa-nightly\n",
        "!pip install deepstack"
      ],
      "execution_count": null,
      "outputs": []
    },
    {
      "cell_type": "markdown",
      "metadata": {
        "id": "LpbQm2i9jYrP",
        "colab_type": "text"
      },
      "source": [
        "### Importação das bibliotecas"
      ]
    },
    {
      "cell_type": "code",
      "metadata": {
        "id": "wYfBGnPGGrJH",
        "colab_type": "code",
        "colab": {}
      },
      "source": [
        "import zipfile\n",
        "import os\n",
        "import numpy as np\n",
        "import tensorflow as tf\n",
        "import tensorflow_addons as tfa\n",
        "\n",
        "import matplotlib.pyplot as plt\n",
        "import pandas as pd\n",
        "import sys\n",
        "import itertools\n",
        "import shutil\n",
        "\n",
        "from tqdm import tqdm_notebook\n",
        "from tensorflow.keras.preprocessing.image import ImageDataGenerator\n",
        "\n",
        "%matplotlib inline\n",
        "tf.__version__"
      ],
      "execution_count": null,
      "outputs": []
    },
    {
      "cell_type": "markdown",
      "metadata": {
        "id": "Vqc2bvfSbMfZ",
        "colab_type": "text"
      },
      "source": [
        "### Otimizações tensorflow"
      ]
    },
    {
      "cell_type": "code",
      "metadata": {
        "id": "6blgc5uSbHeE",
        "colab_type": "code",
        "colab": {}
      },
      "source": [
        "#from tensorflow.keras.mixed_precision import experimental as mixed_precision\n",
        "#policy = mixed_precision.Policy('mixed_float16')\n",
        "#mixed_precision.set_policy(policy)\n",
        "tf.config.optimizer.set_jit(True)\n",
        "\n",
        "gpus = tf.config.experimental.list_physical_devices('GPU')\n",
        "if gpus:\n",
        "  try:\n",
        "    # Currently, memory growth needs to be the same across GPUs\n",
        "    for gpu in gpus:\n",
        "      tf.config.experimental.set_memory_growth(gpu, True)\n",
        "    logical_gpus = tf.config.experimental.list_logical_devices('GPU')\n",
        "    print(len(gpus), \"Physical GPUs,\", len(logical_gpus), \"Logical GPUs\")\n",
        "  except RuntimeError as e:\n",
        "    # Memory growth must be set before GPUs have been initialized\n",
        "    print(e)"
      ],
      "execution_count": null,
      "outputs": []
    },
    {
      "cell_type": "markdown",
      "metadata": {
        "id": "jQl1fF9Ca80N",
        "colab_type": "text"
      },
      "source": [
        "### Fazendo o download da base de dados de imagens"
      ]
    },
    {
      "cell_type": "code",
      "metadata": {
        "id": "iHZC2kGet4Vv",
        "colab_type": "code",
        "colab": {}
      },
      "source": [
        "%%time\n",
        "if (os.path.isdir('./ISIC_Training_Input')==False):\n",
        "  !wget --no-check-certificate \\\n",
        "      https://isic-challenge-data.s3.amazonaws.com/2018/ISIC2018_Task3_Training_Input.zip \\\n",
        "      -O ./skin_cancer_train_2018.zip\n"
      ],
      "execution_count": null,
      "outputs": []
    },
    {
      "cell_type": "code",
      "metadata": {
        "id": "mLWquLOxa-V5",
        "colab_type": "code",
        "colab": {}
      },
      "source": [
        "%%time\n",
        "if (os.path.isdir('./ISIC_Training_Input')==False):\n",
        "  !wget --no-check-certificate \\\n",
        "      https://s3.amazonaws.com/isic-challenge-2019/ISIC_2019_Training_Input.zip \\\n",
        "      -O ./skin_cancer_train_2019.zip"
      ],
      "execution_count": null,
      "outputs": []
    },
    {
      "cell_type": "markdown",
      "metadata": {
        "id": "5-tk5DfRjXN3",
        "colab_type": "text"
      },
      "source": [
        "## Etapa 2: Pré-processamento"
      ]
    },
    {
      "cell_type": "markdown",
      "metadata": {
        "id": "VSDt-MEVjlsA",
        "colab_type": "text"
      },
      "source": [
        "### Configurando os caminhos (paths)"
      ]
    },
    {
      "cell_type": "code",
      "metadata": {
        "id": "gWRIeZgpJkGM",
        "colab_type": "code",
        "colab": {}
      },
      "source": [
        "train_dir = \"./train\"\n",
        "if not os.path.exists(train_dir): \n",
        "  os.mkdir(train_dir)\n",
        "valid_dir = \"./valid\"\n",
        "if not os.path.exists(valid_dir): \n",
        "  os.mkdir(valid_dir)\n",
        "\n",
        "\n",
        "download_path = './'\n",
        "derm_ai_path = '/content/drive/My Drive/Derm AI/ISIC_2019'\n"
      ],
      "execution_count": null,
      "outputs": []
    },
    {
      "cell_type": "markdown",
      "metadata": {
        "id": "5gfYxIxDqN6f",
        "colab_type": "text"
      },
      "source": [
        "### Definindo função para descompactar arquivo"
      ]
    },
    {
      "cell_type": "code",
      "metadata": {
        "id": "n35JE--zsSYq",
        "colab_type": "code",
        "colab": {}
      },
      "source": [
        "def dcp(download_path, path, file):\n",
        "  if (os.path.isdir(path)==False):\n",
        "    dataset_path = os.path.join(download_path,file)\n",
        "    zip_object = zipfile.ZipFile(file=dataset_path, mode=\"r\")\n",
        "    zip_object.extractall(\"./\")\n",
        "    zip_object.close()"
      ],
      "execution_count": null,
      "outputs": []
    },
    {
      "cell_type": "markdown",
      "metadata": {
        "id": "MlsIOpGljdlS",
        "colab_type": "text"
      },
      "source": [
        "### Descompactando a base de dados de Treinamento"
      ]
    },
    {
      "cell_type": "code",
      "metadata": {
        "id": "wITWICPaIryU",
        "colab_type": "code",
        "colab": {}
      },
      "source": [
        "%%time\n",
        "dcp(download_path, './ISIC2018_Task3_Training_Input', 'skin_cancer_train_2018.zip')"
      ],
      "execution_count": null,
      "outputs": []
    },
    {
      "cell_type": "code",
      "metadata": {
        "id": "Sba6BtZMwE5h",
        "colab_type": "code",
        "colab": {}
      },
      "source": [
        "!rm ./skin_cancer_train_2018.zip"
      ],
      "execution_count": null,
      "outputs": []
    },
    {
      "cell_type": "code",
      "metadata": {
        "id": "iSzqqec_uh-H",
        "colab_type": "code",
        "colab": {}
      },
      "source": [
        "%%time\n",
        "dcp(download_path, './ISIC_2019_Training_Input', 'skin_cancer_train_2019.zip')"
      ],
      "execution_count": null,
      "outputs": []
    },
    {
      "cell_type": "code",
      "metadata": {
        "id": "3klOyRpawHFJ",
        "colab_type": "code",
        "colab": {}
      },
      "source": [
        "!rm ./skin_cancer_train_2019.zip"
      ],
      "execution_count": null,
      "outputs": []
    },
    {
      "cell_type": "markdown",
      "metadata": {
        "id": "HNLiNlROcm-x",
        "colab_type": "text"
      },
      "source": [
        "### Definindo DataFrame base para criação das pastas de cada classe"
      ]
    },
    {
      "cell_type": "code",
      "metadata": {
        "id": "2QXyi2LU0D0c",
        "colab_type": "code",
        "colab": {}
      },
      "source": [
        "!wget --no-check-certificate \\\n",
        "      https://isic-challenge-data.s3.amazonaws.com/2018/ISIC2018_Task3_Training_GroundTruth.zip \\\n",
        "      -O ./ground_truth.zip\n",
        "\n",
        "\n",
        "zip_object = zipfile.ZipFile(file='ground_truth.zip', mode=\"r\")\n",
        "zip_object.extractall(\"./\")\n",
        "zip_object.close()"
      ],
      "execution_count": null,
      "outputs": []
    },
    {
      "cell_type": "code",
      "metadata": {
        "id": "L1CAr2r1DuzM",
        "colab_type": "code",
        "colab": {}
      },
      "source": [
        "# Read in the data\n",
        "ground_truth1 = pd.read_csv('https://s3.amazonaws.com/isic-challenge-2019/ISIC_2019_Training_GroundTruth.csv')\n",
        "ground_truth2 = pd.read_csv('/content/ISIC2018_Task3_Training_GroundTruth/ISIC2018_Task3_Training_GroundTruth.csv')\n",
        "ground_truth2['AK'] = ground_truth2['AKIEC']\n",
        "ground_truth2.drop(columns=['AKIEC'], inplace=True)\n",
        "ground_truth = pd.concat([ground_truth1,ground_truth2])\n",
        "\n",
        "# Display some information in the dataset\n",
        "ground_truth.head()"
      ],
      "execution_count": null,
      "outputs": []
    },
    {
      "cell_type": "code",
      "metadata": {
        "id": "JjEvXx__3ePG",
        "colab_type": "code",
        "colab": {}
      },
      "source": [
        "!mkdir ISIC_Training_Input\n",
        "!mv /content/ISIC2018_Task3_Training_Input/*.jpg /content/ISIC_Training_Input\n",
        "!mv /content/ISIC_2019_Training_Input/*.jpg /content/ISIC_Training_Input"
      ],
      "execution_count": null,
      "outputs": []
    },
    {
      "cell_type": "markdown",
      "metadata": {
        "id": "BXaZWN0uqZNK",
        "colab_type": "text"
      },
      "source": [
        "### Separando base de treinamento e de validação"
      ]
    },
    {
      "cell_type": "code",
      "metadata": {
        "id": "U_VyLoDlDuvB",
        "colab_type": "code",
        "colab": {}
      },
      "source": [
        "# Set y as the labels\n",
        "y = []\n",
        "for row in ground_truth.iterrows():\n",
        "    innerlist = []\n",
        "    newlist = row[1].index[row[1].values[1:].argmax() + 1]\n",
        "    y.append(newlist)\n",
        "\n",
        "\n",
        "#add a name to the label series\n",
        "yd = pd.Series(y) \n",
        "yd.name = 'cclass'\n",
        "\n",
        "from sklearn.model_selection import train_test_split\n",
        "df_train, df_val = train_test_split(ground_truth, test_size=0.2, random_state=41, stratify=yd)\n",
        "\n",
        "# Get a list of images in each of the two folders\n",
        "folder = os.listdir('ISIC_Training_Input')\n",
        "\n",
        "# Get a list of train and val images\n",
        "#all_list = list(ground_truth['image'])\n",
        "#\n",
        "train_list = list(df_train['image'])\n",
        "val_list = list(df_val['image'])"
      ],
      "execution_count": null,
      "outputs": []
    },
    {
      "cell_type": "markdown",
      "metadata": {
        "id": "1VT0vKNCqzmi",
        "colab_type": "text"
      },
      "source": [
        "### Criando subdiretório das classes"
      ]
    },
    {
      "cell_type": "code",
      "metadata": {
        "id": "yQVWYQtfDucv",
        "colab_type": "code",
        "colab": {}
      },
      "source": [
        "#create sub directory for the classes\n",
        "for col in ground_truth.columns:\n",
        "    if not (col == 'image' or  col == 'UNK'):\n",
        "        dir_path = os.path.join(train_dir, col)\n",
        "        if not os.path.exists(dir_path):\n",
        "          os.mkdir(dir_path)\n",
        "        dir_path = os.path.join(valid_dir, col)\n",
        "        if not os.path.exists(dir_path):\n",
        "          os.mkdir(dir_path)"
      ],
      "execution_count": null,
      "outputs": []
    },
    {
      "cell_type": "markdown",
      "metadata": {
        "id": "b-h7pZBzq5Gu",
        "colab_type": "text"
      },
      "source": [
        "### Transferindo arquivos - base de treinamento"
      ]
    },
    {
      "cell_type": "code",
      "metadata": {
        "id": "qRTSwhmAHxt0",
        "colab_type": "code",
        "colab": {}
      },
      "source": [
        "%%time\n",
        "# Transfer the training images\n",
        "for row in df_train.iterrows():\n",
        "    image = row[1].image\n",
        "    # The argmax error was occuring because the first column (image) is a string.\n",
        "    # By using row[1].values[1:] we skip the first column.  This means we need \n",
        "    # add 1 to get the correct row[1].index.\n",
        "    label = row[1].index[row[1].values[1:].argmax() + 1]\n",
        "    fname = image + '.jpg'\n",
        "\n",
        "    if fname in folder:\n",
        "        # source path to image\n",
        "        src = os.path.join('ISIC_Training_Input', fname)\n",
        "        # destination path to image\n",
        "        dst = os.path.join(train_dir, label, fname)\n",
        "        # copy the image from the source to the destination\n",
        "        shutil.copyfile(src, dst)"
      ],
      "execution_count": null,
      "outputs": []
    },
    {
      "cell_type": "markdown",
      "metadata": {
        "id": "dN1GC7rlrASa",
        "colab_type": "text"
      },
      "source": [
        "### Transferindo arquivos - base de validação"
      ]
    },
    {
      "cell_type": "code",
      "metadata": {
        "id": "IjK3evbLHxlf",
        "colab_type": "code",
        "colab": {}
      },
      "source": [
        "%%time\n",
        "# Transfer the valid images\n",
        "for row in df_val.iterrows():\n",
        "    image = row[1].image\n",
        "    # The argmax error was occuring because the first column (image) is a string.\n",
        "    # By using row[1].values[1:] we skip the first column.  This means we need \n",
        "    # add 1 to get the correct row[1].index.\n",
        "    label = row[1].index[row[1].values[1:].argmax() + 1]\n",
        "    fname = image + '.jpg'\n",
        "\n",
        "    if fname in folder:\n",
        "        # source path to image\n",
        "        src = os.path.join('ISIC_Training_Input', fname)\n",
        "        # destination path to image\n",
        "        dst = os.path.join(valid_dir, label, fname)\n",
        "        # copy the image from the source to the destination\n",
        "        shutil.copyfile(src, dst)"
      ],
      "execution_count": null,
      "outputs": []
    },
    {
      "cell_type": "markdown",
      "metadata": {
        "id": "JuJTelonrFtr",
        "colab_type": "text"
      },
      "source": [
        "### Números das bases de treinamento"
      ]
    },
    {
      "cell_type": "code",
      "metadata": {
        "id": "Q6bWTXeTHxcD",
        "colab_type": "code",
        "colab": {}
      },
      "source": [
        "# training examples\n",
        "total = 0\n",
        "for col in ground_truth.columns:\n",
        "    if not (col == 'image' or  col == 'UNK'):\n",
        "        npath = os.path.join(train_dir, col)\n",
        "        print(col,len(os.listdir(npath)))\n",
        "        total = total+len(os.listdir(npath))\n",
        "print('total = ',total)"
      ],
      "execution_count": null,
      "outputs": []
    },
    {
      "cell_type": "markdown",
      "metadata": {
        "id": "arX5o8G_rOiq",
        "colab_type": "text"
      },
      "source": [
        "### Números das bases de validação"
      ]
    },
    {
      "cell_type": "code",
      "metadata": {
        "id": "W73tLgR0IuaF",
        "colab_type": "code",
        "colab": {}
      },
      "source": [
        "# validation examples\n",
        "total = 0\n",
        "for col in ground_truth.columns:\n",
        "    if not (col == 'image' or  col == 'UNK'):\n",
        "        npath = os.path.join(valid_dir, col)\n",
        "        print(col,len(os.listdir(npath)))\n",
        "        total = total+len(os.listdir(npath))\n",
        "print('total = ',total)"
      ],
      "execution_count": null,
      "outputs": []
    },
    {
      "cell_type": "markdown",
      "metadata": {
        "id": "a4v3E426rTpK",
        "colab_type": "text"
      },
      "source": [
        "### Balanceamento base de validação"
      ]
    },
    {
      "cell_type": "code",
      "metadata": {
        "id": "SNZHzSOBIuQ3",
        "colab_type": "code",
        "colab": {}
      },
      "source": [
        "import os, random\n",
        "mellen = len(os.listdir('./valid/MEL'))\n",
        "nvlen = len(os.listdir('./valid/NV'))\n",
        "for i in range(nvlen - mellen):\n",
        "    file = random.choice(os.listdir(\"./valid/NV\"))\n",
        "    dst = os.path.join(valid_dir,'NV', file)\n",
        "    os.remove(dst)"
      ],
      "execution_count": null,
      "outputs": []
    },
    {
      "cell_type": "code",
      "metadata": {
        "id": "zG7s-4ChKL7D",
        "colab_type": "code",
        "colab": {}
      },
      "source": [
        "# validation examples\n",
        "total = 0\n",
        "for col in ground_truth.columns:\n",
        "    if not (col == 'image' or  col == 'UNK'):\n",
        "        npath = os.path.join(valid_dir, col)\n",
        "        print(col,len(os.listdir(npath)))\n",
        "        total = total+len(os.listdir(npath))\n",
        "print('total = ',total)        \n",
        "val_len = total"
      ],
      "execution_count": null,
      "outputs": []
    },
    {
      "cell_type": "markdown",
      "metadata": {
        "id": "ZXsBWZbRq1Ry",
        "colab_type": "text"
      },
      "source": [
        "AK\n",
        "BCC\n",
        "BKL\n",
        "DF\n",
        "MEL Melanoma\n",
        "NV\n",
        "SCC\n",
        "VASC"
      ]
    },
    {
      "cell_type": "markdown",
      "metadata": {
        "id": "CA-SrKLXrkNl",
        "colab_type": "text"
      },
      "source": [
        "### Criando pesos das classes"
      ]
    },
    {
      "cell_type": "markdown",
      "metadata": {
        "id": "YJRlLGaotJ_J",
        "colab_type": "text"
      },
      "source": [
        "### Criando geradores de dados (Data Generators)\n"
      ]
    },
    {
      "cell_type": "code",
      "metadata": {
        "id": "ydIUm9MvK4pn",
        "colab_type": "code",
        "colab": {}
      },
      "source": [
        "# Data Augmentation (https://keras.io/preprocessing/image/)\n",
        "data_gen_train = ImageDataGenerator(#validation_split=0.2,\n",
        "                                    rescale=1/255., \n",
        "                                    horizontal_flip= True, \n",
        "                                    vertical_flip = True, \n",
        "                                    height_shift_range=0.10, \n",
        "                                    width_shift_range=0.10,\n",
        "                                    rotation_range=180,\n",
        "                                    shear_range=0.01,\n",
        "                                    zoom_range=[0.95, 1.25],\n",
        "                                    fill_mode='constant',\n",
        "                                    #data_format='channels_last',\n",
        "                                    brightness_range=[0.9, 1.1]\n",
        "                                    )\n",
        "\n",
        "data_gen_valid = ImageDataGenerator(rescale=1/255., \n",
        "                                   fill_mode=\"constant\"\n",
        ")\n",
        "\n"
      ],
      "execution_count": null,
      "outputs": []
    },
    {
      "cell_type": "code",
      "metadata": {
        "id": "r2K46zJnLbzP",
        "colab_type": "code",
        "colab": {}
      },
      "source": [
        "train_generator = data_gen_train.flow_from_directory(train_dir, target_size=(299,299), batch_size=32, class_mode=\"categorical\")\n",
        "valid_generator = data_gen_valid.flow_from_directory(valid_dir, target_size=(299,299), batch_size=32, class_mode=\"categorical\")"
      ],
      "execution_count": null,
      "outputs": []
    },
    {
      "cell_type": "markdown",
      "metadata": {
        "id": "pl0Lin9Cc9dG",
        "colab_type": "text"
      },
      "source": [
        "#### Exibição de 3 imagens carregadas"
      ]
    },
    {
      "cell_type": "code",
      "metadata": {
        "id": "cKn3UrOG--w-",
        "colab_type": "code",
        "colab": {}
      },
      "source": [
        "x,y = train_generator.next()\n",
        "for i in range(0,3):\n",
        "    image = x[i]\n",
        "    label = y[i]\n",
        "    print (label)\n",
        "    plt.imshow(image)\n",
        "    plt.show()"
      ],
      "execution_count": null,
      "outputs": []
    },
    {
      "cell_type": "code",
      "metadata": {
        "id": "8U-Au_T1J7Im",
        "colab_type": "code",
        "colab": {}
      },
      "source": [
        "import numpy as np\n",
        "\n",
        "from sklearn.utils import class_weight\n",
        "class_weights = dict(zip(np.unique(train_generator.classes), class_weight.compute_class_weight('balanced',\n",
        "                                                 np.unique(train_generator.classes),\n",
        "                                                 train_generator.classes))) \n",
        "\n",
        "\n",
        "class_weights\n",
        "train_generator.class_indices"
      ],
      "execution_count": null,
      "outputs": []
    },
    {
      "cell_type": "markdown",
      "metadata": {
        "id": "-YLQb_WOmjwP",
        "colab_type": "text"
      },
      "source": [
        "## Etapa 3: Construindo o modelo"
      ]
    },
    {
      "cell_type": "code",
      "metadata": {
        "id": "zgNuo-uR_6eW",
        "colab_type": "code",
        "colab": {}
      },
      "source": [
        "model1 = tf.keras.models.load(os.path.join(derm_ai_path, 'model1_B7'))\n",
        "model2 = tf.keras.models.load(os.path.join(derm_ai_path, 'model2_InceptionResnetV2'))\n",
        "#model3 = tf.keras.models.load(os.path.join(derm_ai_path, 'model3_NasNet_Large'))\n",
        "model4 = tf.keras.models.load(os.path.join(derm_ai_path, 'model4_InceptionV3'))\n",
        "#model5 = tf.keras.models.load(os.path.join(derm_ai_path, 'model5_Xception'))\n",
        "#model6 = tf.keras.models.load(os.path.join(derm_ai_path, 'B1-IRN50V2_4'))"
      ],
      "execution_count": null,
      "outputs": []
    },
    {
      "cell_type": "code",
      "metadata": {
        "id": "OJzPitvOdWlK",
        "colab_type": "code",
        "colab": {}
      },
      "source": [
        "%%time\n",
        "from deepstack.base import KerasMember\n",
        "\n",
        "member1 = KerasMember(name=\"model1\", keras_model=model1, train_batches=train_generator, val_batches=valid_generator)\n",
        "member2 = KerasMember(name=\"model2\", keras_model=model2, train_batches=train_generator, val_batches=valid_generator)\n",
        "#member3 = KerasMember(name=\"model3\", keras_model=model3, train_batches=train_generator, val_batches=valid_generator)\n",
        "member4 = KerasMember(name=\"model4\", keras_model=model4, train_batches=train_generator, val_batches=valid_generator)\n",
        "#member5 = KerasMember(name=\"model5\", keras_model=model5, train_batches=train_generator, val_batches=valid_generator)\n",
        "#member6 = KerasMember(name=\"model6\", keras_model=model6, train_batches=train_generator, val_batches=valid_generator)\n"
      ],
      "execution_count": null,
      "outputs": []
    },
    {
      "cell_type": "markdown",
      "metadata": {
        "id": "SwzYZTTwqT8l",
        "colab_type": "text"
      },
      "source": [
        "### Definindo o modelo"
      ]
    },
    {
      "cell_type": "code",
      "metadata": {
        "id": "NDs-4oiTGm7r",
        "colab_type": "code",
        "colab": {}
      },
      "source": [
        "%%time\n",
        "from deepstack.ensemble import DirichletEnsemble\n",
        "\n",
        "wAvgEnsemble = DirichletEnsemble()\n",
        "#wAvgEnsemble.add_members([member1, member2, member3, member4, member5])\n",
        "wAvgEnsemble.add_members([member1, member2, member4])\n",
        "wAvgEnsemble.fit()\n",
        "wAvgEnsemble.describe()"
      ],
      "execution_count": null,
      "outputs": []
    },
    {
      "cell_type": "markdown",
      "metadata": {
        "id": "g0cYZxeN7OjD",
        "colab_type": "text"
      },
      "source": [
        "### Matriz de Validação"
      ]
    },
    {
      "cell_type": "code",
      "metadata": {
        "id": "Zug_wSpp51vT",
        "colab_type": "code",
        "colab": {}
      },
      "source": [
        "#valid_loss, valid_acc = model5.evaluate(valid_generator)\n",
        "#valid_acc"
      ],
      "execution_count": null,
      "outputs": []
    },
    {
      "cell_type": "code",
      "metadata": {
        "id": "UbdOtJeCksR2",
        "colab_type": "code",
        "colab": {}
      },
      "source": [
        "#License: MIT\n",
        "from deepstack.ensemble import StackEnsemble\n",
        "import sklearn\n",
        "from sklearn.linear_model import LogisticRegression\n",
        "from sklearn.ensemble import StackingClassifier\n",
        "from sklearn.ensemble import RandomForestClassifier\n",
        "from sklearn.ensemble import ExtraTreesClassifier\n",
        "\n",
        "#Ensure you have the scikit-learn version >= 0.22 installed\n",
        "print(\"sklearn version must be >= 0.22. You have:\", sklearn.__version__)\n",
        "\n",
        "stack = StackEnsemble()\n",
        "\n",
        "# 2nd Level Meta-Learner\n",
        "estimators = [\n",
        "    ('rf', RandomForestClassifier(verbose=0, n_estimators=200, max_depth=15, n_jobs=20, min_samples_split=30)),\n",
        "    ('etr', ExtraTreesClassifier(verbose=0, n_estimators=200, max_depth=10, n_jobs=20, min_samples_split=20))\n",
        "]\n",
        "# 3rd Level Meta-Learner\n",
        "clf = StackingClassifier(\n",
        "    estimators=estimators, final_estimator=LogisticRegression()\n",
        ")\n",
        "\n",
        "stack.model = clf\n",
        "stack.add_members([member1, member2, member3, member4, member5])\n",
        "stack.fit()\n",
        "stack.describe(metric=sklearn.metrics.accuracy_score)"
      ],
      "execution_count": null,
      "outputs": []
    },
    {
      "cell_type": "code",
      "metadata": {
        "id": "KznMj7L9k6T-",
        "colab_type": "code",
        "colab": {}
      },
      "source": [
        "# Create a confusion matrix of the test images\n",
        "val_labels = valid_generator.classes\n",
        "# Make predictions\n",
        "val_predictions = stack.predict(valid_generator)"
      ],
      "execution_count": null,
      "outputs": []
    },
    {
      "cell_type": "code",
      "metadata": {
        "id": "4aoA3qWM5kZb",
        "colab_type": "code",
        "colab": {}
      },
      "source": [
        "from sklearn.metrics import confusion_matrix\n",
        "\n",
        "# Declare a function for plotting the confusion matrix\n",
        "def plot_confusion_matrix(cm, classes, normalize=False, title='Confusion matrix', cmap=plt.cm.Blues):\n",
        "    \"\"\"\n",
        "    This function prints and plots the confusion matrix.\n",
        "    Normalization can be applied by setting `normalize=True`.\n",
        "    \"\"\"\n",
        "    if normalize:\n",
        "        cm = cm.astype('float') / cm.sum(axis=1)[:, np.newaxis]\n",
        "        print(\"Normalized confusion matrix\")\n",
        "    else:\n",
        "        print('Confusion matrix, without normalization')\n",
        "\n",
        "    print(cm)\n",
        "\n",
        "    plt.imshow(cm, interpolation='nearest', cmap=cmap)\n",
        "    plt.title(title)\n",
        "    plt.colorbar()\n",
        "    tick_marks = np.arange(len(classes))\n",
        "    plt.xticks(tick_marks, classes, rotation=45)\n",
        "    plt.yticks(tick_marks, classes)\n",
        "\n",
        "    fmt = '.2f' if normalize else 'd'\n",
        "    thresh = cm.max() / 2.\n",
        "    for i, j in itertools.product(range(cm.shape[0]), range(cm.shape[1])):\n",
        "        plt.text(j, i, format(cm[i, j], fmt),\n",
        "                 horizontalalignment=\"center\",\n",
        "                 color=\"white\" if cm[i, j] > thresh else \"black\")\n",
        "\n",
        "    plt.ylabel('True label')\n",
        "    plt.xlabel('Predicted label')\n",
        "    plt.tight_layout()\n",
        "\n",
        "cm = confusion_matrix(val_labels, val_predictions.argmax(axis=1))\n",
        "\n",
        "cm_plot_labels = ['AK' , 'BCC' , 'BKL' , 'DF' , 'MEL' , 'NV' , 'SCC'\t, 'VASC']\n",
        "\n",
        "plot_confusion_matrix(cm, cm_plot_labels)"
      ],
      "execution_count": null,
      "outputs": []
    },
    {
      "cell_type": "code",
      "metadata": {
        "id": "iqUGuH0f7pXT",
        "colab_type": "code",
        "colab": {}
      },
      "source": [
        "from sklearn.metrics import confusion_matrix, classification_report, balanced_accuracy_score\n",
        "\n",
        "val_accuracy = 100*np.sum(val_predictions == val_labels)/len(val_predictions)\n",
        "print('\\nTest accuracy: %.2f%%' % val_accuracy)\n",
        "#\n",
        "\n",
        "balanced_accuracy = balanced_accuracy_score(val_labels, val_predictions)\n",
        "print('\\nBalanced accuracy: {:.3f}'.format(balanced_accuracy) )"
      ],
      "execution_count": null,
      "outputs": []
    },
    {
      "cell_type": "markdown",
      "metadata": {
        "id": "YEnRn26Zd275",
        "colab_type": "text"
      },
      "source": [
        "### Execução das predições na base de testes"
      ]
    },
    {
      "cell_type": "markdown",
      "metadata": {
        "id": "XOwX-WyOd90K",
        "colab_type": "text"
      },
      "source": [
        "### Identificar classe predita"
      ]
    },
    {
      "cell_type": "code",
      "metadata": {
        "id": "vWto3bzwhsEM",
        "colab_type": "code",
        "colab": {}
      },
      "source": [
        "def predClasses(pred, train_generator):\n",
        "  predicted_class_indices=np.argmax(pred,axis=1)\n",
        "\n",
        "  labels = (train_generator.class_indices)\n",
        "  labels = dict((v,k) for k,v in labels.items())\n",
        "  predictions = [labels[k] for k in predicted_class_indices]\n",
        "  return predicted_class_indices, labels, predictions\n",
        "\n",
        "predicted_class_indices, labels, predictions = predClasses(pred, train_generator)"
      ],
      "execution_count": null,
      "outputs": []
    }
  ]
}