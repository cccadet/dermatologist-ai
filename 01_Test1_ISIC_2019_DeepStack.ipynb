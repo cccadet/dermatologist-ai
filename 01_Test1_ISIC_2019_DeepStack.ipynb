{
  "nbformat": 4,
  "nbformat_minor": 0,
  "metadata": {
    "colab": {
      "name": "02_Test1_ISIC_2019_EfficientNet_B5.ipynb",
      "provenance": [],
      "collapsed_sections": [
        "QWiCoYphcSld",
        "19QTXXYFazRX",
        "VSDt-MEVjlsA",
        "HNLiNlROcm-x"
      ],
      "toc_visible": true,
      "machine_shape": "hm",
      "include_colab_link": true
    },
    "kernelspec": {
      "name": "python3",
      "display_name": "Python 3"
    },
    "accelerator": "GPU"
  },
  "cells": [
    {
      "cell_type": "markdown",
      "metadata": {
        "id": "view-in-github",
        "colab_type": "text"
      },
      "source": [
        "<a href=\"https://colab.research.google.com/github/cccadet/dermatologist-ai/blob/master/01_Test1_ISIC_2019_DeepStack.ipynb\" target=\"_parent\"><img src=\"https://colab.research.google.com/assets/colab-badge.svg\" alt=\"Open In Colab\"/></a>"
      ]
    },
    {
      "cell_type": "markdown",
      "metadata": {
        "id": "QWiCoYphcSld",
        "colab_type": "text"
      },
      "source": [
        "## Pré: Conexão com Google Drive"
      ]
    },
    {
      "cell_type": "code",
      "metadata": {
        "id": "71Fn8Ezffe1C",
        "colab_type": "code",
        "colab": {
          "base_uri": "https://localhost:8080/",
          "height": 122
        },
        "outputId": "811f091e-feac-431c-90f6-1c86097880d0"
      },
      "source": [
        "from google.colab import drive\n",
        "drive.mount('/content/drive')"
      ],
      "execution_count": null,
      "outputs": [
        {
          "output_type": "stream",
          "text": [
            "Go to this URL in a browser: https://accounts.google.com/o/oauth2/auth?client_id=947318989803-6bn6qk8qdgf4n4g3pfee6491hc0brc4i.apps.googleusercontent.com&redirect_uri=urn%3aietf%3awg%3aoauth%3a2.0%3aoob&response_type=code&scope=email%20https%3a%2f%2fwww.googleapis.com%2fauth%2fdocs.test%20https%3a%2f%2fwww.googleapis.com%2fauth%2fdrive%20https%3a%2f%2fwww.googleapis.com%2fauth%2fdrive.photos.readonly%20https%3a%2f%2fwww.googleapis.com%2fauth%2fpeopleapi.readonly\n",
            "\n",
            "Enter your authorization code:\n",
            "··········\n",
            "Mounted at /content/drive\n"
          ],
          "name": "stdout"
        }
      ]
    },
    {
      "cell_type": "markdown",
      "metadata": {
        "id": "19QTXXYFazRX",
        "colab_type": "text"
      },
      "source": [
        "## Etapa 1: Instalação das dependências"
      ]
    },
    {
      "cell_type": "code",
      "metadata": {
        "id": "KmIh3NZAaEkC",
        "colab_type": "code",
        "colab": {
          "base_uri": "https://localhost:8080/"
        },
        "outputId": "a63e2a06-5248-4e65-da48-c63ae513c3f4"
      },
      "source": [
        "#!pip install tensorflow-gpu==2.1.0\n",
        "!pip install tf-nightly-gpu\n",
        "!pip install tqdm\n",
        "!pip install kaggle\n",
        "!pip install keras-rectified-adam\n",
        "!pip install tensorflow-addons\n",
        "#!pip install tfa-nightly"
      ],
      "execution_count": null,
      "outputs": [
        {
          "output_type": "stream",
          "text": [
            "Collecting tf-nightly-gpu\n",
            "\u001b[?25l  Downloading https://files.pythonhosted.org/packages/3e/29/97dbb03e642ddf84f36023c271be85fe0665e6448d6fae86f73c0dbe8572/tf_nightly_gpu-2.3.0.dev20200616-cp36-cp36m-manylinux2010_x86_64.whl (350.3MB)\n",
            "\u001b[K     |████████████████████████████████| 350.3MB 26kB/s \n",
            "\u001b[?25hRequirement already satisfied: opt-einsum>=2.3.2 in /usr/local/lib/python3.6/dist-packages (from tf-nightly-gpu) (3.2.1)\n",
            "Requirement already satisfied: google-pasta>=0.1.8 in /usr/local/lib/python3.6/dist-packages (from tf-nightly-gpu) (0.2.0)\n",
            "Requirement already satisfied: numpy<2.0,>=1.16.0 in /usr/local/lib/python3.6/dist-packages (from tf-nightly-gpu) (1.18.5)\n",
            "Requirement already satisfied: six>=1.12.0 in /usr/local/lib/python3.6/dist-packages (from tf-nightly-gpu) (1.12.0)\n",
            "Collecting tf-estimator-nightly\n",
            "\u001b[?25l  Downloading https://files.pythonhosted.org/packages/13/0c/d0c683175e6a9fc39bb017cd0d8ae5411d09281c2d85af4f3c7770e7dc55/tf_estimator_nightly-2.3.0.dev2020061601-py2.py3-none-any.whl (459kB)\n",
            "\u001b[K     |████████████████████████████████| 460kB 53.6MB/s \n",
            "\u001b[?25hRequirement already satisfied: grpcio>=1.8.6 in /usr/local/lib/python3.6/dist-packages (from tf-nightly-gpu) (1.29.0)\n",
            "Collecting tb-nightly<2.4.0a0,>=2.3.0a0\n",
            "\u001b[?25l  Downloading https://files.pythonhosted.org/packages/7f/15/4ae5c16903f0b3ed5569b3cd214175aa29be786eadd4c531f77fa553c88f/tb_nightly-2.3.0a20200615-py3-none-any.whl (3.0MB)\n",
            "\u001b[K     |████████████████████████████████| 3.0MB 50.2MB/s \n",
            "\u001b[?25hRequirement already satisfied: absl-py>=0.7.0 in /usr/local/lib/python3.6/dist-packages (from tf-nightly-gpu) (0.9.0)\n",
            "Requirement already satisfied: wheel>=0.26 in /usr/local/lib/python3.6/dist-packages (from tf-nightly-gpu) (0.34.2)\n",
            "Requirement already satisfied: gast==0.3.3 in /usr/local/lib/python3.6/dist-packages (from tf-nightly-gpu) (0.3.3)\n",
            "Requirement already satisfied: protobuf>=3.9.2 in /usr/local/lib/python3.6/dist-packages (from tf-nightly-gpu) (3.10.0)\n",
            "Requirement already satisfied: termcolor>=1.1.0 in /usr/local/lib/python3.6/dist-packages (from tf-nightly-gpu) (1.1.0)\n",
            "Requirement already satisfied: astunparse==1.6.3 in /usr/local/lib/python3.6/dist-packages (from tf-nightly-gpu) (1.6.3)\n",
            "Requirement already satisfied: h5py<2.11.0,>=2.10.0 in /usr/local/lib/python3.6/dist-packages (from tf-nightly-gpu) (2.10.0)\n",
            "Requirement already satisfied: keras-preprocessing<1.2,>=1.1.1 in /usr/local/lib/python3.6/dist-packages (from tf-nightly-gpu) (1.1.2)\n",
            "Requirement already satisfied: wrapt>=1.11.1 in /usr/local/lib/python3.6/dist-packages (from tf-nightly-gpu) (1.12.1)\n",
            "Requirement already satisfied: scipy==1.4.1 in /usr/local/lib/python3.6/dist-packages (from tf-nightly-gpu) (1.4.1)\n",
            "Requirement already satisfied: tensorboard-plugin-wit>=1.6.0 in /usr/local/lib/python3.6/dist-packages (from tb-nightly<2.4.0a0,>=2.3.0a0->tf-nightly-gpu) (1.6.0.post3)\n",
            "Requirement already satisfied: werkzeug>=0.11.15 in /usr/local/lib/python3.6/dist-packages (from tb-nightly<2.4.0a0,>=2.3.0a0->tf-nightly-gpu) (1.0.1)\n",
            "Requirement already satisfied: markdown>=2.6.8 in /usr/local/lib/python3.6/dist-packages (from tb-nightly<2.4.0a0,>=2.3.0a0->tf-nightly-gpu) (3.2.2)\n",
            "Requirement already satisfied: setuptools>=41.0.0 in /usr/local/lib/python3.6/dist-packages (from tb-nightly<2.4.0a0,>=2.3.0a0->tf-nightly-gpu) (47.1.1)\n",
            "Requirement already satisfied: requests<3,>=2.21.0 in /usr/local/lib/python3.6/dist-packages (from tb-nightly<2.4.0a0,>=2.3.0a0->tf-nightly-gpu) (2.23.0)\n",
            "Requirement already satisfied: google-auth<2,>=1.6.3 in /usr/local/lib/python3.6/dist-packages (from tb-nightly<2.4.0a0,>=2.3.0a0->tf-nightly-gpu) (1.7.2)\n",
            "Requirement already satisfied: google-auth-oauthlib<0.5,>=0.4.1 in /usr/local/lib/python3.6/dist-packages (from tb-nightly<2.4.0a0,>=2.3.0a0->tf-nightly-gpu) (0.4.1)\n",
            "Requirement already satisfied: importlib-metadata; python_version < \"3.8\" in /usr/local/lib/python3.6/dist-packages (from markdown>=2.6.8->tb-nightly<2.4.0a0,>=2.3.0a0->tf-nightly-gpu) (1.6.0)\n",
            "Requirement already satisfied: idna<3,>=2.5 in /usr/local/lib/python3.6/dist-packages (from requests<3,>=2.21.0->tb-nightly<2.4.0a0,>=2.3.0a0->tf-nightly-gpu) (2.9)\n",
            "Requirement already satisfied: certifi>=2017.4.17 in /usr/local/lib/python3.6/dist-packages (from requests<3,>=2.21.0->tb-nightly<2.4.0a0,>=2.3.0a0->tf-nightly-gpu) (2020.4.5.1)\n",
            "Requirement already satisfied: urllib3!=1.25.0,!=1.25.1,<1.26,>=1.21.1 in /usr/local/lib/python3.6/dist-packages (from requests<3,>=2.21.0->tb-nightly<2.4.0a0,>=2.3.0a0->tf-nightly-gpu) (1.24.3)\n",
            "Requirement already satisfied: chardet<4,>=3.0.2 in /usr/local/lib/python3.6/dist-packages (from requests<3,>=2.21.0->tb-nightly<2.4.0a0,>=2.3.0a0->tf-nightly-gpu) (3.0.4)\n",
            "Requirement already satisfied: cachetools<3.2,>=2.0.0 in /usr/local/lib/python3.6/dist-packages (from google-auth<2,>=1.6.3->tb-nightly<2.4.0a0,>=2.3.0a0->tf-nightly-gpu) (3.1.1)\n",
            "Requirement already satisfied: rsa<4.1,>=3.1.4 in /usr/local/lib/python3.6/dist-packages (from google-auth<2,>=1.6.3->tb-nightly<2.4.0a0,>=2.3.0a0->tf-nightly-gpu) (4.0)\n",
            "Requirement already satisfied: pyasn1-modules>=0.2.1 in /usr/local/lib/python3.6/dist-packages (from google-auth<2,>=1.6.3->tb-nightly<2.4.0a0,>=2.3.0a0->tf-nightly-gpu) (0.2.8)\n",
            "Requirement already satisfied: requests-oauthlib>=0.7.0 in /usr/local/lib/python3.6/dist-packages (from google-auth-oauthlib<0.5,>=0.4.1->tb-nightly<2.4.0a0,>=2.3.0a0->tf-nightly-gpu) (1.3.0)\n",
            "Requirement already satisfied: zipp>=0.5 in /usr/local/lib/python3.6/dist-packages (from importlib-metadata; python_version < \"3.8\"->markdown>=2.6.8->tb-nightly<2.4.0a0,>=2.3.0a0->tf-nightly-gpu) (3.1.0)\n",
            "Requirement already satisfied: pyasn1>=0.1.3 in /usr/local/lib/python3.6/dist-packages (from rsa<4.1,>=3.1.4->google-auth<2,>=1.6.3->tb-nightly<2.4.0a0,>=2.3.0a0->tf-nightly-gpu) (0.4.8)\n",
            "Requirement already satisfied: oauthlib>=3.0.0 in /usr/local/lib/python3.6/dist-packages (from requests-oauthlib>=0.7.0->google-auth-oauthlib<0.5,>=0.4.1->tb-nightly<2.4.0a0,>=2.3.0a0->tf-nightly-gpu) (3.1.0)\n",
            "Installing collected packages: tf-estimator-nightly, tb-nightly, tf-nightly-gpu\n",
            "Successfully installed tb-nightly-2.3.0a20200615 tf-estimator-nightly-2.3.0.dev2020061601 tf-nightly-gpu-2.3.0.dev20200616\n",
            "Requirement already satisfied: tqdm in /usr/local/lib/python3.6/dist-packages (4.41.1)\n",
            "Requirement already satisfied: kaggle in /usr/local/lib/python3.6/dist-packages (1.5.6)\n",
            "Requirement already satisfied: tqdm in /usr/local/lib/python3.6/dist-packages (from kaggle) (4.41.1)\n",
            "Requirement already satisfied: urllib3<1.25,>=1.21.1 in /usr/local/lib/python3.6/dist-packages (from kaggle) (1.24.3)\n",
            "Requirement already satisfied: python-slugify in /usr/local/lib/python3.6/dist-packages (from kaggle) (4.0.0)\n",
            "Requirement already satisfied: six>=1.10 in /usr/local/lib/python3.6/dist-packages (from kaggle) (1.12.0)\n",
            "Requirement already satisfied: certifi in /usr/local/lib/python3.6/dist-packages (from kaggle) (2020.4.5.1)\n",
            "Requirement already satisfied: requests in /usr/local/lib/python3.6/dist-packages (from kaggle) (2.23.0)\n",
            "Requirement already satisfied: python-dateutil in /usr/local/lib/python3.6/dist-packages (from kaggle) (2.8.1)\n",
            "Requirement already satisfied: text-unidecode>=1.3 in /usr/local/lib/python3.6/dist-packages (from python-slugify->kaggle) (1.3)\n",
            "Requirement already satisfied: chardet<4,>=3.0.2 in /usr/local/lib/python3.6/dist-packages (from requests->kaggle) (3.0.4)\n",
            "Requirement already satisfied: idna<3,>=2.5 in /usr/local/lib/python3.6/dist-packages (from requests->kaggle) (2.9)\n",
            "Collecting keras-rectified-adam\n",
            "  Downloading https://files.pythonhosted.org/packages/21/79/9521f66b92186702cb58a214c1b923b416266381cd824e15a1733f6a5b06/keras-rectified-adam-0.17.0.tar.gz\n",
            "Requirement already satisfied: numpy in /usr/local/lib/python3.6/dist-packages (from keras-rectified-adam) (1.18.5)\n",
            "Requirement already satisfied: Keras in /usr/local/lib/python3.6/dist-packages (from keras-rectified-adam) (2.3.1)\n",
            "Requirement already satisfied: six>=1.9.0 in /usr/local/lib/python3.6/dist-packages (from Keras->keras-rectified-adam) (1.12.0)\n",
            "Requirement already satisfied: keras-preprocessing>=1.0.5 in /usr/local/lib/python3.6/dist-packages (from Keras->keras-rectified-adam) (1.1.2)\n",
            "Requirement already satisfied: pyyaml in /usr/local/lib/python3.6/dist-packages (from Keras->keras-rectified-adam) (3.13)\n",
            "Requirement already satisfied: keras-applications>=1.0.6 in /usr/local/lib/python3.6/dist-packages (from Keras->keras-rectified-adam) (1.0.8)\n",
            "Requirement already satisfied: scipy>=0.14 in /usr/local/lib/python3.6/dist-packages (from Keras->keras-rectified-adam) (1.4.1)\n",
            "Requirement already satisfied: h5py in /usr/local/lib/python3.6/dist-packages (from Keras->keras-rectified-adam) (2.10.0)\n",
            "Building wheels for collected packages: keras-rectified-adam\n",
            "  Building wheel for keras-rectified-adam (setup.py) ... \u001b[?25l\u001b[?25hdone\n",
            "  Created wheel for keras-rectified-adam: filename=keras_rectified_adam-0.17.0-cp36-none-any.whl size=14781 sha256=453e4a19584402ec052bf523a7d74ed911627a628d8ea7f301aa9f75866536b9\n",
            "  Stored in directory: /root/.cache/pip/wheels/7b/01/27/3a934e1a5644f5b93c720422a6ef97034ea78a21ba71cfb549\n",
            "Successfully built keras-rectified-adam\n",
            "Installing collected packages: keras-rectified-adam\n",
            "Successfully installed keras-rectified-adam-0.17.0\n",
            "Requirement already satisfied: tensorflow-addons in /usr/local/lib/python3.6/dist-packages (0.8.3)\n",
            "Requirement already satisfied: typeguard in /usr/local/lib/python3.6/dist-packages (from tensorflow-addons) (2.7.1)\n"
          ],
          "name": "stdout"
        }
      ]
    },
    {
      "cell_type": "markdown",
      "metadata": {
        "id": "LpbQm2i9jYrP",
        "colab_type": "text"
      },
      "source": [
        "### Importação das bibliotecas"
      ]
    },
    {
      "cell_type": "code",
      "metadata": {
        "id": "wYfBGnPGGrJH",
        "colab_type": "code",
        "colab": {
          "base_uri": "https://localhost:8080/"
        },
        "outputId": "eb5df175-b2ce-4735-d2c2-7810ea79dd88"
      },
      "source": [
        "import zipfile\n",
        "import os\n",
        "import numpy as np\n",
        "import tensorflow as tf\n",
        "import tensorflow_addons as tfa\n",
        "\n",
        "import matplotlib.pyplot as plt\n",
        "import pandas as pd\n",
        "import sys\n",
        "import itertools\n",
        "from keras_radam import RAdam\n",
        "import shutil\n",
        "\n",
        "from tqdm import tqdm_notebook\n",
        "from tensorflow.keras.preprocessing.image import ImageDataGenerator\n",
        "\n",
        "%matplotlib inline\n",
        "tf.__version__"
      ],
      "execution_count": null,
      "outputs": [
        {
          "output_type": "stream",
          "text": [
            "Using TensorFlow backend.\n"
          ],
          "name": "stderr"
        },
        {
          "output_type": "execute_result",
          "data": {
            "text/plain": [
              "'2.3.0-dev20200616'"
            ]
          },
          "metadata": {
            "tags": []
          },
          "execution_count": 3
        }
      ]
    },
    {
      "cell_type": "markdown",
      "metadata": {
        "id": "Vqc2bvfSbMfZ",
        "colab_type": "text"
      },
      "source": [
        "### Otimizações tensorflow"
      ]
    },
    {
      "cell_type": "code",
      "metadata": {
        "id": "6blgc5uSbHeE",
        "colab_type": "code",
        "colab": {}
      },
      "source": [
        "#from tensorflow.keras.mixed_precision import experimental as mixed_precision\n",
        "#policy = mixed_precision.Policy('mixed_float16')\n",
        "#mixed_precision.set_policy(policy)\n",
        "tf.config.optimizer.set_jit(True)"
      ],
      "execution_count": null,
      "outputs": []
    },
    {
      "cell_type": "markdown",
      "metadata": {
        "id": "jQl1fF9Ca80N",
        "colab_type": "text"
      },
      "source": [
        "### Fazendo o download da base de dados de imagens"
      ]
    },
    {
      "cell_type": "code",
      "metadata": {
        "id": "Zfok_61Mr5GU",
        "colab_type": "code",
        "colab": {
          "base_uri": "https://localhost:8080/"
        },
        "outputId": "3960048c-70c4-45fd-b1f5-6f51de560e9d"
      },
      "source": [
        "%%time\n",
        "if (os.path.isdir('./ISIC_2019_Test_Input')==False):\n",
        "  !wget --no-check-certificate \\\n",
        "      https://s3.amazonaws.com/isic-challenge-2019/ISIC_2019_Test_Input.zip \\\n",
        "      -O ./skin_cancer_test.zip"
      ],
      "execution_count": null,
      "outputs": [
        {
          "output_type": "stream",
          "text": [
            "--2020-06-17 01:57:57--  https://s3.amazonaws.com/isic-challenge-2019/ISIC_2019_Test_Input.zip\n",
            "Resolving s3.amazonaws.com (s3.amazonaws.com)... 52.216.136.158\n",
            "Connecting to s3.amazonaws.com (s3.amazonaws.com)|52.216.136.158|:443... connected.\n",
            "HTTP request sent, awaiting response... 200 OK\n",
            "Length: 3823247963 (3.6G) [application/zip]\n",
            "Saving to: ‘./skin_cancer_test.zip’\n",
            "\n",
            "./skin_cancer_test. 100%[===================>]   3.56G  38.6MB/s    in 97s     \n",
            "\n",
            "2020-06-17 01:59:34 (37.6 MB/s) - ‘./skin_cancer_test.zip’ saved [3823247963/3823247963]\n",
            "\n",
            "CPU times: user 617 ms, sys: 199 ms, total: 816 ms\n",
            "Wall time: 1min 38s\n"
          ],
          "name": "stdout"
        }
      ]
    },
    {
      "cell_type": "markdown",
      "metadata": {
        "id": "5-tk5DfRjXN3",
        "colab_type": "text"
      },
      "source": [
        "## Etapa 2: Pré-processamento"
      ]
    },
    {
      "cell_type": "markdown",
      "metadata": {
        "id": "VSDt-MEVjlsA",
        "colab_type": "text"
      },
      "source": [
        "### Configurando os caminhos (paths)"
      ]
    },
    {
      "cell_type": "code",
      "metadata": {
        "id": "gWRIeZgpJkGM",
        "colab_type": "code",
        "colab": {}
      },
      "source": [
        "test_dir = \"./test\"\n",
        "\n",
        "download_path = './'\n",
        "#derm_ai_path_V1 = '/content/drive/My Drive/Colab Notebooks/Dermatologist_AI'\n",
        "derm_ai_path = '/content/drive/My Drive/Derm AI/ISIC_2019'\n",
        "#ground_truth_file = os.path.join(derm_ai_path, 'ground_truth.csv')"
      ],
      "execution_count": null,
      "outputs": []
    },
    {
      "cell_type": "code",
      "metadata": {
        "id": "n35JE--zsSYq",
        "colab_type": "code",
        "colab": {}
      },
      "source": [
        "def dcp(download_path, path, file):\n",
        "  if (os.path.isdir(path)==False):\n",
        "    dataset_path = os.path.join(download_path,file)\n",
        "    zip_object = zipfile.ZipFile(file=dataset_path, mode=\"r\")\n",
        "    zip_object.extractall(\"./\")\n",
        "    zip_object.close()"
      ],
      "execution_count": null,
      "outputs": []
    },
    {
      "cell_type": "markdown",
      "metadata": {
        "id": "MlsIOpGljdlS",
        "colab_type": "text"
      },
      "source": [
        "### Descompactando a base de dados de Treinamento"
      ]
    },
    {
      "cell_type": "markdown",
      "metadata": {
        "id": "HNLiNlROcm-x",
        "colab_type": "text"
      },
      "source": [
        "### Descompactando a base de dados de Testes"
      ]
    },
    {
      "cell_type": "code",
      "metadata": {
        "id": "_GOUKbpSobfH",
        "colab_type": "code",
        "colab": {
          "base_uri": "https://localhost:8080/"
        },
        "outputId": "5cf889fb-d843-4454-8eea-769531515e91"
      },
      "source": [
        "%%time\n",
        "dcp(download_path, './ISIC_2019_Test_Input', 'skin_cancer_test.zip')"
      ],
      "execution_count": null,
      "outputs": [
        {
          "output_type": "stream",
          "text": [
            "CPU times: user 21.1 s, sys: 4.24 s, total: 25.3 s\n",
            "Wall time: 1min 16s\n"
          ],
          "name": "stdout"
        }
      ]
    },
    {
      "cell_type": "code",
      "metadata": {
        "id": "VJIITobvZSRK",
        "colab_type": "code",
        "colab": {}
      },
      "source": [
        "!rm ./skin_cancer_test.zip"
      ],
      "execution_count": null,
      "outputs": []
    },
    {
      "cell_type": "markdown",
      "metadata": {
        "id": "YJRlLGaotJ_J",
        "colab_type": "text"
      },
      "source": [
        "### Criando geradores de dados (Data Generators)\n",
        "\n",
        "Redimensionando as imagens\n",
        "\n",
        "    Grandes arquiteturas treinadas suportam somente alguns tamanhos pré-definidos.\n",
        "\n",
        "Por exemplo: InceptionResNetV2 (que estamos usando) suporta: (299x299)."
      ]
    },
    {
      "cell_type": "code",
      "metadata": {
        "id": "ydIUm9MvK4pn",
        "colab_type": "code",
        "colab": {}
      },
      "source": [
        "data_gen_test = ImageDataGenerator(rescale=1/255., \n",
        "                                   fill_mode=\"constant\"\n",
        ")"
      ],
      "execution_count": null,
      "outputs": []
    },
    {
      "cell_type": "code",
      "metadata": {
        "id": "puH6MuFqMKSf",
        "colab_type": "code",
        "colab": {}
      },
      "source": [
        "!mkdir ./test\n",
        "!mkdir ./test/test\n",
        "!mv ./ISIC_2019_Test_Input/* ./test/test"
      ],
      "execution_count": null,
      "outputs": []
    },
    {
      "cell_type": "code",
      "metadata": {
        "id": "r2K46zJnLbzP",
        "colab_type": "code",
        "colab": {
          "base_uri": "https://localhost:8080/",
          "height": 34
        },
        "outputId": "8c978b95-1c1b-4ea5-e629-cd2cdf76f996"
      },
      "source": [
        "test_generator  = data_gen_test.flow_from_directory(test_dir, target_size=(299,299), batch_size=32, shuffle=False, class_mode=None)"
      ],
      "execution_count": null,
      "outputs": [
        {
          "output_type": "stream",
          "text": [
            "Found 8238 images belonging to 1 classes.\n"
          ],
          "name": "stdout"
        }
      ]
    },
    {
      "cell_type": "markdown",
      "metadata": {
        "id": "pl0Lin9Cc9dG",
        "colab_type": "text"
      },
      "source": [
        "#### Exibição de 3 imagens carregadas"
      ]
    },
    {
      "cell_type": "code",
      "metadata": {
        "id": "cKn3UrOG--w-",
        "colab_type": "code",
        "colab": {}
      },
      "source": [
        "#x,y = test_generator.next()\n",
        "#for i in range(0,3):\n",
        "#    image = x[i]\n",
        "#    label = y[i]\n",
        "#    print (label)\n",
        "#    plt.imshow(image)\n",
        "#    plt.show()"
      ],
      "execution_count": null,
      "outputs": []
    },
    {
      "cell_type": "markdown",
      "metadata": {
        "id": "-YLQb_WOmjwP",
        "colab_type": "text"
      },
      "source": [
        "## Etapa 3: Construindo o modelo"
      ]
    },
    {
      "cell_type": "markdown",
      "metadata": {
        "id": "PoMFwC51mmNa",
        "colab_type": "text"
      },
      "source": [
        "### Carregando o modelo pré-treinado (InceptionResNetV2)"
      ]
    },
    {
      "cell_type": "markdown",
      "metadata": {
        "id": "iRDmVCtFofpc",
        "colab_type": "text"
      },
      "source": [
        "### Congelando o modelo base"
      ]
    },
    {
      "cell_type": "markdown",
      "metadata": {
        "id": "lZTcqkBipEEM",
        "colab_type": "text"
      },
      "source": [
        "### Definindo o cabeçalho personalizado da rede neural"
      ]
    },
    {
      "cell_type": "markdown",
      "metadata": {
        "id": "SwzYZTTwqT8l",
        "colab_type": "text"
      },
      "source": [
        "### Definindo o modelo"
      ]
    },
    {
      "cell_type": "markdown",
      "metadata": {
        "id": "qBrj4jkqrVfy",
        "colab_type": "text"
      },
      "source": [
        "### Compilando o modelo"
      ]
    },
    {
      "cell_type": "markdown",
      "metadata": {
        "id": "eSzbQEcpv4C-",
        "colab_type": "text"
      },
      "source": [
        "### Treinando o modelo"
      ]
    },
    {
      "cell_type": "markdown",
      "metadata": {
        "id": "t_Dx30HVxWr2",
        "colab_type": "text"
      },
      "source": [
        "### Avaliação do modelo de transferência de aprendizagem"
      ]
    },
    {
      "cell_type": "markdown",
      "metadata": {
        "id": "3mmrlX05yhkU",
        "colab_type": "text"
      },
      "source": [
        "## Etapa 4: Fine tuning\n",
        "\n",
        "\n",
        "Algumas questões principais:\n",
        "\n",
        "- NEM SEMPRE é necessário realizar o Fine Tuning em toda a rede neural, pois somente em algumas camadas já é suficiente. A ideia é adotar parte específica da rede neural para nosso problema específico\n",
        "- Inicie o Fine Tuning DEPOIS que você finalizou a transferência de aprendizagem. Se você tentar o Fine Tuning imediatamente, os gradientes serão muito diferentes entre o cabeçalho personalizado e algumas camadas descongeladas do modelo base \n",
        "- Mais informações em como usar o Fine Tuning acesse: \n",
        " https://www.analyticsvidhya.com/blog/2017/06/transfer-learning-the-art-of-fine-tuning-a-pre-trained-model/"
      ]
    },
    {
      "cell_type": "markdown",
      "metadata": {
        "id": "Vg-Na6Wmypx5",
        "colab_type": "text"
      },
      "source": [
        "### Descongelando algumas camadas do topo do modelo base"
      ]
    },
    {
      "cell_type": "markdown",
      "metadata": {
        "id": "Kl6DPsvyxK6I",
        "colab_type": "text"
      },
      "source": [
        "Descomentar trecho abaixo para manter camadas congeladas. O número informado no parâmetro `fine_tuning_at` define o número das primeiras camadas que ficarão congeladas. Supondo que a rede tenha 780 camadas e seja informado o valor 500, até a camada 500 a rede ficará congelada."
      ]
    },
    {
      "cell_type": "markdown",
      "metadata": {
        "id": "TIjXrxRa1alF",
        "colab_type": "text"
      },
      "source": [
        "### Compilando o modelo para fine tuning"
      ]
    },
    {
      "cell_type": "markdown",
      "metadata": {
        "id": "CD57phTH2QAI",
        "colab_type": "text"
      },
      "source": [
        "### Fine tuning"
      ]
    },
    {
      "cell_type": "markdown",
      "metadata": {
        "id": "rutvwJBp6s2x",
        "colab_type": "text"
      },
      "source": [
        "### Avaliação do modelo com fine tuning"
      ]
    },
    {
      "cell_type": "markdown",
      "metadata": {
        "id": "e9x5AIM4dnOC",
        "colab_type": "text"
      },
      "source": [
        "### Salvar modelo após Fine Tuning"
      ]
    },
    {
      "cell_type": "code",
      "metadata": {
        "id": "rJgsRu2xwkQs",
        "colab_type": "code",
        "colab": {
          "base_uri": "https://localhost:8080/",
          "height": 85
        },
        "outputId": "812aaeb8-98c3-4063-f97f-c99e468e5b2f"
      },
      "source": [
        "%%time\n",
        "img_shape = (299, 299, 3)\n",
        "base_model = tf.keras.applications.EfficientNetB5(input_shape = img_shape, \n",
        "                                               include_top = False,\n",
        "                                               weights = \"imagenet\")\n",
        "\n",
        "#base_model.output\n",
        "global_average_layer = tf.keras.layers.GlobalAveragePooling2D()(base_model.output)\n",
        "#global_average_layer\n",
        "prediction_layer = tf.keras.layers.Dense(units = 8, activation = \"softmax\")(global_average_layer)\n",
        "\n",
        "model = tf.keras.models.Model(inputs = base_model.input, outputs = prediction_layer)\n",
        "\n",
        "radam = tfa.optimizers.RectifiedAdam(\n",
        "    lr=1e-2,\n",
        "    total_steps=634,\n",
        "    warmup_proportion=0.1,\n",
        "    min_lr=1e-5)\n",
        "ranger = tfa.optimizers.Lookahead(radam, sync_period=6, slow_step_size=0.5)\n",
        "\n",
        "optm = ranger\n",
        "\n",
        "model.compile(optimizer=optm, loss=\"categorical_crossentropy\", metrics=[tf.keras.metrics.CategoricalAccuracy()])"
      ],
      "execution_count": null,
      "outputs": [
        {
          "output_type": "stream",
          "text": [
            "Downloading data from https://storage.googleapis.com/keras-applications/efficientnetb5_notop.h5\n",
            "115269632/115263384 [==============================] - 2s 0us/step\n",
            "CPU times: user 6.65 s, sys: 377 ms, total: 7.03 s\n",
            "Wall time: 8.37 s\n"
          ],
          "name": "stdout"
        }
      ]
    },
    {
      "cell_type": "markdown",
      "metadata": {
        "id": "tGehXq7adtoh",
        "colab_type": "text"
      },
      "source": [
        "### Carregar modelo após Fine Tuning com os melhores pesos"
      ]
    },
    {
      "cell_type": "code",
      "metadata": {
        "id": "KHICSyGEpizT",
        "colab_type": "code",
        "colab": {
          "base_uri": "https://localhost:8080/",
          "height": 51
        },
        "outputId": "8c63a173-f7fe-4e07-e2e1-e22c6c359fc1"
      },
      "source": [
        "%%time\n",
        "\n",
        "#InceptionResNetV2_model_file = os.path.join(derm_ai_path, 'InceptionResNetV2_full_cat.h5')\n",
        "checkpoint_filepath = os.path.join(derm_ai_path, 'Efficientnet_B5_cat.weights.best.my.hdf5')\n",
        "\n",
        "# Recreate the exact same model, including its weights and the optimizer\n",
        "#model = tf.keras.models.load_model(InceptionResNetV2_model_file)\n",
        "model.load_weights(checkpoint_filepath)\n"
      ],
      "execution_count": null,
      "outputs": [
        {
          "output_type": "stream",
          "text": [
            "CPU times: user 531 ms, sys: 100 ms, total: 632 ms\n",
            "Wall time: 704 ms\n"
          ],
          "name": "stdout"
        }
      ]
    },
    {
      "cell_type": "markdown",
      "metadata": {
        "id": "g0cYZxeN7OjD",
        "colab_type": "text"
      },
      "source": [
        "### Matriz de Validação"
      ]
    },
    {
      "cell_type": "markdown",
      "metadata": {
        "id": "YEnRn26Zd275",
        "colab_type": "text"
      },
      "source": [
        "### Execução das predições na base de testes"
      ]
    },
    {
      "cell_type": "code",
      "metadata": {
        "id": "62gwZu7Lhsb-",
        "colab_type": "code",
        "colab": {
          "base_uri": "https://localhost:8080/",
          "height": 105
        },
        "outputId": "8c39bb8e-386c-41cf-b845-0fd12030d1c8"
      },
      "source": [
        "%%time\n",
        "\n",
        "test_generator.reset()\n",
        "pred=model.predict(test_generator,\n",
        "                              verbose=1)"
      ],
      "execution_count": null,
      "outputs": [
        {
          "output_type": "stream",
          "text": [
            "  2/258 [..............................] - ETA: 21sWARNING:tensorflow:Callbacks method `on_predict_batch_end` is slow compared to the batch time (batch time: 0.0496s vs `on_predict_batch_end` time: 0.1138s). Check your callbacks.\n",
            "258/258 [==============================] - 155s 601ms/step\n",
            "CPU times: user 3min 17s, sys: 17.6 s, total: 3min 34s\n",
            "Wall time: 2min 57s\n"
          ],
          "name": "stdout"
        }
      ]
    },
    {
      "cell_type": "markdown",
      "metadata": {
        "id": "XOwX-WyOd90K",
        "colab_type": "text"
      },
      "source": [
        "### Identificar classe predita"
      ]
    },
    {
      "cell_type": "code",
      "metadata": {
        "id": "vWto3bzwhsEM",
        "colab_type": "code",
        "colab": {}
      },
      "source": [
        "#def predClasses(pred, train_generator):\n",
        "#  predicted_class_indices=np.argmax(pred,axis=1)\n",
        "#\n",
        "#  labels = (train_generator.class_indices)\n",
        "#  labels = dict((v,k) for k,v in labels.items())\n",
        "#  predictions = [labels[k] for k in predicted_class_indices]\n",
        "#  return predicted_class_indices, labels, predictions\n",
        "\n",
        "#predicted_class_indices, labels, predictions = predClasses(pred, train_generator)"
      ],
      "execution_count": null,
      "outputs": []
    },
    {
      "cell_type": "code",
      "metadata": {
        "id": "-d0B78sVtLNT",
        "colab_type": "code",
        "colab": {}
      },
      "source": [
        "#image,MEL,NV,BCC,AK,BKL,DF,VASC,SCC,UNK\n",
        "#labels[5]\n",
        "#predicted_class_indices[0]\n",
        "#predictions[0]\n",
        "#predicted_class_indices[0]\n",
        "#pred[0].max()"
      ],
      "execution_count": null,
      "outputs": []
    },
    {
      "cell_type": "code",
      "metadata": {
        "id": "O2VmHHNZu7H7",
        "colab_type": "code",
        "colab": {}
      },
      "source": [
        "def is_unknown(pred, th):\n",
        "  unk = []\n",
        "  for row in pred:\n",
        "    if row.max() < th:\n",
        "        #Unknown class\n",
        "        unk.append(1.0)\n",
        "    else:\n",
        "        unk.append(0.0)\n",
        "  return unk\n",
        "\n",
        "th = 0.35"
      ],
      "execution_count": null,
      "outputs": []
    },
    {
      "cell_type": "markdown",
      "metadata": {
        "id": "j87O7hoeeHex",
        "colab_type": "text"
      },
      "source": [
        "### Salvar resultado para conferência"
      ]
    },
    {
      "cell_type": "code",
      "metadata": {
        "id": "7lnWqtgTtzrj",
        "colab_type": "code",
        "colab": {}
      },
      "source": [
        "pd.set_option('display.float_format', lambda x: '%.12f' % x)\n",
        "results_file = os.path.join(derm_ai_path, 'results_efficientnet_b5.csv')\n",
        "\n",
        "def saveResultsFile(results_file,pred, test_generator, unk):\n",
        "  filenames=test_generator.filenames\n",
        "  filenames = [w.replace('test/', '') for w in filenames]\n",
        "  filenames = [w.replace('.jpg', '') for w in filenames]\n",
        "  results=pd.DataFrame({\"image\":filenames,\n",
        "                        \"MEL\":pred[:,4],\n",
        "                        \"NV\":pred[:,5],\n",
        "                        \"BCC\":pred[:,1],\n",
        "                        \"AK\":pred[:,0],\n",
        "                        \"BKL\":pred[:,2],\n",
        "                        \"DF\":pred[:,3],\n",
        "                        \"VASC\":pred[:,7],\n",
        "                        \"SCC\":pred[:,6],\n",
        "                        \"UNK\": unk\n",
        "                        })\n",
        "  results.to_csv(results_file,index=False, float_format='%.12f')\n",
        "\n",
        "unk = is_unknown(pred, th)\n",
        "saveResultsFile(results_file, pred, test_generator, unk)"
      ],
      "execution_count": null,
      "outputs": []
    },
    {
      "cell_type": "code",
      "metadata": {
        "id": "0-O0hL-NxG2z",
        "colab_type": "code",
        "colab": {
          "base_uri": "https://localhost:8080/",
          "height": 224
        },
        "outputId": "c0310c62-515b-46a4-d6bc-5aedea180f3c"
      },
      "source": [
        "df_comp = pd.read_csv(results_file)\n",
        "df_comp.head()"
      ],
      "execution_count": null,
      "outputs": [
        {
          "output_type": "execute_result",
          "data": {
            "text/html": [
              "<div>\n",
              "<style scoped>\n",
              "    .dataframe tbody tr th:only-of-type {\n",
              "        vertical-align: middle;\n",
              "    }\n",
              "\n",
              "    .dataframe tbody tr th {\n",
              "        vertical-align: top;\n",
              "    }\n",
              "\n",
              "    .dataframe thead th {\n",
              "        text-align: right;\n",
              "    }\n",
              "</style>\n",
              "<table border=\"1\" class=\"dataframe\">\n",
              "  <thead>\n",
              "    <tr style=\"text-align: right;\">\n",
              "      <th></th>\n",
              "      <th>image</th>\n",
              "      <th>MEL</th>\n",
              "      <th>NV</th>\n",
              "      <th>BCC</th>\n",
              "      <th>AK</th>\n",
              "      <th>BKL</th>\n",
              "      <th>DF</th>\n",
              "      <th>VASC</th>\n",
              "      <th>SCC</th>\n",
              "      <th>UNK</th>\n",
              "    </tr>\n",
              "  </thead>\n",
              "  <tbody>\n",
              "    <tr>\n",
              "      <th>0</th>\n",
              "      <td>ISIC_0034321</td>\n",
              "      <td>0.048717919737</td>\n",
              "      <td>0.375045388937</td>\n",
              "      <td>0.286978930235</td>\n",
              "      <td>0.005461120512</td>\n",
              "      <td>0.266873449087</td>\n",
              "      <td>0.009737982415</td>\n",
              "      <td>0.001952611725</td>\n",
              "      <td>0.005232505966</td>\n",
              "      <td>0.000000000000</td>\n",
              "    </tr>\n",
              "    <tr>\n",
              "      <th>1</th>\n",
              "      <td>ISIC_0034322</td>\n",
              "      <td>0.076323658228</td>\n",
              "      <td>0.920177400112</td>\n",
              "      <td>0.000200122595</td>\n",
              "      <td>0.000183712895</td>\n",
              "      <td>0.002513998654</td>\n",
              "      <td>0.000280109991</td>\n",
              "      <td>0.000088098837</td>\n",
              "      <td>0.000232879363</td>\n",
              "      <td>0.000000000000</td>\n",
              "    </tr>\n",
              "    <tr>\n",
              "      <th>2</th>\n",
              "      <td>ISIC_0034323</td>\n",
              "      <td>0.009104279801</td>\n",
              "      <td>0.006607472897</td>\n",
              "      <td>0.893086135387</td>\n",
              "      <td>0.016140082851</td>\n",
              "      <td>0.017394797876</td>\n",
              "      <td>0.004783717450</td>\n",
              "      <td>0.001154930447</td>\n",
              "      <td>0.051728587598</td>\n",
              "      <td>0.000000000000</td>\n",
              "    </tr>\n",
              "    <tr>\n",
              "      <th>3</th>\n",
              "      <td>ISIC_0034324</td>\n",
              "      <td>0.009652582929</td>\n",
              "      <td>0.984512686729</td>\n",
              "      <td>0.000352434872</td>\n",
              "      <td>0.000192541775</td>\n",
              "      <td>0.002299587009</td>\n",
              "      <td>0.001170233591</td>\n",
              "      <td>0.001720136963</td>\n",
              "      <td>0.000099743898</td>\n",
              "      <td>0.000000000000</td>\n",
              "    </tr>\n",
              "    <tr>\n",
              "      <th>4</th>\n",
              "      <td>ISIC_0034325</td>\n",
              "      <td>0.026937671006</td>\n",
              "      <td>0.967616856098</td>\n",
              "      <td>0.000714109861</td>\n",
              "      <td>0.000195745262</td>\n",
              "      <td>0.003325415310</td>\n",
              "      <td>0.000661650323</td>\n",
              "      <td>0.000366139284</td>\n",
              "      <td>0.000182484233</td>\n",
              "      <td>0.000000000000</td>\n",
              "    </tr>\n",
              "  </tbody>\n",
              "</table>\n",
              "</div>"
            ],
            "text/plain": [
              "          image            MEL  ...            SCC            UNK\n",
              "0  ISIC_0034321 0.048717919737  ... 0.005232505966 0.000000000000\n",
              "1  ISIC_0034322 0.076323658228  ... 0.000232879363 0.000000000000\n",
              "2  ISIC_0034323 0.009104279801  ... 0.051728587598 0.000000000000\n",
              "3  ISIC_0034324 0.009652582929  ... 0.000099743898 0.000000000000\n",
              "4  ISIC_0034325 0.026937671006  ... 0.000182484233 0.000000000000\n",
              "\n",
              "[5 rows x 10 columns]"
            ]
          },
          "metadata": {
            "tags": []
          },
          "execution_count": 21
        }
      ]
    },
    {
      "cell_type": "markdown",
      "metadata": {
        "id": "HgC8QOCUeLkd",
        "colab_type": "text"
      },
      "source": [
        "### Rodar avaliação do modelo em relação a base de testes"
      ]
    },
    {
      "cell_type": "markdown",
      "metadata": {
        "id": "hwSqJwVIeVed",
        "colab_type": "text"
      },
      "source": [
        "### Salvar modelo com score obtido"
      ]
    },
    {
      "cell_type": "markdown",
      "metadata": {
        "id": "A26Tz54SeeuJ",
        "colab_type": "text"
      },
      "source": [
        "### Carregar melhor modelo "
      ]
    },
    {
      "cell_type": "markdown",
      "metadata": {
        "id": "c14Jo3t8zyS_",
        "colab_type": "text"
      },
      "source": [
        "## Etapa 5: Tensorflow Lite"
      ]
    },
    {
      "cell_type": "markdown",
      "metadata": {
        "id": "9REtjTTqelih",
        "colab_type": "text"
      },
      "source": [
        "### Converter modelo para formato tflite"
      ]
    },
    {
      "cell_type": "markdown",
      "metadata": {
        "id": "KGgID5zdeuuR",
        "colab_type": "text"
      },
      "source": [
        "### Salvar arquivo convertido"
      ]
    },
    {
      "cell_type": "markdown",
      "metadata": {
        "id": "CNS9axbd2Mmm",
        "colab_type": "text"
      },
      "source": [
        "### Testar modelo convertido (TFLite)\n",
        "https://medium.com/towards-artificial-intelligence/testing-tensorflow-lite-image-classification-model-e9c0100d8de3\n",
        "\n",
        "https://colab.research.google.com/github/frogermcs/TFLite-Tester/blob/master/notebooks/Testing_TFLite_model.ipynb#scrollTo=6WEyRJNsR5uL\n",
        "\n",
        "https://aihub.cloud.google.com/p/products%2F6ca92c9c-6932-45f8-8f08-15a1a6dfafc7"
      ]
    },
    {
      "cell_type": "code",
      "metadata": {
        "id": "CQ9zBKLT4bCB",
        "colab_type": "code",
        "colab": {}
      },
      "source": [
        ""
      ],
      "execution_count": null,
      "outputs": []
    }
  ]
}