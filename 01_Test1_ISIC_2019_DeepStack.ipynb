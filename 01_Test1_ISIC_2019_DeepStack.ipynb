{
  "nbformat": 4,
  "nbformat_minor": 0,
  "metadata": {
    "colab": {
      "name": "02_Test1_ISIC_2019_EfficientNet_B5.ipynb",
      "provenance": [],
      "collapsed_sections": [
        "QWiCoYphcSld",
        "19QTXXYFazRX",
        "VSDt-MEVjlsA",
        "HNLiNlROcm-x"
      ],
      "toc_visible": true,
      "machine_shape": "hm",
      "include_colab_link": true
    },
    "kernelspec": {
      "name": "python3",
      "display_name": "Python 3"
    },
    "accelerator": "GPU"
  },
  "cells": [
    {
      "cell_type": "markdown",
      "metadata": {
        "id": "view-in-github",
        "colab_type": "text"
      },
      "source": [
        "<a href=\"https://colab.research.google.com/github/cccadet/dermatologist-ai/blob/master/01_Test1_ISIC_2019_DeepStack.ipynb\" target=\"_parent\"><img src=\"https://colab.research.google.com/assets/colab-badge.svg\" alt=\"Open In Colab\"/></a>"
      ]
    },
    {
      "cell_type": "markdown",
      "metadata": {
        "id": "QWiCoYphcSld",
        "colab_type": "text"
      },
      "source": [
        "## Pré: Conexão com Google Drive"
      ]
    },
    {
      "cell_type": "code",
      "metadata": {
        "id": "71Fn8Ezffe1C",
        "colab_type": "code",
        "colab": {
          "base_uri": "https://localhost:8080/",
          "height": 54
        },
        "outputId": "bccad563-0313-437c-a59f-582cc864baa9"
      },
      "source": [
        "from google.colab import drive\n",
        "drive.mount('/content/drive')"
      ],
      "execution_count": null,
      "outputs": [
        {
          "output_type": "stream",
          "text": [
            "Drive already mounted at /content/drive; to attempt to forcibly remount, call drive.mount(\"/content/drive\", force_remount=True).\n"
          ],
          "name": "stdout"
        }
      ]
    },
    {
      "cell_type": "markdown",
      "metadata": {
        "id": "19QTXXYFazRX",
        "colab_type": "text"
      },
      "source": [
        "## Etapa 1: Instalação das dependências"
      ]
    },
    {
      "cell_type": "code",
      "metadata": {
        "id": "KmIh3NZAaEkC",
        "colab_type": "code",
        "colab": {
          "base_uri": "https://localhost:8080/",
          "height": 1000
        },
        "outputId": "e6122366-5ee1-4433-e367-9712a32dfbd4"
      },
      "source": [
        "#!pip install tensorflow-gpu==2.1.0\n",
        "!pip install tensorflow-gpu\n",
        "!pip install tqdm\n",
        "!pip install deepstack\n",
        "!pip install kaggle\n",
        "!pip install keras-rectified-adam\n",
        "!pip install tensorflow-addons\n",
        "#!pip install tfa-nightly"
      ],
      "execution_count": 34,
      "outputs": [
        {
          "output_type": "stream",
          "text": [
            "Requirement already satisfied: tensorflow-gpu in /usr/local/lib/python3.6/dist-packages (2.3.0)\n",
            "Requirement already satisfied: numpy<1.19.0,>=1.16.0 in /usr/local/lib/python3.6/dist-packages (from tensorflow-gpu) (1.18.5)\n",
            "Requirement already satisfied: termcolor>=1.1.0 in /usr/local/lib/python3.6/dist-packages (from tensorflow-gpu) (1.1.0)\n",
            "Requirement already satisfied: grpcio>=1.8.6 in /usr/local/lib/python3.6/dist-packages (from tensorflow-gpu) (1.31.0)\n",
            "Requirement already satisfied: tensorboard<3,>=2.3.0 in /usr/local/lib/python3.6/dist-packages (from tensorflow-gpu) (2.3.0)\n",
            "Requirement already satisfied: protobuf>=3.9.2 in /usr/local/lib/python3.6/dist-packages (from tensorflow-gpu) (3.12.4)\n",
            "Requirement already satisfied: h5py<2.11.0,>=2.10.0 in /usr/local/lib/python3.6/dist-packages (from tensorflow-gpu) (2.10.0)\n",
            "Requirement already satisfied: tensorflow-estimator<2.4.0,>=2.3.0 in /usr/local/lib/python3.6/dist-packages (from tensorflow-gpu) (2.3.0)\n",
            "Requirement already satisfied: google-pasta>=0.1.8 in /usr/local/lib/python3.6/dist-packages (from tensorflow-gpu) (0.2.0)\n",
            "Requirement already satisfied: absl-py>=0.7.0 in /usr/local/lib/python3.6/dist-packages (from tensorflow-gpu) (0.9.0)\n",
            "Requirement already satisfied: scipy==1.4.1 in /usr/local/lib/python3.6/dist-packages (from tensorflow-gpu) (1.4.1)\n",
            "Requirement already satisfied: keras-preprocessing<1.2,>=1.1.1 in /usr/local/lib/python3.6/dist-packages (from tensorflow-gpu) (1.1.2)\n",
            "Requirement already satisfied: wrapt>=1.11.1 in /usr/local/lib/python3.6/dist-packages (from tensorflow-gpu) (1.12.1)\n",
            "Requirement already satisfied: six>=1.12.0 in /usr/local/lib/python3.6/dist-packages (from tensorflow-gpu) (1.15.0)\n",
            "Requirement already satisfied: wheel>=0.26 in /usr/local/lib/python3.6/dist-packages (from tensorflow-gpu) (0.34.2)\n",
            "Requirement already satisfied: gast==0.3.3 in /usr/local/lib/python3.6/dist-packages (from tensorflow-gpu) (0.3.3)\n",
            "Requirement already satisfied: opt-einsum>=2.3.2 in /usr/local/lib/python3.6/dist-packages (from tensorflow-gpu) (3.3.0)\n",
            "Requirement already satisfied: astunparse==1.6.3 in /usr/local/lib/python3.6/dist-packages (from tensorflow-gpu) (1.6.3)\n",
            "Requirement already satisfied: google-auth<2,>=1.6.3 in /usr/local/lib/python3.6/dist-packages (from tensorboard<3,>=2.3.0->tensorflow-gpu) (1.17.2)\n",
            "Requirement already satisfied: markdown>=2.6.8 in /usr/local/lib/python3.6/dist-packages (from tensorboard<3,>=2.3.0->tensorflow-gpu) (3.2.2)\n",
            "Requirement already satisfied: requests<3,>=2.21.0 in /usr/local/lib/python3.6/dist-packages (from tensorboard<3,>=2.3.0->tensorflow-gpu) (2.23.0)\n",
            "Requirement already satisfied: setuptools>=41.0.0 in /usr/local/lib/python3.6/dist-packages (from tensorboard<3,>=2.3.0->tensorflow-gpu) (49.2.0)\n",
            "Requirement already satisfied: google-auth-oauthlib<0.5,>=0.4.1 in /usr/local/lib/python3.6/dist-packages (from tensorboard<3,>=2.3.0->tensorflow-gpu) (0.4.1)\n",
            "Requirement already satisfied: werkzeug>=0.11.15 in /usr/local/lib/python3.6/dist-packages (from tensorboard<3,>=2.3.0->tensorflow-gpu) (1.0.1)\n",
            "Requirement already satisfied: tensorboard-plugin-wit>=1.6.0 in /usr/local/lib/python3.6/dist-packages (from tensorboard<3,>=2.3.0->tensorflow-gpu) (1.7.0)\n",
            "Requirement already satisfied: pyasn1-modules>=0.2.1 in /usr/local/lib/python3.6/dist-packages (from google-auth<2,>=1.6.3->tensorboard<3,>=2.3.0->tensorflow-gpu) (0.2.8)\n",
            "Requirement already satisfied: rsa<5,>=3.1.4; python_version >= \"3\" in /usr/local/lib/python3.6/dist-packages (from google-auth<2,>=1.6.3->tensorboard<3,>=2.3.0->tensorflow-gpu) (4.6)\n",
            "Requirement already satisfied: cachetools<5.0,>=2.0.0 in /usr/local/lib/python3.6/dist-packages (from google-auth<2,>=1.6.3->tensorboard<3,>=2.3.0->tensorflow-gpu) (4.1.1)\n",
            "Requirement already satisfied: importlib-metadata; python_version < \"3.8\" in /usr/local/lib/python3.6/dist-packages (from markdown>=2.6.8->tensorboard<3,>=2.3.0->tensorflow-gpu) (1.7.0)\n",
            "Requirement already satisfied: certifi>=2017.4.17 in /usr/local/lib/python3.6/dist-packages (from requests<3,>=2.21.0->tensorboard<3,>=2.3.0->tensorflow-gpu) (2020.6.20)\n",
            "Requirement already satisfied: urllib3!=1.25.0,!=1.25.1,<1.26,>=1.21.1 in /usr/local/lib/python3.6/dist-packages (from requests<3,>=2.21.0->tensorboard<3,>=2.3.0->tensorflow-gpu) (1.24.3)\n",
            "Requirement already satisfied: chardet<4,>=3.0.2 in /usr/local/lib/python3.6/dist-packages (from requests<3,>=2.21.0->tensorboard<3,>=2.3.0->tensorflow-gpu) (3.0.4)\n",
            "Requirement already satisfied: idna<3,>=2.5 in /usr/local/lib/python3.6/dist-packages (from requests<3,>=2.21.0->tensorboard<3,>=2.3.0->tensorflow-gpu) (2.10)\n",
            "Requirement already satisfied: requests-oauthlib>=0.7.0 in /usr/local/lib/python3.6/dist-packages (from google-auth-oauthlib<0.5,>=0.4.1->tensorboard<3,>=2.3.0->tensorflow-gpu) (1.3.0)\n",
            "Requirement already satisfied: pyasn1<0.5.0,>=0.4.6 in /usr/local/lib/python3.6/dist-packages (from pyasn1-modules>=0.2.1->google-auth<2,>=1.6.3->tensorboard<3,>=2.3.0->tensorflow-gpu) (0.4.8)\n",
            "Requirement already satisfied: zipp>=0.5 in /usr/local/lib/python3.6/dist-packages (from importlib-metadata; python_version < \"3.8\"->markdown>=2.6.8->tensorboard<3,>=2.3.0->tensorflow-gpu) (3.1.0)\n",
            "Requirement already satisfied: oauthlib>=3.0.0 in /usr/local/lib/python3.6/dist-packages (from requests-oauthlib>=0.7.0->google-auth-oauthlib<0.5,>=0.4.1->tensorboard<3,>=2.3.0->tensorflow-gpu) (3.1.0)\n",
            "Requirement already satisfied: tqdm in /usr/local/lib/python3.6/dist-packages (4.41.1)\n",
            "Requirement already satisfied: deepstack in /usr/local/lib/python3.6/dist-packages (0.0.9)\n",
            "Requirement already satisfied: numpy>=1.16.4 in /usr/local/lib/python3.6/dist-packages (from deepstack) (1.18.5)\n",
            "Requirement already satisfied: scikit-learn>=0.21.2 in /usr/local/lib/python3.6/dist-packages (from deepstack) (0.22.2.post1)\n",
            "Requirement already satisfied: keras>=2.2.5 in /usr/local/lib/python3.6/dist-packages (from deepstack) (2.4.3)\n",
            "Requirement already satisfied: tensorflow>=1.14.0 in /usr/local/lib/python3.6/dist-packages (from deepstack) (2.3.0)\n",
            "Requirement already satisfied: joblib>=0.11 in /usr/local/lib/python3.6/dist-packages (from scikit-learn>=0.21.2->deepstack) (0.16.0)\n",
            "Requirement already satisfied: scipy>=0.17.0 in /usr/local/lib/python3.6/dist-packages (from scikit-learn>=0.21.2->deepstack) (1.4.1)\n",
            "Requirement already satisfied: pyyaml in /usr/local/lib/python3.6/dist-packages (from keras>=2.2.5->deepstack) (3.13)\n",
            "Requirement already satisfied: h5py in /usr/local/lib/python3.6/dist-packages (from keras>=2.2.5->deepstack) (2.10.0)\n",
            "Requirement already satisfied: tensorflow-estimator<2.4.0,>=2.3.0 in /usr/local/lib/python3.6/dist-packages (from tensorflow>=1.14.0->deepstack) (2.3.0)\n",
            "Requirement already satisfied: astunparse==1.6.3 in /usr/local/lib/python3.6/dist-packages (from tensorflow>=1.14.0->deepstack) (1.6.3)\n",
            "Requirement already satisfied: absl-py>=0.7.0 in /usr/local/lib/python3.6/dist-packages (from tensorflow>=1.14.0->deepstack) (0.9.0)\n",
            "Requirement already satisfied: google-pasta>=0.1.8 in /usr/local/lib/python3.6/dist-packages (from tensorflow>=1.14.0->deepstack) (0.2.0)\n",
            "Requirement already satisfied: protobuf>=3.9.2 in /usr/local/lib/python3.6/dist-packages (from tensorflow>=1.14.0->deepstack) (3.12.4)\n",
            "Requirement already satisfied: tensorboard<3,>=2.3.0 in /usr/local/lib/python3.6/dist-packages (from tensorflow>=1.14.0->deepstack) (2.3.0)\n",
            "Requirement already satisfied: wrapt>=1.11.1 in /usr/local/lib/python3.6/dist-packages (from tensorflow>=1.14.0->deepstack) (1.12.1)\n",
            "Requirement already satisfied: six>=1.12.0 in /usr/local/lib/python3.6/dist-packages (from tensorflow>=1.14.0->deepstack) (1.15.0)\n",
            "Requirement already satisfied: grpcio>=1.8.6 in /usr/local/lib/python3.6/dist-packages (from tensorflow>=1.14.0->deepstack) (1.31.0)\n",
            "Requirement already satisfied: keras-preprocessing<1.2,>=1.1.1 in /usr/local/lib/python3.6/dist-packages (from tensorflow>=1.14.0->deepstack) (1.1.2)\n",
            "Requirement already satisfied: termcolor>=1.1.0 in /usr/local/lib/python3.6/dist-packages (from tensorflow>=1.14.0->deepstack) (1.1.0)\n",
            "Requirement already satisfied: opt-einsum>=2.3.2 in /usr/local/lib/python3.6/dist-packages (from tensorflow>=1.14.0->deepstack) (3.3.0)\n",
            "Requirement already satisfied: gast==0.3.3 in /usr/local/lib/python3.6/dist-packages (from tensorflow>=1.14.0->deepstack) (0.3.3)\n",
            "Requirement already satisfied: wheel>=0.26 in /usr/local/lib/python3.6/dist-packages (from tensorflow>=1.14.0->deepstack) (0.34.2)\n",
            "Requirement already satisfied: setuptools in /usr/local/lib/python3.6/dist-packages (from protobuf>=3.9.2->tensorflow>=1.14.0->deepstack) (49.2.0)\n",
            "Requirement already satisfied: google-auth<2,>=1.6.3 in /usr/local/lib/python3.6/dist-packages (from tensorboard<3,>=2.3.0->tensorflow>=1.14.0->deepstack) (1.17.2)\n",
            "Requirement already satisfied: tensorboard-plugin-wit>=1.6.0 in /usr/local/lib/python3.6/dist-packages (from tensorboard<3,>=2.3.0->tensorflow>=1.14.0->deepstack) (1.7.0)\n",
            "Requirement already satisfied: werkzeug>=0.11.15 in /usr/local/lib/python3.6/dist-packages (from tensorboard<3,>=2.3.0->tensorflow>=1.14.0->deepstack) (1.0.1)\n",
            "Requirement already satisfied: google-auth-oauthlib<0.5,>=0.4.1 in /usr/local/lib/python3.6/dist-packages (from tensorboard<3,>=2.3.0->tensorflow>=1.14.0->deepstack) (0.4.1)\n",
            "Requirement already satisfied: requests<3,>=2.21.0 in /usr/local/lib/python3.6/dist-packages (from tensorboard<3,>=2.3.0->tensorflow>=1.14.0->deepstack) (2.23.0)\n",
            "Requirement already satisfied: markdown>=2.6.8 in /usr/local/lib/python3.6/dist-packages (from tensorboard<3,>=2.3.0->tensorflow>=1.14.0->deepstack) (3.2.2)\n",
            "Requirement already satisfied: pyasn1-modules>=0.2.1 in /usr/local/lib/python3.6/dist-packages (from google-auth<2,>=1.6.3->tensorboard<3,>=2.3.0->tensorflow>=1.14.0->deepstack) (0.2.8)\n",
            "Requirement already satisfied: rsa<5,>=3.1.4; python_version >= \"3\" in /usr/local/lib/python3.6/dist-packages (from google-auth<2,>=1.6.3->tensorboard<3,>=2.3.0->tensorflow>=1.14.0->deepstack) (4.6)\n",
            "Requirement already satisfied: cachetools<5.0,>=2.0.0 in /usr/local/lib/python3.6/dist-packages (from google-auth<2,>=1.6.3->tensorboard<3,>=2.3.0->tensorflow>=1.14.0->deepstack) (4.1.1)\n",
            "Requirement already satisfied: requests-oauthlib>=0.7.0 in /usr/local/lib/python3.6/dist-packages (from google-auth-oauthlib<0.5,>=0.4.1->tensorboard<3,>=2.3.0->tensorflow>=1.14.0->deepstack) (1.3.0)\n",
            "Requirement already satisfied: urllib3!=1.25.0,!=1.25.1,<1.26,>=1.21.1 in /usr/local/lib/python3.6/dist-packages (from requests<3,>=2.21.0->tensorboard<3,>=2.3.0->tensorflow>=1.14.0->deepstack) (1.24.3)\n",
            "Requirement already satisfied: certifi>=2017.4.17 in /usr/local/lib/python3.6/dist-packages (from requests<3,>=2.21.0->tensorboard<3,>=2.3.0->tensorflow>=1.14.0->deepstack) (2020.6.20)\n",
            "Requirement already satisfied: chardet<4,>=3.0.2 in /usr/local/lib/python3.6/dist-packages (from requests<3,>=2.21.0->tensorboard<3,>=2.3.0->tensorflow>=1.14.0->deepstack) (3.0.4)\n",
            "Requirement already satisfied: idna<3,>=2.5 in /usr/local/lib/python3.6/dist-packages (from requests<3,>=2.21.0->tensorboard<3,>=2.3.0->tensorflow>=1.14.0->deepstack) (2.10)\n",
            "Requirement already satisfied: importlib-metadata; python_version < \"3.8\" in /usr/local/lib/python3.6/dist-packages (from markdown>=2.6.8->tensorboard<3,>=2.3.0->tensorflow>=1.14.0->deepstack) (1.7.0)\n",
            "Requirement already satisfied: pyasn1<0.5.0,>=0.4.6 in /usr/local/lib/python3.6/dist-packages (from pyasn1-modules>=0.2.1->google-auth<2,>=1.6.3->tensorboard<3,>=2.3.0->tensorflow>=1.14.0->deepstack) (0.4.8)\n",
            "Requirement already satisfied: oauthlib>=3.0.0 in /usr/local/lib/python3.6/dist-packages (from requests-oauthlib>=0.7.0->google-auth-oauthlib<0.5,>=0.4.1->tensorboard<3,>=2.3.0->tensorflow>=1.14.0->deepstack) (3.1.0)\n",
            "Requirement already satisfied: zipp>=0.5 in /usr/local/lib/python3.6/dist-packages (from importlib-metadata; python_version < \"3.8\"->markdown>=2.6.8->tensorboard<3,>=2.3.0->tensorflow>=1.14.0->deepstack) (3.1.0)\n",
            "Requirement already satisfied: kaggle in /usr/local/lib/python3.6/dist-packages (1.5.6)\n",
            "Requirement already satisfied: certifi in /usr/local/lib/python3.6/dist-packages (from kaggle) (2020.6.20)\n",
            "Requirement already satisfied: six>=1.10 in /usr/local/lib/python3.6/dist-packages (from kaggle) (1.15.0)\n",
            "Requirement already satisfied: tqdm in /usr/local/lib/python3.6/dist-packages (from kaggle) (4.41.1)\n",
            "Requirement already satisfied: python-dateutil in /usr/local/lib/python3.6/dist-packages (from kaggle) (2.8.1)\n",
            "Requirement already satisfied: python-slugify in /usr/local/lib/python3.6/dist-packages (from kaggle) (4.0.1)\n",
            "Requirement already satisfied: urllib3<1.25,>=1.21.1 in /usr/local/lib/python3.6/dist-packages (from kaggle) (1.24.3)\n",
            "Requirement already satisfied: requests in /usr/local/lib/python3.6/dist-packages (from kaggle) (2.23.0)\n",
            "Requirement already satisfied: text-unidecode>=1.3 in /usr/local/lib/python3.6/dist-packages (from python-slugify->kaggle) (1.3)\n",
            "Requirement already satisfied: idna<3,>=2.5 in /usr/local/lib/python3.6/dist-packages (from requests->kaggle) (2.10)\n",
            "Requirement already satisfied: chardet<4,>=3.0.2 in /usr/local/lib/python3.6/dist-packages (from requests->kaggle) (3.0.4)\n",
            "Requirement already satisfied: keras-rectified-adam in /usr/local/lib/python3.6/dist-packages (0.17.0)\n",
            "Requirement already satisfied: numpy in /usr/local/lib/python3.6/dist-packages (from keras-rectified-adam) (1.18.5)\n",
            "Requirement already satisfied: Keras in /usr/local/lib/python3.6/dist-packages (from keras-rectified-adam) (2.4.3)\n",
            "Requirement already satisfied: h5py in /usr/local/lib/python3.6/dist-packages (from Keras->keras-rectified-adam) (2.10.0)\n",
            "Requirement already satisfied: pyyaml in /usr/local/lib/python3.6/dist-packages (from Keras->keras-rectified-adam) (3.13)\n",
            "Requirement already satisfied: scipy>=0.14 in /usr/local/lib/python3.6/dist-packages (from Keras->keras-rectified-adam) (1.4.1)\n",
            "Requirement already satisfied: six in /usr/local/lib/python3.6/dist-packages (from h5py->Keras->keras-rectified-adam) (1.15.0)\n",
            "Requirement already satisfied: tensorflow-addons in /usr/local/lib/python3.6/dist-packages (0.8.3)\n",
            "Requirement already satisfied: typeguard in /usr/local/lib/python3.6/dist-packages (from tensorflow-addons) (2.7.1)\n"
          ],
          "name": "stdout"
        }
      ]
    },
    {
      "cell_type": "markdown",
      "metadata": {
        "id": "LpbQm2i9jYrP",
        "colab_type": "text"
      },
      "source": [
        "### Importação das bibliotecas"
      ]
    },
    {
      "cell_type": "code",
      "metadata": {
        "id": "wYfBGnPGGrJH",
        "colab_type": "code",
        "colab": {
          "base_uri": "https://localhost:8080/",
          "height": 35
        },
        "outputId": "c00f51bd-f7f8-4622-8d96-eabb0ff4cf33"
      },
      "source": [
        "import zipfile\n",
        "import os\n",
        "import numpy as np\n",
        "import tensorflow as tf\n",
        "import tensorflow_addons as tfa\n",
        "\n",
        "import matplotlib.pyplot as plt\n",
        "import pandas as pd\n",
        "import sys\n",
        "import itertools\n",
        "from keras_radam import RAdam\n",
        "import shutil\n",
        "\n",
        "from tqdm import tqdm_notebook\n",
        "from tensorflow.keras.preprocessing.image import ImageDataGenerator\n",
        "\n",
        "%matplotlib inline\n",
        "tf.__version__"
      ],
      "execution_count": null,
      "outputs": [
        {
          "output_type": "execute_result",
          "data": {
            "application/vnd.google.colaboratory.intrinsic+json": {
              "type": "string"
            },
            "text/plain": [
              "'2.4.0-dev20200812'"
            ]
          },
          "metadata": {
            "tags": []
          },
          "execution_count": 4
        }
      ]
    },
    {
      "cell_type": "markdown",
      "metadata": {
        "id": "Vqc2bvfSbMfZ",
        "colab_type": "text"
      },
      "source": [
        "### Otimizações tensorflow"
      ]
    },
    {
      "cell_type": "code",
      "metadata": {
        "id": "6blgc5uSbHeE",
        "colab_type": "code",
        "colab": {}
      },
      "source": [
        "#from tensorflow.keras.mixed_precision import experimental as mixed_precision\n",
        "#policy = mixed_precision.Policy('mixed_float16')\n",
        "#mixed_precision.set_policy(policy)\n",
        "tf.config.optimizer.set_jit(True)"
      ],
      "execution_count": null,
      "outputs": []
    },
    {
      "cell_type": "markdown",
      "metadata": {
        "id": "jQl1fF9Ca80N",
        "colab_type": "text"
      },
      "source": [
        "### Fazendo o download da base de dados de imagens"
      ]
    },
    {
      "cell_type": "code",
      "metadata": {
        "id": "Zfok_61Mr5GU",
        "colab_type": "code",
        "colab": {
          "base_uri": "https://localhost:8080/",
          "height": 238
        },
        "outputId": "b6c5add5-6c87-4098-fb66-6939a39550d8"
      },
      "source": [
        "%%time\n",
        "if (os.path.isdir('./ISIC_2019_Test_Input')==False):\n",
        "  !wget --no-check-certificate \\\n",
        "      https://s3.amazonaws.com/isic-challenge-2019/ISIC_2019_Test_Input.zip \\\n",
        "      -O ./skin_cancer_test.zip"
      ],
      "execution_count": null,
      "outputs": [
        {
          "output_type": "stream",
          "text": [
            "--2020-08-12 23:31:26--  https://s3.amazonaws.com/isic-challenge-2019/ISIC_2019_Test_Input.zip\n",
            "Resolving s3.amazonaws.com (s3.amazonaws.com)... 52.216.24.6\n",
            "Connecting to s3.amazonaws.com (s3.amazonaws.com)|52.216.24.6|:443... connected.\n",
            "HTTP request sent, awaiting response... 200 OK\n",
            "Length: 3823247963 (3.6G) [application/zip]\n",
            "Saving to: ‘./skin_cancer_test.zip’\n",
            "\n",
            "./skin_cancer_test. 100%[===================>]   3.56G  44.2MB/s    in 93s     \n",
            "\n",
            "2020-08-12 23:32:59 (39.3 MB/s) - ‘./skin_cancer_test.zip’ saved [3823247963/3823247963]\n",
            "\n",
            "CPU times: user 523 ms, sys: 154 ms, total: 677 ms\n",
            "Wall time: 1min 34s\n"
          ],
          "name": "stdout"
        }
      ]
    },
    {
      "cell_type": "markdown",
      "metadata": {
        "id": "5-tk5DfRjXN3",
        "colab_type": "text"
      },
      "source": [
        "## Etapa 2: Pré-processamento"
      ]
    },
    {
      "cell_type": "markdown",
      "metadata": {
        "id": "VSDt-MEVjlsA",
        "colab_type": "text"
      },
      "source": [
        "### Configurando os caminhos (paths)"
      ]
    },
    {
      "cell_type": "code",
      "metadata": {
        "id": "gWRIeZgpJkGM",
        "colab_type": "code",
        "colab": {}
      },
      "source": [
        "test_dir = \"./test\"\n",
        "\n",
        "download_path = './'\n",
        "#derm_ai_path_V1 = '/content/drive/My Drive/Colab Notebooks/Dermatologist_AI'\n",
        "derm_ai_path = '/content/drive/My Drive/Derm AI/ISIC_2019'\n",
        "#ground_truth_file = os.path.join(derm_ai_path, 'ground_truth.csv')"
      ],
      "execution_count": 35,
      "outputs": []
    },
    {
      "cell_type": "code",
      "metadata": {
        "id": "n35JE--zsSYq",
        "colab_type": "code",
        "colab": {}
      },
      "source": [
        "def dcp(download_path, path, file):\n",
        "  if (os.path.isdir(path)==False):\n",
        "    dataset_path = os.path.join(download_path,file)\n",
        "    zip_object = zipfile.ZipFile(file=dataset_path, mode=\"r\")\n",
        "    zip_object.extractall(\"./\")\n",
        "    zip_object.close()"
      ],
      "execution_count": null,
      "outputs": []
    },
    {
      "cell_type": "markdown",
      "metadata": {
        "id": "MlsIOpGljdlS",
        "colab_type": "text"
      },
      "source": [
        "### Descompactando a base de dados de Treinamento"
      ]
    },
    {
      "cell_type": "markdown",
      "metadata": {
        "id": "HNLiNlROcm-x",
        "colab_type": "text"
      },
      "source": [
        "### Descompactando a base de dados de Testes"
      ]
    },
    {
      "cell_type": "code",
      "metadata": {
        "id": "_GOUKbpSobfH",
        "colab_type": "code",
        "colab": {
          "base_uri": "https://localhost:8080/"
        },
        "outputId": "7ca3ca62-5fdd-4ce4-a24b-42cfe1567388"
      },
      "source": [
        "%%time\n",
        "dcp(download_path, './ISIC_2019_Test_Input', 'skin_cancer_test.zip')"
      ],
      "execution_count": null,
      "outputs": [
        {
          "output_type": "stream",
          "text": [
            "CPU times: user 19.6 s, sys: 4.12 s, total: 23.7 s\n",
            "Wall time: 1min 20s\n"
          ],
          "name": "stdout"
        }
      ]
    },
    {
      "cell_type": "code",
      "metadata": {
        "id": "VJIITobvZSRK",
        "colab_type": "code",
        "colab": {}
      },
      "source": [
        "!rm ./skin_cancer_test.zip"
      ],
      "execution_count": null,
      "outputs": []
    },
    {
      "cell_type": "markdown",
      "metadata": {
        "id": "YJRlLGaotJ_J",
        "colab_type": "text"
      },
      "source": [
        "### Criando geradores de dados (Data Generators)\n",
        "\n",
        "Redimensionando as imagens\n",
        "\n",
        "    Grandes arquiteturas treinadas suportam somente alguns tamanhos pré-definidos.\n",
        "\n",
        "Por exemplo: InceptionResNetV2 (que estamos usando) suporta: (299x299)."
      ]
    },
    {
      "cell_type": "code",
      "metadata": {
        "id": "ydIUm9MvK4pn",
        "colab_type": "code",
        "colab": {}
      },
      "source": [
        "data_gen_test = ImageDataGenerator(rescale=1/255., \n",
        "                                   fill_mode=\"constant\"\n",
        ")"
      ],
      "execution_count": null,
      "outputs": []
    },
    {
      "cell_type": "code",
      "metadata": {
        "id": "puH6MuFqMKSf",
        "colab_type": "code",
        "colab": {}
      },
      "source": [
        "!mkdir ./test\n",
        "!mkdir ./test/test\n",
        "!mv ./ISIC_2019_Test_Input/* ./test/test"
      ],
      "execution_count": null,
      "outputs": []
    },
    {
      "cell_type": "code",
      "metadata": {
        "id": "r2K46zJnLbzP",
        "colab_type": "code",
        "colab": {
          "base_uri": "https://localhost:8080/",
          "height": 34
        },
        "outputId": "8ab59d8c-6d02-4a69-ed92-582b0515b13c"
      },
      "source": [
        "test_generator  = data_gen_test.flow_from_directory(test_dir, target_size=(299,299), batch_size=32, shuffle=False, class_mode=None)"
      ],
      "execution_count": null,
      "outputs": [
        {
          "output_type": "stream",
          "text": [
            "Found 8238 images belonging to 1 classes.\n"
          ],
          "name": "stdout"
        }
      ]
    },
    {
      "cell_type": "markdown",
      "metadata": {
        "id": "pl0Lin9Cc9dG",
        "colab_type": "text"
      },
      "source": [
        "#### Exibição de 3 imagens carregadas"
      ]
    },
    {
      "cell_type": "code",
      "metadata": {
        "id": "cKn3UrOG--w-",
        "colab_type": "code",
        "colab": {}
      },
      "source": [
        "#x,y = test_generator.next()\n",
        "#for i in range(0,3):\n",
        "#    image = x[i]\n",
        "#    label = y[i]\n",
        "#    print (label)\n",
        "#    plt.imshow(image)\n",
        "#    plt.show()"
      ],
      "execution_count": null,
      "outputs": []
    },
    {
      "cell_type": "markdown",
      "metadata": {
        "id": "-YLQb_WOmjwP",
        "colab_type": "text"
      },
      "source": [
        "## Etapa 3: Construindo o modelo"
      ]
    },
    {
      "cell_type": "markdown",
      "metadata": {
        "id": "PoMFwC51mmNa",
        "colab_type": "text"
      },
      "source": [
        "### Carregando o modelo pré-treinado (InceptionResNetV2)"
      ]
    },
    {
      "cell_type": "markdown",
      "metadata": {
        "id": "iRDmVCtFofpc",
        "colab_type": "text"
      },
      "source": [
        "### Congelando o modelo base"
      ]
    },
    {
      "cell_type": "markdown",
      "metadata": {
        "id": "lZTcqkBipEEM",
        "colab_type": "text"
      },
      "source": [
        "### Definindo o cabeçalho personalizado da rede neural"
      ]
    },
    {
      "cell_type": "markdown",
      "metadata": {
        "id": "SwzYZTTwqT8l",
        "colab_type": "text"
      },
      "source": [
        "### Definindo o modelo"
      ]
    },
    {
      "cell_type": "markdown",
      "metadata": {
        "id": "qBrj4jkqrVfy",
        "colab_type": "text"
      },
      "source": [
        "### Compilando o modelo"
      ]
    },
    {
      "cell_type": "markdown",
      "metadata": {
        "id": "eSzbQEcpv4C-",
        "colab_type": "text"
      },
      "source": [
        "### Treinando o modelo"
      ]
    },
    {
      "cell_type": "markdown",
      "metadata": {
        "id": "t_Dx30HVxWr2",
        "colab_type": "text"
      },
      "source": [
        "### Avaliação do modelo de transferência de aprendizagem"
      ]
    },
    {
      "cell_type": "markdown",
      "metadata": {
        "id": "3mmrlX05yhkU",
        "colab_type": "text"
      },
      "source": [
        "## Etapa 4: Fine tuning\n",
        "\n",
        "\n",
        "Algumas questões principais:\n",
        "\n",
        "- NEM SEMPRE é necessário realizar o Fine Tuning em toda a rede neural, pois somente em algumas camadas já é suficiente. A ideia é adotar parte específica da rede neural para nosso problema específico\n",
        "- Inicie o Fine Tuning DEPOIS que você finalizou a transferência de aprendizagem. Se você tentar o Fine Tuning imediatamente, os gradientes serão muito diferentes entre o cabeçalho personalizado e algumas camadas descongeladas do modelo base \n",
        "- Mais informações em como usar o Fine Tuning acesse: \n",
        " https://www.analyticsvidhya.com/blog/2017/06/transfer-learning-the-art-of-fine-tuning-a-pre-trained-model/"
      ]
    },
    {
      "cell_type": "markdown",
      "metadata": {
        "id": "Vg-Na6Wmypx5",
        "colab_type": "text"
      },
      "source": [
        "### Descongelando algumas camadas do topo do modelo base"
      ]
    },
    {
      "cell_type": "markdown",
      "metadata": {
        "id": "Kl6DPsvyxK6I",
        "colab_type": "text"
      },
      "source": [
        "Descomentar trecho abaixo para manter camadas congeladas. O número informado no parâmetro `fine_tuning_at` define o número das primeiras camadas que ficarão congeladas. Supondo que a rede tenha 780 camadas e seja informado o valor 500, até a camada 500 a rede ficará congelada."
      ]
    },
    {
      "cell_type": "markdown",
      "metadata": {
        "id": "TIjXrxRa1alF",
        "colab_type": "text"
      },
      "source": [
        "### Compilando o modelo para fine tuning"
      ]
    },
    {
      "cell_type": "markdown",
      "metadata": {
        "id": "CD57phTH2QAI",
        "colab_type": "text"
      },
      "source": [
        "### Fine tuning"
      ]
    },
    {
      "cell_type": "markdown",
      "metadata": {
        "id": "rutvwJBp6s2x",
        "colab_type": "text"
      },
      "source": [
        "### Avaliação do modelo com fine tuning"
      ]
    },
    {
      "cell_type": "markdown",
      "metadata": {
        "id": "e9x5AIM4dnOC",
        "colab_type": "text"
      },
      "source": [
        "### Salvar modelo após Fine Tuning"
      ]
    },
    {
      "cell_type": "code",
      "metadata": {
        "id": "rJgsRu2xwkQs",
        "colab_type": "code",
        "colab": {
          "base_uri": "https://localhost:8080/",
          "height": 1000
        },
        "outputId": "4b053013-dcbc-4884-89da-907fe7bf1282"
      },
      "source": [
        "model1 = tf.keras.models.load_model(os.path.join(derm_ai_path, 'model1_B7'))\n",
        "model2 = tf.keras.models.load_model(os.path.join(derm_ai_path, 'model2_InceptionResnetV2'))\n",
        "#model3 = tf.keras.models.load_model(os.path.join(derm_ai_path, 'model3_NasNet_Large'))\n",
        "model4 = tf.keras.models.load_model(os.path.join(derm_ai_path, 'model4_InceptionV3'))\n",
        "model5 = tf.keras.models.load_model(os.path.join(derm_ai_path, 'model5_Xception'))\n",
        "#model6 = tf.keras.models.load_model(os.path.join(derm_ai_path, 'B1-IRN50V2_4'))"
      ],
      "execution_count": 40,
      "outputs": [
        {
          "output_type": "stream",
          "text": [
            "WARNING:tensorflow:Importing a function (__inference_block5c_activation_layer_call_and_return_conditional_losses_358080) with ops with custom gradients. Will likely fail if a gradient is requested.\n",
            "WARNING:tensorflow:Importing a function (__inference_block5g_se_reduce_layer_call_and_return_conditional_losses_301337) with ops with custom gradients. Will likely fail if a gradient is requested.\n",
            "WARNING:tensorflow:Importing a function (__inference_block6i_se_reduce_layer_call_and_return_conditional_losses_367113) with ops with custom gradients. Will likely fail if a gradient is requested.\n",
            "WARNING:tensorflow:Importing a function (__inference_block5j_activation_layer_call_and_return_conditional_losses_362035) with ops with custom gradients. Will likely fail if a gradient is requested.\n",
            "WARNING:tensorflow:Importing a function (__inference_block6j_activation_layer_call_and_return_conditional_losses_367638) with ops with custom gradients. Will likely fail if a gradient is requested.\n",
            "WARNING:tensorflow:Importing a function (__inference_block2e_expand_activation_layer_call_and_return_conditional_losses_289757) with ops with custom gradients. Will likely fail if a gradient is requested.\n",
            "WARNING:tensorflow:Importing a function (__inference_block2d_expand_activation_layer_call_and_return_conditional_losses_345083) with ops with custom gradients. Will likely fail if a gradient is requested.\n",
            "WARNING:tensorflow:Importing a function (__inference_block3g_activation_layer_call_and_return_conditional_losses_350829) with ops with custom gradients. Will likely fail if a gradient is requested.\n",
            "WARNING:tensorflow:Importing a function (__inference_block4c_activation_layer_call_and_return_conditional_losses_352477) with ops with custom gradients. Will likely fail if a gradient is requested.\n",
            "WARNING:tensorflow:Importing a function (__inference_block6d_se_reduce_layer_call_and_return_conditional_losses_304407) with ops with custom gradients. Will likely fail if a gradient is requested.\n",
            "WARNING:tensorflow:Importing a function (__inference_block7b_expand_activation_layer_call_and_return_conditional_losses_370273) with ops with custom gradients. Will likely fail if a gradient is requested.\n",
            "WARNING:tensorflow:Importing a function (__inference_block5c_activation_layer_call_and_return_conditional_losses_299506) with ops with custom gradients. Will likely fail if a gradient is requested.\n",
            "WARNING:tensorflow:Importing a function (__inference_block5h_expand_activation_layer_call_and_return_conditional_losses_360762) with ops with custom gradients. Will likely fail if a gradient is requested.\n",
            "WARNING:tensorflow:Importing a function (__inference_block6g_expand_activation_layer_call_and_return_conditional_losses_305604) with ops with custom gradients. Will likely fail if a gradient is requested.\n",
            "WARNING:tensorflow:Importing a function (__inference_block4b_expand_activation_layer_call_and_return_conditional_losses_351769) with ops with custom gradients. Will likely fail if a gradient is requested.\n",
            "WARNING:tensorflow:Importing a function (__inference_block3a_expand_activation_layer_call_and_return_conditional_losses_347343) with ops with custom gradients. Will likely fail if a gradient is requested.\n",
            "WARNING:tensorflow:Importing a function (__inference_block6k_se_reduce_layer_call_and_return_conditional_losses_307529) with ops with custom gradients. Will likely fail if a gradient is requested.\n",
            "WARNING:tensorflow:Importing a function (__inference_block7d_se_reduce_layer_call_and_return_conditional_losses_310152) with ops with custom gradients. Will likely fail if a gradient is requested.\n",
            "WARNING:tensorflow:Importing a function (__inference_block5e_activation_layer_call_and_return_conditional_losses_300398) with ops with custom gradients. Will likely fail if a gradient is requested.\n",
            "WARNING:tensorflow:Importing a function (__inference_block5f_activation_layer_call_and_return_conditional_losses_359775) with ops with custom gradients. Will likely fail if a gradient is requested.\n",
            "WARNING:tensorflow:Importing a function (__inference_block5f_se_reduce_layer_call_and_return_conditional_losses_359815) with ops with custom gradients. Will likely fail if a gradient is requested.\n",
            "WARNING:tensorflow:Importing a function (__inference_block5f_activation_layer_call_and_return_conditional_losses_300844) with ops with custom gradients. Will likely fail if a gradient is requested.\n",
            "WARNING:tensorflow:Importing a function (__inference_block6g_se_reduce_layer_call_and_return_conditional_losses_305745) with ops with custom gradients. Will likely fail if a gradient is requested.\n",
            "WARNING:tensorflow:Importing a function (__inference_block1a_se_reduce_layer_call_and_return_conditional_losses_341876) with ops with custom gradients. Will likely fail if a gradient is requested.\n",
            "WARNING:tensorflow:Importing a function (__inference_block7d_expand_activation_layer_call_and_return_conditional_losses_310011) with ops with custom gradients. Will likely fail if a gradient is requested.\n",
            "WARNING:tensorflow:Importing a function (__inference_block6c_expand_activation_layer_call_and_return_conditional_losses_363540) with ops with custom gradients. Will likely fail if a gradient is requested.\n",
            "WARNING:tensorflow:Importing a function (__inference_block2f_expand_activation_layer_call_and_return_conditional_losses_346213) with ops with custom gradients. Will likely fail if a gradient is requested.\n",
            "WARNING:tensorflow:Importing a function (__inference_block4j_se_reduce_layer_call_and_return_conditional_losses_356472) with ops with custom gradients. Will likely fail if a gradient is requested.\n",
            "WARNING:tensorflow:Importing a function (__inference_block3a_se_reduce_layer_call_and_return_conditional_losses_347526) with ops with custom gradients. Will likely fail if a gradient is requested.\n",
            "WARNING:tensorflow:Importing a function (__inference_block5g_expand_activation_layer_call_and_return_conditional_losses_301196) with ops with custom gradients. Will likely fail if a gradient is requested.\n",
            "WARNING:tensorflow:Importing a function (__inference_block7b_activation_layer_call_and_return_conditional_losses_309213) with ops with custom gradients. Will likely fail if a gradient is requested.\n",
            "WARNING:tensorflow:Importing a function (__inference_block5i_se_reduce_layer_call_and_return_conditional_losses_302229) with ops with custom gradients. Will likely fail if a gradient is requested.\n",
            "WARNING:tensorflow:Importing a function (__inference_block6k_expand_activation_layer_call_and_return_conditional_losses_307388) with ops with custom gradients. Will likely fail if a gradient is requested.\n",
            "WARNING:tensorflow:Importing a function (__inference_block4c_activation_layer_call_and_return_conditional_losses_295099) with ops with custom gradients. Will likely fail if a gradient is requested.\n",
            "WARNING:tensorflow:Importing a function (__inference_block6f_expand_activation_layer_call_and_return_conditional_losses_305158) with ops with custom gradients. Will likely fail if a gradient is requested.\n",
            "WARNING:tensorflow:Importing a function (__inference_block6k_activation_layer_call_and_return_conditional_losses_307482) with ops with custom gradients. Will likely fail if a gradient is requested.\n",
            "WARNING:tensorflow:Importing a function (__inference_block4a_activation_layer_call_and_return_conditional_losses_294260) with ops with custom gradients. Will likely fail if a gradient is requested.\n",
            "WARNING:tensorflow:Importing a function (__inference_block4a_se_reduce_layer_call_and_return_conditional_losses_351434) with ops with custom gradients. Will likely fail if a gradient is requested.\n",
            "WARNING:tensorflow:Importing a function (__inference_block2c_expand_activation_layer_call_and_return_conditional_losses_288865) with ops with custom gradients. Will likely fail if a gradient is requested.\n",
            "WARNING:tensorflow:Importing a function (__inference_block7b_expand_activation_layer_call_and_return_conditional_losses_309119) with ops with custom gradients. Will likely fail if a gradient is requested.\n",
            "WARNING:tensorflow:Importing a function (__inference_block5f_expand_activation_layer_call_and_return_conditional_losses_359632) with ops with custom gradients. Will likely fail if a gradient is requested.\n",
            "WARNING:tensorflow:Importing a function (__inference_block6b_expand_activation_layer_call_and_return_conditional_losses_362975) with ops with custom gradients. Will likely fail if a gradient is requested.\n",
            "WARNING:tensorflow:Importing a function (__inference_block2b_se_reduce_layer_call_and_return_conditional_losses_288560) with ops with custom gradients. Will likely fail if a gradient is requested.\n",
            "WARNING:tensorflow:Importing a function (__inference__wrapped_model_267755) with ops with custom gradients. Will likely fail if a gradient is requested.\n",
            "WARNING:tensorflow:Importing a function (__inference__wrapped_model_267755) with ops with custom gradients. Will likely fail if a gradient is requested.\n",
            "WARNING:tensorflow:Importing a function (__inference__wrapped_model_267755) with ops with custom gradients. Will likely fail if a gradient is requested.\n",
            "WARNING:tensorflow:Importing a function (__inference__wrapped_model_267755) with ops with custom gradients. Will likely fail if a gradient is requested.\n",
            "WARNING:tensorflow:Importing a function (__inference__wrapped_model_267755) with ops with custom gradients. Will likely fail if a gradient is requested.\n",
            "WARNING:tensorflow:Importing a function (__inference__wrapped_model_267755) with ops with custom gradients. Will likely fail if a gradient is requested.\n",
            "WARNING:tensorflow:Importing a function (__inference__wrapped_model_267755) with ops with custom gradients. Will likely fail if a gradient is requested.\n",
            "WARNING:tensorflow:Importing a function (__inference__wrapped_model_267755) with ops with custom gradients. Will likely fail if a gradient is requested.\n",
            "WARNING:tensorflow:Importing a function (__inference__wrapped_model_267755) with ops with custom gradients. Will likely fail if a gradient is requested.\n",
            "WARNING:tensorflow:Importing a function (__inference__wrapped_model_267755) with ops with custom gradients. Will likely fail if a gradient is requested.\n",
            "WARNING:tensorflow:Importing a function (__inference__wrapped_model_267755) with ops with custom gradients. Will likely fail if a gradient is requested.\n",
            "WARNING:tensorflow:Importing a function (__inference__wrapped_model_267755) with ops with custom gradients. Will likely fail if a gradient is requested.\n",
            "WARNING:tensorflow:Importing a function (__inference__wrapped_model_267755) with ops with custom gradients. Will likely fail if a gradient is requested.\n",
            "WARNING:tensorflow:Importing a function (__inference__wrapped_model_267755) with ops with custom gradients. Will likely fail if a gradient is requested.\n",
            "WARNING:tensorflow:Importing a function (__inference__wrapped_model_267755) with ops with custom gradients. Will likely fail if a gradient is requested.\n",
            "WARNING:tensorflow:Importing a function (__inference__wrapped_model_267755) with ops with custom gradients. Will likely fail if a gradient is requested.\n",
            "WARNING:tensorflow:Importing a function (__inference__wrapped_model_267755) with ops with custom gradients. Will likely fail if a gradient is requested.\n",
            "WARNING:tensorflow:Importing a function (__inference__wrapped_model_267755) with ops with custom gradients. Will likely fail if a gradient is requested.\n",
            "WARNING:tensorflow:Importing a function (__inference__wrapped_model_267755) with ops with custom gradients. Will likely fail if a gradient is requested.\n",
            "WARNING:tensorflow:Importing a function (__inference__wrapped_model_267755) with ops with custom gradients. Will likely fail if a gradient is requested.\n",
            "WARNING:tensorflow:Importing a function (__inference__wrapped_model_267755) with ops with custom gradients. Will likely fail if a gradient is requested.\n",
            "WARNING:tensorflow:Importing a function (__inference__wrapped_model_267755) with ops with custom gradients. Will likely fail if a gradient is requested.\n",
            "WARNING:tensorflow:Importing a function (__inference__wrapped_model_267755) with ops with custom gradients. Will likely fail if a gradient is requested.\n",
            "WARNING:tensorflow:Importing a function (__inference__wrapped_model_267755) with ops with custom gradients. Will likely fail if a gradient is requested.\n",
            "WARNING:tensorflow:Importing a function (__inference__wrapped_model_267755) with ops with custom gradients. Will likely fail if a gradient is requested.\n",
            "WARNING:tensorflow:Importing a function (__inference__wrapped_model_267755) with ops with custom gradients. Will likely fail if a gradient is requested.\n",
            "WARNING:tensorflow:Importing a function (__inference__wrapped_model_267755) with ops with custom gradients. Will likely fail if a gradient is requested.\n",
            "WARNING:tensorflow:Importing a function (__inference__wrapped_model_267755) with ops with custom gradients. Will likely fail if a gradient is requested.\n",
            "WARNING:tensorflow:Importing a function (__inference__wrapped_model_267755) with ops with custom gradients. Will likely fail if a gradient is requested.\n",
            "WARNING:tensorflow:Importing a function (__inference__wrapped_model_267755) with ops with custom gradients. Will likely fail if a gradient is requested.\n",
            "WARNING:tensorflow:Importing a function (__inference__wrapped_model_267755) with ops with custom gradients. Will likely fail if a gradient is requested.\n",
            "WARNING:tensorflow:Importing a function (__inference__wrapped_model_267755) with ops with custom gradients. Will likely fail if a gradient is requested.\n",
            "WARNING:tensorflow:Importing a function (__inference__wrapped_model_267755) with ops with custom gradients. Will likely fail if a gradient is requested.\n",
            "WARNING:tensorflow:Importing a function (__inference__wrapped_model_267755) with ops with custom gradients. Will likely fail if a gradient is requested.\n",
            "WARNING:tensorflow:Importing a function (__inference__wrapped_model_267755) with ops with custom gradients. Will likely fail if a gradient is requested.\n",
            "WARNING:tensorflow:Importing a function (__inference__wrapped_model_267755) with ops with custom gradients. Will likely fail if a gradient is requested.\n",
            "WARNING:tensorflow:Importing a function (__inference__wrapped_model_267755) with ops with custom gradients. Will likely fail if a gradient is requested.\n",
            "WARNING:tensorflow:Importing a function (__inference__wrapped_model_267755) with ops with custom gradients. Will likely fail if a gradient is requested.\n",
            "WARNING:tensorflow:Importing a function (__inference__wrapped_model_267755) with ops with custom gradients. Will likely fail if a gradient is requested.\n",
            "WARNING:tensorflow:Importing a function (__inference__wrapped_model_267755) with ops with custom gradients. Will likely fail if a gradient is requested.\n",
            "WARNING:tensorflow:Importing a function (__inference__wrapped_model_267755) with ops with custom gradients. Will likely fail if a gradient is requested.\n",
            "WARNING:tensorflow:Importing a function (__inference__wrapped_model_267755) with ops with custom gradients. Will likely fail if a gradient is requested.\n",
            "WARNING:tensorflow:Importing a function (__inference__wrapped_model_267755) with ops with custom gradients. Will likely fail if a gradient is requested.\n",
            "WARNING:tensorflow:Importing a function (__inference__wrapped_model_267755) with ops with custom gradients. Will likely fail if a gradient is requested.\n",
            "WARNING:tensorflow:Importing a function (__inference__wrapped_model_267755) with ops with custom gradients. Will likely fail if a gradient is requested.\n",
            "WARNING:tensorflow:Importing a function (__inference__wrapped_model_267755) with ops with custom gradients. Will likely fail if a gradient is requested.\n",
            "WARNING:tensorflow:Importing a function (__inference__wrapped_model_267755) with ops with custom gradients. Will likely fail if a gradient is requested.\n",
            "WARNING:tensorflow:Importing a function (__inference__wrapped_model_267755) with ops with custom gradients. Will likely fail if a gradient is requested.\n",
            "WARNING:tensorflow:Importing a function (__inference__wrapped_model_267755) with ops with custom gradients. Will likely fail if a gradient is requested.\n",
            "WARNING:tensorflow:Importing a function (__inference__wrapped_model_267755) with ops with custom gradients. Will likely fail if a gradient is requested.\n",
            "WARNING:tensorflow:Importing a function (__inference__wrapped_model_267755) with ops with custom gradients. Will likely fail if a gradient is requested.\n",
            "WARNING:tensorflow:Importing a function (__inference__wrapped_model_267755) with ops with custom gradients. Will likely fail if a gradient is requested.\n",
            "WARNING:tensorflow:Importing a function (__inference__wrapped_model_267755) with ops with custom gradients. Will likely fail if a gradient is requested.\n",
            "WARNING:tensorflow:Importing a function (__inference__wrapped_model_267755) with ops with custom gradients. Will likely fail if a gradient is requested.\n",
            "WARNING:tensorflow:Importing a function (__inference__wrapped_model_267755) with ops with custom gradients. Will likely fail if a gradient is requested.\n",
            "WARNING:tensorflow:Importing a function (__inference__wrapped_model_267755) with ops with custom gradients. Will likely fail if a gradient is requested.\n",
            "WARNING:tensorflow:Importing a function (__inference__wrapped_model_267755) with ops with custom gradients. Will likely fail if a gradient is requested.\n",
            "WARNING:tensorflow:Importing a function (__inference__wrapped_model_267755) with ops with custom gradients. Will likely fail if a gradient is requested.\n",
            "WARNING:tensorflow:Importing a function (__inference__wrapped_model_267755) with ops with custom gradients. Will likely fail if a gradient is requested.\n",
            "WARNING:tensorflow:Importing a function (__inference__wrapped_model_267755) with ops with custom gradients. Will likely fail if a gradient is requested.\n",
            "WARNING:tensorflow:Importing a function (__inference__wrapped_model_267755) with ops with custom gradients. Will likely fail if a gradient is requested.\n",
            "WARNING:tensorflow:Importing a function (__inference__wrapped_model_267755) with ops with custom gradients. Will likely fail if a gradient is requested.\n",
            "WARNING:tensorflow:Importing a function (__inference__wrapped_model_267755) with ops with custom gradients. Will likely fail if a gradient is requested.\n",
            "WARNING:tensorflow:Importing a function (__inference__wrapped_model_267755) with ops with custom gradients. Will likely fail if a gradient is requested.\n",
            "WARNING:tensorflow:Importing a function (__inference__wrapped_model_267755) with ops with custom gradients. Will likely fail if a gradient is requested.\n",
            "WARNING:tensorflow:Importing a function (__inference__wrapped_model_267755) with ops with custom gradients. Will likely fail if a gradient is requested.\n",
            "WARNING:tensorflow:Importing a function (__inference__wrapped_model_267755) with ops with custom gradients. Will likely fail if a gradient is requested.\n",
            "WARNING:tensorflow:Importing a function (__inference__wrapped_model_267755) with ops with custom gradients. Will likely fail if a gradient is requested.\n",
            "WARNING:tensorflow:Importing a function (__inference__wrapped_model_267755) with ops with custom gradients. Will likely fail if a gradient is requested.\n",
            "WARNING:tensorflow:Importing a function (__inference__wrapped_model_267755) with ops with custom gradients. Will likely fail if a gradient is requested.\n",
            "WARNING:tensorflow:Importing a function (__inference__wrapped_model_267755) with ops with custom gradients. Will likely fail if a gradient is requested.\n",
            "WARNING:tensorflow:Importing a function (__inference__wrapped_model_267755) with ops with custom gradients. Will likely fail if a gradient is requested.\n",
            "WARNING:tensorflow:Importing a function (__inference__wrapped_model_267755) with ops with custom gradients. Will likely fail if a gradient is requested.\n",
            "WARNING:tensorflow:Importing a function (__inference__wrapped_model_267755) with ops with custom gradients. Will likely fail if a gradient is requested.\n",
            "WARNING:tensorflow:Importing a function (__inference__wrapped_model_267755) with ops with custom gradients. Will likely fail if a gradient is requested.\n",
            "WARNING:tensorflow:Importing a function (__inference__wrapped_model_267755) with ops with custom gradients. Will likely fail if a gradient is requested.\n",
            "WARNING:tensorflow:Importing a function (__inference__wrapped_model_267755) with ops with custom gradients. Will likely fail if a gradient is requested.\n",
            "WARNING:tensorflow:Importing a function (__inference__wrapped_model_267755) with ops with custom gradients. Will likely fail if a gradient is requested.\n",
            "WARNING:tensorflow:Importing a function (__inference__wrapped_model_267755) with ops with custom gradients. Will likely fail if a gradient is requested.\n",
            "WARNING:tensorflow:Importing a function (__inference__wrapped_model_267755) with ops with custom gradients. Will likely fail if a gradient is requested.\n",
            "WARNING:tensorflow:Importing a function (__inference__wrapped_model_267755) with ops with custom gradients. Will likely fail if a gradient is requested.\n",
            "WARNING:tensorflow:Importing a function (__inference__wrapped_model_267755) with ops with custom gradients. Will likely fail if a gradient is requested.\n",
            "WARNING:tensorflow:Importing a function (__inference__wrapped_model_267755) with ops with custom gradients. Will likely fail if a gradient is requested.\n",
            "WARNING:tensorflow:Importing a function (__inference__wrapped_model_267755) with ops with custom gradients. Will likely fail if a gradient is requested.\n",
            "WARNING:tensorflow:Importing a function (__inference__wrapped_model_267755) with ops with custom gradients. Will likely fail if a gradient is requested.\n",
            "WARNING:tensorflow:Importing a function (__inference__wrapped_model_267755) with ops with custom gradients. Will likely fail if a gradient is requested.\n",
            "WARNING:tensorflow:Importing a function (__inference__wrapped_model_267755) with ops with custom gradients. Will likely fail if a gradient is requested.\n",
            "WARNING:tensorflow:Importing a function (__inference__wrapped_model_267755) with ops with custom gradients. Will likely fail if a gradient is requested.\n",
            "WARNING:tensorflow:Importing a function (__inference__wrapped_model_267755) with ops with custom gradients. Will likely fail if a gradient is requested.\n",
            "WARNING:tensorflow:Importing a function (__inference__wrapped_model_267755) with ops with custom gradients. Will likely fail if a gradient is requested.\n",
            "WARNING:tensorflow:Importing a function (__inference__wrapped_model_267755) with ops with custom gradients. Will likely fail if a gradient is requested.\n",
            "WARNING:tensorflow:Importing a function (__inference__wrapped_model_267755) with ops with custom gradients. Will likely fail if a gradient is requested.\n",
            "WARNING:tensorflow:Importing a function (__inference__wrapped_model_267755) with ops with custom gradients. Will likely fail if a gradient is requested.\n",
            "WARNING:tensorflow:Importing a function (__inference__wrapped_model_267755) with ops with custom gradients. Will likely fail if a gradient is requested.\n",
            "WARNING:tensorflow:Importing a function (__inference__wrapped_model_267755) with ops with custom gradients. Will likely fail if a gradient is requested.\n",
            "WARNING:tensorflow:Importing a function (__inference__wrapped_model_267755) with ops with custom gradients. Will likely fail if a gradient is requested.\n",
            "WARNING:tensorflow:Importing a function (__inference__wrapped_model_267755) with ops with custom gradients. Will likely fail if a gradient is requested.\n",
            "WARNING:tensorflow:Importing a function (__inference__wrapped_model_267755) with ops with custom gradients. Will likely fail if a gradient is requested.\n",
            "WARNING:tensorflow:Importing a function (__inference__wrapped_model_267755) with ops with custom gradients. Will likely fail if a gradient is requested.\n",
            "WARNING:tensorflow:Importing a function (__inference__wrapped_model_267755) with ops with custom gradients. Will likely fail if a gradient is requested.\n",
            "WARNING:tensorflow:Importing a function (__inference__wrapped_model_267755) with ops with custom gradients. Will likely fail if a gradient is requested.\n",
            "WARNING:tensorflow:Importing a function (__inference__wrapped_model_267755) with ops with custom gradients. Will likely fail if a gradient is requested.\n",
            "WARNING:tensorflow:Importing a function (__inference__wrapped_model_267755) with ops with custom gradients. Will likely fail if a gradient is requested.\n",
            "WARNING:tensorflow:Importing a function (__inference__wrapped_model_267755) with ops with custom gradients. Will likely fail if a gradient is requested.\n",
            "WARNING:tensorflow:Importing a function (__inference__wrapped_model_267755) with ops with custom gradients. Will likely fail if a gradient is requested.\n",
            "WARNING:tensorflow:Importing a function (__inference__wrapped_model_267755) with ops with custom gradients. Will likely fail if a gradient is requested.\n",
            "WARNING:tensorflow:Importing a function (__inference__wrapped_model_267755) with ops with custom gradients. Will likely fail if a gradient is requested.\n",
            "WARNING:tensorflow:Importing a function (__inference__wrapped_model_267755) with ops with custom gradients. Will likely fail if a gradient is requested.\n",
            "WARNING:tensorflow:Importing a function (__inference__wrapped_model_267755) with ops with custom gradients. Will likely fail if a gradient is requested.\n",
            "WARNING:tensorflow:Importing a function (__inference__wrapped_model_267755) with ops with custom gradients. Will likely fail if a gradient is requested.\n",
            "WARNING:tensorflow:Importing a function (__inference__wrapped_model_267755) with ops with custom gradients. Will likely fail if a gradient is requested.\n",
            "WARNING:tensorflow:Importing a function (__inference__wrapped_model_267755) with ops with custom gradients. Will likely fail if a gradient is requested.\n",
            "WARNING:tensorflow:Importing a function (__inference__wrapped_model_267755) with ops with custom gradients. Will likely fail if a gradient is requested.\n",
            "WARNING:tensorflow:Importing a function (__inference__wrapped_model_267755) with ops with custom gradients. Will likely fail if a gradient is requested.\n",
            "WARNING:tensorflow:Importing a function (__inference__wrapped_model_267755) with ops with custom gradients. Will likely fail if a gradient is requested.\n",
            "WARNING:tensorflow:Importing a function (__inference__wrapped_model_267755) with ops with custom gradients. Will likely fail if a gradient is requested.\n",
            "WARNING:tensorflow:Importing a function (__inference__wrapped_model_267755) with ops with custom gradients. Will likely fail if a gradient is requested.\n",
            "WARNING:tensorflow:Importing a function (__inference__wrapped_model_267755) with ops with custom gradients. Will likely fail if a gradient is requested.\n",
            "WARNING:tensorflow:Importing a function (__inference__wrapped_model_267755) with ops with custom gradients. Will likely fail if a gradient is requested.\n",
            "WARNING:tensorflow:Importing a function (__inference__wrapped_model_267755) with ops with custom gradients. Will likely fail if a gradient is requested.\n",
            "WARNING:tensorflow:Importing a function (__inference__wrapped_model_267755) with ops with custom gradients. Will likely fail if a gradient is requested.\n",
            "WARNING:tensorflow:Importing a function (__inference__wrapped_model_267755) with ops with custom gradients. Will likely fail if a gradient is requested.\n",
            "WARNING:tensorflow:Importing a function (__inference__wrapped_model_267755) with ops with custom gradients. Will likely fail if a gradient is requested.\n",
            "WARNING:tensorflow:Importing a function (__inference__wrapped_model_267755) with ops with custom gradients. Will likely fail if a gradient is requested.\n",
            "WARNING:tensorflow:Importing a function (__inference__wrapped_model_267755) with ops with custom gradients. Will likely fail if a gradient is requested.\n",
            "WARNING:tensorflow:Importing a function (__inference__wrapped_model_267755) with ops with custom gradients. Will likely fail if a gradient is requested.\n",
            "WARNING:tensorflow:Importing a function (__inference__wrapped_model_267755) with ops with custom gradients. Will likely fail if a gradient is requested.\n",
            "WARNING:tensorflow:Importing a function (__inference__wrapped_model_267755) with ops with custom gradients. Will likely fail if a gradient is requested.\n",
            "WARNING:tensorflow:Importing a function (__inference__wrapped_model_267755) with ops with custom gradients. Will likely fail if a gradient is requested.\n",
            "WARNING:tensorflow:Importing a function (__inference__wrapped_model_267755) with ops with custom gradients. Will likely fail if a gradient is requested.\n",
            "WARNING:tensorflow:Importing a function (__inference__wrapped_model_267755) with ops with custom gradients. Will likely fail if a gradient is requested.\n",
            "WARNING:tensorflow:Importing a function (__inference__wrapped_model_267755) with ops with custom gradients. Will likely fail if a gradient is requested.\n",
            "WARNING:tensorflow:Importing a function (__inference__wrapped_model_267755) with ops with custom gradients. Will likely fail if a gradient is requested.\n",
            "WARNING:tensorflow:Importing a function (__inference__wrapped_model_267755) with ops with custom gradients. Will likely fail if a gradient is requested.\n",
            "WARNING:tensorflow:Importing a function (__inference__wrapped_model_267755) with ops with custom gradients. Will likely fail if a gradient is requested.\n",
            "WARNING:tensorflow:Importing a function (__inference__wrapped_model_267755) with ops with custom gradients. Will likely fail if a gradient is requested.\n",
            "WARNING:tensorflow:Importing a function (__inference__wrapped_model_267755) with ops with custom gradients. Will likely fail if a gradient is requested.\n",
            "WARNING:tensorflow:Importing a function (__inference__wrapped_model_267755) with ops with custom gradients. Will likely fail if a gradient is requested.\n",
            "WARNING:tensorflow:Importing a function (__inference__wrapped_model_267755) with ops with custom gradients. Will likely fail if a gradient is requested.\n",
            "WARNING:tensorflow:Importing a function (__inference__wrapped_model_267755) with ops with custom gradients. Will likely fail if a gradient is requested.\n",
            "WARNING:tensorflow:Importing a function (__inference__wrapped_model_267755) with ops with custom gradients. Will likely fail if a gradient is requested.\n",
            "WARNING:tensorflow:Importing a function (__inference__wrapped_model_267755) with ops with custom gradients. Will likely fail if a gradient is requested.\n",
            "WARNING:tensorflow:Importing a function (__inference__wrapped_model_267755) with ops with custom gradients. Will likely fail if a gradient is requested.\n",
            "WARNING:tensorflow:Importing a function (__inference__wrapped_model_267755) with ops with custom gradients. Will likely fail if a gradient is requested.\n",
            "WARNING:tensorflow:Importing a function (__inference__wrapped_model_267755) with ops with custom gradients. Will likely fail if a gradient is requested.\n",
            "WARNING:tensorflow:Importing a function (__inference__wrapped_model_267755) with ops with custom gradients. Will likely fail if a gradient is requested.\n",
            "WARNING:tensorflow:Importing a function (__inference__wrapped_model_267755) with ops with custom gradients. Will likely fail if a gradient is requested.\n",
            "WARNING:tensorflow:Importing a function (__inference__wrapped_model_267755) with ops with custom gradients. Will likely fail if a gradient is requested.\n",
            "WARNING:tensorflow:Importing a function (__inference__wrapped_model_267755) with ops with custom gradients. Will likely fail if a gradient is requested.\n",
            "WARNING:tensorflow:Importing a function (__inference__wrapped_model_267755) with ops with custom gradients. Will likely fail if a gradient is requested.\n",
            "WARNING:tensorflow:Importing a function (__inference__wrapped_model_267755) with ops with custom gradients. Will likely fail if a gradient is requested.\n",
            "WARNING:tensorflow:Importing a function (__inference__wrapped_model_267755) with ops with custom gradients. Will likely fail if a gradient is requested.\n",
            "WARNING:tensorflow:Importing a function (__inference__wrapped_model_267755) with ops with custom gradients. Will likely fail if a gradient is requested.\n",
            "WARNING:tensorflow:Importing a function (__inference__wrapped_model_267755) with ops with custom gradients. Will likely fail if a gradient is requested.\n",
            "WARNING:tensorflow:Importing a function (__inference__wrapped_model_267755) with ops with custom gradients. Will likely fail if a gradient is requested.\n",
            "WARNING:tensorflow:Importing a function (__inference__wrapped_model_267755) with ops with custom gradients. Will likely fail if a gradient is requested.\n",
            "WARNING:tensorflow:Importing a function (__inference__wrapped_model_267755) with ops with custom gradients. Will likely fail if a gradient is requested.\n",
            "WARNING:tensorflow:Importing a function (__inference__wrapped_model_267755) with ops with custom gradients. Will likely fail if a gradient is requested.\n",
            "WARNING:tensorflow:Importing a function (__inference__wrapped_model_267755) with ops with custom gradients. Will likely fail if a gradient is requested.\n",
            "WARNING:tensorflow:Importing a function (__inference__wrapped_model_267755) with ops with custom gradients. Will likely fail if a gradient is requested.\n",
            "WARNING:tensorflow:Importing a function (__inference__wrapped_model_267755) with ops with custom gradients. Will likely fail if a gradient is requested.\n",
            "WARNING:tensorflow:Importing a function (__inference__wrapped_model_267755) with ops with custom gradients. Will likely fail if a gradient is requested.\n",
            "WARNING:tensorflow:Importing a function (__inference__wrapped_model_267755) with ops with custom gradients. Will likely fail if a gradient is requested.\n",
            "WARNING:tensorflow:Importing a function (__inference_block6j_se_reduce_layer_call_and_return_conditional_losses_307083) with ops with custom gradients. Will likely fail if a gradient is requested.\n",
            "WARNING:tensorflow:Importing a function (__inference_block5h_activation_layer_call_and_return_conditional_losses_301736) with ops with custom gradients. Will likely fail if a gradient is requested.\n",
            "WARNING:tensorflow:Importing a function (__inference_block5a_expand_activation_layer_call_and_return_conditional_losses_298573) with ops with custom gradients. Will likely fail if a gradient is requested.\n",
            "WARNING:tensorflow:Importing a function (__inference_block4a_activation_layer_call_and_return_conditional_losses_351394) with ops with custom gradients. Will likely fail if a gradient is requested.\n",
            "WARNING:tensorflow:Importing a function (__inference_block5f_expand_activation_layer_call_and_return_conditional_losses_300750) with ops with custom gradients. Will likely fail if a gradient is requested.\n",
            "WARNING:tensorflow:Importing a function (__inference_block4d_se_reduce_layer_call_and_return_conditional_losses_295592) with ops with custom gradients. Will likely fail if a gradient is requested.\n",
            "WARNING:tensorflow:Importing a function (__inference_block3a_activation_layer_call_and_return_conditional_losses_347486) with ops with custom gradients. Will likely fail if a gradient is requested.\n",
            "WARNING:tensorflow:Importing a function (__inference_block4f_se_reduce_layer_call_and_return_conditional_losses_296484) with ops with custom gradients. Will likely fail if a gradient is requested.\n",
            "WARNING:tensorflow:Importing a function (__inference_block5c_expand_activation_layer_call_and_return_conditional_losses_357937) with ops with custom gradients. Will likely fail if a gradient is requested.\n",
            "WARNING:tensorflow:Importing a function (__inference_block6f_activation_layer_call_and_return_conditional_losses_365378) with ops with custom gradients. Will likely fail if a gradient is requested.\n",
            "WARNING:tensorflow:Importing a function (__inference_block6f_expand_activation_layer_call_and_return_conditional_losses_365235) with ops with custom gradients. Will likely fail if a gradient is requested.\n",
            "WARNING:tensorflow:Importing a function (__inference_block4j_se_reduce_layer_call_and_return_conditional_losses_298268) with ops with custom gradients. Will likely fail if a gradient is requested.\n",
            "WARNING:tensorflow:Importing a function (__inference_stem_activation_layer_call_and_return_conditional_losses_341693) with ops with custom gradients. Will likely fail if a gradient is requested.\n",
            "WARNING:tensorflow:Importing a function (__inference_block6a_se_reduce_layer_call_and_return_conditional_losses_303122) with ops with custom gradients. Will likely fail if a gradient is requested.\n",
            "WARNING:tensorflow:Importing a function (__inference_block4f_se_reduce_layer_call_and_return_conditional_losses_354212) with ops with custom gradients. Will likely fail if a gradient is requested.\n",
            "WARNING:tensorflow:Importing a function (__inference_block6a_activation_layer_call_and_return_conditional_losses_362600) with ops with custom gradients. Will likely fail if a gradient is requested.\n",
            "WARNING:tensorflow:Importing a function (__inference_block3g_se_reduce_layer_call_and_return_conditional_losses_293860) with ops with custom gradients. Will likely fail if a gradient is requested.\n",
            "WARNING:tensorflow:Importing a function (__inference_block4e_activation_layer_call_and_return_conditional_losses_353607) with ops with custom gradients. Will likely fail if a gradient is requested.\n",
            "WARNING:tensorflow:Importing a function (__inference_block4e_activation_layer_call_and_return_conditional_losses_295991) with ops with custom gradients. Will likely fail if a gradient is requested.\n",
            "WARNING:tensorflow:Importing a function (__inference_block3c_expand_activation_layer_call_and_return_conditional_losses_348426) with ops with custom gradients. Will likely fail if a gradient is requested.\n",
            "WARNING:tensorflow:Importing a function (__inference_block2d_activation_layer_call_and_return_conditional_losses_289405) with ops with custom gradients. Will likely fail if a gradient is requested.\n",
            "WARNING:tensorflow:Importing a function (__inference_block5e_expand_activation_layer_call_and_return_conditional_losses_300304) with ops with custom gradients. Will likely fail if a gradient is requested.\n",
            "WARNING:tensorflow:Importing a function (__inference_block4e_expand_activation_layer_call_and_return_conditional_losses_353464) with ops with custom gradients. Will likely fail if a gradient is requested.\n",
            "WARNING:tensorflow:Importing a function (__inference_block3b_activation_layer_call_and_return_conditional_losses_348004) with ops with custom gradients. Will likely fail if a gradient is requested.\n",
            "WARNING:tensorflow:Importing a function (__inference_block5d_expand_activation_layer_call_and_return_conditional_losses_358502) with ops with custom gradients. Will likely fail if a gradient is requested.\n",
            "WARNING:tensorflow:Importing a function (__inference_block5h_expand_activation_layer_call_and_return_conditional_losses_301642) with ops with custom gradients. Will likely fail if a gradient is requested.\n",
            "WARNING:tensorflow:Importing a function (__inference_block3c_activation_layer_call_and_return_conditional_losses_292029) with ops with custom gradients. Will likely fail if a gradient is requested.\n",
            "WARNING:tensorflow:Importing a function (__inference_block4e_se_reduce_layer_call_and_return_conditional_losses_296038) with ops with custom gradients. Will likely fail if a gradient is requested.\n",
            "WARNING:tensorflow:Importing a function (__inference_block7a_expand_activation_layer_call_and_return_conditional_losses_308726) with ops with custom gradients. Will likely fail if a gradient is requested.\n",
            "WARNING:tensorflow:Importing a function (__inference_block2g_se_reduce_layer_call_and_return_conditional_losses_346961) with ops with custom gradients. Will likely fail if a gradient is requested.\n",
            "WARNING:tensorflow:Importing a function (__inference_block5j_se_reduce_layer_call_and_return_conditional_losses_362075) with ops with custom gradients. Will likely fail if a gradient is requested.\n",
            "WARNING:tensorflow:Importing a function (__inference_block6i_expand_activation_layer_call_and_return_conditional_losses_306496) with ops with custom gradients. Will likely fail if a gradient is requested.\n",
            "WARNING:tensorflow:Importing a function (__inference_block3e_se_reduce_layer_call_and_return_conditional_losses_292968) with ops with custom gradients. Will likely fail if a gradient is requested.\n",
            "WARNING:tensorflow:Importing a function (__inference_block3b_se_reduce_layer_call_and_return_conditional_losses_348044) with ops with custom gradients. Will likely fail if a gradient is requested.\n",
            "WARNING:tensorflow:Importing a function (__inference_block5i_se_reduce_layer_call_and_return_conditional_losses_361510) with ops with custom gradients. Will likely fail if a gradient is requested.\n",
            "WARNING:tensorflow:Importing a function (__inference_block6c_se_reduce_layer_call_and_return_conditional_losses_363723) with ops with custom gradients. Will likely fail if a gradient is requested.\n",
            "WARNING:tensorflow:Importing a function (__inference_functional_1_layer_call_and_return_conditional_losses_331939) with ops with custom gradients. Will likely fail if a gradient is requested.\n",
            "WARNING:tensorflow:Importing a function (__inference_functional_1_layer_call_and_return_conditional_losses_331939) with ops with custom gradients. Will likely fail if a gradient is requested.\n",
            "WARNING:tensorflow:Importing a function (__inference_functional_1_layer_call_and_return_conditional_losses_331939) with ops with custom gradients. Will likely fail if a gradient is requested.\n",
            "WARNING:tensorflow:Importing a function (__inference_functional_1_layer_call_and_return_conditional_losses_331939) with ops with custom gradients. Will likely fail if a gradient is requested.\n",
            "WARNING:tensorflow:Importing a function (__inference_functional_1_layer_call_and_return_conditional_losses_331939) with ops with custom gradients. Will likely fail if a gradient is requested.\n",
            "WARNING:tensorflow:Importing a function (__inference_functional_1_layer_call_and_return_conditional_losses_331939) with ops with custom gradients. Will likely fail if a gradient is requested.\n",
            "WARNING:tensorflow:Importing a function (__inference_functional_1_layer_call_and_return_conditional_losses_331939) with ops with custom gradients. Will likely fail if a gradient is requested.\n",
            "WARNING:tensorflow:Importing a function (__inference_functional_1_layer_call_and_return_conditional_losses_331939) with ops with custom gradients. Will likely fail if a gradient is requested.\n",
            "WARNING:tensorflow:Importing a function (__inference_functional_1_layer_call_and_return_conditional_losses_331939) with ops with custom gradients. Will likely fail if a gradient is requested.\n",
            "WARNING:tensorflow:Importing a function (__inference_functional_1_layer_call_and_return_conditional_losses_331939) with ops with custom gradients. Will likely fail if a gradient is requested.\n",
            "WARNING:tensorflow:Importing a function (__inference_functional_1_layer_call_and_return_conditional_losses_331939) with ops with custom gradients. Will likely fail if a gradient is requested.\n",
            "WARNING:tensorflow:Importing a function (__inference_functional_1_layer_call_and_return_conditional_losses_331939) with ops with custom gradients. Will likely fail if a gradient is requested.\n",
            "WARNING:tensorflow:Importing a function (__inference_functional_1_layer_call_and_return_conditional_losses_331939) with ops with custom gradients. Will likely fail if a gradient is requested.\n",
            "WARNING:tensorflow:Importing a function (__inference_functional_1_layer_call_and_return_conditional_losses_331939) with ops with custom gradients. Will likely fail if a gradient is requested.\n",
            "WARNING:tensorflow:Importing a function (__inference_functional_1_layer_call_and_return_conditional_losses_331939) with ops with custom gradients. Will likely fail if a gradient is requested.\n",
            "WARNING:tensorflow:Importing a function (__inference_functional_1_layer_call_and_return_conditional_losses_331939) with ops with custom gradients. Will likely fail if a gradient is requested.\n",
            "WARNING:tensorflow:Importing a function (__inference_functional_1_layer_call_and_return_conditional_losses_331939) with ops with custom gradients. Will likely fail if a gradient is requested.\n",
            "WARNING:tensorflow:Importing a function (__inference_functional_1_layer_call_and_return_conditional_losses_331939) with ops with custom gradients. Will likely fail if a gradient is requested.\n",
            "WARNING:tensorflow:Importing a function (__inference_functional_1_layer_call_and_return_conditional_losses_331939) with ops with custom gradients. Will likely fail if a gradient is requested.\n",
            "WARNING:tensorflow:Importing a function (__inference_functional_1_layer_call_and_return_conditional_losses_331939) with ops with custom gradients. Will likely fail if a gradient is requested.\n",
            "WARNING:tensorflow:Importing a function (__inference_functional_1_layer_call_and_return_conditional_losses_331939) with ops with custom gradients. Will likely fail if a gradient is requested.\n",
            "WARNING:tensorflow:Importing a function (__inference_functional_1_layer_call_and_return_conditional_losses_331939) with ops with custom gradients. Will likely fail if a gradient is requested.\n",
            "WARNING:tensorflow:Importing a function (__inference_functional_1_layer_call_and_return_conditional_losses_331939) with ops with custom gradients. Will likely fail if a gradient is requested.\n",
            "WARNING:tensorflow:Importing a function (__inference_functional_1_layer_call_and_return_conditional_losses_331939) with ops with custom gradients. Will likely fail if a gradient is requested.\n",
            "WARNING:tensorflow:Importing a function (__inference_functional_1_layer_call_and_return_conditional_losses_331939) with ops with custom gradients. Will likely fail if a gradient is requested.\n",
            "WARNING:tensorflow:Importing a function (__inference_functional_1_layer_call_and_return_conditional_losses_331939) with ops with custom gradients. Will likely fail if a gradient is requested.\n",
            "WARNING:tensorflow:Importing a function (__inference_functional_1_layer_call_and_return_conditional_losses_331939) with ops with custom gradients. Will likely fail if a gradient is requested.\n",
            "WARNING:tensorflow:Importing a function (__inference_functional_1_layer_call_and_return_conditional_losses_331939) with ops with custom gradients. Will likely fail if a gradient is requested.\n",
            "WARNING:tensorflow:Importing a function (__inference_functional_1_layer_call_and_return_conditional_losses_331939) with ops with custom gradients. Will likely fail if a gradient is requested.\n",
            "WARNING:tensorflow:Importing a function (__inference_functional_1_layer_call_and_return_conditional_losses_331939) with ops with custom gradients. Will likely fail if a gradient is requested.\n",
            "WARNING:tensorflow:Importing a function (__inference_functional_1_layer_call_and_return_conditional_losses_331939) with ops with custom gradients. Will likely fail if a gradient is requested.\n",
            "WARNING:tensorflow:Importing a function (__inference_functional_1_layer_call_and_return_conditional_losses_331939) with ops with custom gradients. Will likely fail if a gradient is requested.\n",
            "WARNING:tensorflow:Importing a function (__inference_functional_1_layer_call_and_return_conditional_losses_331939) with ops with custom gradients. Will likely fail if a gradient is requested.\n",
            "WARNING:tensorflow:Importing a function (__inference_functional_1_layer_call_and_return_conditional_losses_331939) with ops with custom gradients. Will likely fail if a gradient is requested.\n",
            "WARNING:tensorflow:Importing a function (__inference_functional_1_layer_call_and_return_conditional_losses_331939) with ops with custom gradients. Will likely fail if a gradient is requested.\n",
            "WARNING:tensorflow:Importing a function (__inference_functional_1_layer_call_and_return_conditional_losses_331939) with ops with custom gradients. Will likely fail if a gradient is requested.\n",
            "WARNING:tensorflow:Importing a function (__inference_functional_1_layer_call_and_return_conditional_losses_331939) with ops with custom gradients. Will likely fail if a gradient is requested.\n",
            "WARNING:tensorflow:Importing a function (__inference_functional_1_layer_call_and_return_conditional_losses_331939) with ops with custom gradients. Will likely fail if a gradient is requested.\n",
            "WARNING:tensorflow:Importing a function (__inference_functional_1_layer_call_and_return_conditional_losses_331939) with ops with custom gradients. Will likely fail if a gradient is requested.\n",
            "WARNING:tensorflow:Importing a function (__inference_functional_1_layer_call_and_return_conditional_losses_331939) with ops with custom gradients. Will likely fail if a gradient is requested.\n",
            "WARNING:tensorflow:Importing a function (__inference_functional_1_layer_call_and_return_conditional_losses_331939) with ops with custom gradients. Will likely fail if a gradient is requested.\n",
            "WARNING:tensorflow:Importing a function (__inference_functional_1_layer_call_and_return_conditional_losses_331939) with ops with custom gradients. Will likely fail if a gradient is requested.\n",
            "WARNING:tensorflow:Importing a function (__inference_functional_1_layer_call_and_return_conditional_losses_331939) with ops with custom gradients. Will likely fail if a gradient is requested.\n",
            "WARNING:tensorflow:Importing a function (__inference_functional_1_layer_call_and_return_conditional_losses_331939) with ops with custom gradients. Will likely fail if a gradient is requested.\n",
            "WARNING:tensorflow:Importing a function (__inference_functional_1_layer_call_and_return_conditional_losses_331939) with ops with custom gradients. Will likely fail if a gradient is requested.\n",
            "WARNING:tensorflow:Importing a function (__inference_functional_1_layer_call_and_return_conditional_losses_331939) with ops with custom gradients. Will likely fail if a gradient is requested.\n",
            "WARNING:tensorflow:Importing a function (__inference_functional_1_layer_call_and_return_conditional_losses_331939) with ops with custom gradients. Will likely fail if a gradient is requested.\n",
            "WARNING:tensorflow:Importing a function (__inference_functional_1_layer_call_and_return_conditional_losses_331939) with ops with custom gradients. Will likely fail if a gradient is requested.\n",
            "WARNING:tensorflow:Importing a function (__inference_functional_1_layer_call_and_return_conditional_losses_331939) with ops with custom gradients. Will likely fail if a gradient is requested.\n",
            "WARNING:tensorflow:Importing a function (__inference_functional_1_layer_call_and_return_conditional_losses_331939) with ops with custom gradients. Will likely fail if a gradient is requested.\n",
            "WARNING:tensorflow:Importing a function (__inference_functional_1_layer_call_and_return_conditional_losses_331939) with ops with custom gradients. Will likely fail if a gradient is requested.\n",
            "WARNING:tensorflow:Importing a function (__inference_functional_1_layer_call_and_return_conditional_losses_331939) with ops with custom gradients. Will likely fail if a gradient is requested.\n",
            "WARNING:tensorflow:Importing a function (__inference_functional_1_layer_call_and_return_conditional_losses_331939) with ops with custom gradients. Will likely fail if a gradient is requested.\n",
            "WARNING:tensorflow:Importing a function (__inference_functional_1_layer_call_and_return_conditional_losses_331939) with ops with custom gradients. Will likely fail if a gradient is requested.\n",
            "WARNING:tensorflow:Importing a function (__inference_functional_1_layer_call_and_return_conditional_losses_331939) with ops with custom gradients. Will likely fail if a gradient is requested.\n",
            "WARNING:tensorflow:Importing a function (__inference_functional_1_layer_call_and_return_conditional_losses_331939) with ops with custom gradients. Will likely fail if a gradient is requested.\n",
            "WARNING:tensorflow:Importing a function (__inference_functional_1_layer_call_and_return_conditional_losses_331939) with ops with custom gradients. Will likely fail if a gradient is requested.\n",
            "WARNING:tensorflow:Importing a function (__inference_functional_1_layer_call_and_return_conditional_losses_331939) with ops with custom gradients. Will likely fail if a gradient is requested.\n",
            "WARNING:tensorflow:Importing a function (__inference_functional_1_layer_call_and_return_conditional_losses_331939) with ops with custom gradients. Will likely fail if a gradient is requested.\n",
            "WARNING:tensorflow:Importing a function (__inference_functional_1_layer_call_and_return_conditional_losses_331939) with ops with custom gradients. Will likely fail if a gradient is requested.\n",
            "WARNING:tensorflow:Importing a function (__inference_functional_1_layer_call_and_return_conditional_losses_331939) with ops with custom gradients. Will likely fail if a gradient is requested.\n",
            "WARNING:tensorflow:Importing a function (__inference_functional_1_layer_call_and_return_conditional_losses_331939) with ops with custom gradients. Will likely fail if a gradient is requested.\n",
            "WARNING:tensorflow:Importing a function (__inference_functional_1_layer_call_and_return_conditional_losses_331939) with ops with custom gradients. Will likely fail if a gradient is requested.\n",
            "WARNING:tensorflow:Importing a function (__inference_functional_1_layer_call_and_return_conditional_losses_331939) with ops with custom gradients. Will likely fail if a gradient is requested.\n",
            "WARNING:tensorflow:Importing a function (__inference_functional_1_layer_call_and_return_conditional_losses_331939) with ops with custom gradients. Will likely fail if a gradient is requested.\n",
            "WARNING:tensorflow:Importing a function (__inference_functional_1_layer_call_and_return_conditional_losses_331939) with ops with custom gradients. Will likely fail if a gradient is requested.\n",
            "WARNING:tensorflow:Importing a function (__inference_functional_1_layer_call_and_return_conditional_losses_331939) with ops with custom gradients. Will likely fail if a gradient is requested.\n",
            "WARNING:tensorflow:Importing a function (__inference_functional_1_layer_call_and_return_conditional_losses_331939) with ops with custom gradients. Will likely fail if a gradient is requested.\n",
            "WARNING:tensorflow:Importing a function (__inference_functional_1_layer_call_and_return_conditional_losses_331939) with ops with custom gradients. Will likely fail if a gradient is requested.\n",
            "WARNING:tensorflow:Importing a function (__inference_functional_1_layer_call_and_return_conditional_losses_331939) with ops with custom gradients. Will likely fail if a gradient is requested.\n",
            "WARNING:tensorflow:Importing a function (__inference_functional_1_layer_call_and_return_conditional_losses_331939) with ops with custom gradients. Will likely fail if a gradient is requested.\n",
            "WARNING:tensorflow:Importing a function (__inference_functional_1_layer_call_and_return_conditional_losses_331939) with ops with custom gradients. Will likely fail if a gradient is requested.\n",
            "WARNING:tensorflow:Importing a function (__inference_functional_1_layer_call_and_return_conditional_losses_331939) with ops with custom gradients. Will likely fail if a gradient is requested.\n",
            "WARNING:tensorflow:Importing a function (__inference_functional_1_layer_call_and_return_conditional_losses_331939) with ops with custom gradients. Will likely fail if a gradient is requested.\n",
            "WARNING:tensorflow:Importing a function (__inference_functional_1_layer_call_and_return_conditional_losses_331939) with ops with custom gradients. Will likely fail if a gradient is requested.\n",
            "WARNING:tensorflow:Importing a function (__inference_functional_1_layer_call_and_return_conditional_losses_331939) with ops with custom gradients. Will likely fail if a gradient is requested.\n",
            "WARNING:tensorflow:Importing a function (__inference_functional_1_layer_call_and_return_conditional_losses_331939) with ops with custom gradients. Will likely fail if a gradient is requested.\n",
            "WARNING:tensorflow:Importing a function (__inference_functional_1_layer_call_and_return_conditional_losses_331939) with ops with custom gradients. Will likely fail if a gradient is requested.\n",
            "WARNING:tensorflow:Importing a function (__inference_functional_1_layer_call_and_return_conditional_losses_331939) with ops with custom gradients. Will likely fail if a gradient is requested.\n",
            "WARNING:tensorflow:Importing a function (__inference_functional_1_layer_call_and_return_conditional_losses_331939) with ops with custom gradients. Will likely fail if a gradient is requested.\n",
            "WARNING:tensorflow:Importing a function (__inference_functional_1_layer_call_and_return_conditional_losses_331939) with ops with custom gradients. Will likely fail if a gradient is requested.\n",
            "WARNING:tensorflow:Importing a function (__inference_functional_1_layer_call_and_return_conditional_losses_331939) with ops with custom gradients. Will likely fail if a gradient is requested.\n",
            "WARNING:tensorflow:Importing a function (__inference_functional_1_layer_call_and_return_conditional_losses_331939) with ops with custom gradients. Will likely fail if a gradient is requested.\n",
            "WARNING:tensorflow:Importing a function (__inference_functional_1_layer_call_and_return_conditional_losses_331939) with ops with custom gradients. Will likely fail if a gradient is requested.\n",
            "WARNING:tensorflow:Importing a function (__inference_functional_1_layer_call_and_return_conditional_losses_331939) with ops with custom gradients. Will likely fail if a gradient is requested.\n",
            "WARNING:tensorflow:Importing a function (__inference_functional_1_layer_call_and_return_conditional_losses_331939) with ops with custom gradients. Will likely fail if a gradient is requested.\n",
            "WARNING:tensorflow:Importing a function (__inference_functional_1_layer_call_and_return_conditional_losses_331939) with ops with custom gradients. Will likely fail if a gradient is requested.\n",
            "WARNING:tensorflow:Importing a function (__inference_functional_1_layer_call_and_return_conditional_losses_331939) with ops with custom gradients. Will likely fail if a gradient is requested.\n",
            "WARNING:tensorflow:Importing a function (__inference_functional_1_layer_call_and_return_conditional_losses_331939) with ops with custom gradients. Will likely fail if a gradient is requested.\n",
            "WARNING:tensorflow:Importing a function (__inference_functional_1_layer_call_and_return_conditional_losses_331939) with ops with custom gradients. Will likely fail if a gradient is requested.\n",
            "WARNING:tensorflow:Importing a function (__inference_functional_1_layer_call_and_return_conditional_losses_331939) with ops with custom gradients. Will likely fail if a gradient is requested.\n",
            "WARNING:tensorflow:Importing a function (__inference_functional_1_layer_call_and_return_conditional_losses_331939) with ops with custom gradients. Will likely fail if a gradient is requested.\n",
            "WARNING:tensorflow:Importing a function (__inference_functional_1_layer_call_and_return_conditional_losses_331939) with ops with custom gradients. Will likely fail if a gradient is requested.\n",
            "WARNING:tensorflow:Importing a function (__inference_functional_1_layer_call_and_return_conditional_losses_331939) with ops with custom gradients. Will likely fail if a gradient is requested.\n",
            "WARNING:tensorflow:Importing a function (__inference_functional_1_layer_call_and_return_conditional_losses_331939) with ops with custom gradients. Will likely fail if a gradient is requested.\n",
            "WARNING:tensorflow:Importing a function (__inference_functional_1_layer_call_and_return_conditional_losses_331939) with ops with custom gradients. Will likely fail if a gradient is requested.\n",
            "WARNING:tensorflow:Importing a function (__inference_functional_1_layer_call_and_return_conditional_losses_331939) with ops with custom gradients. Will likely fail if a gradient is requested.\n",
            "WARNING:tensorflow:Importing a function (__inference_functional_1_layer_call_and_return_conditional_losses_331939) with ops with custom gradients. Will likely fail if a gradient is requested.\n",
            "WARNING:tensorflow:Importing a function (__inference_functional_1_layer_call_and_return_conditional_losses_331939) with ops with custom gradients. Will likely fail if a gradient is requested.\n",
            "WARNING:tensorflow:Importing a function (__inference_functional_1_layer_call_and_return_conditional_losses_331939) with ops with custom gradients. Will likely fail if a gradient is requested.\n",
            "WARNING:tensorflow:Importing a function (__inference_functional_1_layer_call_and_return_conditional_losses_331939) with ops with custom gradients. Will likely fail if a gradient is requested.\n",
            "WARNING:tensorflow:Importing a function (__inference_functional_1_layer_call_and_return_conditional_losses_331939) with ops with custom gradients. Will likely fail if a gradient is requested.\n",
            "WARNING:tensorflow:Importing a function (__inference_functional_1_layer_call_and_return_conditional_losses_331939) with ops with custom gradients. Will likely fail if a gradient is requested.\n",
            "WARNING:tensorflow:Importing a function (__inference_functional_1_layer_call_and_return_conditional_losses_331939) with ops with custom gradients. Will likely fail if a gradient is requested.\n",
            "WARNING:tensorflow:Importing a function (__inference_functional_1_layer_call_and_return_conditional_losses_331939) with ops with custom gradients. Will likely fail if a gradient is requested.\n",
            "WARNING:tensorflow:Importing a function (__inference_functional_1_layer_call_and_return_conditional_losses_331939) with ops with custom gradients. Will likely fail if a gradient is requested.\n",
            "WARNING:tensorflow:Importing a function (__inference_functional_1_layer_call_and_return_conditional_losses_331939) with ops with custom gradients. Will likely fail if a gradient is requested.\n",
            "WARNING:tensorflow:Importing a function (__inference_functional_1_layer_call_and_return_conditional_losses_331939) with ops with custom gradients. Will likely fail if a gradient is requested.\n",
            "WARNING:tensorflow:Importing a function (__inference_functional_1_layer_call_and_return_conditional_losses_331939) with ops with custom gradients. Will likely fail if a gradient is requested.\n",
            "WARNING:tensorflow:Importing a function (__inference_functional_1_layer_call_and_return_conditional_losses_331939) with ops with custom gradients. Will likely fail if a gradient is requested.\n",
            "WARNING:tensorflow:Importing a function (__inference_functional_1_layer_call_and_return_conditional_losses_331939) with ops with custom gradients. Will likely fail if a gradient is requested.\n",
            "WARNING:tensorflow:Importing a function (__inference_functional_1_layer_call_and_return_conditional_losses_331939) with ops with custom gradients. Will likely fail if a gradient is requested.\n",
            "WARNING:tensorflow:Importing a function (__inference_functional_1_layer_call_and_return_conditional_losses_331939) with ops with custom gradients. Will likely fail if a gradient is requested.\n",
            "WARNING:tensorflow:Importing a function (__inference_functional_1_layer_call_and_return_conditional_losses_331939) with ops with custom gradients. Will likely fail if a gradient is requested.\n",
            "WARNING:tensorflow:Importing a function (__inference_functional_1_layer_call_and_return_conditional_losses_331939) with ops with custom gradients. Will likely fail if a gradient is requested.\n",
            "WARNING:tensorflow:Importing a function (__inference_functional_1_layer_call_and_return_conditional_losses_331939) with ops with custom gradients. Will likely fail if a gradient is requested.\n",
            "WARNING:tensorflow:Importing a function (__inference_functional_1_layer_call_and_return_conditional_losses_331939) with ops with custom gradients. Will likely fail if a gradient is requested.\n",
            "WARNING:tensorflow:Importing a function (__inference_functional_1_layer_call_and_return_conditional_losses_331939) with ops with custom gradients. Will likely fail if a gradient is requested.\n",
            "WARNING:tensorflow:Importing a function (__inference_functional_1_layer_call_and_return_conditional_losses_331939) with ops with custom gradients. Will likely fail if a gradient is requested.\n",
            "WARNING:tensorflow:Importing a function (__inference_functional_1_layer_call_and_return_conditional_losses_331939) with ops with custom gradients. Will likely fail if a gradient is requested.\n",
            "WARNING:tensorflow:Importing a function (__inference_functional_1_layer_call_and_return_conditional_losses_331939) with ops with custom gradients. Will likely fail if a gradient is requested.\n",
            "WARNING:tensorflow:Importing a function (__inference_functional_1_layer_call_and_return_conditional_losses_331939) with ops with custom gradients. Will likely fail if a gradient is requested.\n",
            "WARNING:tensorflow:Importing a function (__inference_functional_1_layer_call_and_return_conditional_losses_331939) with ops with custom gradients. Will likely fail if a gradient is requested.\n",
            "WARNING:tensorflow:Importing a function (__inference_functional_1_layer_call_and_return_conditional_losses_331939) with ops with custom gradients. Will likely fail if a gradient is requested.\n",
            "WARNING:tensorflow:Importing a function (__inference_functional_1_layer_call_and_return_conditional_losses_331939) with ops with custom gradients. Will likely fail if a gradient is requested.\n",
            "WARNING:tensorflow:Importing a function (__inference_functional_1_layer_call_and_return_conditional_losses_331939) with ops with custom gradients. Will likely fail if a gradient is requested.\n",
            "WARNING:tensorflow:Importing a function (__inference_functional_1_layer_call_and_return_conditional_losses_331939) with ops with custom gradients. Will likely fail if a gradient is requested.\n",
            "WARNING:tensorflow:Importing a function (__inference_functional_1_layer_call_and_return_conditional_losses_331939) with ops with custom gradients. Will likely fail if a gradient is requested.\n",
            "WARNING:tensorflow:Importing a function (__inference_functional_1_layer_call_and_return_conditional_losses_331939) with ops with custom gradients. Will likely fail if a gradient is requested.\n",
            "WARNING:tensorflow:Importing a function (__inference_functional_1_layer_call_and_return_conditional_losses_331939) with ops with custom gradients. Will likely fail if a gradient is requested.\n",
            "WARNING:tensorflow:Importing a function (__inference_functional_1_layer_call_and_return_conditional_losses_331939) with ops with custom gradients. Will likely fail if a gradient is requested.\n",
            "WARNING:tensorflow:Importing a function (__inference_functional_1_layer_call_and_return_conditional_losses_331939) with ops with custom gradients. Will likely fail if a gradient is requested.\n",
            "WARNING:tensorflow:Importing a function (__inference_functional_1_layer_call_and_return_conditional_losses_331939) with ops with custom gradients. Will likely fail if a gradient is requested.\n",
            "WARNING:tensorflow:Importing a function (__inference_functional_1_layer_call_and_return_conditional_losses_331939) with ops with custom gradients. Will likely fail if a gradient is requested.\n",
            "WARNING:tensorflow:Importing a function (__inference_functional_1_layer_call_and_return_conditional_losses_331939) with ops with custom gradients. Will likely fail if a gradient is requested.\n",
            "WARNING:tensorflow:Importing a function (__inference_functional_1_layer_call_and_return_conditional_losses_331939) with ops with custom gradients. Will likely fail if a gradient is requested.\n",
            "WARNING:tensorflow:Importing a function (__inference_functional_1_layer_call_and_return_conditional_losses_331939) with ops with custom gradients. Will likely fail if a gradient is requested.\n",
            "WARNING:tensorflow:Importing a function (__inference_functional_1_layer_call_and_return_conditional_losses_331939) with ops with custom gradients. Will likely fail if a gradient is requested.\n",
            "WARNING:tensorflow:Importing a function (__inference_functional_1_layer_call_and_return_conditional_losses_331939) with ops with custom gradients. Will likely fail if a gradient is requested.\n",
            "WARNING:tensorflow:Importing a function (__inference_functional_1_layer_call_and_return_conditional_losses_331939) with ops with custom gradients. Will likely fail if a gradient is requested.\n",
            "WARNING:tensorflow:Importing a function (__inference_functional_1_layer_call_and_return_conditional_losses_331939) with ops with custom gradients. Will likely fail if a gradient is requested.\n",
            "WARNING:tensorflow:Importing a function (__inference_functional_1_layer_call_and_return_conditional_losses_331939) with ops with custom gradients. Will likely fail if a gradient is requested.\n",
            "WARNING:tensorflow:Importing a function (__inference_functional_1_layer_call_and_return_conditional_losses_331939) with ops with custom gradients. Will likely fail if a gradient is requested.\n",
            "WARNING:tensorflow:Importing a function (__inference_functional_1_layer_call_and_return_conditional_losses_331939) with ops with custom gradients. Will likely fail if a gradient is requested.\n",
            "WARNING:tensorflow:Importing a function (__inference_functional_1_layer_call_and_return_conditional_losses_331939) with ops with custom gradients. Will likely fail if a gradient is requested.\n",
            "WARNING:tensorflow:Importing a function (__inference_functional_1_layer_call_and_return_conditional_losses_331939) with ops with custom gradients. Will likely fail if a gradient is requested.\n",
            "WARNING:tensorflow:Importing a function (__inference_functional_1_layer_call_and_return_conditional_losses_331939) with ops with custom gradients. Will likely fail if a gradient is requested.\n",
            "WARNING:tensorflow:Importing a function (__inference_functional_1_layer_call_and_return_conditional_losses_331939) with ops with custom gradients. Will likely fail if a gradient is requested.\n",
            "WARNING:tensorflow:Importing a function (__inference_functional_1_layer_call_and_return_conditional_losses_331939) with ops with custom gradients. Will likely fail if a gradient is requested.\n",
            "WARNING:tensorflow:Importing a function (__inference_functional_1_layer_call_and_return_conditional_losses_331939) with ops with custom gradients. Will likely fail if a gradient is requested.\n",
            "WARNING:tensorflow:Importing a function (__inference_functional_1_layer_call_and_return_conditional_losses_331939) with ops with custom gradients. Will likely fail if a gradient is requested.\n",
            "WARNING:tensorflow:Importing a function (__inference_functional_1_layer_call_and_return_conditional_losses_331939) with ops with custom gradients. Will likely fail if a gradient is requested.\n",
            "WARNING:tensorflow:Importing a function (__inference_functional_1_layer_call_and_return_conditional_losses_331939) with ops with custom gradients. Will likely fail if a gradient is requested.\n",
            "WARNING:tensorflow:Importing a function (__inference_functional_1_layer_call_and_return_conditional_losses_331939) with ops with custom gradients. Will likely fail if a gradient is requested.\n",
            "WARNING:tensorflow:Importing a function (__inference_functional_1_layer_call_and_return_conditional_losses_331939) with ops with custom gradients. Will likely fail if a gradient is requested.\n",
            "WARNING:tensorflow:Importing a function (__inference_functional_1_layer_call_and_return_conditional_losses_331939) with ops with custom gradients. Will likely fail if a gradient is requested.\n",
            "WARNING:tensorflow:Importing a function (__inference_functional_1_layer_call_and_return_conditional_losses_331939) with ops with custom gradients. Will likely fail if a gradient is requested.\n",
            "WARNING:tensorflow:Importing a function (__inference_functional_1_layer_call_and_return_conditional_losses_331939) with ops with custom gradients. Will likely fail if a gradient is requested.\n",
            "WARNING:tensorflow:Importing a function (__inference_functional_1_layer_call_and_return_conditional_losses_331939) with ops with custom gradients. Will likely fail if a gradient is requested.\n",
            "WARNING:tensorflow:Importing a function (__inference_functional_1_layer_call_and_return_conditional_losses_331939) with ops with custom gradients. Will likely fail if a gradient is requested.\n",
            "WARNING:tensorflow:Importing a function (__inference_functional_1_layer_call_and_return_conditional_losses_331939) with ops with custom gradients. Will likely fail if a gradient is requested.\n",
            "WARNING:tensorflow:Importing a function (__inference_functional_1_layer_call_and_return_conditional_losses_331939) with ops with custom gradients. Will likely fail if a gradient is requested.\n",
            "WARNING:tensorflow:Importing a function (__inference_functional_1_layer_call_and_return_conditional_losses_331939) with ops with custom gradients. Will likely fail if a gradient is requested.\n",
            "WARNING:tensorflow:Importing a function (__inference_block4a_se_reduce_layer_call_and_return_conditional_losses_294307) with ops with custom gradients. Will likely fail if a gradient is requested.\n",
            "WARNING:tensorflow:Importing a function (__inference_block4d_activation_layer_call_and_return_conditional_losses_295545) with ops with custom gradients. Will likely fail if a gradient is requested.\n",
            "WARNING:tensorflow:Importing a function (__inference_block5d_se_reduce_layer_call_and_return_conditional_losses_299999) with ops with custom gradients. Will likely fail if a gradient is requested.\n",
            "WARNING:tensorflow:Importing a function (__inference_block5h_se_reduce_layer_call_and_return_conditional_losses_301783) with ops with custom gradients. Will likely fail if a gradient is requested.\n",
            "WARNING:tensorflow:Importing a function (__inference_block3d_activation_layer_call_and_return_conditional_losses_292475) with ops with custom gradients. Will likely fail if a gradient is requested.\n",
            "WARNING:tensorflow:Importing a function (__inference_block2c_expand_activation_layer_call_and_return_conditional_losses_344518) with ops with custom gradients. Will likely fail if a gradient is requested.\n",
            "WARNING:tensorflow:Importing a function (__inference_block7b_activation_layer_call_and_return_conditional_losses_370416) with ops with custom gradients. Will likely fail if a gradient is requested.\n",
            "WARNING:tensorflow:Importing a function (__inference_block3a_activation_layer_call_and_return_conditional_losses_291190) with ops with custom gradients. Will likely fail if a gradient is requested.\n",
            "WARNING:tensorflow:Importing a function (__inference_block1a_activation_layer_call_and_return_conditional_losses_286718) with ops with custom gradients. Will likely fail if a gradient is requested.\n",
            "WARNING:tensorflow:Importing a function (__inference_block6m_se_reduce_layer_call_and_return_conditional_losses_369373) with ops with custom gradients. Will likely fail if a gradient is requested.\n",
            "WARNING:tensorflow:Importing a function (__inference_block2a_activation_layer_call_and_return_conditional_losses_288120) with ops with custom gradients. Will likely fail if a gradient is requested.\n",
            "WARNING:tensorflow:Importing a function (__inference_block6l_activation_layer_call_and_return_conditional_losses_307928) with ops with custom gradients. Will likely fail if a gradient is requested.\n",
            "WARNING:tensorflow:Importing a function (__inference_block6b_activation_layer_call_and_return_conditional_losses_363118) with ops with custom gradients. Will likely fail if a gradient is requested.\n",
            "WARNING:tensorflow:Importing a function (__inference_block2b_se_reduce_layer_call_and_return_conditional_losses_344136) with ops with custom gradients. Will likely fail if a gradient is requested.\n",
            "WARNING:tensorflow:Importing a function (__inference_block1a_se_reduce_layer_call_and_return_conditional_losses_286765) with ops with custom gradients. Will likely fail if a gradient is requested.\n",
            "WARNING:tensorflow:Importing a function (__inference_block5d_activation_layer_call_and_return_conditional_losses_358645) with ops with custom gradients. Will likely fail if a gradient is requested.\n",
            "WARNING:tensorflow:Importing a function (__inference_block5b_expand_activation_layer_call_and_return_conditional_losses_357372) with ops with custom gradients. Will likely fail if a gradient is requested.\n",
            "WARNING:tensorflow:Importing a function (__inference_block4g_activation_layer_call_and_return_conditional_losses_296883) with ops with custom gradients. Will likely fail if a gradient is requested.\n",
            "WARNING:tensorflow:Importing a function (__inference_top_activation_layer_call_and_return_conditional_losses_371968) with ops with custom gradients. Will likely fail if a gradient is requested.\n",
            "WARNING:tensorflow:Importing a function (__inference_block4i_expand_activation_layer_call_and_return_conditional_losses_297681) with ops with custom gradients. Will likely fail if a gradient is requested.\n",
            "WARNING:tensorflow:Importing a function (__inference_block1d_activation_layer_call_and_return_conditional_losses_287673) with ops with custom gradients. Will likely fail if a gradient is requested.\n",
            "WARNING:tensorflow:Importing a function (__inference_block5d_activation_layer_call_and_return_conditional_losses_299952) with ops with custom gradients. Will likely fail if a gradient is requested.\n",
            "WARNING:tensorflow:Importing a function (__inference_block6c_activation_layer_call_and_return_conditional_losses_363683) with ops with custom gradients. Will likely fail if a gradient is requested.\n",
            "WARNING:tensorflow:Importing a function (__inference_block4h_se_reduce_layer_call_and_return_conditional_losses_297376) with ops with custom gradients. Will likely fail if a gradient is requested.\n",
            "WARNING:tensorflow:Importing a function (__inference_block7c_activation_layer_call_and_return_conditional_losses_309659) with ops with custom gradients. Will likely fail if a gradient is requested.\n",
            "WARNING:tensorflow:Importing a function (__inference_block3d_se_reduce_layer_call_and_return_conditional_losses_292522) with ops with custom gradients. Will likely fail if a gradient is requested.\n",
            "WARNING:tensorflow:Importing a function (__inference_block2e_se_reduce_layer_call_and_return_conditional_losses_289898) with ops with custom gradients. Will likely fail if a gradient is requested.\n",
            "WARNING:tensorflow:Importing a function (__inference_block3f_expand_activation_layer_call_and_return_conditional_losses_293273) with ops with custom gradients. Will likely fail if a gradient is requested.\n",
            "WARNING:tensorflow:Importing a function (__inference_block2a_expand_activation_layer_call_and_return_conditional_losses_288025) with ops with custom gradients. Will likely fail if a gradient is requested.\n",
            "WARNING:tensorflow:Importing a function (__inference_block6j_expand_activation_layer_call_and_return_conditional_losses_306942) with ops with custom gradients. Will likely fail if a gradient is requested.\n",
            "WARNING:tensorflow:Importing a function (__inference_block2f_activation_layer_call_and_return_conditional_losses_290297) with ops with custom gradients. Will likely fail if a gradient is requested.\n",
            "WARNING:tensorflow:Importing a function (__inference_block5e_se_reduce_layer_call_and_return_conditional_losses_359250) with ops with custom gradients. Will likely fail if a gradient is requested.\n",
            "WARNING:tensorflow:Importing a function (__inference_block5j_expand_activation_layer_call_and_return_conditional_losses_361892) with ops with custom gradients. Will likely fail if a gradient is requested.\n",
            "WARNING:tensorflow:Importing a function (__inference_block7d_activation_layer_call_and_return_conditional_losses_310105) with ops with custom gradients. Will likely fail if a gradient is requested.\n",
            "WARNING:tensorflow:Importing a function (__inference_block3e_expand_activation_layer_call_and_return_conditional_losses_292827) with ops with custom gradients. Will likely fail if a gradient is requested.\n",
            "WARNING:tensorflow:Importing a function (__inference_block6a_se_reduce_layer_call_and_return_conditional_losses_362640) with ops with custom gradients. Will likely fail if a gradient is requested.\n",
            "WARNING:tensorflow:Importing a function (__inference_block2f_activation_layer_call_and_return_conditional_losses_346356) with ops with custom gradients. Will likely fail if a gradient is requested.\n",
            "WARNING:tensorflow:Importing a function (__inference_block7a_activation_layer_call_and_return_conditional_losses_308820) with ops with custom gradients. Will likely fail if a gradient is requested.\n",
            "WARNING:tensorflow:Importing a function (__inference_block5i_activation_layer_call_and_return_conditional_losses_361470) with ops with custom gradients. Will likely fail if a gradient is requested.\n",
            "WARNING:tensorflow:Importing a function (__inference_block4f_activation_layer_call_and_return_conditional_losses_296437) with ops with custom gradients. Will likely fail if a gradient is requested.\n",
            "WARNING:tensorflow:Importing a function (__inference_block2c_se_reduce_layer_call_and_return_conditional_losses_289006) with ops with custom gradients. Will likely fail if a gradient is requested.\n",
            "WARNING:tensorflow:Importing a function (__inference_block2g_expand_activation_layer_call_and_return_conditional_losses_290649) with ops with custom gradients. Will likely fail if a gradient is requested.\n",
            "WARNING:tensorflow:Importing a function (__inference_block3b_se_reduce_layer_call_and_return_conditional_losses_291630) with ops with custom gradients. Will likely fail if a gradient is requested.\n",
            "WARNING:tensorflow:Importing a function (__inference_block7c_se_reduce_layer_call_and_return_conditional_losses_309706) with ops with custom gradients. Will likely fail if a gradient is requested.\n",
            "WARNING:tensorflow:Importing a function (__inference_block2c_activation_layer_call_and_return_conditional_losses_344661) with ops with custom gradients. Will likely fail if a gradient is requested.\n",
            "WARNING:tensorflow:Importing a function (__inference_block6c_se_reduce_layer_call_and_return_conditional_losses_303961) with ops with custom gradients. Will likely fail if a gradient is requested.\n",
            "WARNING:tensorflow:Importing a function (__inference_block2e_activation_layer_call_and_return_conditional_losses_289851) with ops with custom gradients. Will likely fail if a gradient is requested.\n",
            "WARNING:tensorflow:Importing a function (__inference_block7c_expand_activation_layer_call_and_return_conditional_losses_309565) with ops with custom gradients. Will likely fail if a gradient is requested.\n",
            "WARNING:tensorflow:Importing a function (__inference_block6f_se_reduce_layer_call_and_return_conditional_losses_365418) with ops with custom gradients. Will likely fail if a gradient is requested.\n",
            "WARNING:tensorflow:Importing a function (__inference_block4d_expand_activation_layer_call_and_return_conditional_losses_295451) with ops with custom gradients. Will likely fail if a gradient is requested.\n",
            "WARNING:tensorflow:Importing a function (__inference_block2d_activation_layer_call_and_return_conditional_losses_345226) with ops with custom gradients. Will likely fail if a gradient is requested.\n",
            "WARNING:tensorflow:Importing a function (__inference_block3e_expand_activation_layer_call_and_return_conditional_losses_349556) with ops with custom gradients. Will likely fail if a gradient is requested.\n",
            "WARNING:tensorflow:Importing a function (__inference_block6l_expand_activation_layer_call_and_return_conditional_losses_368625) with ops with custom gradients. Will likely fail if a gradient is requested.\n",
            "WARNING:tensorflow:Importing a function (__inference_block6b_activation_layer_call_and_return_conditional_losses_303468) with ops with custom gradients. Will likely fail if a gradient is requested.\n",
            "WARNING:tensorflow:Importing a function (__inference_block2a_activation_layer_call_and_return_conditional_losses_343578) with ops with custom gradients. Will likely fail if a gradient is requested.\n",
            "WARNING:tensorflow:Importing a function (__inference_block3g_expand_activation_layer_call_and_return_conditional_losses_350686) with ops with custom gradients. Will likely fail if a gradient is requested.\n",
            "WARNING:tensorflow:Importing a function (__inference_block6j_se_reduce_layer_call_and_return_conditional_losses_367678) with ops with custom gradients. Will likely fail if a gradient is requested.\n",
            "WARNING:tensorflow:Importing a function (__inference_block4h_se_reduce_layer_call_and_return_conditional_losses_355342) with ops with custom gradients. Will likely fail if a gradient is requested.\n",
            "WARNING:tensorflow:Importing a function (__inference_block5b_se_reduce_layer_call_and_return_conditional_losses_299107) with ops with custom gradients. Will likely fail if a gradient is requested.\n",
            "WARNING:tensorflow:Importing a function (__inference_block6c_expand_activation_layer_call_and_return_conditional_losses_303820) with ops with custom gradients. Will likely fail if a gradient is requested.\n",
            "WARNING:tensorflow:Importing a function (__inference_block2c_se_reduce_layer_call_and_return_conditional_losses_344701) with ops with custom gradients. Will likely fail if a gradient is requested.\n",
            "WARNING:tensorflow:Importing a function (__inference_block5d_se_reduce_layer_call_and_return_conditional_losses_358685) with ops with custom gradients. Will likely fail if a gradient is requested.\n",
            "WARNING:tensorflow:Importing a function (__inference_block6k_activation_layer_call_and_return_conditional_losses_368203) with ops with custom gradients. Will likely fail if a gradient is requested.\n",
            "WARNING:tensorflow:Importing a function (__inference_block3b_expand_activation_layer_call_and_return_conditional_losses_291489) with ops with custom gradients. Will likely fail if a gradient is requested.\n",
            "WARNING:tensorflow:Importing a function (__inference_block4a_expand_activation_layer_call_and_return_conditional_losses_351251) with ops with custom gradients. Will likely fail if a gradient is requested.\n",
            "WARNING:tensorflow:Importing a function (__inference_block3f_activation_layer_call_and_return_conditional_losses_293367) with ops with custom gradients. Will likely fail if a gradient is requested.\n",
            "WARNING:tensorflow:Importing a function (__inference_block6f_activation_layer_call_and_return_conditional_losses_305252) with ops with custom gradients. Will likely fail if a gradient is requested.\n",
            "WARNING:tensorflow:Importing a function (__inference_block4d_activation_layer_call_and_return_conditional_losses_353042) with ops with custom gradients. Will likely fail if a gradient is requested.\n",
            "WARNING:tensorflow:Importing a function (__inference_block1a_activation_layer_call_and_return_conditional_losses_341836) with ops with custom gradients. Will likely fail if a gradient is requested.\n",
            "WARNING:tensorflow:Importing a function (__inference_block3f_expand_activation_layer_call_and_return_conditional_losses_350121) with ops with custom gradients. Will likely fail if a gradient is requested.\n",
            "WARNING:tensorflow:Importing a function (__inference_block5j_activation_layer_call_and_return_conditional_losses_302628) with ops with custom gradients. Will likely fail if a gradient is requested.\n",
            "WARNING:tensorflow:Importing a function (__inference_block6l_se_reduce_layer_call_and_return_conditional_losses_368808) with ops with custom gradients. Will likely fail if a gradient is requested.\n",
            "WARNING:tensorflow:Importing a function (__inference_block6a_expand_activation_layer_call_and_return_conditional_losses_362457) with ops with custom gradients. Will likely fail if a gradient is requested.\n",
            "WARNING:tensorflow:Importing a function (__inference_block3a_se_reduce_layer_call_and_return_conditional_losses_291237) with ops with custom gradients. Will likely fail if a gradient is requested.\n",
            "WARNING:tensorflow:Importing a function (__inference_block1c_activation_layer_call_and_return_conditional_losses_287337) with ops with custom gradients. Will likely fail if a gradient is requested.\n",
            "WARNING:tensorflow:Importing a function (__inference_block6b_se_reduce_layer_call_and_return_conditional_losses_363158) with ops with custom gradients. Will likely fail if a gradient is requested.\n",
            "WARNING:tensorflow:Importing a function (__inference_block2b_expand_activation_layer_call_and_return_conditional_losses_343953) with ops with custom gradients. Will likely fail if a gradient is requested.\n",
            "WARNING:tensorflow:Importing a function (__inference_block5g_activation_layer_call_and_return_conditional_losses_301290) with ops with custom gradients. Will likely fail if a gradient is requested.\n",
            "WARNING:tensorflow:Importing a function (__inference_block2b_activation_layer_call_and_return_conditional_losses_344096) with ops with custom gradients. Will likely fail if a gradient is requested.\n",
            "WARNING:tensorflow:Importing a function (__inference_block6k_expand_activation_layer_call_and_return_conditional_losses_368060) with ops with custom gradients. Will likely fail if a gradient is requested.\n",
            "WARNING:tensorflow:Importing a function (__inference_block2g_activation_layer_call_and_return_conditional_losses_290743) with ops with custom gradients. Will likely fail if a gradient is requested.\n",
            "WARNING:tensorflow:Importing a function (__inference_block4f_expand_activation_layer_call_and_return_conditional_losses_354029) with ops with custom gradients. Will likely fail if a gradient is requested.\n",
            "WARNING:tensorflow:Importing a function (__inference_block3e_se_reduce_layer_call_and_return_conditional_losses_349739) with ops with custom gradients. Will likely fail if a gradient is requested.\n",
            "WARNING:tensorflow:Importing a function (__inference_block6i_se_reduce_layer_call_and_return_conditional_losses_306637) with ops with custom gradients. Will likely fail if a gradient is requested.\n",
            "WARNING:tensorflow:Importing a function (__inference_block6f_se_reduce_layer_call_and_return_conditional_losses_305299) with ops with custom gradients. Will likely fail if a gradient is requested.\n",
            "WARNING:tensorflow:Importing a function (__inference_block4b_expand_activation_layer_call_and_return_conditional_losses_294559) with ops with custom gradients. Will likely fail if a gradient is requested.\n",
            "WARNING:tensorflow:Importing a function (__inference_block6h_expand_activation_layer_call_and_return_conditional_losses_306050) with ops with custom gradients. Will likely fail if a gradient is requested.\n",
            "WARNING:tensorflow:Importing a function (__inference_block7b_se_reduce_layer_call_and_return_conditional_losses_370456) with ops with custom gradients. Will likely fail if a gradient is requested.\n",
            "WARNING:tensorflow:Importing a function (__inference_block5a_expand_activation_layer_call_and_return_conditional_losses_356854) with ops with custom gradients. Will likely fail if a gradient is requested.\n",
            "WARNING:tensorflow:Importing a function (__inference_block5g_se_reduce_layer_call_and_return_conditional_losses_360380) with ops with custom gradients. Will likely fail if a gradient is requested.\n",
            "WARNING:tensorflow:Importing a function (__inference_block5j_expand_activation_layer_call_and_return_conditional_losses_302534) with ops with custom gradients. Will likely fail if a gradient is requested.\n",
            "WARNING:tensorflow:Importing a function (__inference_block3b_expand_activation_layer_call_and_return_conditional_losses_347861) with ops with custom gradients. Will likely fail if a gradient is requested.\n",
            "WARNING:tensorflow:Importing a function (__inference_block6b_expand_activation_layer_call_and_return_conditional_losses_303374) with ops with custom gradients. Will likely fail if a gradient is requested.\n",
            "WARNING:tensorflow:Importing a function (__inference_block6m_activation_layer_call_and_return_conditional_losses_369333) with ops with custom gradients. Will likely fail if a gradient is requested.\n",
            "WARNING:tensorflow:Importing a function (__inference_block2e_expand_activation_layer_call_and_return_conditional_losses_345648) with ops with custom gradients. Will likely fail if a gradient is requested.\n",
            "WARNING:tensorflow:Importing a function (__inference_block7a_se_reduce_layer_call_and_return_conditional_losses_369938) with ops with custom gradients. Will likely fail if a gradient is requested.\n",
            "WARNING:tensorflow:Importing a function (__inference_block2e_se_reduce_layer_call_and_return_conditional_losses_345831) with ops with custom gradients. Will likely fail if a gradient is requested.\n",
            "WARNING:tensorflow:Importing a function (__inference_block5a_activation_layer_call_and_return_conditional_losses_298667) with ops with custom gradients. Will likely fail if a gradient is requested.\n",
            "WARNING:tensorflow:Importing a function (__inference_block4f_expand_activation_layer_call_and_return_conditional_losses_296343) with ops with custom gradients. Will likely fail if a gradient is requested.\n",
            "WARNING:tensorflow:Importing a function (__inference_block7c_se_reduce_layer_call_and_return_conditional_losses_371021) with ops with custom gradients. Will likely fail if a gradient is requested.\n",
            "WARNING:tensorflow:Importing a function (__inference_block6c_activation_layer_call_and_return_conditional_losses_303914) with ops with custom gradients. Will likely fail if a gradient is requested.\n",
            "WARNING:tensorflow:Importing a function (__inference_block6m_expand_activation_layer_call_and_return_conditional_losses_369190) with ops with custom gradients. Will likely fail if a gradient is requested.\n",
            "WARNING:tensorflow:Importing a function (__inference_block1d_activation_layer_call_and_return_conditional_losses_343013) with ops with custom gradients. Will likely fail if a gradient is requested.\n",
            "WARNING:tensorflow:Importing a function (__inference_block5h_se_reduce_layer_call_and_return_conditional_losses_360945) with ops with custom gradients. Will likely fail if a gradient is requested.\n",
            "WARNING:tensorflow:Importing a function (__inference_block6i_activation_layer_call_and_return_conditional_losses_367073) with ops with custom gradients. Will likely fail if a gradient is requested.\n",
            "WARNING:tensorflow:Importing a function (__inference_block1c_se_reduce_layer_call_and_return_conditional_losses_342645) with ops with custom gradients. Will likely fail if a gradient is requested.\n",
            "WARNING:tensorflow:Importing a function (__inference_block4h_expand_activation_layer_call_and_return_conditional_losses_355159) with ops with custom gradients. Will likely fail if a gradient is requested.\n",
            "WARNING:tensorflow:Importing a function (__inference_block4j_expand_activation_layer_call_and_return_conditional_losses_298127) with ops with custom gradients. Will likely fail if a gradient is requested.\n",
            "WARNING:tensorflow:Importing a function (__inference_block5f_se_reduce_layer_call_and_return_conditional_losses_300891) with ops with custom gradients. Will likely fail if a gradient is requested.\n",
            "WARNING:tensorflow:Importing a function (__inference_block5i_activation_layer_call_and_return_conditional_losses_302182) with ops with custom gradients. Will likely fail if a gradient is requested.\n",
            "WARNING:tensorflow:Importing a function (__inference_block3g_activation_layer_call_and_return_conditional_losses_293813) with ops with custom gradients. Will likely fail if a gradient is requested.\n",
            "WARNING:tensorflow:Importing a function (__inference_block4i_expand_activation_layer_call_and_return_conditional_losses_355724) with ops with custom gradients. Will likely fail if a gradient is requested.\n",
            "WARNING:tensorflow:Importing a function (__inference_block6a_expand_activation_layer_call_and_return_conditional_losses_302980) with ops with custom gradients. Will likely fail if a gradient is requested.\n",
            "WARNING:tensorflow:Importing a function (__inference_block2b_expand_activation_layer_call_and_return_conditional_losses_288419) with ops with custom gradients. Will likely fail if a gradient is requested.\n",
            "WARNING:tensorflow:Importing a function (__inference_block4j_expand_activation_layer_call_and_return_conditional_losses_356289) with ops with custom gradients. Will likely fail if a gradient is requested.\n",
            "WARNING:tensorflow:Importing a function (__inference_block5d_expand_activation_layer_call_and_return_conditional_losses_299858) with ops with custom gradients. Will likely fail if a gradient is requested.\n",
            "WARNING:tensorflow:Importing a function (__inference_block1b_activation_layer_call_and_return_conditional_losses_287001) with ops with custom gradients. Will likely fail if a gradient is requested.\n",
            "WARNING:tensorflow:Importing a function (__inference_block4j_activation_layer_call_and_return_conditional_losses_356432) with ops with custom gradients. Will likely fail if a gradient is requested.\n",
            "WARNING:tensorflow:Importing a function (__inference_block6e_se_reduce_layer_call_and_return_conditional_losses_364853) with ops with custom gradients. Will likely fail if a gradient is requested.\n",
            "WARNING:tensorflow:Importing a function (__inference_block5g_expand_activation_layer_call_and_return_conditional_losses_360197) with ops with custom gradients. Will likely fail if a gradient is requested.\n",
            "WARNING:tensorflow:Importing a function (__inference_block6j_expand_activation_layer_call_and_return_conditional_losses_367495) with ops with custom gradients. Will likely fail if a gradient is requested.\n",
            "WARNING:tensorflow:Importing a function (__inference_block4c_se_reduce_layer_call_and_return_conditional_losses_352517) with ops with custom gradients. Will likely fail if a gradient is requested.\n",
            "WARNING:tensorflow:Importing a function (__inference_block7d_activation_layer_call_and_return_conditional_losses_371546) with ops with custom gradients. Will likely fail if a gradient is requested.\n",
            "WARNING:tensorflow:Importing a function (__inference_block2g_expand_activation_layer_call_and_return_conditional_losses_346778) with ops with custom gradients. Will likely fail if a gradient is requested.\n",
            "WARNING:tensorflow:Importing a function (__inference_block7b_se_reduce_layer_call_and_return_conditional_losses_309260) with ops with custom gradients. Will likely fail if a gradient is requested.\n",
            "WARNING:tensorflow:Importing a function (__inference_block6h_activation_layer_call_and_return_conditional_losses_306144) with ops with custom gradients. Will likely fail if a gradient is requested.\n",
            "WARNING:tensorflow:Importing a function (__inference_block6h_activation_layer_call_and_return_conditional_losses_366508) with ops with custom gradients. Will likely fail if a gradient is requested.\n",
            "WARNING:tensorflow:Importing a function (__inference_block3g_expand_activation_layer_call_and_return_conditional_losses_293719) with ops with custom gradients. Will likely fail if a gradient is requested.\n",
            "WARNING:tensorflow:Importing a function (__inference_block2d_se_reduce_layer_call_and_return_conditional_losses_345266) with ops with custom gradients. Will likely fail if a gradient is requested.\n",
            "WARNING:tensorflow:Importing a function (__inference_functional_1_layer_call_and_return_conditional_losses_337362) with ops with custom gradients. Will likely fail if a gradient is requested.\n",
            "WARNING:tensorflow:Importing a function (__inference_functional_1_layer_call_and_return_conditional_losses_337362) with ops with custom gradients. Will likely fail if a gradient is requested.\n",
            "WARNING:tensorflow:Importing a function (__inference_functional_1_layer_call_and_return_conditional_losses_337362) with ops with custom gradients. Will likely fail if a gradient is requested.\n",
            "WARNING:tensorflow:Importing a function (__inference_functional_1_layer_call_and_return_conditional_losses_337362) with ops with custom gradients. Will likely fail if a gradient is requested.\n",
            "WARNING:tensorflow:Importing a function (__inference_functional_1_layer_call_and_return_conditional_losses_337362) with ops with custom gradients. Will likely fail if a gradient is requested.\n",
            "WARNING:tensorflow:Importing a function (__inference_functional_1_layer_call_and_return_conditional_losses_337362) with ops with custom gradients. Will likely fail if a gradient is requested.\n",
            "WARNING:tensorflow:Importing a function (__inference_functional_1_layer_call_and_return_conditional_losses_337362) with ops with custom gradients. Will likely fail if a gradient is requested.\n",
            "WARNING:tensorflow:Importing a function (__inference_functional_1_layer_call_and_return_conditional_losses_337362) with ops with custom gradients. Will likely fail if a gradient is requested.\n",
            "WARNING:tensorflow:Importing a function (__inference_functional_1_layer_call_and_return_conditional_losses_337362) with ops with custom gradients. Will likely fail if a gradient is requested.\n",
            "WARNING:tensorflow:Importing a function (__inference_functional_1_layer_call_and_return_conditional_losses_337362) with ops with custom gradients. Will likely fail if a gradient is requested.\n",
            "WARNING:tensorflow:Importing a function (__inference_functional_1_layer_call_and_return_conditional_losses_337362) with ops with custom gradients. Will likely fail if a gradient is requested.\n",
            "WARNING:tensorflow:Importing a function (__inference_functional_1_layer_call_and_return_conditional_losses_337362) with ops with custom gradients. Will likely fail if a gradient is requested.\n",
            "WARNING:tensorflow:Importing a function (__inference_functional_1_layer_call_and_return_conditional_losses_337362) with ops with custom gradients. Will likely fail if a gradient is requested.\n",
            "WARNING:tensorflow:Importing a function (__inference_functional_1_layer_call_and_return_conditional_losses_337362) with ops with custom gradients. Will likely fail if a gradient is requested.\n",
            "WARNING:tensorflow:Importing a function (__inference_functional_1_layer_call_and_return_conditional_losses_337362) with ops with custom gradients. Will likely fail if a gradient is requested.\n",
            "WARNING:tensorflow:Importing a function (__inference_functional_1_layer_call_and_return_conditional_losses_337362) with ops with custom gradients. Will likely fail if a gradient is requested.\n",
            "WARNING:tensorflow:Importing a function (__inference_functional_1_layer_call_and_return_conditional_losses_337362) with ops with custom gradients. Will likely fail if a gradient is requested.\n",
            "WARNING:tensorflow:Importing a function (__inference_functional_1_layer_call_and_return_conditional_losses_337362) with ops with custom gradients. Will likely fail if a gradient is requested.\n",
            "WARNING:tensorflow:Importing a function (__inference_functional_1_layer_call_and_return_conditional_losses_337362) with ops with custom gradients. Will likely fail if a gradient is requested.\n",
            "WARNING:tensorflow:Importing a function (__inference_functional_1_layer_call_and_return_conditional_losses_337362) with ops with custom gradients. Will likely fail if a gradient is requested.\n",
            "WARNING:tensorflow:Importing a function (__inference_functional_1_layer_call_and_return_conditional_losses_337362) with ops with custom gradients. Will likely fail if a gradient is requested.\n",
            "WARNING:tensorflow:Importing a function (__inference_functional_1_layer_call_and_return_conditional_losses_337362) with ops with custom gradients. Will likely fail if a gradient is requested.\n",
            "WARNING:tensorflow:Importing a function (__inference_functional_1_layer_call_and_return_conditional_losses_337362) with ops with custom gradients. Will likely fail if a gradient is requested.\n",
            "WARNING:tensorflow:Importing a function (__inference_functional_1_layer_call_and_return_conditional_losses_337362) with ops with custom gradients. Will likely fail if a gradient is requested.\n",
            "WARNING:tensorflow:Importing a function (__inference_functional_1_layer_call_and_return_conditional_losses_337362) with ops with custom gradients. Will likely fail if a gradient is requested.\n",
            "WARNING:tensorflow:Importing a function (__inference_functional_1_layer_call_and_return_conditional_losses_337362) with ops with custom gradients. Will likely fail if a gradient is requested.\n",
            "WARNING:tensorflow:Importing a function (__inference_functional_1_layer_call_and_return_conditional_losses_337362) with ops with custom gradients. Will likely fail if a gradient is requested.\n",
            "WARNING:tensorflow:Importing a function (__inference_functional_1_layer_call_and_return_conditional_losses_337362) with ops with custom gradients. Will likely fail if a gradient is requested.\n",
            "WARNING:tensorflow:Importing a function (__inference_functional_1_layer_call_and_return_conditional_losses_337362) with ops with custom gradients. Will likely fail if a gradient is requested.\n",
            "WARNING:tensorflow:Importing a function (__inference_functional_1_layer_call_and_return_conditional_losses_337362) with ops with custom gradients. Will likely fail if a gradient is requested.\n",
            "WARNING:tensorflow:Importing a function (__inference_functional_1_layer_call_and_return_conditional_losses_337362) with ops with custom gradients. Will likely fail if a gradient is requested.\n",
            "WARNING:tensorflow:Importing a function (__inference_functional_1_layer_call_and_return_conditional_losses_337362) with ops with custom gradients. Will likely fail if a gradient is requested.\n",
            "WARNING:tensorflow:Importing a function (__inference_functional_1_layer_call_and_return_conditional_losses_337362) with ops with custom gradients. Will likely fail if a gradient is requested.\n",
            "WARNING:tensorflow:Importing a function (__inference_functional_1_layer_call_and_return_conditional_losses_337362) with ops with custom gradients. Will likely fail if a gradient is requested.\n",
            "WARNING:tensorflow:Importing a function (__inference_functional_1_layer_call_and_return_conditional_losses_337362) with ops with custom gradients. Will likely fail if a gradient is requested.\n",
            "WARNING:tensorflow:Importing a function (__inference_functional_1_layer_call_and_return_conditional_losses_337362) with ops with custom gradients. Will likely fail if a gradient is requested.\n",
            "WARNING:tensorflow:Importing a function (__inference_functional_1_layer_call_and_return_conditional_losses_337362) with ops with custom gradients. Will likely fail if a gradient is requested.\n",
            "WARNING:tensorflow:Importing a function (__inference_functional_1_layer_call_and_return_conditional_losses_337362) with ops with custom gradients. Will likely fail if a gradient is requested.\n",
            "WARNING:tensorflow:Importing a function (__inference_functional_1_layer_call_and_return_conditional_losses_337362) with ops with custom gradients. Will likely fail if a gradient is requested.\n",
            "WARNING:tensorflow:Importing a function (__inference_functional_1_layer_call_and_return_conditional_losses_337362) with ops with custom gradients. Will likely fail if a gradient is requested.\n",
            "WARNING:tensorflow:Importing a function (__inference_functional_1_layer_call_and_return_conditional_losses_337362) with ops with custom gradients. Will likely fail if a gradient is requested.\n",
            "WARNING:tensorflow:Importing a function (__inference_functional_1_layer_call_and_return_conditional_losses_337362) with ops with custom gradients. Will likely fail if a gradient is requested.\n",
            "WARNING:tensorflow:Importing a function (__inference_functional_1_layer_call_and_return_conditional_losses_337362) with ops with custom gradients. Will likely fail if a gradient is requested.\n",
            "WARNING:tensorflow:Importing a function (__inference_functional_1_layer_call_and_return_conditional_losses_337362) with ops with custom gradients. Will likely fail if a gradient is requested.\n",
            "WARNING:tensorflow:Importing a function (__inference_functional_1_layer_call_and_return_conditional_losses_337362) with ops with custom gradients. Will likely fail if a gradient is requested.\n",
            "WARNING:tensorflow:Importing a function (__inference_functional_1_layer_call_and_return_conditional_losses_337362) with ops with custom gradients. Will likely fail if a gradient is requested.\n",
            "WARNING:tensorflow:Importing a function (__inference_functional_1_layer_call_and_return_conditional_losses_337362) with ops with custom gradients. Will likely fail if a gradient is requested.\n",
            "WARNING:tensorflow:Importing a function (__inference_functional_1_layer_call_and_return_conditional_losses_337362) with ops with custom gradients. Will likely fail if a gradient is requested.\n",
            "WARNING:tensorflow:Importing a function (__inference_functional_1_layer_call_and_return_conditional_losses_337362) with ops with custom gradients. Will likely fail if a gradient is requested.\n",
            "WARNING:tensorflow:Importing a function (__inference_functional_1_layer_call_and_return_conditional_losses_337362) with ops with custom gradients. Will likely fail if a gradient is requested.\n",
            "WARNING:tensorflow:Importing a function (__inference_functional_1_layer_call_and_return_conditional_losses_337362) with ops with custom gradients. Will likely fail if a gradient is requested.\n",
            "WARNING:tensorflow:Importing a function (__inference_functional_1_layer_call_and_return_conditional_losses_337362) with ops with custom gradients. Will likely fail if a gradient is requested.\n",
            "WARNING:tensorflow:Importing a function (__inference_functional_1_layer_call_and_return_conditional_losses_337362) with ops with custom gradients. Will likely fail if a gradient is requested.\n",
            "WARNING:tensorflow:Importing a function (__inference_functional_1_layer_call_and_return_conditional_losses_337362) with ops with custom gradients. Will likely fail if a gradient is requested.\n",
            "WARNING:tensorflow:Importing a function (__inference_functional_1_layer_call_and_return_conditional_losses_337362) with ops with custom gradients. Will likely fail if a gradient is requested.\n",
            "WARNING:tensorflow:Importing a function (__inference_functional_1_layer_call_and_return_conditional_losses_337362) with ops with custom gradients. Will likely fail if a gradient is requested.\n",
            "WARNING:tensorflow:Importing a function (__inference_functional_1_layer_call_and_return_conditional_losses_337362) with ops with custom gradients. Will likely fail if a gradient is requested.\n",
            "WARNING:tensorflow:Importing a function (__inference_functional_1_layer_call_and_return_conditional_losses_337362) with ops with custom gradients. Will likely fail if a gradient is requested.\n",
            "WARNING:tensorflow:Importing a function (__inference_functional_1_layer_call_and_return_conditional_losses_337362) with ops with custom gradients. Will likely fail if a gradient is requested.\n",
            "WARNING:tensorflow:Importing a function (__inference_functional_1_layer_call_and_return_conditional_losses_337362) with ops with custom gradients. Will likely fail if a gradient is requested.\n",
            "WARNING:tensorflow:Importing a function (__inference_functional_1_layer_call_and_return_conditional_losses_337362) with ops with custom gradients. Will likely fail if a gradient is requested.\n",
            "WARNING:tensorflow:Importing a function (__inference_functional_1_layer_call_and_return_conditional_losses_337362) with ops with custom gradients. Will likely fail if a gradient is requested.\n",
            "WARNING:tensorflow:Importing a function (__inference_functional_1_layer_call_and_return_conditional_losses_337362) with ops with custom gradients. Will likely fail if a gradient is requested.\n",
            "WARNING:tensorflow:Importing a function (__inference_functional_1_layer_call_and_return_conditional_losses_337362) with ops with custom gradients. Will likely fail if a gradient is requested.\n",
            "WARNING:tensorflow:Importing a function (__inference_functional_1_layer_call_and_return_conditional_losses_337362) with ops with custom gradients. Will likely fail if a gradient is requested.\n",
            "WARNING:tensorflow:Importing a function (__inference_functional_1_layer_call_and_return_conditional_losses_337362) with ops with custom gradients. Will likely fail if a gradient is requested.\n",
            "WARNING:tensorflow:Importing a function (__inference_functional_1_layer_call_and_return_conditional_losses_337362) with ops with custom gradients. Will likely fail if a gradient is requested.\n",
            "WARNING:tensorflow:Importing a function (__inference_functional_1_layer_call_and_return_conditional_losses_337362) with ops with custom gradients. Will likely fail if a gradient is requested.\n",
            "WARNING:tensorflow:Importing a function (__inference_functional_1_layer_call_and_return_conditional_losses_337362) with ops with custom gradients. Will likely fail if a gradient is requested.\n",
            "WARNING:tensorflow:Importing a function (__inference_functional_1_layer_call_and_return_conditional_losses_337362) with ops with custom gradients. Will likely fail if a gradient is requested.\n",
            "WARNING:tensorflow:Importing a function (__inference_functional_1_layer_call_and_return_conditional_losses_337362) with ops with custom gradients. Will likely fail if a gradient is requested.\n",
            "WARNING:tensorflow:Importing a function (__inference_functional_1_layer_call_and_return_conditional_losses_337362) with ops with custom gradients. Will likely fail if a gradient is requested.\n",
            "WARNING:tensorflow:Importing a function (__inference_functional_1_layer_call_and_return_conditional_losses_337362) with ops with custom gradients. Will likely fail if a gradient is requested.\n",
            "WARNING:tensorflow:Importing a function (__inference_functional_1_layer_call_and_return_conditional_losses_337362) with ops with custom gradients. Will likely fail if a gradient is requested.\n",
            "WARNING:tensorflow:Importing a function (__inference_functional_1_layer_call_and_return_conditional_losses_337362) with ops with custom gradients. Will likely fail if a gradient is requested.\n",
            "WARNING:tensorflow:Importing a function (__inference_functional_1_layer_call_and_return_conditional_losses_337362) with ops with custom gradients. Will likely fail if a gradient is requested.\n",
            "WARNING:tensorflow:Importing a function (__inference_functional_1_layer_call_and_return_conditional_losses_337362) with ops with custom gradients. Will likely fail if a gradient is requested.\n",
            "WARNING:tensorflow:Importing a function (__inference_functional_1_layer_call_and_return_conditional_losses_337362) with ops with custom gradients. Will likely fail if a gradient is requested.\n",
            "WARNING:tensorflow:Importing a function (__inference_functional_1_layer_call_and_return_conditional_losses_337362) with ops with custom gradients. Will likely fail if a gradient is requested.\n",
            "WARNING:tensorflow:Importing a function (__inference_functional_1_layer_call_and_return_conditional_losses_337362) with ops with custom gradients. Will likely fail if a gradient is requested.\n",
            "WARNING:tensorflow:Importing a function (__inference_functional_1_layer_call_and_return_conditional_losses_337362) with ops with custom gradients. Will likely fail if a gradient is requested.\n",
            "WARNING:tensorflow:Importing a function (__inference_functional_1_layer_call_and_return_conditional_losses_337362) with ops with custom gradients. Will likely fail if a gradient is requested.\n",
            "WARNING:tensorflow:Importing a function (__inference_functional_1_layer_call_and_return_conditional_losses_337362) with ops with custom gradients. Will likely fail if a gradient is requested.\n",
            "WARNING:tensorflow:Importing a function (__inference_functional_1_layer_call_and_return_conditional_losses_337362) with ops with custom gradients. Will likely fail if a gradient is requested.\n",
            "WARNING:tensorflow:Importing a function (__inference_functional_1_layer_call_and_return_conditional_losses_337362) with ops with custom gradients. Will likely fail if a gradient is requested.\n",
            "WARNING:tensorflow:Importing a function (__inference_functional_1_layer_call_and_return_conditional_losses_337362) with ops with custom gradients. Will likely fail if a gradient is requested.\n",
            "WARNING:tensorflow:Importing a function (__inference_functional_1_layer_call_and_return_conditional_losses_337362) with ops with custom gradients. Will likely fail if a gradient is requested.\n",
            "WARNING:tensorflow:Importing a function (__inference_functional_1_layer_call_and_return_conditional_losses_337362) with ops with custom gradients. Will likely fail if a gradient is requested.\n",
            "WARNING:tensorflow:Importing a function (__inference_functional_1_layer_call_and_return_conditional_losses_337362) with ops with custom gradients. Will likely fail if a gradient is requested.\n",
            "WARNING:tensorflow:Importing a function (__inference_functional_1_layer_call_and_return_conditional_losses_337362) with ops with custom gradients. Will likely fail if a gradient is requested.\n",
            "WARNING:tensorflow:Importing a function (__inference_functional_1_layer_call_and_return_conditional_losses_337362) with ops with custom gradients. Will likely fail if a gradient is requested.\n",
            "WARNING:tensorflow:Importing a function (__inference_functional_1_layer_call_and_return_conditional_losses_337362) with ops with custom gradients. Will likely fail if a gradient is requested.\n",
            "WARNING:tensorflow:Importing a function (__inference_functional_1_layer_call_and_return_conditional_losses_337362) with ops with custom gradients. Will likely fail if a gradient is requested.\n",
            "WARNING:tensorflow:Importing a function (__inference_functional_1_layer_call_and_return_conditional_losses_337362) with ops with custom gradients. Will likely fail if a gradient is requested.\n",
            "WARNING:tensorflow:Importing a function (__inference_functional_1_layer_call_and_return_conditional_losses_337362) with ops with custom gradients. Will likely fail if a gradient is requested.\n",
            "WARNING:tensorflow:Importing a function (__inference_functional_1_layer_call_and_return_conditional_losses_337362) with ops with custom gradients. Will likely fail if a gradient is requested.\n",
            "WARNING:tensorflow:Importing a function (__inference_functional_1_layer_call_and_return_conditional_losses_337362) with ops with custom gradients. Will likely fail if a gradient is requested.\n",
            "WARNING:tensorflow:Importing a function (__inference_functional_1_layer_call_and_return_conditional_losses_337362) with ops with custom gradients. Will likely fail if a gradient is requested.\n",
            "WARNING:tensorflow:Importing a function (__inference_functional_1_layer_call_and_return_conditional_losses_337362) with ops with custom gradients. Will likely fail if a gradient is requested.\n",
            "WARNING:tensorflow:Importing a function (__inference_functional_1_layer_call_and_return_conditional_losses_337362) with ops with custom gradients. Will likely fail if a gradient is requested.\n",
            "WARNING:tensorflow:Importing a function (__inference_functional_1_layer_call_and_return_conditional_losses_337362) with ops with custom gradients. Will likely fail if a gradient is requested.\n",
            "WARNING:tensorflow:Importing a function (__inference_functional_1_layer_call_and_return_conditional_losses_337362) with ops with custom gradients. Will likely fail if a gradient is requested.\n",
            "WARNING:tensorflow:Importing a function (__inference_functional_1_layer_call_and_return_conditional_losses_337362) with ops with custom gradients. Will likely fail if a gradient is requested.\n",
            "WARNING:tensorflow:Importing a function (__inference_functional_1_layer_call_and_return_conditional_losses_337362) with ops with custom gradients. Will likely fail if a gradient is requested.\n",
            "WARNING:tensorflow:Importing a function (__inference_functional_1_layer_call_and_return_conditional_losses_337362) with ops with custom gradients. Will likely fail if a gradient is requested.\n",
            "WARNING:tensorflow:Importing a function (__inference_functional_1_layer_call_and_return_conditional_losses_337362) with ops with custom gradients. Will likely fail if a gradient is requested.\n",
            "WARNING:tensorflow:Importing a function (__inference_functional_1_layer_call_and_return_conditional_losses_337362) with ops with custom gradients. Will likely fail if a gradient is requested.\n",
            "WARNING:tensorflow:Importing a function (__inference_functional_1_layer_call_and_return_conditional_losses_337362) with ops with custom gradients. Will likely fail if a gradient is requested.\n",
            "WARNING:tensorflow:Importing a function (__inference_functional_1_layer_call_and_return_conditional_losses_337362) with ops with custom gradients. Will likely fail if a gradient is requested.\n",
            "WARNING:tensorflow:Importing a function (__inference_functional_1_layer_call_and_return_conditional_losses_337362) with ops with custom gradients. Will likely fail if a gradient is requested.\n",
            "WARNING:tensorflow:Importing a function (__inference_functional_1_layer_call_and_return_conditional_losses_337362) with ops with custom gradients. Will likely fail if a gradient is requested.\n",
            "WARNING:tensorflow:Importing a function (__inference_functional_1_layer_call_and_return_conditional_losses_337362) with ops with custom gradients. Will likely fail if a gradient is requested.\n",
            "WARNING:tensorflow:Importing a function (__inference_functional_1_layer_call_and_return_conditional_losses_337362) with ops with custom gradients. Will likely fail if a gradient is requested.\n",
            "WARNING:tensorflow:Importing a function (__inference_functional_1_layer_call_and_return_conditional_losses_337362) with ops with custom gradients. Will likely fail if a gradient is requested.\n",
            "WARNING:tensorflow:Importing a function (__inference_functional_1_layer_call_and_return_conditional_losses_337362) with ops with custom gradients. Will likely fail if a gradient is requested.\n",
            "WARNING:tensorflow:Importing a function (__inference_functional_1_layer_call_and_return_conditional_losses_337362) with ops with custom gradients. Will likely fail if a gradient is requested.\n",
            "WARNING:tensorflow:Importing a function (__inference_functional_1_layer_call_and_return_conditional_losses_337362) with ops with custom gradients. Will likely fail if a gradient is requested.\n",
            "WARNING:tensorflow:Importing a function (__inference_functional_1_layer_call_and_return_conditional_losses_337362) with ops with custom gradients. Will likely fail if a gradient is requested.\n",
            "WARNING:tensorflow:Importing a function (__inference_functional_1_layer_call_and_return_conditional_losses_337362) with ops with custom gradients. Will likely fail if a gradient is requested.\n",
            "WARNING:tensorflow:Importing a function (__inference_functional_1_layer_call_and_return_conditional_losses_337362) with ops with custom gradients. Will likely fail if a gradient is requested.\n",
            "WARNING:tensorflow:Importing a function (__inference_functional_1_layer_call_and_return_conditional_losses_337362) with ops with custom gradients. Will likely fail if a gradient is requested.\n",
            "WARNING:tensorflow:Importing a function (__inference_functional_1_layer_call_and_return_conditional_losses_337362) with ops with custom gradients. Will likely fail if a gradient is requested.\n",
            "WARNING:tensorflow:Importing a function (__inference_functional_1_layer_call_and_return_conditional_losses_337362) with ops with custom gradients. Will likely fail if a gradient is requested.\n",
            "WARNING:tensorflow:Importing a function (__inference_functional_1_layer_call_and_return_conditional_losses_337362) with ops with custom gradients. Will likely fail if a gradient is requested.\n",
            "WARNING:tensorflow:Importing a function (__inference_functional_1_layer_call_and_return_conditional_losses_337362) with ops with custom gradients. Will likely fail if a gradient is requested.\n",
            "WARNING:tensorflow:Importing a function (__inference_functional_1_layer_call_and_return_conditional_losses_337362) with ops with custom gradients. Will likely fail if a gradient is requested.\n",
            "WARNING:tensorflow:Importing a function (__inference_functional_1_layer_call_and_return_conditional_losses_337362) with ops with custom gradients. Will likely fail if a gradient is requested.\n",
            "WARNING:tensorflow:Importing a function (__inference_functional_1_layer_call_and_return_conditional_losses_337362) with ops with custom gradients. Will likely fail if a gradient is requested.\n",
            "WARNING:tensorflow:Importing a function (__inference_functional_1_layer_call_and_return_conditional_losses_337362) with ops with custom gradients. Will likely fail if a gradient is requested.\n",
            "WARNING:tensorflow:Importing a function (__inference_functional_1_layer_call_and_return_conditional_losses_337362) with ops with custom gradients. Will likely fail if a gradient is requested.\n",
            "WARNING:tensorflow:Importing a function (__inference_functional_1_layer_call_and_return_conditional_losses_337362) with ops with custom gradients. Will likely fail if a gradient is requested.\n",
            "WARNING:tensorflow:Importing a function (__inference_functional_1_layer_call_and_return_conditional_losses_337362) with ops with custom gradients. Will likely fail if a gradient is requested.\n",
            "WARNING:tensorflow:Importing a function (__inference_functional_1_layer_call_and_return_conditional_losses_337362) with ops with custom gradients. Will likely fail if a gradient is requested.\n",
            "WARNING:tensorflow:Importing a function (__inference_functional_1_layer_call_and_return_conditional_losses_337362) with ops with custom gradients. Will likely fail if a gradient is requested.\n",
            "WARNING:tensorflow:Importing a function (__inference_functional_1_layer_call_and_return_conditional_losses_337362) with ops with custom gradients. Will likely fail if a gradient is requested.\n",
            "WARNING:tensorflow:Importing a function (__inference_functional_1_layer_call_and_return_conditional_losses_337362) with ops with custom gradients. Will likely fail if a gradient is requested.\n",
            "WARNING:tensorflow:Importing a function (__inference_functional_1_layer_call_and_return_conditional_losses_337362) with ops with custom gradients. Will likely fail if a gradient is requested.\n",
            "WARNING:tensorflow:Importing a function (__inference_functional_1_layer_call_and_return_conditional_losses_337362) with ops with custom gradients. Will likely fail if a gradient is requested.\n",
            "WARNING:tensorflow:Importing a function (__inference_functional_1_layer_call_and_return_conditional_losses_337362) with ops with custom gradients. Will likely fail if a gradient is requested.\n",
            "WARNING:tensorflow:Importing a function (__inference_functional_1_layer_call_and_return_conditional_losses_337362) with ops with custom gradients. Will likely fail if a gradient is requested.\n",
            "WARNING:tensorflow:Importing a function (__inference_functional_1_layer_call_and_return_conditional_losses_337362) with ops with custom gradients. Will likely fail if a gradient is requested.\n",
            "WARNING:tensorflow:Importing a function (__inference_functional_1_layer_call_and_return_conditional_losses_337362) with ops with custom gradients. Will likely fail if a gradient is requested.\n",
            "WARNING:tensorflow:Importing a function (__inference_functional_1_layer_call_and_return_conditional_losses_337362) with ops with custom gradients. Will likely fail if a gradient is requested.\n",
            "WARNING:tensorflow:Importing a function (__inference_functional_1_layer_call_and_return_conditional_losses_337362) with ops with custom gradients. Will likely fail if a gradient is requested.\n",
            "WARNING:tensorflow:Importing a function (__inference_functional_1_layer_call_and_return_conditional_losses_337362) with ops with custom gradients. Will likely fail if a gradient is requested.\n",
            "WARNING:tensorflow:Importing a function (__inference_functional_1_layer_call_and_return_conditional_losses_337362) with ops with custom gradients. Will likely fail if a gradient is requested.\n",
            "WARNING:tensorflow:Importing a function (__inference_functional_1_layer_call_and_return_conditional_losses_337362) with ops with custom gradients. Will likely fail if a gradient is requested.\n",
            "WARNING:tensorflow:Importing a function (__inference_functional_1_layer_call_and_return_conditional_losses_337362) with ops with custom gradients. Will likely fail if a gradient is requested.\n",
            "WARNING:tensorflow:Importing a function (__inference_functional_1_layer_call_and_return_conditional_losses_337362) with ops with custom gradients. Will likely fail if a gradient is requested.\n",
            "WARNING:tensorflow:Importing a function (__inference_functional_1_layer_call_and_return_conditional_losses_337362) with ops with custom gradients. Will likely fail if a gradient is requested.\n",
            "WARNING:tensorflow:Importing a function (__inference_functional_1_layer_call_and_return_conditional_losses_337362) with ops with custom gradients. Will likely fail if a gradient is requested.\n",
            "WARNING:tensorflow:Importing a function (__inference_functional_1_layer_call_and_return_conditional_losses_337362) with ops with custom gradients. Will likely fail if a gradient is requested.\n",
            "WARNING:tensorflow:Importing a function (__inference_functional_1_layer_call_and_return_conditional_losses_337362) with ops with custom gradients. Will likely fail if a gradient is requested.\n",
            "WARNING:tensorflow:Importing a function (__inference_functional_1_layer_call_and_return_conditional_losses_337362) with ops with custom gradients. Will likely fail if a gradient is requested.\n",
            "WARNING:tensorflow:Importing a function (__inference_functional_1_layer_call_and_return_conditional_losses_337362) with ops with custom gradients. Will likely fail if a gradient is requested.\n",
            "WARNING:tensorflow:Importing a function (__inference_functional_1_layer_call_and_return_conditional_losses_337362) with ops with custom gradients. Will likely fail if a gradient is requested.\n",
            "WARNING:tensorflow:Importing a function (__inference_functional_1_layer_call_and_return_conditional_losses_337362) with ops with custom gradients. Will likely fail if a gradient is requested.\n",
            "WARNING:tensorflow:Importing a function (__inference_functional_1_layer_call_and_return_conditional_losses_337362) with ops with custom gradients. Will likely fail if a gradient is requested.\n",
            "WARNING:tensorflow:Importing a function (__inference_functional_1_layer_call_and_return_conditional_losses_337362) with ops with custom gradients. Will likely fail if a gradient is requested.\n",
            "WARNING:tensorflow:Importing a function (__inference_functional_1_layer_call_and_return_conditional_losses_337362) with ops with custom gradients. Will likely fail if a gradient is requested.\n",
            "WARNING:tensorflow:Importing a function (__inference_functional_1_layer_call_and_return_conditional_losses_337362) with ops with custom gradients. Will likely fail if a gradient is requested.\n",
            "WARNING:tensorflow:Importing a function (__inference_functional_1_layer_call_and_return_conditional_losses_337362) with ops with custom gradients. Will likely fail if a gradient is requested.\n",
            "WARNING:tensorflow:Importing a function (__inference_functional_1_layer_call_and_return_conditional_losses_337362) with ops with custom gradients. Will likely fail if a gradient is requested.\n",
            "WARNING:tensorflow:Importing a function (__inference_block4i_activation_layer_call_and_return_conditional_losses_297775) with ops with custom gradients. Will likely fail if a gradient is requested.\n",
            "WARNING:tensorflow:Importing a function (__inference_block7d_se_reduce_layer_call_and_return_conditional_losses_371586) with ops with custom gradients. Will likely fail if a gradient is requested.\n",
            "WARNING:tensorflow:Importing a function (__inference_block6l_activation_layer_call_and_return_conditional_losses_368768) with ops with custom gradients. Will likely fail if a gradient is requested.\n",
            "WARNING:tensorflow:Importing a function (__inference_block5b_activation_layer_call_and_return_conditional_losses_357515) with ops with custom gradients. Will likely fail if a gradient is requested.\n",
            "WARNING:tensorflow:Importing a function (__inference_block2g_se_reduce_layer_call_and_return_conditional_losses_290790) with ops with custom gradients. Will likely fail if a gradient is requested.\n",
            "WARNING:tensorflow:Importing a function (__inference_block7c_expand_activation_layer_call_and_return_conditional_losses_370838) with ops with custom gradients. Will likely fail if a gradient is requested.\n",
            "WARNING:tensorflow:Importing a function (__inference_block2c_activation_layer_call_and_return_conditional_losses_288959) with ops with custom gradients. Will likely fail if a gradient is requested.\n",
            "WARNING:tensorflow:Importing a function (__inference_block6e_expand_activation_layer_call_and_return_conditional_losses_364670) with ops with custom gradients. Will likely fail if a gradient is requested.\n",
            "WARNING:tensorflow:Importing a function (__inference_block6d_expand_activation_layer_call_and_return_conditional_losses_304266) with ops with custom gradients. Will likely fail if a gradient is requested.\n",
            "WARNING:tensorflow:Importing a function (__inference_block5i_expand_activation_layer_call_and_return_conditional_losses_302088) with ops with custom gradients. Will likely fail if a gradient is requested.\n",
            "WARNING:tensorflow:Importing a function (__inference_block5h_activation_layer_call_and_return_conditional_losses_360905) with ops with custom gradients. Will likely fail if a gradient is requested.\n",
            "WARNING:tensorflow:Importing a function (__inference_block4b_se_reduce_layer_call_and_return_conditional_losses_351952) with ops with custom gradients. Will likely fail if a gradient is requested.\n",
            "WARNING:tensorflow:Importing a function (__inference_block3d_se_reduce_layer_call_and_return_conditional_losses_349174) with ops with custom gradients. Will likely fail if a gradient is requested.\n",
            "WARNING:tensorflow:Importing a function (__inference_block6h_se_reduce_layer_call_and_return_conditional_losses_306191) with ops with custom gradients. Will likely fail if a gradient is requested.\n",
            "WARNING:tensorflow:Importing a function (__inference_block3e_activation_layer_call_and_return_conditional_losses_292921) with ops with custom gradients. Will likely fail if a gradient is requested.\n",
            "WARNING:tensorflow:Importing a function (__inference_block4g_expand_activation_layer_call_and_return_conditional_losses_354594) with ops with custom gradients. Will likely fail if a gradient is requested.\n",
            "WARNING:tensorflow:Importing a function (__inference_block5i_expand_activation_layer_call_and_return_conditional_losses_361327) with ops with custom gradients. Will likely fail if a gradient is requested.\n",
            "WARNING:tensorflow:Importing a function (__inference_block2f_se_reduce_layer_call_and_return_conditional_losses_290344) with ops with custom gradients. Will likely fail if a gradient is requested.\n",
            "WARNING:tensorflow:Importing a function (__inference_block3g_se_reduce_layer_call_and_return_conditional_losses_350869) with ops with custom gradients. Will likely fail if a gradient is requested.\n",
            "WARNING:tensorflow:Importing a function (__inference_block6e_activation_layer_call_and_return_conditional_losses_304806) with ops with custom gradients. Will likely fail if a gradient is requested.\n",
            "WARNING:tensorflow:Importing a function (__inference_block2a_se_reduce_layer_call_and_return_conditional_losses_343618) with ops with custom gradients. Will likely fail if a gradient is requested.\n",
            "WARNING:tensorflow:Importing a function (__inference_block2d_expand_activation_layer_call_and_return_conditional_losses_289311) with ops with custom gradients. Will likely fail if a gradient is requested.\n",
            "WARNING:tensorflow:Importing a function (__inference_block3b_activation_layer_call_and_return_conditional_losses_291583) with ops with custom gradients. Will likely fail if a gradient is requested.\n",
            "WARNING:tensorflow:Importing a function (__inference_block7a_se_reduce_layer_call_and_return_conditional_losses_308867) with ops with custom gradients. Will likely fail if a gradient is requested.\n",
            "WARNING:tensorflow:Importing a function (__inference_block4i_activation_layer_call_and_return_conditional_losses_355867) with ops with custom gradients. Will likely fail if a gradient is requested.\n",
            "WARNING:tensorflow:Importing a function (__inference_block7a_expand_activation_layer_call_and_return_conditional_losses_369755) with ops with custom gradients. Will likely fail if a gradient is requested.\n",
            "WARNING:tensorflow:Importing a function (__inference_block4a_expand_activation_layer_call_and_return_conditional_losses_294165) with ops with custom gradients. Will likely fail if a gradient is requested.\n",
            "WARNING:tensorflow:Importing a function (__inference_block6d_expand_activation_layer_call_and_return_conditional_losses_364105) with ops with custom gradients. Will likely fail if a gradient is requested.\n",
            "WARNING:tensorflow:Importing a function (__inference_block7c_activation_layer_call_and_return_conditional_losses_370981) with ops with custom gradients. Will likely fail if a gradient is requested.\n",
            "WARNING:tensorflow:Importing a function (__inference_block6h_se_reduce_layer_call_and_return_conditional_losses_366548) with ops with custom gradients. Will likely fail if a gradient is requested.\n",
            "WARNING:tensorflow:Importing a function (__inference_block5e_expand_activation_layer_call_and_return_conditional_losses_359067) with ops with custom gradients. Will likely fail if a gradient is requested.\n",
            "WARNING:tensorflow:Importing a function (__inference_block5b_se_reduce_layer_call_and_return_conditional_losses_357555) with ops with custom gradients. Will likely fail if a gradient is requested.\n",
            "WARNING:tensorflow:Importing a function (__inference_block6l_expand_activation_layer_call_and_return_conditional_losses_307834) with ops with custom gradients. Will likely fail if a gradient is requested.\n",
            "WARNING:tensorflow:Importing a function (__inference_block4b_activation_layer_call_and_return_conditional_losses_351912) with ops with custom gradients. Will likely fail if a gradient is requested.\n",
            "WARNING:tensorflow:Importing a function (__inference_block4c_se_reduce_layer_call_and_return_conditional_losses_295146) with ops with custom gradients. Will likely fail if a gradient is requested.\n",
            "WARNING:tensorflow:Importing a function (__inference_block6i_activation_layer_call_and_return_conditional_losses_306590) with ops with custom gradients. Will likely fail if a gradient is requested.\n",
            "WARNING:tensorflow:Importing a function (__inference_block4g_activation_layer_call_and_return_conditional_losses_354737) with ops with custom gradients. Will likely fail if a gradient is requested.\n",
            "WARNING:tensorflow:Importing a function (__inference_block1b_se_reduce_layer_call_and_return_conditional_losses_287048) with ops with custom gradients. Will likely fail if a gradient is requested.\n",
            "WARNING:tensorflow:Importing a function (__inference_block2f_se_reduce_layer_call_and_return_conditional_losses_346396) with ops with custom gradients. Will likely fail if a gradient is requested.\n",
            "WARNING:tensorflow:Importing a function (__inference_block6a_activation_layer_call_and_return_conditional_losses_303075) with ops with custom gradients. Will likely fail if a gradient is requested.\n",
            "WARNING:tensorflow:Importing a function (__inference_block4b_se_reduce_layer_call_and_return_conditional_losses_294700) with ops with custom gradients. Will likely fail if a gradient is requested.\n",
            "WARNING:tensorflow:Importing a function (__inference_block4f_activation_layer_call_and_return_conditional_losses_354172) with ops with custom gradients. Will likely fail if a gradient is requested.\n",
            "WARNING:tensorflow:Importing a function (__inference_block1d_se_reduce_layer_call_and_return_conditional_losses_343053) with ops with custom gradients. Will likely fail if a gradient is requested.\n",
            "WARNING:tensorflow:Importing a function (__inference_block3c_se_reduce_layer_call_and_return_conditional_losses_292076) with ops with custom gradients. Will likely fail if a gradient is requested.\n",
            "WARNING:tensorflow:Importing a function (__inference_block4d_se_reduce_layer_call_and_return_conditional_losses_353082) with ops with custom gradients. Will likely fail if a gradient is requested.\n",
            "WARNING:tensorflow:Importing a function (__inference_block1b_activation_layer_call_and_return_conditional_losses_342197) with ops with custom gradients. Will likely fail if a gradient is requested.\n",
            "WARNING:tensorflow:Importing a function (__inference_block6b_se_reduce_layer_call_and_return_conditional_losses_303515) with ops with custom gradients. Will likely fail if a gradient is requested.\n",
            "WARNING:tensorflow:Importing a function (__inference_block7d_expand_activation_layer_call_and_return_conditional_losses_371403) with ops with custom gradients. Will likely fail if a gradient is requested.\n",
            "WARNING:tensorflow:Importing a function (__inference_block3c_expand_activation_layer_call_and_return_conditional_losses_291935) with ops with custom gradients. Will likely fail if a gradient is requested.\n",
            "WARNING:tensorflow:Importing a function (__inference_block6j_activation_layer_call_and_return_conditional_losses_307036) with ops with custom gradients. Will likely fail if a gradient is requested.\n",
            "WARNING:tensorflow:Importing a function (__inference_block4d_expand_activation_layer_call_and_return_conditional_losses_352899) with ops with custom gradients. Will likely fail if a gradient is requested.\n",
            "WARNING:tensorflow:Importing a function (__inference_block4g_se_reduce_layer_call_and_return_conditional_losses_296930) with ops with custom gradients. Will likely fail if a gradient is requested.\n",
            "WARNING:tensorflow:Importing a function (__inference_block5g_activation_layer_call_and_return_conditional_losses_360340) with ops with custom gradients. Will likely fail if a gradient is requested.\n",
            "WARNING:tensorflow:Importing a function (__inference_block6h_expand_activation_layer_call_and_return_conditional_losses_366365) with ops with custom gradients. Will likely fail if a gradient is requested.\n",
            "WARNING:tensorflow:Importing a function (__inference_block2a_se_reduce_layer_call_and_return_conditional_losses_288167) with ops with custom gradients. Will likely fail if a gradient is requested.\n",
            "WARNING:tensorflow:Importing a function (__inference_block3f_activation_layer_call_and_return_conditional_losses_350264) with ops with custom gradients. Will likely fail if a gradient is requested.\n",
            "WARNING:tensorflow:Importing a function (__inference_block6g_activation_layer_call_and_return_conditional_losses_365943) with ops with custom gradients. Will likely fail if a gradient is requested.\n",
            "WARNING:tensorflow:Importing a function (__inference_block5j_se_reduce_layer_call_and_return_conditional_losses_302675) with ops with custom gradients. Will likely fail if a gradient is requested.\n",
            "WARNING:tensorflow:Importing a function (__inference_block5c_se_reduce_layer_call_and_return_conditional_losses_299553) with ops with custom gradients. Will likely fail if a gradient is requested.\n",
            "WARNING:tensorflow:Importing a function (__inference_block6l_se_reduce_layer_call_and_return_conditional_losses_307975) with ops with custom gradients. Will likely fail if a gradient is requested.\n",
            "WARNING:tensorflow:Importing a function (__inference_block4c_expand_activation_layer_call_and_return_conditional_losses_352334) with ops with custom gradients. Will likely fail if a gradient is requested.\n",
            "WARNING:tensorflow:Importing a function (__inference_block4i_se_reduce_layer_call_and_return_conditional_losses_297822) with ops with custom gradients. Will likely fail if a gradient is requested.\n",
            "WARNING:tensorflow:Importing a function (__inference_block4g_se_reduce_layer_call_and_return_conditional_losses_354777) with ops with custom gradients. Will likely fail if a gradient is requested.\n",
            "WARNING:tensorflow:Importing a function (__inference_block3e_activation_layer_call_and_return_conditional_losses_349699) with ops with custom gradients. Will likely fail if a gradient is requested.\n",
            "WARNING:tensorflow:Importing a function (__inference_block3a_expand_activation_layer_call_and_return_conditional_losses_291095) with ops with custom gradients. Will likely fail if a gradient is requested.\n",
            "WARNING:tensorflow:Importing a function (__inference_block5e_activation_layer_call_and_return_conditional_losses_359210) with ops with custom gradients. Will likely fail if a gradient is requested.\n",
            "WARNING:tensorflow:Importing a function (__inference_block3d_expand_activation_layer_call_and_return_conditional_losses_348991) with ops with custom gradients. Will likely fail if a gradient is requested.\n",
            "WARNING:tensorflow:Importing a function (__inference_block6d_activation_layer_call_and_return_conditional_losses_304360) with ops with custom gradients. Will likely fail if a gradient is requested.\n",
            "WARNING:tensorflow:Importing a function (__inference_block4e_expand_activation_layer_call_and_return_conditional_losses_295897) with ops with custom gradients. Will likely fail if a gradient is requested.\n",
            "WARNING:tensorflow:Importing a function (__inference_block4h_activation_layer_call_and_return_conditional_losses_355302) with ops with custom gradients. Will likely fail if a gradient is requested.\n",
            "WARNING:tensorflow:Importing a function (__inference_block4e_se_reduce_layer_call_and_return_conditional_losses_353647) with ops with custom gradients. Will likely fail if a gradient is requested.\n",
            "WARNING:tensorflow:Importing a function (__inference_block5a_se_reduce_layer_call_and_return_conditional_losses_298714) with ops with custom gradients. Will likely fail if a gradient is requested.\n",
            "WARNING:tensorflow:Importing a function (__inference_block4b_activation_layer_call_and_return_conditional_losses_294653) with ops with custom gradients. Will likely fail if a gradient is requested.\n",
            "WARNING:tensorflow:Importing a function (__inference_block6d_activation_layer_call_and_return_conditional_losses_364248) with ops with custom gradients. Will likely fail if a gradient is requested.\n",
            "WARNING:tensorflow:Importing a function (__inference_block5b_expand_activation_layer_call_and_return_conditional_losses_298966) with ops with custom gradients. Will likely fail if a gradient is requested.\n",
            "WARNING:tensorflow:Importing a function (__inference_block3f_se_reduce_layer_call_and_return_conditional_losses_350304) with ops with custom gradients. Will likely fail if a gradient is requested.\n",
            "WARNING:tensorflow:Importing a function (__inference_block2e_activation_layer_call_and_return_conditional_losses_345791) with ops with custom gradients. Will likely fail if a gradient is requested.\n",
            "WARNING:tensorflow:Importing a function (__inference_block3f_se_reduce_layer_call_and_return_conditional_losses_293414) with ops with custom gradients. Will likely fail if a gradient is requested.\n",
            "WARNING:tensorflow:Importing a function (__inference_block3c_activation_layer_call_and_return_conditional_losses_348569) with ops with custom gradients. Will likely fail if a gradient is requested.\n",
            "WARNING:tensorflow:Importing a function (__inference_block4h_activation_layer_call_and_return_conditional_losses_297329) with ops with custom gradients. Will likely fail if a gradient is requested.\n",
            "WARNING:tensorflow:Importing a function (__inference_block3c_se_reduce_layer_call_and_return_conditional_losses_348609) with ops with custom gradients. Will likely fail if a gradient is requested.\n",
            "WARNING:tensorflow:Importing a function (__inference_block1c_activation_layer_call_and_return_conditional_losses_342605) with ops with custom gradients. Will likely fail if a gradient is requested.\n",
            "WARNING:tensorflow:Importing a function (__inference_block1c_se_reduce_layer_call_and_return_conditional_losses_287384) with ops with custom gradients. Will likely fail if a gradient is requested.\n",
            "WARNING:tensorflow:Importing a function (__inference_block4c_expand_activation_layer_call_and_return_conditional_losses_295005) with ops with custom gradients. Will likely fail if a gradient is requested.\n",
            "WARNING:tensorflow:Importing a function (__inference_block6g_expand_activation_layer_call_and_return_conditional_losses_365800) with ops with custom gradients. Will likely fail if a gradient is requested.\n",
            "WARNING:tensorflow:Importing a function (__inference_block6e_se_reduce_layer_call_and_return_conditional_losses_304853) with ops with custom gradients. Will likely fail if a gradient is requested.\n",
            "WARNING:tensorflow:Importing a function (__inference_block5a_se_reduce_layer_call_and_return_conditional_losses_357037) with ops with custom gradients. Will likely fail if a gradient is requested.\n",
            "WARNING:tensorflow:Importing a function (__inference_block4j_activation_layer_call_and_return_conditional_losses_298221) with ops with custom gradients. Will likely fail if a gradient is requested.\n",
            "WARNING:tensorflow:Importing a function (__inference_block1d_se_reduce_layer_call_and_return_conditional_losses_287720) with ops with custom gradients. Will likely fail if a gradient is requested.\n",
            "WARNING:tensorflow:Importing a function (__inference_block2d_se_reduce_layer_call_and_return_conditional_losses_289452) with ops with custom gradients. Will likely fail if a gradient is requested.\n",
            "WARNING:tensorflow:Importing a function (__inference_block6d_se_reduce_layer_call_and_return_conditional_losses_364288) with ops with custom gradients. Will likely fail if a gradient is requested.\n",
            "WARNING:tensorflow:Importing a function (__inference_block6m_se_reduce_layer_call_and_return_conditional_losses_308421) with ops with custom gradients. Will likely fail if a gradient is requested.\n",
            "WARNING:tensorflow:Importing a function (__inference_block5e_se_reduce_layer_call_and_return_conditional_losses_300445) with ops with custom gradients. Will likely fail if a gradient is requested.\n",
            "WARNING:tensorflow:Importing a function (__inference_block6i_expand_activation_layer_call_and_return_conditional_losses_366930) with ops with custom gradients. Will likely fail if a gradient is requested.\n",
            "WARNING:tensorflow:Importing a function (__inference_block3d_expand_activation_layer_call_and_return_conditional_losses_292381) with ops with custom gradients. Will likely fail if a gradient is requested.\n",
            "WARNING:tensorflow:Importing a function (__inference_block6e_expand_activation_layer_call_and_return_conditional_losses_304712) with ops with custom gradients. Will likely fail if a gradient is requested.\n",
            "WARNING:tensorflow:Importing a function (__inference_block2b_activation_layer_call_and_return_conditional_losses_288513) with ops with custom gradients. Will likely fail if a gradient is requested.\n",
            "WARNING:tensorflow:Importing a function (__inference_block2a_expand_activation_layer_call_and_return_conditional_losses_343435) with ops with custom gradients. Will likely fail if a gradient is requested.\n",
            "WARNING:tensorflow:Importing a function (__inference_block2g_activation_layer_call_and_return_conditional_losses_346921) with ops with custom gradients. Will likely fail if a gradient is requested.\n",
            "WARNING:tensorflow:Importing a function (__inference_block4h_expand_activation_layer_call_and_return_conditional_losses_297235) with ops with custom gradients. Will likely fail if a gradient is requested.\n",
            "WARNING:tensorflow:Importing a function (__inference_block6m_expand_activation_layer_call_and_return_conditional_losses_308280) with ops with custom gradients. Will likely fail if a gradient is requested.\n",
            "WARNING:tensorflow:Importing a function (__inference_stem_activation_layer_call_and_return_conditional_losses_286624) with ops with custom gradients. Will likely fail if a gradient is requested.\n",
            "WARNING:tensorflow:Importing a function (__inference_block1b_se_reduce_layer_call_and_return_conditional_losses_342237) with ops with custom gradients. Will likely fail if a gradient is requested.\n",
            "WARNING:tensorflow:Importing a function (__inference_block3d_activation_layer_call_and_return_conditional_losses_349134) with ops with custom gradients. Will likely fail if a gradient is requested.\n",
            "WARNING:tensorflow:Importing a function (__inference_block4i_se_reduce_layer_call_and_return_conditional_losses_355907) with ops with custom gradients. Will likely fail if a gradient is requested.\n",
            "WARNING:tensorflow:Importing a function (__inference_block5a_activation_layer_call_and_return_conditional_losses_356997) with ops with custom gradients. Will likely fail if a gradient is requested.\n",
            "WARNING:tensorflow:Importing a function (__inference_block6k_se_reduce_layer_call_and_return_conditional_losses_368243) with ops with custom gradients. Will likely fail if a gradient is requested.\n",
            "WARNING:tensorflow:Importing a function (__inference_block6m_activation_layer_call_and_return_conditional_losses_308374) with ops with custom gradients. Will likely fail if a gradient is requested.\n",
            "WARNING:tensorflow:Importing a function (__inference_block4g_expand_activation_layer_call_and_return_conditional_losses_296789) with ops with custom gradients. Will likely fail if a gradient is requested.\n",
            "WARNING:tensorflow:Importing a function (__inference_top_activation_layer_call_and_return_conditional_losses_310457) with ops with custom gradients. Will likely fail if a gradient is requested.\n",
            "WARNING:tensorflow:Importing a function (__inference_block6g_se_reduce_layer_call_and_return_conditional_losses_365983) with ops with custom gradients. Will likely fail if a gradient is requested.\n",
            "WARNING:tensorflow:Importing a function (__inference_block2f_expand_activation_layer_call_and_return_conditional_losses_290203) with ops with custom gradients. Will likely fail if a gradient is requested.\n",
            "WARNING:tensorflow:Importing a function (__inference_block6e_activation_layer_call_and_return_conditional_losses_364813) with ops with custom gradients. Will likely fail if a gradient is requested.\n",
            "WARNING:tensorflow:Importing a function (__inference_block5c_se_reduce_layer_call_and_return_conditional_losses_358120) with ops with custom gradients. Will likely fail if a gradient is requested.\n",
            "WARNING:tensorflow:Importing a function (__inference_block5b_activation_layer_call_and_return_conditional_losses_299060) with ops with custom gradients. Will likely fail if a gradient is requested.\n",
            "WARNING:tensorflow:Importing a function (__inference_block7a_activation_layer_call_and_return_conditional_losses_369898) with ops with custom gradients. Will likely fail if a gradient is requested.\n",
            "WARNING:tensorflow:Importing a function (__inference_block6g_activation_layer_call_and_return_conditional_losses_305698) with ops with custom gradients. Will likely fail if a gradient is requested.\n",
            "WARNING:tensorflow:Importing a function (__inference_block5c_expand_activation_layer_call_and_return_conditional_losses_299412) with ops with custom gradients. Will likely fail if a gradient is requested.\n"
          ],
          "name": "stdout"
        }
      ]
    },
    {
      "cell_type": "code",
      "metadata": {
        "id": "IDrb2TKqOva9",
        "colab_type": "code",
        "colab": {}
      },
      "source": [
        "model1._name=\"model1\"\n",
        "model2._name=\"model2\"\n",
        "model4._name=\"model4\"\n",
        "model5._name=\"model5\""
      ],
      "execution_count": 43,
      "outputs": []
    },
    {
      "cell_type": "code",
      "metadata": {
        "id": "1dTD6R4ILI2E",
        "colab_type": "code",
        "colab": {
          "base_uri": "https://localhost:8080/",
          "height": 714
        },
        "outputId": "b870d1a6-7365-45e3-bc4b-f02ada4ee183"
      },
      "source": [
        "#personalização e união\n",
        "x = tf.keras.layers.Input(shape=[299, 299, 3])\n",
        "\n",
        "model_1 = model1(x)\n",
        "model_1 = tf.keras.layers.Flatten()(model_1)\n",
        "model_1 = tf.multiply(model_1, 0.0021)\n",
        "\n",
        "model_2 = model2(x)\n",
        "model_2 = tf.keras.layers.Flatten()(model_2)\n",
        "model_2 = tf.multiply(model_2, 0.7973)\n",
        "\n",
        "model_4 = model4(x)\n",
        "model_4 = tf.keras.layers.Flatten()(model_4)\n",
        "model_4 = tf.multiply(model_4, 0.1002)\n",
        "\n",
        "model_5 = model5(x)\n",
        "model_5 = tf.keras.layers.Flatten()(model_5)\n",
        "model_5 = tf.multiply(model_5, 0.1004)\n",
        "\n",
        "base_model = tf.keras.layers.average([model_1, model_2, model_4, model_5])\n",
        "\n",
        "prediction_layer = tf.keras.layers.Dense(units = 8, activation = \"softmax\")(base_model)\n",
        "\n",
        "#final_model\n",
        "model = tf.keras.models.Model(inputs = x, outputs = prediction_layer)\n",
        "\n",
        "#optimizer\n",
        "radam = tfa.optimizers.RectifiedAdam(\n",
        "    lr=1e-2,\n",
        "    total_steps=251,\n",
        "    warmup_proportion=0.1,\n",
        "    min_lr=1e-5)\n",
        "ranger = tfa.optimizers.Lookahead(radam, sync_period=6, slow_step_size=0.5)\n",
        "optm = ranger\n",
        "\n",
        "#compilador\n",
        "model.compile(optimizer=optm, loss=tf.keras.losses.CategoricalCrossentropy(), metrics=[tf.keras.metrics.CategoricalAccuracy()])\n",
        "\n",
        "#model summary\n",
        "model.summary()"
      ],
      "execution_count": 44,
      "outputs": [
        {
          "output_type": "stream",
          "text": [
            "Model: \"functional_2\"\n",
            "__________________________________________________________________________________________________\n",
            "Layer (type)                    Output Shape         Param #     Connected to                     \n",
            "==================================================================================================\n",
            "input_5 (InputLayer)            [(None, 299, 299, 3) 0                                            \n",
            "__________________________________________________________________________________________________\n",
            "model1 (Functional)             (None, 8)            64118175    input_5[0][0]                    \n",
            "__________________________________________________________________________________________________\n",
            "model2 (Functional)             (None, 8)            54349032    input_5[0][0]                    \n",
            "__________________________________________________________________________________________________\n",
            "model4 (Functional)             (None, 8)            21819176    input_5[0][0]                    \n",
            "__________________________________________________________________________________________________\n",
            "model5 (Functional)             (None, 8)            20877872    input_5[0][0]                    \n",
            "__________________________________________________________________________________________________\n",
            "flatten_12 (Flatten)            (None, 8)            0           model1[2][0]                     \n",
            "__________________________________________________________________________________________________\n",
            "flatten_13 (Flatten)            (None, 8)            0           model2[2][0]                     \n",
            "__________________________________________________________________________________________________\n",
            "flatten_14 (Flatten)            (None, 8)            0           model4[2][0]                     \n",
            "__________________________________________________________________________________________________\n",
            "flatten_15 (Flatten)            (None, 8)            0           model5[2][0]                     \n",
            "__________________________________________________________________________________________________\n",
            "tf.math.multiply_9 (TFOpLambda) (None, 8)            0           flatten_12[0][0]                 \n",
            "__________________________________________________________________________________________________\n",
            "tf.math.multiply_10 (TFOpLambda (None, 8)            0           flatten_13[0][0]                 \n",
            "__________________________________________________________________________________________________\n",
            "tf.math.multiply_11 (TFOpLambda (None, 8)            0           flatten_14[0][0]                 \n",
            "__________________________________________________________________________________________________\n",
            "tf.math.multiply_12 (TFOpLambda (None, 8)            0           flatten_15[0][0]                 \n",
            "__________________________________________________________________________________________________\n",
            "average_1 (Average)             (None, 8)            0           tf.math.multiply_9[0][0]         \n",
            "                                                                 tf.math.multiply_10[0][0]        \n",
            "                                                                 tf.math.multiply_11[0][0]        \n",
            "                                                                 tf.math.multiply_12[0][0]        \n",
            "__________________________________________________________________________________________________\n",
            "dense_2 (Dense)                 (None, 8)            72          average_1[0][0]                  \n",
            "==================================================================================================\n",
            "Total params: 161,164,327\n",
            "Trainable params: 160,704,096\n",
            "Non-trainable params: 460,231\n",
            "__________________________________________________________________________________________________\n"
          ],
          "name": "stdout"
        }
      ]
    },
    {
      "cell_type": "markdown",
      "metadata": {
        "id": "oYA6Wgi9L4NR",
        "colab_type": "text"
      },
      "source": [
        "\n",
        "\n",
        "```\n",
        "model1 - Weight: 0.0021 - accuracy_score: 0.8468\n",
        "model2 - Weight: 0.7973 - accuracy_score: 0.9511\n",
        "model4 - Weight: 0.1002 - accuracy_score: 0.9301\n",
        "model5 - Weight: 0.1004 - accuracy_score: 0.9306\n",
        "DirichletEnsemble accuracy_score: 0.9521\n",
        "```\n",
        "\n"
      ]
    },
    {
      "cell_type": "markdown",
      "metadata": {
        "id": "tGehXq7adtoh",
        "colab_type": "text"
      },
      "source": [
        "### Carregar modelo após Fine Tuning com os melhores pesos"
      ]
    },
    {
      "cell_type": "markdown",
      "metadata": {
        "id": "g0cYZxeN7OjD",
        "colab_type": "text"
      },
      "source": [
        "### Matriz de Validação"
      ]
    },
    {
      "cell_type": "markdown",
      "metadata": {
        "id": "YEnRn26Zd275",
        "colab_type": "text"
      },
      "source": [
        "### Execução das predições na base de testes"
      ]
    },
    {
      "cell_type": "code",
      "metadata": {
        "id": "62gwZu7Lhsb-",
        "colab_type": "code",
        "colab": {}
      },
      "source": [
        "%%time\n",
        "\n",
        "test_generator.reset()\n",
        "pred=model.predict(test_generator)"
      ],
      "execution_count": null,
      "outputs": []
    },
    {
      "cell_type": "markdown",
      "metadata": {
        "id": "XOwX-WyOd90K",
        "colab_type": "text"
      },
      "source": [
        "### Identificar classe predita"
      ]
    },
    {
      "cell_type": "code",
      "metadata": {
        "id": "vWto3bzwhsEM",
        "colab_type": "code",
        "colab": {}
      },
      "source": [
        "#def predClasses(pred, train_generator):\n",
        "#  predicted_class_indices=np.argmax(pred,axis=1)\n",
        "#\n",
        "#  labels = (train_generator.class_indices)\n",
        "#  labels = dict((v,k) for k,v in labels.items())\n",
        "#  predictions = [labels[k] for k in predicted_class_indices]\n",
        "#  return predicted_class_indices, labels, predictions\n",
        "\n",
        "#predicted_class_indices, labels, predictions = predClasses(pred, train_generator)"
      ],
      "execution_count": null,
      "outputs": []
    },
    {
      "cell_type": "code",
      "metadata": {
        "id": "-d0B78sVtLNT",
        "colab_type": "code",
        "colab": {}
      },
      "source": [
        "#image,MEL,NV,BCC,AK,BKL,DF,VASC,SCC,UNK\n",
        "#labels[5]\n",
        "#predicted_class_indices[0]\n",
        "#predictions[0]\n",
        "#predicted_class_indices[0]\n",
        "#pred[0].max()"
      ],
      "execution_count": null,
      "outputs": []
    },
    {
      "cell_type": "code",
      "metadata": {
        "id": "O2VmHHNZu7H7",
        "colab_type": "code",
        "colab": {}
      },
      "source": [
        "def is_unknown(pred, th):\n",
        "  unk = []\n",
        "  for row in pred:\n",
        "    if row.max() < th:\n",
        "        #Unknown class\n",
        "        unk.append(1.0)\n",
        "    else:\n",
        "        unk.append(0.0)\n",
        "  return unk\n",
        "\n",
        "th = 0.35"
      ],
      "execution_count": null,
      "outputs": []
    },
    {
      "cell_type": "markdown",
      "metadata": {
        "id": "j87O7hoeeHex",
        "colab_type": "text"
      },
      "source": [
        "### Salvar resultado para conferência"
      ]
    },
    {
      "cell_type": "code",
      "metadata": {
        "id": "7lnWqtgTtzrj",
        "colab_type": "code",
        "colab": {}
      },
      "source": [
        "pd.set_option('display.float_format', lambda x: '%.12f' % x)\n",
        "results_file = os.path.join(derm_ai_path, 'results_deepstack.csv')\n",
        "\n",
        "def saveResultsFile(results_file,pred, test_generator, unk):\n",
        "  filenames=test_generator.filenames\n",
        "  filenames = [w.replace('test/', '') for w in filenames]\n",
        "  filenames = [w.replace('.jpg', '') for w in filenames]\n",
        "  results=pd.DataFrame({\"image\":filenames,\n",
        "                        \"MEL\":pred[:,4],\n",
        "                        \"NV\":pred[:,5],\n",
        "                        \"BCC\":pred[:,1],\n",
        "                        \"AK\":pred[:,0],\n",
        "                        \"BKL\":pred[:,2],\n",
        "                        \"DF\":pred[:,3],\n",
        "                        \"VASC\":pred[:,7],\n",
        "                        \"SCC\":pred[:,6],\n",
        "                        \"UNK\": unk\n",
        "                        })\n",
        "  results.to_csv(results_file,index=False, float_format='%.12f')\n",
        "\n",
        "unk = is_unknown(pred, th)\n",
        "saveResultsFile(results_file, pred, test_generator, unk)"
      ],
      "execution_count": null,
      "outputs": []
    },
    {
      "cell_type": "code",
      "metadata": {
        "id": "0-O0hL-NxG2z",
        "colab_type": "code",
        "colab": {}
      },
      "source": [
        "df_comp = pd.read_csv(results_file)\n",
        "df_comp.head()"
      ],
      "execution_count": null,
      "outputs": []
    },
    {
      "cell_type": "markdown",
      "metadata": {
        "id": "HgC8QOCUeLkd",
        "colab_type": "text"
      },
      "source": [
        "### Rodar avaliação do modelo em relação a base de testes"
      ]
    },
    {
      "cell_type": "markdown",
      "metadata": {
        "id": "hwSqJwVIeVed",
        "colab_type": "text"
      },
      "source": [
        "### Salvar modelo com score obtido"
      ]
    },
    {
      "cell_type": "markdown",
      "metadata": {
        "id": "A26Tz54SeeuJ",
        "colab_type": "text"
      },
      "source": [
        "### Carregar melhor modelo "
      ]
    },
    {
      "cell_type": "markdown",
      "metadata": {
        "id": "c14Jo3t8zyS_",
        "colab_type": "text"
      },
      "source": [
        "## Etapa 5: Tensorflow Lite"
      ]
    },
    {
      "cell_type": "markdown",
      "metadata": {
        "id": "9REtjTTqelih",
        "colab_type": "text"
      },
      "source": [
        "### Converter modelo para formato tflite"
      ]
    },
    {
      "cell_type": "markdown",
      "metadata": {
        "id": "KGgID5zdeuuR",
        "colab_type": "text"
      },
      "source": [
        "### Salvar arquivo convertido"
      ]
    },
    {
      "cell_type": "markdown",
      "metadata": {
        "id": "CNS9axbd2Mmm",
        "colab_type": "text"
      },
      "source": [
        "### Testar modelo convertido (TFLite)\n",
        "https://medium.com/towards-artificial-intelligence/testing-tensorflow-lite-image-classification-model-e9c0100d8de3\n",
        "\n",
        "https://colab.research.google.com/github/frogermcs/TFLite-Tester/blob/master/notebooks/Testing_TFLite_model.ipynb#scrollTo=6WEyRJNsR5uL\n",
        "\n",
        "https://aihub.cloud.google.com/p/products%2F6ca92c9c-6932-45f8-8f08-15a1a6dfafc7"
      ]
    },
    {
      "cell_type": "code",
      "metadata": {
        "id": "CQ9zBKLT4bCB",
        "colab_type": "code",
        "colab": {}
      },
      "source": [
        ""
      ],
      "execution_count": null,
      "outputs": []
    }
  ]
}