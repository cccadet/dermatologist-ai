{
  "nbformat": 4,
  "nbformat_minor": 0,
  "metadata": {
    "colab": {
      "name": "01_Train1_ISIC_2019_model5_Xception.ipynb",
      "provenance": [],
      "collapsed_sections": [
        "QWiCoYphcSld",
        "HzglsbW7qBwz",
        "LpbQm2i9jYrP",
        "Vqc2bvfSbMfZ",
        "jQl1fF9Ca80N",
        "5gfYxIxDqN6f",
        "MlsIOpGljdlS",
        "HNLiNlROcm-x",
        "BXaZWN0uqZNK",
        "1VT0vKNCqzmi",
        "b-h7pZBzq5Gu",
        "dN1GC7rlrASa",
        "JuJTelonrFtr",
        "arX5o8G_rOiq",
        "a4v3E426rTpK"
      ],
      "toc_visible": true,
      "machine_shape": "hm",
      "include_colab_link": true
    },
    "kernelspec": {
      "name": "python3",
      "display_name": "Python 3"
    },
    "accelerator": "GPU"
  },
  "cells": [
    {
      "cell_type": "markdown",
      "metadata": {
        "id": "view-in-github",
        "colab_type": "text"
      },
      "source": [
        "<a href=\"https://colab.research.google.com/github/cccadet/dermatologist-ai/blob/master/01_Train1_ISIC_2019_model5_Xception.ipynb\" target=\"_parent\"><img src=\"https://colab.research.google.com/assets/colab-badge.svg\" alt=\"Open In Colab\"/></a>"
      ]
    },
    {
      "cell_type": "markdown",
      "metadata": {
        "id": "QWiCoYphcSld",
        "colab_type": "text"
      },
      "source": [
        "## Pré: Conexão com Google Drive"
      ]
    },
    {
      "cell_type": "code",
      "metadata": {
        "id": "71Fn8Ezffe1C",
        "colab_type": "code",
        "colab": {
          "base_uri": "https://localhost:8080/",
          "height": 122
        },
        "outputId": "22557006-f6fb-4a2c-be65-c519f2fd9db7"
      },
      "source": [
        "from google.colab import drive\n",
        "drive.mount('/content/drive')"
      ],
      "execution_count": 1,
      "outputs": [
        {
          "output_type": "stream",
          "text": [
            "Go to this URL in a browser: https://accounts.google.com/o/oauth2/auth?client_id=947318989803-6bn6qk8qdgf4n4g3pfee6491hc0brc4i.apps.googleusercontent.com&redirect_uri=urn%3aietf%3awg%3aoauth%3a2.0%3aoob&scope=email%20https%3a%2f%2fwww.googleapis.com%2fauth%2fdocs.test%20https%3a%2f%2fwww.googleapis.com%2fauth%2fdrive%20https%3a%2f%2fwww.googleapis.com%2fauth%2fdrive.photos.readonly%20https%3a%2f%2fwww.googleapis.com%2fauth%2fpeopleapi.readonly&response_type=code\n",
            "\n",
            "Enter your authorization code:\n",
            "··········\n",
            "Mounted at /content/drive\n"
          ],
          "name": "stdout"
        }
      ]
    },
    {
      "cell_type": "markdown",
      "metadata": {
        "id": "19QTXXYFazRX",
        "colab_type": "text"
      },
      "source": [
        "## Etapa 1: Instalação das dependências"
      ]
    },
    {
      "cell_type": "markdown",
      "metadata": {
        "id": "HzglsbW7qBwz",
        "colab_type": "text"
      },
      "source": [
        "### Instalação de bibliotecas"
      ]
    },
    {
      "cell_type": "code",
      "metadata": {
        "id": "KmIh3NZAaEkC",
        "colab_type": "code",
        "colab": {
          "base_uri": "https://localhost:8080/",
          "height": 0
        },
        "outputId": "9224de86-292b-4746-c5fe-c77f2f518a27"
      },
      "source": [
        "!pip install tensorflow-gpu\n",
        "!pip install tqdm\n",
        "#!pip install tensorflow-addons\n",
        "!pip install tfa-nightly\n",
        "!pip install deepstack"
      ],
      "execution_count": 2,
      "outputs": [
        {
          "output_type": "stream",
          "text": [
            "Collecting tensorflow-gpu\n",
            "\u001b[?25l  Downloading https://files.pythonhosted.org/packages/0f/11/763f55d3d15efd778ef24453f126e6c33635680e5a2bb346da3fab5997cb/tensorflow_gpu-2.3.0-cp36-cp36m-manylinux2010_x86_64.whl (320.4MB)\n",
            "\u001b[K     |████████████████████████████████| 320.4MB 50kB/s \n",
            "\u001b[?25hRequirement already satisfied: termcolor>=1.1.0 in /usr/local/lib/python3.6/dist-packages (from tensorflow-gpu) (1.1.0)\n",
            "Requirement already satisfied: astunparse==1.6.3 in /usr/local/lib/python3.6/dist-packages (from tensorflow-gpu) (1.6.3)\n",
            "Requirement already satisfied: protobuf>=3.9.2 in /usr/local/lib/python3.6/dist-packages (from tensorflow-gpu) (3.12.4)\n",
            "Requirement already satisfied: opt-einsum>=2.3.2 in /usr/local/lib/python3.6/dist-packages (from tensorflow-gpu) (3.3.0)\n",
            "Requirement already satisfied: google-pasta>=0.1.8 in /usr/local/lib/python3.6/dist-packages (from tensorflow-gpu) (0.2.0)\n",
            "Requirement already satisfied: numpy<1.19.0,>=1.16.0 in /usr/local/lib/python3.6/dist-packages (from tensorflow-gpu) (1.18.5)\n",
            "Requirement already satisfied: tensorboard<3,>=2.3.0 in /usr/local/lib/python3.6/dist-packages (from tensorflow-gpu) (2.3.0)\n",
            "Requirement already satisfied: keras-preprocessing<1.2,>=1.1.1 in /usr/local/lib/python3.6/dist-packages (from tensorflow-gpu) (1.1.2)\n",
            "Requirement already satisfied: six>=1.12.0 in /usr/local/lib/python3.6/dist-packages (from tensorflow-gpu) (1.15.0)\n",
            "Requirement already satisfied: wrapt>=1.11.1 in /usr/local/lib/python3.6/dist-packages (from tensorflow-gpu) (1.12.1)\n",
            "Requirement already satisfied: scipy==1.4.1 in /usr/local/lib/python3.6/dist-packages (from tensorflow-gpu) (1.4.1)\n",
            "Requirement already satisfied: grpcio>=1.8.6 in /usr/local/lib/python3.6/dist-packages (from tensorflow-gpu) (1.30.0)\n",
            "Requirement already satisfied: h5py<2.11.0,>=2.10.0 in /usr/local/lib/python3.6/dist-packages (from tensorflow-gpu) (2.10.0)\n",
            "Requirement already satisfied: gast==0.3.3 in /usr/local/lib/python3.6/dist-packages (from tensorflow-gpu) (0.3.3)\n",
            "Requirement already satisfied: tensorflow-estimator<2.4.0,>=2.3.0 in /usr/local/lib/python3.6/dist-packages (from tensorflow-gpu) (2.3.0)\n",
            "Requirement already satisfied: absl-py>=0.7.0 in /usr/local/lib/python3.6/dist-packages (from tensorflow-gpu) (0.9.0)\n",
            "Requirement already satisfied: wheel>=0.26 in /usr/local/lib/python3.6/dist-packages (from tensorflow-gpu) (0.34.2)\n",
            "Requirement already satisfied: setuptools in /usr/local/lib/python3.6/dist-packages (from protobuf>=3.9.2->tensorflow-gpu) (49.2.0)\n",
            "Requirement already satisfied: requests<3,>=2.21.0 in /usr/local/lib/python3.6/dist-packages (from tensorboard<3,>=2.3.0->tensorflow-gpu) (2.23.0)\n",
            "Requirement already satisfied: google-auth-oauthlib<0.5,>=0.4.1 in /usr/local/lib/python3.6/dist-packages (from tensorboard<3,>=2.3.0->tensorflow-gpu) (0.4.1)\n",
            "Requirement already satisfied: werkzeug>=0.11.15 in /usr/local/lib/python3.6/dist-packages (from tensorboard<3,>=2.3.0->tensorflow-gpu) (1.0.1)\n",
            "Requirement already satisfied: markdown>=2.6.8 in /usr/local/lib/python3.6/dist-packages (from tensorboard<3,>=2.3.0->tensorflow-gpu) (3.2.2)\n",
            "Requirement already satisfied: tensorboard-plugin-wit>=1.6.0 in /usr/local/lib/python3.6/dist-packages (from tensorboard<3,>=2.3.0->tensorflow-gpu) (1.7.0)\n",
            "Requirement already satisfied: google-auth<2,>=1.6.3 in /usr/local/lib/python3.6/dist-packages (from tensorboard<3,>=2.3.0->tensorflow-gpu) (1.17.2)\n",
            "Requirement already satisfied: idna<3,>=2.5 in /usr/local/lib/python3.6/dist-packages (from requests<3,>=2.21.0->tensorboard<3,>=2.3.0->tensorflow-gpu) (2.10)\n",
            "Requirement already satisfied: certifi>=2017.4.17 in /usr/local/lib/python3.6/dist-packages (from requests<3,>=2.21.0->tensorboard<3,>=2.3.0->tensorflow-gpu) (2020.6.20)\n",
            "Requirement already satisfied: urllib3!=1.25.0,!=1.25.1,<1.26,>=1.21.1 in /usr/local/lib/python3.6/dist-packages (from requests<3,>=2.21.0->tensorboard<3,>=2.3.0->tensorflow-gpu) (1.24.3)\n",
            "Requirement already satisfied: chardet<4,>=3.0.2 in /usr/local/lib/python3.6/dist-packages (from requests<3,>=2.21.0->tensorboard<3,>=2.3.0->tensorflow-gpu) (3.0.4)\n",
            "Requirement already satisfied: requests-oauthlib>=0.7.0 in /usr/local/lib/python3.6/dist-packages (from google-auth-oauthlib<0.5,>=0.4.1->tensorboard<3,>=2.3.0->tensorflow-gpu) (1.3.0)\n",
            "Requirement already satisfied: importlib-metadata; python_version < \"3.8\" in /usr/local/lib/python3.6/dist-packages (from markdown>=2.6.8->tensorboard<3,>=2.3.0->tensorflow-gpu) (1.7.0)\n",
            "Requirement already satisfied: cachetools<5.0,>=2.0.0 in /usr/local/lib/python3.6/dist-packages (from google-auth<2,>=1.6.3->tensorboard<3,>=2.3.0->tensorflow-gpu) (4.1.1)\n",
            "Requirement already satisfied: pyasn1-modules>=0.2.1 in /usr/local/lib/python3.6/dist-packages (from google-auth<2,>=1.6.3->tensorboard<3,>=2.3.0->tensorflow-gpu) (0.2.8)\n",
            "Requirement already satisfied: rsa<5,>=3.1.4; python_version >= \"3\" in /usr/local/lib/python3.6/dist-packages (from google-auth<2,>=1.6.3->tensorboard<3,>=2.3.0->tensorflow-gpu) (4.6)\n",
            "Requirement already satisfied: oauthlib>=3.0.0 in /usr/local/lib/python3.6/dist-packages (from requests-oauthlib>=0.7.0->google-auth-oauthlib<0.5,>=0.4.1->tensorboard<3,>=2.3.0->tensorflow-gpu) (3.1.0)\n",
            "Requirement already satisfied: zipp>=0.5 in /usr/local/lib/python3.6/dist-packages (from importlib-metadata; python_version < \"3.8\"->markdown>=2.6.8->tensorboard<3,>=2.3.0->tensorflow-gpu) (3.1.0)\n",
            "Requirement already satisfied: pyasn1<0.5.0,>=0.4.6 in /usr/local/lib/python3.6/dist-packages (from pyasn1-modules>=0.2.1->google-auth<2,>=1.6.3->tensorboard<3,>=2.3.0->tensorflow-gpu) (0.4.8)\n",
            "Installing collected packages: tensorflow-gpu\n",
            "Successfully installed tensorflow-gpu-2.3.0\n",
            "Requirement already satisfied: tqdm in /usr/local/lib/python3.6/dist-packages (4.41.1)\n",
            "Collecting tfa-nightly\n",
            "\u001b[?25l  Downloading https://files.pythonhosted.org/packages/ec/f0/6bef5077af00a44e499c25d2e3eff0a12a25e835a811af4eef7bda7c072c/tfa_nightly-0.12.0.dev20200811022730-cp36-cp36m-manylinux2010_x86_64.whl (1.1MB)\n",
            "\u001b[K     |████████████████████████████████| 1.1MB 7.6MB/s \n",
            "\u001b[?25hRequirement already satisfied: typeguard>=2.7 in /usr/local/lib/python3.6/dist-packages (from tfa-nightly) (2.7.1)\n",
            "Installing collected packages: tfa-nightly\n",
            "Successfully installed tfa-nightly-0.12.0.dev20200811022730\n",
            "Collecting deepstack\n",
            "  Downloading https://files.pythonhosted.org/packages/36/0a/7555b16579570cad2ec2b02b7a52ae6406f983e8fdde156ac3fe109fd16f/deepstack-0.0.9-py3-none-any.whl\n",
            "Requirement already satisfied: scikit-learn>=0.21.2 in /usr/local/lib/python3.6/dist-packages (from deepstack) (0.22.2.post1)\n",
            "Requirement already satisfied: keras>=2.2.5 in /usr/local/lib/python3.6/dist-packages (from deepstack) (2.4.3)\n",
            "Requirement already satisfied: tensorflow>=1.14.0 in /usr/local/lib/python3.6/dist-packages (from deepstack) (2.3.0)\n",
            "Requirement already satisfied: numpy>=1.16.4 in /usr/local/lib/python3.6/dist-packages (from deepstack) (1.18.5)\n",
            "Requirement already satisfied: joblib>=0.11 in /usr/local/lib/python3.6/dist-packages (from scikit-learn>=0.21.2->deepstack) (0.16.0)\n",
            "Requirement already satisfied: scipy>=0.17.0 in /usr/local/lib/python3.6/dist-packages (from scikit-learn>=0.21.2->deepstack) (1.4.1)\n",
            "Requirement already satisfied: h5py in /usr/local/lib/python3.6/dist-packages (from keras>=2.2.5->deepstack) (2.10.0)\n",
            "Requirement already satisfied: pyyaml in /usr/local/lib/python3.6/dist-packages (from keras>=2.2.5->deepstack) (3.13)\n",
            "Requirement already satisfied: google-pasta>=0.1.8 in /usr/local/lib/python3.6/dist-packages (from tensorflow>=1.14.0->deepstack) (0.2.0)\n",
            "Requirement already satisfied: wheel>=0.26 in /usr/local/lib/python3.6/dist-packages (from tensorflow>=1.14.0->deepstack) (0.34.2)\n",
            "Requirement already satisfied: astunparse==1.6.3 in /usr/local/lib/python3.6/dist-packages (from tensorflow>=1.14.0->deepstack) (1.6.3)\n",
            "Requirement already satisfied: protobuf>=3.9.2 in /usr/local/lib/python3.6/dist-packages (from tensorflow>=1.14.0->deepstack) (3.12.4)\n",
            "Requirement already satisfied: wrapt>=1.11.1 in /usr/local/lib/python3.6/dist-packages (from tensorflow>=1.14.0->deepstack) (1.12.1)\n",
            "Requirement already satisfied: six>=1.12.0 in /usr/local/lib/python3.6/dist-packages (from tensorflow>=1.14.0->deepstack) (1.15.0)\n",
            "Requirement already satisfied: grpcio>=1.8.6 in /usr/local/lib/python3.6/dist-packages (from tensorflow>=1.14.0->deepstack) (1.30.0)\n",
            "Requirement already satisfied: opt-einsum>=2.3.2 in /usr/local/lib/python3.6/dist-packages (from tensorflow>=1.14.0->deepstack) (3.3.0)\n",
            "Requirement already satisfied: keras-preprocessing<1.2,>=1.1.1 in /usr/local/lib/python3.6/dist-packages (from tensorflow>=1.14.0->deepstack) (1.1.2)\n",
            "Requirement already satisfied: tensorboard<3,>=2.3.0 in /usr/local/lib/python3.6/dist-packages (from tensorflow>=1.14.0->deepstack) (2.3.0)\n",
            "Requirement already satisfied: tensorflow-estimator<2.4.0,>=2.3.0 in /usr/local/lib/python3.6/dist-packages (from tensorflow>=1.14.0->deepstack) (2.3.0)\n",
            "Requirement already satisfied: gast==0.3.3 in /usr/local/lib/python3.6/dist-packages (from tensorflow>=1.14.0->deepstack) (0.3.3)\n",
            "Requirement already satisfied: termcolor>=1.1.0 in /usr/local/lib/python3.6/dist-packages (from tensorflow>=1.14.0->deepstack) (1.1.0)\n",
            "Requirement already satisfied: absl-py>=0.7.0 in /usr/local/lib/python3.6/dist-packages (from tensorflow>=1.14.0->deepstack) (0.9.0)\n",
            "Requirement already satisfied: setuptools in /usr/local/lib/python3.6/dist-packages (from protobuf>=3.9.2->tensorflow>=1.14.0->deepstack) (49.2.0)\n",
            "Requirement already satisfied: google-auth-oauthlib<0.5,>=0.4.1 in /usr/local/lib/python3.6/dist-packages (from tensorboard<3,>=2.3.0->tensorflow>=1.14.0->deepstack) (0.4.1)\n",
            "Requirement already satisfied: google-auth<2,>=1.6.3 in /usr/local/lib/python3.6/dist-packages (from tensorboard<3,>=2.3.0->tensorflow>=1.14.0->deepstack) (1.17.2)\n",
            "Requirement already satisfied: requests<3,>=2.21.0 in /usr/local/lib/python3.6/dist-packages (from tensorboard<3,>=2.3.0->tensorflow>=1.14.0->deepstack) (2.23.0)\n",
            "Requirement already satisfied: tensorboard-plugin-wit>=1.6.0 in /usr/local/lib/python3.6/dist-packages (from tensorboard<3,>=2.3.0->tensorflow>=1.14.0->deepstack) (1.7.0)\n",
            "Requirement already satisfied: werkzeug>=0.11.15 in /usr/local/lib/python3.6/dist-packages (from tensorboard<3,>=2.3.0->tensorflow>=1.14.0->deepstack) (1.0.1)\n",
            "Requirement already satisfied: markdown>=2.6.8 in /usr/local/lib/python3.6/dist-packages (from tensorboard<3,>=2.3.0->tensorflow>=1.14.0->deepstack) (3.2.2)\n",
            "Requirement already satisfied: requests-oauthlib>=0.7.0 in /usr/local/lib/python3.6/dist-packages (from google-auth-oauthlib<0.5,>=0.4.1->tensorboard<3,>=2.3.0->tensorflow>=1.14.0->deepstack) (1.3.0)\n",
            "Requirement already satisfied: pyasn1-modules>=0.2.1 in /usr/local/lib/python3.6/dist-packages (from google-auth<2,>=1.6.3->tensorboard<3,>=2.3.0->tensorflow>=1.14.0->deepstack) (0.2.8)\n",
            "Requirement already satisfied: cachetools<5.0,>=2.0.0 in /usr/local/lib/python3.6/dist-packages (from google-auth<2,>=1.6.3->tensorboard<3,>=2.3.0->tensorflow>=1.14.0->deepstack) (4.1.1)\n",
            "Requirement already satisfied: rsa<5,>=3.1.4; python_version >= \"3\" in /usr/local/lib/python3.6/dist-packages (from google-auth<2,>=1.6.3->tensorboard<3,>=2.3.0->tensorflow>=1.14.0->deepstack) (4.6)\n",
            "Requirement already satisfied: urllib3!=1.25.0,!=1.25.1,<1.26,>=1.21.1 in /usr/local/lib/python3.6/dist-packages (from requests<3,>=2.21.0->tensorboard<3,>=2.3.0->tensorflow>=1.14.0->deepstack) (1.24.3)\n",
            "Requirement already satisfied: certifi>=2017.4.17 in /usr/local/lib/python3.6/dist-packages (from requests<3,>=2.21.0->tensorboard<3,>=2.3.0->tensorflow>=1.14.0->deepstack) (2020.6.20)\n",
            "Requirement already satisfied: chardet<4,>=3.0.2 in /usr/local/lib/python3.6/dist-packages (from requests<3,>=2.21.0->tensorboard<3,>=2.3.0->tensorflow>=1.14.0->deepstack) (3.0.4)\n",
            "Requirement already satisfied: idna<3,>=2.5 in /usr/local/lib/python3.6/dist-packages (from requests<3,>=2.21.0->tensorboard<3,>=2.3.0->tensorflow>=1.14.0->deepstack) (2.10)\n",
            "Requirement already satisfied: importlib-metadata; python_version < \"3.8\" in /usr/local/lib/python3.6/dist-packages (from markdown>=2.6.8->tensorboard<3,>=2.3.0->tensorflow>=1.14.0->deepstack) (1.7.0)\n",
            "Requirement already satisfied: oauthlib>=3.0.0 in /usr/local/lib/python3.6/dist-packages (from requests-oauthlib>=0.7.0->google-auth-oauthlib<0.5,>=0.4.1->tensorboard<3,>=2.3.0->tensorflow>=1.14.0->deepstack) (3.1.0)\n",
            "Requirement already satisfied: pyasn1<0.5.0,>=0.4.6 in /usr/local/lib/python3.6/dist-packages (from pyasn1-modules>=0.2.1->google-auth<2,>=1.6.3->tensorboard<3,>=2.3.0->tensorflow>=1.14.0->deepstack) (0.4.8)\n",
            "Requirement already satisfied: zipp>=0.5 in /usr/local/lib/python3.6/dist-packages (from importlib-metadata; python_version < \"3.8\"->markdown>=2.6.8->tensorboard<3,>=2.3.0->tensorflow>=1.14.0->deepstack) (3.1.0)\n",
            "Installing collected packages: deepstack\n",
            "Successfully installed deepstack-0.0.9\n"
          ],
          "name": "stdout"
        }
      ]
    },
    {
      "cell_type": "markdown",
      "metadata": {
        "id": "LpbQm2i9jYrP",
        "colab_type": "text"
      },
      "source": [
        "### Importação das bibliotecas"
      ]
    },
    {
      "cell_type": "code",
      "metadata": {
        "id": "wYfBGnPGGrJH",
        "colab_type": "code",
        "colab": {
          "base_uri": "https://localhost:8080/",
          "height": 0
        },
        "outputId": "c8b42c35-e257-41f2-e15e-3cece006c647"
      },
      "source": [
        "import zipfile\n",
        "import os\n",
        "import numpy as np\n",
        "import tensorflow as tf\n",
        "import tensorflow_addons as tfa\n",
        "\n",
        "import matplotlib.pyplot as plt\n",
        "import pandas as pd\n",
        "import sys\n",
        "import itertools\n",
        "import shutil\n",
        "\n",
        "from tqdm import tqdm_notebook\n",
        "from tensorflow.keras.preprocessing.image import ImageDataGenerator\n",
        "\n",
        "%matplotlib inline\n",
        "tf.__version__"
      ],
      "execution_count": 3,
      "outputs": [
        {
          "output_type": "execute_result",
          "data": {
            "application/vnd.google.colaboratory.intrinsic+json": {
              "type": "string"
            },
            "text/plain": [
              "'2.3.0'"
            ]
          },
          "metadata": {
            "tags": []
          },
          "execution_count": 3
        }
      ]
    },
    {
      "cell_type": "markdown",
      "metadata": {
        "id": "Vqc2bvfSbMfZ",
        "colab_type": "text"
      },
      "source": [
        "### Otimizações tensorflow"
      ]
    },
    {
      "cell_type": "code",
      "metadata": {
        "id": "6blgc5uSbHeE",
        "colab_type": "code",
        "colab": {
          "base_uri": "https://localhost:8080/",
          "height": 0
        },
        "outputId": "bb7a6eab-8a5d-46b0-a60d-44901545cddc"
      },
      "source": [
        "#from tensorflow.keras.mixed_precision import experimental as mixed_precision\n",
        "#policy = mixed_precision.Policy('mixed_float16')\n",
        "#mixed_precision.set_policy(policy)\n",
        "tf.config.optimizer.set_jit(True)\n",
        "\n",
        "gpus = tf.config.experimental.list_physical_devices('GPU')\n",
        "if gpus:\n",
        "  try:\n",
        "    # Currently, memory growth needs to be the same across GPUs\n",
        "    for gpu in gpus:\n",
        "      tf.config.experimental.set_memory_growth(gpu, True)\n",
        "    logical_gpus = tf.config.experimental.list_logical_devices('GPU')\n",
        "    print(len(gpus), \"Physical GPUs,\", len(logical_gpus), \"Logical GPUs\")\n",
        "  except RuntimeError as e:\n",
        "    # Memory growth must be set before GPUs have been initialized\n",
        "    print(e)"
      ],
      "execution_count": 4,
      "outputs": [
        {
          "output_type": "stream",
          "text": [
            "1 Physical GPUs, 1 Logical GPUs\n"
          ],
          "name": "stdout"
        }
      ]
    },
    {
      "cell_type": "markdown",
      "metadata": {
        "id": "jQl1fF9Ca80N",
        "colab_type": "text"
      },
      "source": [
        "### Fazendo o download da base de dados de imagens"
      ]
    },
    {
      "cell_type": "code",
      "metadata": {
        "id": "iHZC2kGet4Vv",
        "colab_type": "code",
        "colab": {
          "base_uri": "https://localhost:8080/",
          "height": 0
        },
        "outputId": "d612f9c4-4c2c-4922-f8fe-bee03d8c10d6"
      },
      "source": [
        "%%time\n",
        "if (os.path.isdir('./ISIC_Training_Input')==False):\n",
        "  !wget --no-check-certificate \\\n",
        "      https://isic-challenge-data.s3.amazonaws.com/2018/ISIC2018_Task3_Training_Input.zip \\\n",
        "      -O ./skin_cancer_train_2018.zip\n"
      ],
      "execution_count": 5,
      "outputs": [
        {
          "output_type": "stream",
          "text": [
            "--2020-08-11 11:01:34--  https://isic-challenge-data.s3.amazonaws.com/2018/ISIC2018_Task3_Training_Input.zip\n",
            "Resolving isic-challenge-data.s3.amazonaws.com (isic-challenge-data.s3.amazonaws.com)... 52.216.17.152\n",
            "Connecting to isic-challenge-data.s3.amazonaws.com (isic-challenge-data.s3.amazonaws.com)|52.216.17.152|:443... connected.\n",
            "HTTP request sent, awaiting response... 200 OK\n",
            "Length: 2771732744 (2.6G) [application/zip]\n",
            "Saving to: ‘./skin_cancer_train_2018.zip’\n",
            "\n",
            "./skin_cancer_train 100%[===================>]   2.58G  35.1MB/s    in 77s     \n",
            "\n",
            "2020-08-11 11:02:51 (34.5 MB/s) - ‘./skin_cancer_train_2018.zip’ saved [2771732744/2771732744]\n",
            "\n",
            "CPU times: user 452 ms, sys: 146 ms, total: 598 ms\n",
            "Wall time: 1min 19s\n"
          ],
          "name": "stdout"
        }
      ]
    },
    {
      "cell_type": "code",
      "metadata": {
        "id": "mLWquLOxa-V5",
        "colab_type": "code",
        "colab": {
          "base_uri": "https://localhost:8080/",
          "height": 0
        },
        "outputId": "f00e2174-8bf3-45e4-c50a-1eaca7beeb46"
      },
      "source": [
        "%%time\n",
        "if (os.path.isdir('./ISIC_Training_Input')==False):\n",
        "  !wget --no-check-certificate \\\n",
        "      https://s3.amazonaws.com/isic-challenge-2019/ISIC_2019_Training_Input.zip \\\n",
        "      -O ./skin_cancer_train_2019.zip"
      ],
      "execution_count": 6,
      "outputs": [
        {
          "output_type": "stream",
          "text": [
            "--2020-08-11 11:02:53--  https://s3.amazonaws.com/isic-challenge-2019/ISIC_2019_Training_Input.zip\n",
            "Resolving s3.amazonaws.com (s3.amazonaws.com)... 52.216.250.126\n",
            "Connecting to s3.amazonaws.com (s3.amazonaws.com)|52.216.250.126|:443... connected.\n",
            "HTTP request sent, awaiting response... 200 OK\n",
            "Length: 9771618190 (9.1G) [application/zip]\n",
            "Saving to: ‘./skin_cancer_train_2019.zip’\n",
            "\n",
            "./skin_cancer_train 100%[===================>]   9.10G  17.6MB/s    in 7m 21s  \n",
            "\n",
            "2020-08-11 11:10:14 (21.2 MB/s) - ‘./skin_cancer_train_2019.zip’ saved [9771618190/9771618190]\n",
            "\n",
            "CPU times: user 2.39 s, sys: 725 ms, total: 3.12 s\n",
            "Wall time: 7min 22s\n"
          ],
          "name": "stdout"
        }
      ]
    },
    {
      "cell_type": "markdown",
      "metadata": {
        "id": "5-tk5DfRjXN3",
        "colab_type": "text"
      },
      "source": [
        "## Etapa 2: Pré-processamento"
      ]
    },
    {
      "cell_type": "markdown",
      "metadata": {
        "id": "VSDt-MEVjlsA",
        "colab_type": "text"
      },
      "source": [
        "### Configurando os caminhos (paths)"
      ]
    },
    {
      "cell_type": "code",
      "metadata": {
        "id": "gWRIeZgpJkGM",
        "colab_type": "code",
        "colab": {}
      },
      "source": [
        "train_dir = \"./train\"\n",
        "if not os.path.exists(train_dir): \n",
        "  os.mkdir(train_dir)\n",
        "valid_dir = \"./valid\"\n",
        "if not os.path.exists(valid_dir): \n",
        "  os.mkdir(valid_dir)\n",
        "\n",
        "\n",
        "download_path = './'\n",
        "derm_ai_path = '/content/drive/My Drive/Derm AI/ISIC_2019'\n"
      ],
      "execution_count": 7,
      "outputs": []
    },
    {
      "cell_type": "markdown",
      "metadata": {
        "id": "5gfYxIxDqN6f",
        "colab_type": "text"
      },
      "source": [
        "### Definindo função para descompactar arquivo"
      ]
    },
    {
      "cell_type": "code",
      "metadata": {
        "id": "n35JE--zsSYq",
        "colab_type": "code",
        "colab": {}
      },
      "source": [
        "def dcp(download_path, path, file):\n",
        "  if (os.path.isdir(path)==False):\n",
        "    dataset_path = os.path.join(download_path,file)\n",
        "    zip_object = zipfile.ZipFile(file=dataset_path, mode=\"r\")\n",
        "    zip_object.extractall(\"./\")\n",
        "    zip_object.close()"
      ],
      "execution_count": 8,
      "outputs": []
    },
    {
      "cell_type": "markdown",
      "metadata": {
        "id": "MlsIOpGljdlS",
        "colab_type": "text"
      },
      "source": [
        "### Descompactando a base de dados de Treinamento"
      ]
    },
    {
      "cell_type": "code",
      "metadata": {
        "id": "wITWICPaIryU",
        "colab_type": "code",
        "colab": {
          "base_uri": "https://localhost:8080/",
          "height": 0
        },
        "outputId": "5ffb1bc5-6a7b-4397-dfd3-9b52406f9268"
      },
      "source": [
        "%%time\n",
        "dcp(download_path, './ISIC2018_Task3_Training_Input', 'skin_cancer_train_2018.zip')"
      ],
      "execution_count": 9,
      "outputs": [
        {
          "output_type": "stream",
          "text": [
            "CPU times: user 6.41 s, sys: 3.82 s, total: 10.2 s\n",
            "Wall time: 1min 20s\n"
          ],
          "name": "stdout"
        }
      ]
    },
    {
      "cell_type": "code",
      "metadata": {
        "id": "Sba6BtZMwE5h",
        "colab_type": "code",
        "colab": {}
      },
      "source": [
        "!rm ./skin_cancer_train_2018.zip"
      ],
      "execution_count": 10,
      "outputs": []
    },
    {
      "cell_type": "code",
      "metadata": {
        "id": "iSzqqec_uh-H",
        "colab_type": "code",
        "colab": {
          "base_uri": "https://localhost:8080/",
          "height": 0
        },
        "outputId": "edd5c9f8-1e04-48e6-d10e-ef6ca5cb355f"
      },
      "source": [
        "%%time\n",
        "dcp(download_path, './ISIC_2019_Training_Input', 'skin_cancer_train_2019.zip')"
      ],
      "execution_count": 11,
      "outputs": [
        {
          "output_type": "stream",
          "text": [
            "CPU times: user 47.3 s, sys: 13.1 s, total: 1min\n",
            "Wall time: 4min 48s\n"
          ],
          "name": "stdout"
        }
      ]
    },
    {
      "cell_type": "code",
      "metadata": {
        "id": "3klOyRpawHFJ",
        "colab_type": "code",
        "colab": {}
      },
      "source": [
        "!rm ./skin_cancer_train_2019.zip"
      ],
      "execution_count": 12,
      "outputs": []
    },
    {
      "cell_type": "markdown",
      "metadata": {
        "id": "HNLiNlROcm-x",
        "colab_type": "text"
      },
      "source": [
        "### Definindo DataFrame base para criação das pastas de cada classe"
      ]
    },
    {
      "cell_type": "code",
      "metadata": {
        "id": "2QXyi2LU0D0c",
        "colab_type": "code",
        "colab": {
          "base_uri": "https://localhost:8080/",
          "height": 0
        },
        "outputId": "623b9687-824a-47bc-92e0-5b038d4588e8"
      },
      "source": [
        "!wget --no-check-certificate \\\n",
        "      https://isic-challenge-data.s3.amazonaws.com/2018/ISIC2018_Task3_Training_GroundTruth.zip \\\n",
        "      -O ./ground_truth.zip\n",
        "\n",
        "\n",
        "zip_object = zipfile.ZipFile(file='ground_truth.zip', mode=\"r\")\n",
        "zip_object.extractall(\"./\")\n",
        "zip_object.close()"
      ],
      "execution_count": 13,
      "outputs": [
        {
          "output_type": "stream",
          "text": [
            "--2020-08-11 11:16:30--  https://isic-challenge-data.s3.amazonaws.com/2018/ISIC2018_Task3_Training_GroundTruth.zip\n",
            "Resolving isic-challenge-data.s3.amazonaws.com (isic-challenge-data.s3.amazonaws.com)... 52.216.227.216\n",
            "Connecting to isic-challenge-data.s3.amazonaws.com (isic-challenge-data.s3.amazonaws.com)|52.216.227.216|:443... connected.\n",
            "HTTP request sent, awaiting response... 200 OK\n",
            "Length: 36681 (36K) [application/zip]\n",
            "Saving to: ‘./ground_truth.zip’\n",
            "\n",
            "\r./ground_truth.zip    0%[                    ]       0  --.-KB/s               \r./ground_truth.zip  100%[===================>]  35.82K  --.-KB/s    in 0.09s   \n",
            "\n",
            "2020-08-11 11:16:30 (417 KB/s) - ‘./ground_truth.zip’ saved [36681/36681]\n",
            "\n"
          ],
          "name": "stdout"
        }
      ]
    },
    {
      "cell_type": "code",
      "metadata": {
        "id": "L1CAr2r1DuzM",
        "colab_type": "code",
        "colab": {
          "base_uri": "https://localhost:8080/",
          "height": 0
        },
        "outputId": "02b975be-a175-4909-b561-22e6f22b59c9"
      },
      "source": [
        "# Read in the data\n",
        "ground_truth1 = pd.read_csv('https://s3.amazonaws.com/isic-challenge-2019/ISIC_2019_Training_GroundTruth.csv')\n",
        "ground_truth2 = pd.read_csv('/content/ISIC2018_Task3_Training_GroundTruth/ISIC2018_Task3_Training_GroundTruth.csv')\n",
        "ground_truth2['AK'] = ground_truth2['AKIEC']\n",
        "ground_truth2.drop(columns=['AKIEC'], inplace=True)\n",
        "ground_truth = pd.concat([ground_truth1,ground_truth2])\n",
        "\n",
        "# Display some information in the dataset\n",
        "ground_truth.head()"
      ],
      "execution_count": 14,
      "outputs": [
        {
          "output_type": "execute_result",
          "data": {
            "text/html": [
              "<div>\n",
              "<style scoped>\n",
              "    .dataframe tbody tr th:only-of-type {\n",
              "        vertical-align: middle;\n",
              "    }\n",
              "\n",
              "    .dataframe tbody tr th {\n",
              "        vertical-align: top;\n",
              "    }\n",
              "\n",
              "    .dataframe thead th {\n",
              "        text-align: right;\n",
              "    }\n",
              "</style>\n",
              "<table border=\"1\" class=\"dataframe\">\n",
              "  <thead>\n",
              "    <tr style=\"text-align: right;\">\n",
              "      <th></th>\n",
              "      <th>image</th>\n",
              "      <th>MEL</th>\n",
              "      <th>NV</th>\n",
              "      <th>BCC</th>\n",
              "      <th>AK</th>\n",
              "      <th>BKL</th>\n",
              "      <th>DF</th>\n",
              "      <th>VASC</th>\n",
              "      <th>SCC</th>\n",
              "      <th>UNK</th>\n",
              "    </tr>\n",
              "  </thead>\n",
              "  <tbody>\n",
              "    <tr>\n",
              "      <th>0</th>\n",
              "      <td>ISIC_0000000</td>\n",
              "      <td>0.0</td>\n",
              "      <td>1.0</td>\n",
              "      <td>0.0</td>\n",
              "      <td>0.0</td>\n",
              "      <td>0.0</td>\n",
              "      <td>0.0</td>\n",
              "      <td>0.0</td>\n",
              "      <td>0.0</td>\n",
              "      <td>0.0</td>\n",
              "    </tr>\n",
              "    <tr>\n",
              "      <th>1</th>\n",
              "      <td>ISIC_0000001</td>\n",
              "      <td>0.0</td>\n",
              "      <td>1.0</td>\n",
              "      <td>0.0</td>\n",
              "      <td>0.0</td>\n",
              "      <td>0.0</td>\n",
              "      <td>0.0</td>\n",
              "      <td>0.0</td>\n",
              "      <td>0.0</td>\n",
              "      <td>0.0</td>\n",
              "    </tr>\n",
              "    <tr>\n",
              "      <th>2</th>\n",
              "      <td>ISIC_0000002</td>\n",
              "      <td>1.0</td>\n",
              "      <td>0.0</td>\n",
              "      <td>0.0</td>\n",
              "      <td>0.0</td>\n",
              "      <td>0.0</td>\n",
              "      <td>0.0</td>\n",
              "      <td>0.0</td>\n",
              "      <td>0.0</td>\n",
              "      <td>0.0</td>\n",
              "    </tr>\n",
              "    <tr>\n",
              "      <th>3</th>\n",
              "      <td>ISIC_0000003</td>\n",
              "      <td>0.0</td>\n",
              "      <td>1.0</td>\n",
              "      <td>0.0</td>\n",
              "      <td>0.0</td>\n",
              "      <td>0.0</td>\n",
              "      <td>0.0</td>\n",
              "      <td>0.0</td>\n",
              "      <td>0.0</td>\n",
              "      <td>0.0</td>\n",
              "    </tr>\n",
              "    <tr>\n",
              "      <th>4</th>\n",
              "      <td>ISIC_0000004</td>\n",
              "      <td>1.0</td>\n",
              "      <td>0.0</td>\n",
              "      <td>0.0</td>\n",
              "      <td>0.0</td>\n",
              "      <td>0.0</td>\n",
              "      <td>0.0</td>\n",
              "      <td>0.0</td>\n",
              "      <td>0.0</td>\n",
              "      <td>0.0</td>\n",
              "    </tr>\n",
              "  </tbody>\n",
              "</table>\n",
              "</div>"
            ],
            "text/plain": [
              "          image  MEL   NV  BCC   AK  BKL   DF  VASC  SCC  UNK\n",
              "0  ISIC_0000000  0.0  1.0  0.0  0.0  0.0  0.0   0.0  0.0  0.0\n",
              "1  ISIC_0000001  0.0  1.0  0.0  0.0  0.0  0.0   0.0  0.0  0.0\n",
              "2  ISIC_0000002  1.0  0.0  0.0  0.0  0.0  0.0   0.0  0.0  0.0\n",
              "3  ISIC_0000003  0.0  1.0  0.0  0.0  0.0  0.0   0.0  0.0  0.0\n",
              "4  ISIC_0000004  1.0  0.0  0.0  0.0  0.0  0.0   0.0  0.0  0.0"
            ]
          },
          "metadata": {
            "tags": []
          },
          "execution_count": 14
        }
      ]
    },
    {
      "cell_type": "code",
      "metadata": {
        "id": "JjEvXx__3ePG",
        "colab_type": "code",
        "colab": {}
      },
      "source": [
        "!mkdir ISIC_Training_Input\n",
        "!mv /content/ISIC2018_Task3_Training_Input/*.jpg /content/ISIC_Training_Input\n",
        "!mv /content/ISIC_2019_Training_Input/*.jpg /content/ISIC_Training_Input"
      ],
      "execution_count": 15,
      "outputs": []
    },
    {
      "cell_type": "markdown",
      "metadata": {
        "id": "BXaZWN0uqZNK",
        "colab_type": "text"
      },
      "source": [
        "### Separando base de treinamento e de validação"
      ]
    },
    {
      "cell_type": "code",
      "metadata": {
        "id": "U_VyLoDlDuvB",
        "colab_type": "code",
        "colab": {}
      },
      "source": [
        "# Set y as the labels\n",
        "y = []\n",
        "for row in ground_truth.iterrows():\n",
        "    innerlist = []\n",
        "    newlist = row[1].index[row[1].values[1:].argmax() + 1]\n",
        "    y.append(newlist)\n",
        "\n",
        "\n",
        "#add a name to the label series\n",
        "yd = pd.Series(y) \n",
        "yd.name = 'cclass'\n",
        "\n",
        "from sklearn.model_selection import train_test_split\n",
        "df_train, df_val = train_test_split(ground_truth, test_size=0.2, random_state=41, stratify=yd)\n",
        "\n",
        "# Get a list of images in each of the two folders\n",
        "folder = os.listdir('ISIC_Training_Input')\n",
        "\n",
        "# Get a list of train and val images\n",
        "#all_list = list(ground_truth['image'])\n",
        "#\n",
        "train_list = list(df_train['image'])\n",
        "val_list = list(df_val['image'])"
      ],
      "execution_count": 16,
      "outputs": []
    },
    {
      "cell_type": "markdown",
      "metadata": {
        "id": "1VT0vKNCqzmi",
        "colab_type": "text"
      },
      "source": [
        "### Criando subdiretório das classes"
      ]
    },
    {
      "cell_type": "code",
      "metadata": {
        "id": "yQVWYQtfDucv",
        "colab_type": "code",
        "colab": {}
      },
      "source": [
        "#create sub directory for the classes\n",
        "for col in ground_truth.columns:\n",
        "    if not (col == 'image' or  col == 'UNK'):\n",
        "        dir_path = os.path.join(train_dir, col)\n",
        "        if not os.path.exists(dir_path):\n",
        "          os.mkdir(dir_path)\n",
        "        dir_path = os.path.join(valid_dir, col)\n",
        "        if not os.path.exists(dir_path):\n",
        "          os.mkdir(dir_path)"
      ],
      "execution_count": 17,
      "outputs": []
    },
    {
      "cell_type": "markdown",
      "metadata": {
        "id": "b-h7pZBzq5Gu",
        "colab_type": "text"
      },
      "source": [
        "### Transferindo arquivos - base de treinamento"
      ]
    },
    {
      "cell_type": "code",
      "metadata": {
        "id": "qRTSwhmAHxt0",
        "colab_type": "code",
        "colab": {
          "base_uri": "https://localhost:8080/",
          "height": 0
        },
        "outputId": "8484cc7b-7931-4e32-af61-14dca5e6609a"
      },
      "source": [
        "%%time\n",
        "# Transfer the training images\n",
        "for row in df_train.iterrows():\n",
        "    image = row[1].image\n",
        "    # The argmax error was occuring because the first column (image) is a string.\n",
        "    # By using row[1].values[1:] we skip the first column.  This means we need \n",
        "    # add 1 to get the correct row[1].index.\n",
        "    label = row[1].index[row[1].values[1:].argmax() + 1]\n",
        "    fname = image + '.jpg'\n",
        "\n",
        "    if fname in folder:\n",
        "        # source path to image\n",
        "        src = os.path.join('ISIC_Training_Input', fname)\n",
        "        # destination path to image\n",
        "        dst = os.path.join(train_dir, label, fname)\n",
        "        # copy the image from the source to the destination\n",
        "        shutil.copyfile(src, dst)"
      ],
      "execution_count": 18,
      "outputs": [
        {
          "output_type": "stream",
          "text": [
            "CPU times: user 15.7 s, sys: 14.2 s, total: 29.8 s\n",
            "Wall time: 3min 54s\n"
          ],
          "name": "stdout"
        }
      ]
    },
    {
      "cell_type": "markdown",
      "metadata": {
        "id": "dN1GC7rlrASa",
        "colab_type": "text"
      },
      "source": [
        "### Transferindo arquivos - base de validação"
      ]
    },
    {
      "cell_type": "code",
      "metadata": {
        "id": "IjK3evbLHxlf",
        "colab_type": "code",
        "colab": {
          "base_uri": "https://localhost:8080/",
          "height": 0
        },
        "outputId": "2b499f7a-d700-47d8-cadd-c5481fec7808"
      },
      "source": [
        "%%time\n",
        "# Transfer the valid images\n",
        "for row in df_val.iterrows():\n",
        "    image = row[1].image\n",
        "    # The argmax error was occuring because the first column (image) is a string.\n",
        "    # By using row[1].values[1:] we skip the first column.  This means we need \n",
        "    # add 1 to get the correct row[1].index.\n",
        "    label = row[1].index[row[1].values[1:].argmax() + 1]\n",
        "    fname = image + '.jpg'\n",
        "\n",
        "    if fname in folder:\n",
        "        # source path to image\n",
        "        src = os.path.join('ISIC_Training_Input', fname)\n",
        "        # destination path to image\n",
        "        dst = os.path.join(valid_dir, label, fname)\n",
        "        # copy the image from the source to the destination\n",
        "        shutil.copyfile(src, dst)"
      ],
      "execution_count": 19,
      "outputs": [
        {
          "output_type": "stream",
          "text": [
            "CPU times: user 3.94 s, sys: 3.66 s, total: 7.6 s\n",
            "Wall time: 1min 3s\n"
          ],
          "name": "stdout"
        }
      ]
    },
    {
      "cell_type": "markdown",
      "metadata": {
        "id": "JuJTelonrFtr",
        "colab_type": "text"
      },
      "source": [
        "### Números das bases de treinamento"
      ]
    },
    {
      "cell_type": "code",
      "metadata": {
        "id": "Q6bWTXeTHxcD",
        "colab_type": "code",
        "colab": {
          "base_uri": "https://localhost:8080/",
          "height": 0
        },
        "outputId": "ec1a762c-1e09-4f54-d848-f9b11fb37805"
      },
      "source": [
        "# training examples\n",
        "total = 0\n",
        "for col in ground_truth.columns:\n",
        "    if not (col == 'image' or  col == 'UNK'):\n",
        "        npath = os.path.join(train_dir, col)\n",
        "        print(col,len(os.listdir(npath)))\n",
        "        total = total+len(os.listdir(npath))\n",
        "print('total = ',total)"
      ],
      "execution_count": 20,
      "outputs": [
        {
          "output_type": "stream",
          "text": [
            "MEL 3790\n",
            "NV 11392\n",
            "BCC 2749\n",
            "AK 874\n",
            "BKL 2277\n",
            "DF 211\n",
            "VASC 233\n",
            "SCC 502\n",
            "total =  22028\n"
          ],
          "name": "stdout"
        }
      ]
    },
    {
      "cell_type": "markdown",
      "metadata": {
        "id": "arX5o8G_rOiq",
        "colab_type": "text"
      },
      "source": [
        "### Números das bases de validação"
      ]
    },
    {
      "cell_type": "code",
      "metadata": {
        "id": "W73tLgR0IuaF",
        "colab_type": "code",
        "colab": {
          "base_uri": "https://localhost:8080/",
          "height": 0
        },
        "outputId": "b213bf2c-c627-4a6f-fb31-6ee08bb87050"
      },
      "source": [
        "# validation examples\n",
        "total = 0\n",
        "for col in ground_truth.columns:\n",
        "    if not (col == 'image' or  col == 'UNK'):\n",
        "        npath = os.path.join(valid_dir, col)\n",
        "        print(col,len(os.listdir(npath)))\n",
        "        total = total+len(os.listdir(npath))\n",
        "print('total = ',total)"
      ],
      "execution_count": 21,
      "outputs": [
        {
          "output_type": "stream",
          "text": [
            "MEL 1086\n",
            "NV 3637\n",
            "BCC 746\n",
            "AK 231\n",
            "BKL 701\n",
            "DF 67\n",
            "VASC 75\n",
            "SCC 126\n",
            "total =  6669\n"
          ],
          "name": "stdout"
        }
      ]
    },
    {
      "cell_type": "markdown",
      "metadata": {
        "id": "a4v3E426rTpK",
        "colab_type": "text"
      },
      "source": [
        "### Balanceamento base de validação"
      ]
    },
    {
      "cell_type": "code",
      "metadata": {
        "id": "SNZHzSOBIuQ3",
        "colab_type": "code",
        "colab": {}
      },
      "source": [
        "import os, random\n",
        "mellen = len(os.listdir('./valid/MEL'))\n",
        "nvlen = len(os.listdir('./valid/NV'))\n",
        "for i in range(nvlen - mellen):\n",
        "    file = random.choice(os.listdir(\"./valid/NV\"))\n",
        "    dst = os.path.join(valid_dir,'NV', file)\n",
        "    os.remove(dst)"
      ],
      "execution_count": 22,
      "outputs": []
    },
    {
      "cell_type": "code",
      "metadata": {
        "id": "zG7s-4ChKL7D",
        "colab_type": "code",
        "colab": {
          "base_uri": "https://localhost:8080/",
          "height": 0
        },
        "outputId": "adaaaab8-65e5-48be-add4-0307176e739b"
      },
      "source": [
        "# validation examples\n",
        "total = 0\n",
        "for col in ground_truth.columns:\n",
        "    if not (col == 'image' or  col == 'UNK'):\n",
        "        npath = os.path.join(valid_dir, col)\n",
        "        print(col,len(os.listdir(npath)))\n",
        "        total = total+len(os.listdir(npath))\n",
        "print('total = ',total)        \n",
        "val_len = total"
      ],
      "execution_count": 23,
      "outputs": [
        {
          "output_type": "stream",
          "text": [
            "MEL 1086\n",
            "NV 1086\n",
            "BCC 746\n",
            "AK 231\n",
            "BKL 701\n",
            "DF 67\n",
            "VASC 75\n",
            "SCC 126\n",
            "total =  4118\n"
          ],
          "name": "stdout"
        }
      ]
    },
    {
      "cell_type": "markdown",
      "metadata": {
        "id": "ZXsBWZbRq1Ry",
        "colab_type": "text"
      },
      "source": [
        "AK\n",
        "BCC\n",
        "BKL\n",
        "DF\n",
        "MEL Melanoma\n",
        "NV\n",
        "SCC\n",
        "VASC"
      ]
    },
    {
      "cell_type": "markdown",
      "metadata": {
        "id": "CA-SrKLXrkNl",
        "colab_type": "text"
      },
      "source": [
        "### Criando pesos das classes"
      ]
    },
    {
      "cell_type": "markdown",
      "metadata": {
        "id": "YJRlLGaotJ_J",
        "colab_type": "text"
      },
      "source": [
        "### Criando geradores de dados (Data Generators)\n"
      ]
    },
    {
      "cell_type": "code",
      "metadata": {
        "id": "ydIUm9MvK4pn",
        "colab_type": "code",
        "colab": {}
      },
      "source": [
        "# Data Augmentation (https://keras.io/preprocessing/image/)\n",
        "data_gen_train = ImageDataGenerator(#validation_split=0.2,\n",
        "                                    rescale=1/255., \n",
        "                                    horizontal_flip= True, \n",
        "                                    vertical_flip = True, \n",
        "                                    height_shift_range=0.10, \n",
        "                                    width_shift_range=0.10,\n",
        "                                    rotation_range=180,\n",
        "                                    shear_range=0.01,\n",
        "                                    zoom_range=[0.95, 1.25],\n",
        "                                    fill_mode='constant',\n",
        "                                    #data_format='channels_last',\n",
        "                                    brightness_range=[0.9, 1.1]\n",
        "                                    )\n",
        "\n",
        "data_gen_valid = ImageDataGenerator(rescale=1/255., \n",
        "                                   fill_mode=\"constant\"\n",
        ")\n",
        "\n"
      ],
      "execution_count": 24,
      "outputs": []
    },
    {
      "cell_type": "code",
      "metadata": {
        "id": "r2K46zJnLbzP",
        "colab_type": "code",
        "colab": {
          "base_uri": "https://localhost:8080/",
          "height": 0
        },
        "outputId": "d2d8b246-0e26-4ced-ac36-e33b1a8eeb1b"
      },
      "source": [
        "train_generator = data_gen_train.flow_from_directory(train_dir, target_size=(299,299), batch_size=16, class_mode=\"categorical\")\n",
        "valid_generator = data_gen_valid.flow_from_directory(valid_dir, target_size=(299,299), batch_size=16, class_mode=\"categorical\")"
      ],
      "execution_count": 25,
      "outputs": [
        {
          "output_type": "stream",
          "text": [
            "Found 22028 images belonging to 8 classes.\n",
            "Found 4118 images belonging to 8 classes.\n"
          ],
          "name": "stdout"
        }
      ]
    },
    {
      "cell_type": "markdown",
      "metadata": {
        "id": "pl0Lin9Cc9dG",
        "colab_type": "text"
      },
      "source": [
        "#### Exibição de 3 imagens carregadas"
      ]
    },
    {
      "cell_type": "code",
      "metadata": {
        "id": "cKn3UrOG--w-",
        "colab_type": "code",
        "colab": {
          "base_uri": "https://localhost:8080/",
          "height": 0
        },
        "outputId": "482019b1-f218-4292-8ab6-51d8f7fc2ede"
      },
      "source": [
        "x,y = train_generator.next()\n",
        "for i in range(0,3):\n",
        "    image = x[i]\n",
        "    label = y[i]\n",
        "    print (label)\n",
        "    plt.imshow(image)\n",
        "    plt.show()"
      ],
      "execution_count": 26,
      "outputs": [
        {
          "output_type": "stream",
          "text": [
            "[1. 0. 0. 0. 0. 0. 0. 0.]\n"
          ],
          "name": "stdout"
        },
        {
          "output_type": "display_data",
          "data": {
            "image/png": "[encoded data removed]",
            "text/plain": [
              "<Figure size 432x288 with 1 Axes>"
            ]
          },
          "metadata": {
            "tags": [],
            "needs_background": "light"
          }
        },
        {
          "output_type": "stream",
          "text": [
            "[0. 0. 0. 0. 0. 1. 0. 0.]\n"
          ],
          "name": "stdout"
        },
        {
          "output_type": "display_data",
          "data": {
            "image/png": "[encoded data removed]",
            "text/plain": [
              "<Figure size 432x288 with 1 Axes>"
            ]
          },
          "metadata": {
            "tags": [],
            "needs_background": "light"
          }
        },
        {
          "output_type": "stream",
          "text": [
            "[0. 0. 0. 0. 0. 1. 0. 0.]\n"
          ],
          "name": "stdout"
        },
        {
          "output_type": "display_data",
          "data": {
            "image/png": "[encoded data removed]",
            "text/plain": [
              "<Figure size 432x288 with 1 Axes>"
            ]
          },
          "metadata": {
            "tags": [],
            "needs_background": "light"
          }
        }
      ]
    },
    {
      "cell_type": "code",
      "metadata": {
        "id": "8U-Au_T1J7Im",
        "colab_type": "code",
        "colab": {
          "base_uri": "https://localhost:8080/",
          "height": 0
        },
        "outputId": "bb0841aa-6747-4307-dd11-0baa6d5a2869"
      },
      "source": [
        "import numpy as np\n",
        "\n",
        "from sklearn.utils import class_weight\n",
        "class_weights = dict(zip(np.unique(train_generator.classes), class_weight.compute_class_weight('balanced',\n",
        "                                                 np.unique(train_generator.classes),\n",
        "                                                 train_generator.classes))) \n",
        "\n",
        "\n",
        "class_weights\n",
        "train_generator.class_indices"
      ],
      "execution_count": 27,
      "outputs": [
        {
          "output_type": "execute_result",
          "data": {
            "text/plain": [
              "{'AK': 0, 'BCC': 1, 'BKL': 2, 'DF': 3, 'MEL': 4, 'NV': 5, 'SCC': 6, 'VASC': 7}"
            ]
          },
          "metadata": {
            "tags": []
          },
          "execution_count": 27
        }
      ]
    },
    {
      "cell_type": "markdown",
      "metadata": {
        "id": "-YLQb_WOmjwP",
        "colab_type": "text"
      },
      "source": [
        "## Etapa 3: Construindo o modelo"
      ]
    },
    {
      "cell_type": "markdown",
      "metadata": {
        "id": "PoMFwC51mmNa",
        "colab_type": "text"
      },
      "source": [
        "### Carregando o modelo pré-treinado (InceptionResNetV2)"
      ]
    },
    {
      "cell_type": "code",
      "metadata": {
        "id": "IRRKgkWqAyNF",
        "colab_type": "code",
        "colab": {
          "base_uri": "https://localhost:8080/",
          "height": 0
        },
        "outputId": "a55150bb-2b3f-4668-cc08-6dca81ea3435"
      },
      "source": [
        "img_shape = (299, 299, 3)\n",
        "base_model5 = tf.keras.applications.Xception(input_shape = img_shape, \n",
        "                                               include_top = False,\n",
        "                                               weights = \"imagenet\")\n",
        "\n",
        "base_model5.trainable = True #@param {type:\"boolean\"}\n"
      ],
      "execution_count": 28,
      "outputs": [
        {
          "output_type": "stream",
          "text": [
            "Downloading data from https://storage.googleapis.com/tensorflow/keras-applications/xception/xception_weights_tf_dim_ordering_tf_kernels_notop.h5\n",
            "83689472/83683744 [==============================] - 2s 0us/step\n"
          ],
          "name": "stdout"
        }
      ]
    },
    {
      "cell_type": "markdown",
      "metadata": {
        "id": "lZTcqkBipEEM",
        "colab_type": "text"
      },
      "source": [
        "### Definindo o cabeçalho personalizado da rede neural"
      ]
    },
    {
      "cell_type": "code",
      "metadata": {
        "id": "tjjmu5qEEjgQ",
        "colab_type": "code",
        "colab": {}
      },
      "source": [
        "#base_model5\n",
        "global_average_layer = tf.keras.layers.GlobalAveragePooling2D(name=\"gap\")(base_model5.output)\n",
        "prediction_layer = tf.keras.layers.Dense(units = 8, activation = \"softmax\")(global_average_layer)\n",
        "model5 = tf.keras.models.Model(inputs = base_model5.input, outputs = prediction_layer)"
      ],
      "execution_count": 29,
      "outputs": []
    },
    {
      "cell_type": "code",
      "metadata": {
        "id": "Ne68Q-fOh5Q3",
        "colab_type": "code",
        "colab": {}
      },
      "source": [
        "radam = tfa.optimizers.RectifiedAdam(\n",
        "    lr=1e-2,\n",
        "    total_steps=len(train_generator),\n",
        "    warmup_proportion=0.1,\n",
        "    min_lr=1e-5)\n",
        "ranger = tfa.optimizers.Lookahead(radam, sync_period=6, slow_step_size=0.5)\n",
        "\n",
        "optm = ranger\n",
        "\n",
        "model5.compile(optimizer=optm, loss=\"categorical_crossentropy\", metrics=[tf.keras.metrics.CategoricalAccuracy()])\n",
        "\n",
        "early_stopping = tf.keras.callbacks.EarlyStopping(\n",
        "    monitor='categorical_accuracy', \n",
        "    verbose=1,\n",
        "    patience=5,\n",
        "    mode='max',\n",
        "    restore_best_weights=True)"
      ],
      "execution_count": 30,
      "outputs": []
    },
    {
      "cell_type": "markdown",
      "metadata": {
        "id": "da72RyIkM3TO",
        "colab_type": "text"
      },
      "source": [
        "### Treinamento"
      ]
    },
    {
      "cell_type": "code",
      "metadata": {
        "id": "XFB75_Au8aBX",
        "colab_type": "code",
        "colab": {
          "base_uri": "https://localhost:8080/",
          "height": 530
        },
        "outputId": "6706b75a-71d7-45c8-cc02-d1d8a00f3c82"
      },
      "source": [
        "%%time\n",
        "model5.fit(train_generator, epochs=10, callbacks=[early_stopping])\n",
        "model5_filepath = os.path.join(derm_ai_path, 'model5_Xception')\n",
        "model5.save(model5_filepath)"
      ],
      "execution_count": 31,
      "outputs": [
        {
          "output_type": "stream",
          "text": [
            "Epoch 1/10\n",
            "1377/1377 [==============================] - 851s 618ms/step - loss: 1.0305 - categorical_accuracy: 0.6406\n",
            "Epoch 2/10\n",
            "1377/1377 [==============================] - 785s 570ms/step - loss: 0.8073 - categorical_accuracy: 0.7083\n",
            "Epoch 3/10\n",
            "1377/1377 [==============================] - 756s 549ms/step - loss: 0.7921 - categorical_accuracy: 0.7190\n",
            "Epoch 4/10\n",
            "1377/1377 [==============================] - 742s 539ms/step - loss: 0.7779 - categorical_accuracy: 0.7196\n",
            "Epoch 5/10\n",
            "1377/1377 [==============================] - 744s 540ms/step - loss: 0.7692 - categorical_accuracy: 0.7235\n",
            "Epoch 6/10\n",
            "1377/1377 [==============================] - 745s 541ms/step - loss: 0.7606 - categorical_accuracy: 0.7261\n",
            "Epoch 7/10\n",
            "1377/1377 [==============================] - 748s 543ms/step - loss: 0.7482 - categorical_accuracy: 0.7291\n",
            "Epoch 8/10\n",
            "1377/1377 [==============================] - 739s 537ms/step - loss: 0.7404 - categorical_accuracy: 0.7341\n",
            "Epoch 9/10\n",
            "1377/1377 [==============================] - 739s 537ms/step - loss: 0.7304 - categorical_accuracy: 0.7362\n",
            "Epoch 10/10\n",
            "1377/1377 [==============================] - 736s 535ms/step - loss: 0.7268 - categorical_accuracy: 0.7354\n",
            "WARNING:tensorflow:From /usr/local/lib/python3.6/dist-packages/tensorflow/python/training/tracking/tracking.py:111: Model.state_updates (from tensorflow.python.keras.engine.training) is deprecated and will be removed in a future version.\n",
            "Instructions for updating:\n",
            "This property should not be used in TensorFlow 2.0, as updates are applied automatically.\n",
            "WARNING:tensorflow:From /usr/local/lib/python3.6/dist-packages/tensorflow/python/training/tracking/tracking.py:111: Layer.updates (from tensorflow.python.keras.engine.base_layer) is deprecated and will be removed in a future version.\n",
            "Instructions for updating:\n",
            "This property should not be used in TensorFlow 2.0, as updates are applied automatically.\n",
            "INFO:tensorflow:Assets written to: /content/drive/My Drive/Derm AI/ISIC_2019/model5_Xception/assets\n",
            "CPU times: user 2h 40min 14s, sys: 12min 13s, total: 2h 52min 27s\n",
            "Wall time: 2h 8min 18s\n"
          ],
          "name": "stdout"
        }
      ]
    },
    {
      "cell_type": "code",
      "metadata": {
        "id": "Mcwi-XGsjiK7",
        "colab_type": "code",
        "colab": {
          "base_uri": "https://localhost:8080/",
          "height": 51
        },
        "outputId": "4e3e0c96-8f58-43eb-dd88-031422ba1d2d"
      },
      "source": [
        "valid_loss, valid_acc = model5.evaluate(valid_generator)\n",
        "valid_acc"
      ],
      "execution_count": 32,
      "outputs": [
        {
          "output_type": "stream",
          "text": [
            "258/258 [==============================] - 79s 308ms/step - loss: 0.8843 - categorical_accuracy: 0.6705\n"
          ],
          "name": "stdout"
        },
        {
          "output_type": "execute_result",
          "data": {
            "text/plain": [
              "0.6704710721969604"
            ]
          },
          "metadata": {
            "tags": []
          },
          "execution_count": 32
        }
      ]
    }
  ]
}