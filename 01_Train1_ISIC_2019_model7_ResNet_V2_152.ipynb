{
  "nbformat": 4,
  "nbformat_minor": 0,
  "metadata": {
    "colab": {
      "name": "01_Train1_ISIC_2019_model7_ResNet_V2_152",
      "provenance": [],
      "collapsed_sections": [
        "QWiCoYphcSld",
        "19QTXXYFazRX",
        "HzglsbW7qBwz",
        "LpbQm2i9jYrP",
        "Vqc2bvfSbMfZ",
        "jQl1fF9Ca80N",
        "5gfYxIxDqN6f",
        "MlsIOpGljdlS",
        "HNLiNlROcm-x",
        "BXaZWN0uqZNK",
        "1VT0vKNCqzmi",
        "b-h7pZBzq5Gu",
        "dN1GC7rlrASa",
        "JuJTelonrFtr",
        "arX5o8G_rOiq",
        "a4v3E426rTpK"
      ],
      "machine_shape": "hm",
      "include_colab_link": true
    },
    "kernelspec": {
      "name": "python3",
      "display_name": "Python 3"
    },
    "accelerator": "GPU"
  },
  "cells": [
    {
      "cell_type": "markdown",
      "metadata": {
        "id": "view-in-github",
        "colab_type": "text"
      },
      "source": [
        "<a href=\"https://colab.research.google.com/github/cccadet/dermatologist-ai/blob/master/01_Train1_ISIC_2019_model7_ResNet_V2_152.ipynb\" target=\"_parent\"><img src=\"https://colab.research.google.com/assets/colab-badge.svg\" alt=\"Open In Colab\"/></a>"
      ]
    },
    {
      "cell_type": "markdown",
      "metadata": {
        "id": "QWiCoYphcSld",
        "colab_type": "text"
      },
      "source": [
        "## Pré: Conexão com Google Drive"
      ]
    },
    {
      "cell_type": "code",
      "metadata": {
        "id": "71Fn8Ezffe1C",
        "colab_type": "code",
        "colab": {
          "base_uri": "https://localhost:8080/",
          "height": 121
        },
        "outputId": "308ecba4-1994-4f6c-bc6a-c286a79ed370"
      },
      "source": [
        "from google.colab import drive\n",
        "drive.mount('/content/drive')"
      ],
      "execution_count": 2,
      "outputs": [
        {
          "output_type": "stream",
          "text": [
            "Go to this URL in a browser: https://accounts.google.com/o/oauth2/auth?client_id=947318989803-6bn6qk8qdgf4n4g3pfee6491hc0brc4i.apps.googleusercontent.com&redirect_uri=urn%3aietf%3awg%3aoauth%3a2.0%3aoob&scope=email%20https%3a%2f%2fwww.googleapis.com%2fauth%2fdocs.test%20https%3a%2f%2fwww.googleapis.com%2fauth%2fdrive%20https%3a%2f%2fwww.googleapis.com%2fauth%2fdrive.photos.readonly%20https%3a%2f%2fwww.googleapis.com%2fauth%2fpeopleapi.readonly&response_type=code\n",
            "\n",
            "Enter your authorization code:\n",
            "··········\n",
            "Mounted at /content/drive\n"
          ],
          "name": "stdout"
        }
      ]
    },
    {
      "cell_type": "markdown",
      "metadata": {
        "id": "19QTXXYFazRX",
        "colab_type": "text"
      },
      "source": [
        "## Etapa 1: Instalação das dependências"
      ]
    },
    {
      "cell_type": "markdown",
      "metadata": {
        "id": "HzglsbW7qBwz",
        "colab_type": "text"
      },
      "source": [
        "### Instalação de bibliotecas"
      ]
    },
    {
      "cell_type": "code",
      "metadata": {
        "id": "KmIh3NZAaEkC",
        "colab_type": "code",
        "colab": {
          "base_uri": "https://localhost:8080/",
          "height": 0
        },
        "outputId": "ac195350-0546-4810-bdaa-619e3d054e9c"
      },
      "source": [
        "!pip install tensorflow-gpu\n",
        "!pip install tqdm\n",
        "#!pip install tensorflow-addons\n",
        "!pip install tfa-nightly\n",
        "!pip install deepstack"
      ],
      "execution_count": 3,
      "outputs": [
        {
          "output_type": "stream",
          "text": [
            "Collecting tensorflow-gpu\n",
            "\u001b[?25l  Downloading https://files.pythonhosted.org/packages/0f/11/763f55d3d15efd778ef24453f126e6c33635680e5a2bb346da3fab5997cb/tensorflow_gpu-2.3.0-cp36-cp36m-manylinux2010_x86_64.whl (320.4MB)\n",
            "\u001b[K     |████████████████████████████████| 320.4MB 46kB/s \n",
            "\u001b[?25hRequirement already satisfied: six>=1.12.0 in /usr/local/lib/python3.6/dist-packages (from tensorflow-gpu) (1.15.0)\n",
            "Requirement already satisfied: google-pasta>=0.1.8 in /usr/local/lib/python3.6/dist-packages (from tensorflow-gpu) (0.2.0)\n",
            "Requirement already satisfied: wrapt>=1.11.1 in /usr/local/lib/python3.6/dist-packages (from tensorflow-gpu) (1.12.1)\n",
            "Requirement already satisfied: keras-preprocessing<1.2,>=1.1.1 in /usr/local/lib/python3.6/dist-packages (from tensorflow-gpu) (1.1.2)\n",
            "Requirement already satisfied: protobuf>=3.9.2 in /usr/local/lib/python3.6/dist-packages (from tensorflow-gpu) (3.12.4)\n",
            "Requirement already satisfied: gast==0.3.3 in /usr/local/lib/python3.6/dist-packages (from tensorflow-gpu) (0.3.3)\n",
            "Requirement already satisfied: numpy<1.19.0,>=1.16.0 in /usr/local/lib/python3.6/dist-packages (from tensorflow-gpu) (1.18.5)\n",
            "Requirement already satisfied: wheel>=0.26 in /usr/local/lib/python3.6/dist-packages (from tensorflow-gpu) (0.35.1)\n",
            "Requirement already satisfied: astunparse==1.6.3 in /usr/local/lib/python3.6/dist-packages (from tensorflow-gpu) (1.6.3)\n",
            "Requirement already satisfied: grpcio>=1.8.6 in /usr/local/lib/python3.6/dist-packages (from tensorflow-gpu) (1.31.0)\n",
            "Requirement already satisfied: opt-einsum>=2.3.2 in /usr/local/lib/python3.6/dist-packages (from tensorflow-gpu) (3.3.0)\n",
            "Requirement already satisfied: tensorboard<3,>=2.3.0 in /usr/local/lib/python3.6/dist-packages (from tensorflow-gpu) (2.3.0)\n",
            "Requirement already satisfied: scipy==1.4.1 in /usr/local/lib/python3.6/dist-packages (from tensorflow-gpu) (1.4.1)\n",
            "Requirement already satisfied: tensorflow-estimator<2.4.0,>=2.3.0 in /usr/local/lib/python3.6/dist-packages (from tensorflow-gpu) (2.3.0)\n",
            "Requirement already satisfied: termcolor>=1.1.0 in /usr/local/lib/python3.6/dist-packages (from tensorflow-gpu) (1.1.0)\n",
            "Requirement already satisfied: absl-py>=0.7.0 in /usr/local/lib/python3.6/dist-packages (from tensorflow-gpu) (0.8.1)\n",
            "Requirement already satisfied: h5py<2.11.0,>=2.10.0 in /usr/local/lib/python3.6/dist-packages (from tensorflow-gpu) (2.10.0)\n",
            "Requirement already satisfied: setuptools in /usr/local/lib/python3.6/dist-packages (from protobuf>=3.9.2->tensorflow-gpu) (49.6.0)\n",
            "Requirement already satisfied: google-auth-oauthlib<0.5,>=0.4.1 in /usr/local/lib/python3.6/dist-packages (from tensorboard<3,>=2.3.0->tensorflow-gpu) (0.4.1)\n",
            "Requirement already satisfied: google-auth<2,>=1.6.3 in /usr/local/lib/python3.6/dist-packages (from tensorboard<3,>=2.3.0->tensorflow-gpu) (1.17.2)\n",
            "Requirement already satisfied: requests<3,>=2.21.0 in /usr/local/lib/python3.6/dist-packages (from tensorboard<3,>=2.3.0->tensorflow-gpu) (2.23.0)\n",
            "Requirement already satisfied: tensorboard-plugin-wit>=1.6.0 in /usr/local/lib/python3.6/dist-packages (from tensorboard<3,>=2.3.0->tensorflow-gpu) (1.7.0)\n",
            "Requirement already satisfied: werkzeug>=0.11.15 in /usr/local/lib/python3.6/dist-packages (from tensorboard<3,>=2.3.0->tensorflow-gpu) (1.0.1)\n",
            "Requirement already satisfied: markdown>=2.6.8 in /usr/local/lib/python3.6/dist-packages (from tensorboard<3,>=2.3.0->tensorflow-gpu) (3.2.2)\n",
            "Requirement already satisfied: requests-oauthlib>=0.7.0 in /usr/local/lib/python3.6/dist-packages (from google-auth-oauthlib<0.5,>=0.4.1->tensorboard<3,>=2.3.0->tensorflow-gpu) (1.3.0)\n",
            "Requirement already satisfied: rsa<5,>=3.1.4; python_version >= \"3\" in /usr/local/lib/python3.6/dist-packages (from google-auth<2,>=1.6.3->tensorboard<3,>=2.3.0->tensorflow-gpu) (4.6)\n",
            "Requirement already satisfied: pyasn1-modules>=0.2.1 in /usr/local/lib/python3.6/dist-packages (from google-auth<2,>=1.6.3->tensorboard<3,>=2.3.0->tensorflow-gpu) (0.2.8)\n",
            "Requirement already satisfied: cachetools<5.0,>=2.0.0 in /usr/local/lib/python3.6/dist-packages (from google-auth<2,>=1.6.3->tensorboard<3,>=2.3.0->tensorflow-gpu) (4.1.1)\n",
            "Requirement already satisfied: chardet<4,>=3.0.2 in /usr/local/lib/python3.6/dist-packages (from requests<3,>=2.21.0->tensorboard<3,>=2.3.0->tensorflow-gpu) (3.0.4)\n",
            "Requirement already satisfied: urllib3!=1.25.0,!=1.25.1,<1.26,>=1.21.1 in /usr/local/lib/python3.6/dist-packages (from requests<3,>=2.21.0->tensorboard<3,>=2.3.0->tensorflow-gpu) (1.24.3)\n",
            "Requirement already satisfied: idna<3,>=2.5 in /usr/local/lib/python3.6/dist-packages (from requests<3,>=2.21.0->tensorboard<3,>=2.3.0->tensorflow-gpu) (2.10)\n",
            "Requirement already satisfied: certifi>=2017.4.17 in /usr/local/lib/python3.6/dist-packages (from requests<3,>=2.21.0->tensorboard<3,>=2.3.0->tensorflow-gpu) (2020.6.20)\n",
            "Requirement already satisfied: importlib-metadata; python_version < \"3.8\" in /usr/local/lib/python3.6/dist-packages (from markdown>=2.6.8->tensorboard<3,>=2.3.0->tensorflow-gpu) (1.7.0)\n",
            "Requirement already satisfied: oauthlib>=3.0.0 in /usr/local/lib/python3.6/dist-packages (from requests-oauthlib>=0.7.0->google-auth-oauthlib<0.5,>=0.4.1->tensorboard<3,>=2.3.0->tensorflow-gpu) (3.1.0)\n",
            "Requirement already satisfied: pyasn1>=0.1.3 in /usr/local/lib/python3.6/dist-packages (from rsa<5,>=3.1.4; python_version >= \"3\"->google-auth<2,>=1.6.3->tensorboard<3,>=2.3.0->tensorflow-gpu) (0.4.8)\n",
            "Requirement already satisfied: zipp>=0.5 in /usr/local/lib/python3.6/dist-packages (from importlib-metadata; python_version < \"3.8\"->markdown>=2.6.8->tensorboard<3,>=2.3.0->tensorflow-gpu) (3.1.0)\n",
            "Installing collected packages: tensorflow-gpu\n",
            "Successfully installed tensorflow-gpu-2.3.0\n",
            "Requirement already satisfied: tqdm in /usr/local/lib/python3.6/dist-packages (4.41.1)\n",
            "Collecting tfa-nightly\n",
            "\u001b[?25l  Downloading https://files.pythonhosted.org/packages/d0/9c/49c2f3bad6a734817c37a6cb4b9bbfc5dcb77a0b5853a2cc91297e1ccee1/tfa_nightly-0.12.0.dev20200829025611-cp36-cp36m-manylinux2010_x86_64.whl (1.1MB)\n",
            "\u001b[K     |████████████████████████████████| 1.1MB 4.6MB/s \n",
            "\u001b[?25hRequirement already satisfied: typeguard>=2.7 in /usr/local/lib/python3.6/dist-packages (from tfa-nightly) (2.7.1)\n",
            "Installing collected packages: tfa-nightly\n",
            "Successfully installed tfa-nightly-0.12.0.dev20200829025611\n",
            "Collecting deepstack\n",
            "  Downloading https://files.pythonhosted.org/packages/36/0a/7555b16579570cad2ec2b02b7a52ae6406f983e8fdde156ac3fe109fd16f/deepstack-0.0.9-py3-none-any.whl\n",
            "Requirement already satisfied: keras>=2.2.5 in /usr/local/lib/python3.6/dist-packages (from deepstack) (2.4.3)\n",
            "Requirement already satisfied: tensorflow>=1.14.0 in /usr/local/lib/python3.6/dist-packages (from deepstack) (2.3.0)\n",
            "Requirement already satisfied: scikit-learn>=0.21.2 in /usr/local/lib/python3.6/dist-packages (from deepstack) (0.22.2.post1)\n",
            "Requirement already satisfied: numpy>=1.16.4 in /usr/local/lib/python3.6/dist-packages (from deepstack) (1.18.5)\n",
            "Requirement already satisfied: h5py in /usr/local/lib/python3.6/dist-packages (from keras>=2.2.5->deepstack) (2.10.0)\n",
            "Requirement already satisfied: scipy>=0.14 in /usr/local/lib/python3.6/dist-packages (from keras>=2.2.5->deepstack) (1.4.1)\n",
            "Requirement already satisfied: pyyaml in /usr/local/lib/python3.6/dist-packages (from keras>=2.2.5->deepstack) (3.13)\n",
            "Requirement already satisfied: grpcio>=1.8.6 in /usr/local/lib/python3.6/dist-packages (from tensorflow>=1.14.0->deepstack) (1.31.0)\n",
            "Requirement already satisfied: google-pasta>=0.1.8 in /usr/local/lib/python3.6/dist-packages (from tensorflow>=1.14.0->deepstack) (0.2.0)\n",
            "Requirement already satisfied: wheel>=0.26 in /usr/local/lib/python3.6/dist-packages (from tensorflow>=1.14.0->deepstack) (0.35.1)\n",
            "Requirement already satisfied: gast==0.3.3 in /usr/local/lib/python3.6/dist-packages (from tensorflow>=1.14.0->deepstack) (0.3.3)\n",
            "Requirement already satisfied: tensorboard<3,>=2.3.0 in /usr/local/lib/python3.6/dist-packages (from tensorflow>=1.14.0->deepstack) (2.3.0)\n",
            "Requirement already satisfied: opt-einsum>=2.3.2 in /usr/local/lib/python3.6/dist-packages (from tensorflow>=1.14.0->deepstack) (3.3.0)\n",
            "Requirement already satisfied: protobuf>=3.9.2 in /usr/local/lib/python3.6/dist-packages (from tensorflow>=1.14.0->deepstack) (3.12.4)\n",
            "Requirement already satisfied: termcolor>=1.1.0 in /usr/local/lib/python3.6/dist-packages (from tensorflow>=1.14.0->deepstack) (1.1.0)\n",
            "Requirement already satisfied: wrapt>=1.11.1 in /usr/local/lib/python3.6/dist-packages (from tensorflow>=1.14.0->deepstack) (1.12.1)\n",
            "Requirement already satisfied: six>=1.12.0 in /usr/local/lib/python3.6/dist-packages (from tensorflow>=1.14.0->deepstack) (1.15.0)\n",
            "Requirement already satisfied: tensorflow-estimator<2.4.0,>=2.3.0 in /usr/local/lib/python3.6/dist-packages (from tensorflow>=1.14.0->deepstack) (2.3.0)\n",
            "Requirement already satisfied: absl-py>=0.7.0 in /usr/local/lib/python3.6/dist-packages (from tensorflow>=1.14.0->deepstack) (0.8.1)\n",
            "Requirement already satisfied: keras-preprocessing<1.2,>=1.1.1 in /usr/local/lib/python3.6/dist-packages (from tensorflow>=1.14.0->deepstack) (1.1.2)\n",
            "Requirement already satisfied: astunparse==1.6.3 in /usr/local/lib/python3.6/dist-packages (from tensorflow>=1.14.0->deepstack) (1.6.3)\n",
            "Requirement already satisfied: joblib>=0.11 in /usr/local/lib/python3.6/dist-packages (from scikit-learn>=0.21.2->deepstack) (0.16.0)\n",
            "Requirement already satisfied: tensorboard-plugin-wit>=1.6.0 in /usr/local/lib/python3.6/dist-packages (from tensorboard<3,>=2.3.0->tensorflow>=1.14.0->deepstack) (1.7.0)\n",
            "Requirement already satisfied: setuptools>=41.0.0 in /usr/local/lib/python3.6/dist-packages (from tensorboard<3,>=2.3.0->tensorflow>=1.14.0->deepstack) (49.6.0)\n",
            "Requirement already satisfied: requests<3,>=2.21.0 in /usr/local/lib/python3.6/dist-packages (from tensorboard<3,>=2.3.0->tensorflow>=1.14.0->deepstack) (2.23.0)\n",
            "Requirement already satisfied: markdown>=2.6.8 in /usr/local/lib/python3.6/dist-packages (from tensorboard<3,>=2.3.0->tensorflow>=1.14.0->deepstack) (3.2.2)\n",
            "Requirement already satisfied: werkzeug>=0.11.15 in /usr/local/lib/python3.6/dist-packages (from tensorboard<3,>=2.3.0->tensorflow>=1.14.0->deepstack) (1.0.1)\n",
            "Requirement already satisfied: google-auth-oauthlib<0.5,>=0.4.1 in /usr/local/lib/python3.6/dist-packages (from tensorboard<3,>=2.3.0->tensorflow>=1.14.0->deepstack) (0.4.1)\n",
            "Requirement already satisfied: google-auth<2,>=1.6.3 in /usr/local/lib/python3.6/dist-packages (from tensorboard<3,>=2.3.0->tensorflow>=1.14.0->deepstack) (1.17.2)\n",
            "Requirement already satisfied: urllib3!=1.25.0,!=1.25.1,<1.26,>=1.21.1 in /usr/local/lib/python3.6/dist-packages (from requests<3,>=2.21.0->tensorboard<3,>=2.3.0->tensorflow>=1.14.0->deepstack) (1.24.3)\n",
            "Requirement already satisfied: certifi>=2017.4.17 in /usr/local/lib/python3.6/dist-packages (from requests<3,>=2.21.0->tensorboard<3,>=2.3.0->tensorflow>=1.14.0->deepstack) (2020.6.20)\n",
            "Requirement already satisfied: chardet<4,>=3.0.2 in /usr/local/lib/python3.6/dist-packages (from requests<3,>=2.21.0->tensorboard<3,>=2.3.0->tensorflow>=1.14.0->deepstack) (3.0.4)\n",
            "Requirement already satisfied: idna<3,>=2.5 in /usr/local/lib/python3.6/dist-packages (from requests<3,>=2.21.0->tensorboard<3,>=2.3.0->tensorflow>=1.14.0->deepstack) (2.10)\n",
            "Requirement already satisfied: importlib-metadata; python_version < \"3.8\" in /usr/local/lib/python3.6/dist-packages (from markdown>=2.6.8->tensorboard<3,>=2.3.0->tensorflow>=1.14.0->deepstack) (1.7.0)\n",
            "Requirement already satisfied: requests-oauthlib>=0.7.0 in /usr/local/lib/python3.6/dist-packages (from google-auth-oauthlib<0.5,>=0.4.1->tensorboard<3,>=2.3.0->tensorflow>=1.14.0->deepstack) (1.3.0)\n",
            "Requirement already satisfied: cachetools<5.0,>=2.0.0 in /usr/local/lib/python3.6/dist-packages (from google-auth<2,>=1.6.3->tensorboard<3,>=2.3.0->tensorflow>=1.14.0->deepstack) (4.1.1)\n",
            "Requirement already satisfied: rsa<5,>=3.1.4; python_version >= \"3\" in /usr/local/lib/python3.6/dist-packages (from google-auth<2,>=1.6.3->tensorboard<3,>=2.3.0->tensorflow>=1.14.0->deepstack) (4.6)\n",
            "Requirement already satisfied: pyasn1-modules>=0.2.1 in /usr/local/lib/python3.6/dist-packages (from google-auth<2,>=1.6.3->tensorboard<3,>=2.3.0->tensorflow>=1.14.0->deepstack) (0.2.8)\n",
            "Requirement already satisfied: zipp>=0.5 in /usr/local/lib/python3.6/dist-packages (from importlib-metadata; python_version < \"3.8\"->markdown>=2.6.8->tensorboard<3,>=2.3.0->tensorflow>=1.14.0->deepstack) (3.1.0)\n",
            "Requirement already satisfied: oauthlib>=3.0.0 in /usr/local/lib/python3.6/dist-packages (from requests-oauthlib>=0.7.0->google-auth-oauthlib<0.5,>=0.4.1->tensorboard<3,>=2.3.0->tensorflow>=1.14.0->deepstack) (3.1.0)\n",
            "Requirement already satisfied: pyasn1>=0.1.3 in /usr/local/lib/python3.6/dist-packages (from rsa<5,>=3.1.4; python_version >= \"3\"->google-auth<2,>=1.6.3->tensorboard<3,>=2.3.0->tensorflow>=1.14.0->deepstack) (0.4.8)\n",
            "Installing collected packages: deepstack\n",
            "Successfully installed deepstack-0.0.9\n"
          ],
          "name": "stdout"
        }
      ]
    },
    {
      "cell_type": "markdown",
      "metadata": {
        "id": "LpbQm2i9jYrP",
        "colab_type": "text"
      },
      "source": [
        "### Importação das bibliotecas"
      ]
    },
    {
      "cell_type": "code",
      "metadata": {
        "id": "wYfBGnPGGrJH",
        "colab_type": "code",
        "colab": {
          "base_uri": "https://localhost:8080/",
          "height": 0
        },
        "outputId": "d3681f70-1f8e-4065-96f9-3d19e20e05a6"
      },
      "source": [
        "import zipfile\n",
        "import os\n",
        "import numpy as np\n",
        "import tensorflow as tf\n",
        "import tensorflow_addons as tfa\n",
        "import tensorflow_hub as hub\n",
        "\n",
        "import matplotlib.pyplot as plt\n",
        "import pandas as pd\n",
        "import sys\n",
        "import itertools\n",
        "import shutil\n",
        "\n",
        "from tqdm import tqdm_notebook\n",
        "from tensorflow.keras.preprocessing.image import ImageDataGenerator\n",
        "\n",
        "%matplotlib inline\n",
        "tf.__version__"
      ],
      "execution_count": 4,
      "outputs": [
        {
          "output_type": "execute_result",
          "data": {
            "application/vnd.google.colaboratory.intrinsic+json": {
              "type": "string"
            },
            "text/plain": [
              "'2.3.0'"
            ]
          },
          "metadata": {
            "tags": []
          },
          "execution_count": 4
        }
      ]
    },
    {
      "cell_type": "markdown",
      "metadata": {
        "id": "Vqc2bvfSbMfZ",
        "colab_type": "text"
      },
      "source": [
        "### Otimizações tensorflow"
      ]
    },
    {
      "cell_type": "code",
      "metadata": {
        "id": "6blgc5uSbHeE",
        "colab_type": "code",
        "colab": {
          "base_uri": "https://localhost:8080/",
          "height": 0
        },
        "outputId": "775c8c9e-7af8-4f7a-fad3-96d8f2f12bcb"
      },
      "source": [
        "#from tensorflow.keras.mixed_precision import experimental as mixed_precision\n",
        "#policy = mixed_precision.Policy('mixed_float16')\n",
        "#mixed_precision.set_policy(policy)\n",
        "tf.config.optimizer.set_jit(True)\n",
        "\n",
        "gpus = tf.config.experimental.list_physical_devices('GPU')\n",
        "if gpus:\n",
        "  try:\n",
        "    # Currently, memory growth needs to be the same across GPUs\n",
        "    for gpu in gpus:\n",
        "      tf.config.experimental.set_memory_growth(gpu, True)\n",
        "    logical_gpus = tf.config.experimental.list_logical_devices('GPU')\n",
        "    print(len(gpus), \"Physical GPUs,\", len(logical_gpus), \"Logical GPUs\")\n",
        "  except RuntimeError as e:\n",
        "    # Memory growth must be set before GPUs have been initialized\n",
        "    print(e)"
      ],
      "execution_count": 5,
      "outputs": [
        {
          "output_type": "stream",
          "text": [
            "1 Physical GPUs, 1 Logical GPUs\n"
          ],
          "name": "stdout"
        }
      ]
    },
    {
      "cell_type": "markdown",
      "metadata": {
        "id": "jQl1fF9Ca80N",
        "colab_type": "text"
      },
      "source": [
        "### Fazendo o download da base de dados de imagens"
      ]
    },
    {
      "cell_type": "code",
      "metadata": {
        "id": "iHZC2kGet4Vv",
        "colab_type": "code",
        "colab": {
          "base_uri": "https://localhost:8080/",
          "height": 0
        },
        "outputId": "105a8089-7016-4c90-c8f7-3643ad155d26"
      },
      "source": [
        "%%time\n",
        "if (os.path.isdir('./ISIC_Training_Input')==False):\n",
        "  !wget --no-check-certificate \\\n",
        "      https://isic-challenge-data.s3.amazonaws.com/2018/ISIC2018_Task3_Training_Input.zip \\\n",
        "      -O ./skin_cancer_train_2018.zip\n"
      ],
      "execution_count": 6,
      "outputs": [
        {
          "output_type": "stream",
          "text": [
            "--2020-08-30 00:50:19--  https://isic-challenge-data.s3.amazonaws.com/2018/ISIC2018_Task3_Training_Input.zip\n",
            "Resolving isic-challenge-data.s3.amazonaws.com (isic-challenge-data.s3.amazonaws.com)... 52.217.17.188\n",
            "Connecting to isic-challenge-data.s3.amazonaws.com (isic-challenge-data.s3.amazonaws.com)|52.217.17.188|:443... connected.\n",
            "HTTP request sent, awaiting response... 200 OK\n",
            "Length: 2771732744 (2.6G) [application/zip]\n",
            "Saving to: ‘./skin_cancer_train_2018.zip’\n",
            "\n",
            "./skin_cancer_train 100%[===================>]   2.58G  45.4MB/s    in 59s     \n",
            "\n",
            "2020-08-30 00:51:19 (44.6 MB/s) - ‘./skin_cancer_train_2018.zip’ saved [2771732744/2771732744]\n",
            "\n",
            "CPU times: user 336 ms, sys: 113 ms, total: 449 ms\n",
            "Wall time: 59.8 s\n"
          ],
          "name": "stdout"
        }
      ]
    },
    {
      "cell_type": "code",
      "metadata": {
        "id": "mLWquLOxa-V5",
        "colab_type": "code",
        "colab": {
          "base_uri": "https://localhost:8080/",
          "height": 0
        },
        "outputId": "32ff4c08-f340-4fbc-a24f-7004f2fc67ef"
      },
      "source": [
        "%%time\n",
        "if (os.path.isdir('./ISIC_Training_Input')==False):\n",
        "  !wget --no-check-certificate \\\n",
        "      https://s3.amazonaws.com/isic-challenge-2019/ISIC_2019_Training_Input.zip \\\n",
        "      -O ./skin_cancer_train_2019.zip"
      ],
      "execution_count": 7,
      "outputs": [
        {
          "output_type": "stream",
          "text": [
            "--2020-08-30 00:51:19--  https://s3.amazonaws.com/isic-challenge-2019/ISIC_2019_Training_Input.zip\n",
            "Resolving s3.amazonaws.com (s3.amazonaws.com)... 52.217.81.94\n",
            "Connecting to s3.amazonaws.com (s3.amazonaws.com)|52.217.81.94|:443... connected.\n",
            "HTTP request sent, awaiting response... 200 OK\n",
            "Length: 9771618190 (9.1G) [application/zip]\n",
            "Saving to: ‘./skin_cancer_train_2019.zip’\n",
            "\n",
            "./skin_cancer_train 100%[===================>]   9.10G  38.4MB/s    in 5m 25s  \n",
            "\n",
            "2020-08-30 00:56:44 (28.7 MB/s) - ‘./skin_cancer_train_2019.zip’ saved [9771618190/9771618190]\n",
            "\n",
            "CPU times: user 1.73 s, sys: 560 ms, total: 2.29 s\n",
            "Wall time: 5min 25s\n"
          ],
          "name": "stdout"
        }
      ]
    },
    {
      "cell_type": "markdown",
      "metadata": {
        "id": "5-tk5DfRjXN3",
        "colab_type": "text"
      },
      "source": [
        "## Etapa 2: Pré-processamento"
      ]
    },
    {
      "cell_type": "markdown",
      "metadata": {
        "id": "VSDt-MEVjlsA",
        "colab_type": "text"
      },
      "source": [
        "### Configurando os caminhos (paths)"
      ]
    },
    {
      "cell_type": "code",
      "metadata": {
        "id": "gWRIeZgpJkGM",
        "colab_type": "code",
        "colab": {}
      },
      "source": [
        "train_dir = \"./train\"\n",
        "if not os.path.exists(train_dir): \n",
        "  os.mkdir(train_dir)\n",
        "valid_dir = \"./valid\"\n",
        "if not os.path.exists(valid_dir): \n",
        "  os.mkdir(valid_dir)\n",
        "\n",
        "\n",
        "download_path = './'\n",
        "derm_ai_path = '/content/drive/My Drive/Derm AI/ISIC_2019'\n"
      ],
      "execution_count": 8,
      "outputs": []
    },
    {
      "cell_type": "markdown",
      "metadata": {
        "id": "5gfYxIxDqN6f",
        "colab_type": "text"
      },
      "source": [
        "### Definindo função para descompactar arquivo"
      ]
    },
    {
      "cell_type": "code",
      "metadata": {
        "id": "n35JE--zsSYq",
        "colab_type": "code",
        "colab": {}
      },
      "source": [
        "def dcp(download_path, path, file):\n",
        "  if (os.path.isdir(path)==False):\n",
        "    dataset_path = os.path.join(download_path,file)\n",
        "    zip_object = zipfile.ZipFile(file=dataset_path, mode=\"r\")\n",
        "    zip_object.extractall(\"./\")\n",
        "    zip_object.close()"
      ],
      "execution_count": 9,
      "outputs": []
    },
    {
      "cell_type": "markdown",
      "metadata": {
        "id": "MlsIOpGljdlS",
        "colab_type": "text"
      },
      "source": [
        "### Descompactando a base de dados de Treinamento"
      ]
    },
    {
      "cell_type": "code",
      "metadata": {
        "id": "wITWICPaIryU",
        "colab_type": "code",
        "colab": {
          "base_uri": "https://localhost:8080/",
          "height": 0
        },
        "outputId": "0522b6a8-d4ff-418c-d2ba-df4a90bb8658"
      },
      "source": [
        "%%time\n",
        "dcp(download_path, './ISIC2018_Task3_Training_Input', 'skin_cancer_train_2018.zip')"
      ],
      "execution_count": 10,
      "outputs": [
        {
          "output_type": "stream",
          "text": [
            "CPU times: user 5.7 s, sys: 3.71 s, total: 9.41 s\n",
            "Wall time: 1min 22s\n"
          ],
          "name": "stdout"
        }
      ]
    },
    {
      "cell_type": "code",
      "metadata": {
        "id": "Sba6BtZMwE5h",
        "colab_type": "code",
        "colab": {}
      },
      "source": [
        "!rm ./skin_cancer_train_2018.zip"
      ],
      "execution_count": 11,
      "outputs": []
    },
    {
      "cell_type": "code",
      "metadata": {
        "id": "iSzqqec_uh-H",
        "colab_type": "code",
        "colab": {
          "base_uri": "https://localhost:8080/",
          "height": 0
        },
        "outputId": "02fb2b22-498b-4712-ddd9-51c8b5f02581"
      },
      "source": [
        "%%time\n",
        "dcp(download_path, './ISIC_2019_Training_Input', 'skin_cancer_train_2019.zip')"
      ],
      "execution_count": 12,
      "outputs": [
        {
          "output_type": "stream",
          "text": [
            "CPU times: user 43.4 s, sys: 12.6 s, total: 55.9 s\n",
            "Wall time: 4min 45s\n"
          ],
          "name": "stdout"
        }
      ]
    },
    {
      "cell_type": "code",
      "metadata": {
        "id": "3klOyRpawHFJ",
        "colab_type": "code",
        "colab": {}
      },
      "source": [
        "!rm ./skin_cancer_train_2019.zip"
      ],
      "execution_count": 13,
      "outputs": []
    },
    {
      "cell_type": "markdown",
      "metadata": {
        "id": "HNLiNlROcm-x",
        "colab_type": "text"
      },
      "source": [
        "### Definindo DataFrame base para criação das pastas de cada classe"
      ]
    },
    {
      "cell_type": "code",
      "metadata": {
        "id": "2QXyi2LU0D0c",
        "colab_type": "code",
        "colab": {
          "base_uri": "https://localhost:8080/",
          "height": 0
        },
        "outputId": "aecdef8a-79d7-41e2-ff67-aa28026cf98b"
      },
      "source": [
        "!wget --no-check-certificate \\\n",
        "      https://isic-challenge-data.s3.amazonaws.com/2018/ISIC2018_Task3_Training_GroundTruth.zip \\\n",
        "      -O ./ground_truth.zip\n",
        "\n",
        "\n",
        "zip_object = zipfile.ZipFile(file='ground_truth.zip', mode=\"r\")\n",
        "zip_object.extractall(\"./\")\n",
        "zip_object.close()"
      ],
      "execution_count": 14,
      "outputs": [
        {
          "output_type": "stream",
          "text": [
            "--2020-08-30 01:02:53--  https://isic-challenge-data.s3.amazonaws.com/2018/ISIC2018_Task3_Training_GroundTruth.zip\n",
            "Resolving isic-challenge-data.s3.amazonaws.com (isic-challenge-data.s3.amazonaws.com)... 52.217.1.36\n",
            "Connecting to isic-challenge-data.s3.amazonaws.com (isic-challenge-data.s3.amazonaws.com)|52.217.1.36|:443... connected.\n",
            "HTTP request sent, awaiting response... 200 OK\n",
            "Length: 36681 (36K) [application/zip]\n",
            "Saving to: ‘./ground_truth.zip’\n",
            "\n",
            "./ground_truth.zip  100%[===================>]  35.82K  --.-KB/s    in 0.07s   \n",
            "\n",
            "2020-08-30 01:02:54 (538 KB/s) - ‘./ground_truth.zip’ saved [36681/36681]\n",
            "\n"
          ],
          "name": "stdout"
        }
      ]
    },
    {
      "cell_type": "code",
      "metadata": {
        "id": "L1CAr2r1DuzM",
        "colab_type": "code",
        "colab": {
          "base_uri": "https://localhost:8080/",
          "height": 0
        },
        "outputId": "dadaa27a-4729-4f1e-88fb-b924de1e6fbb"
      },
      "source": [
        "# Read in the data\n",
        "ground_truth1 = pd.read_csv('https://s3.amazonaws.com/isic-challenge-2019/ISIC_2019_Training_GroundTruth.csv')\n",
        "ground_truth2 = pd.read_csv('/content/ISIC2018_Task3_Training_GroundTruth/ISIC2018_Task3_Training_GroundTruth.csv')\n",
        "ground_truth2['AK'] = ground_truth2['AKIEC']\n",
        "ground_truth2.drop(columns=['AKIEC'], inplace=True)\n",
        "ground_truth = pd.concat([ground_truth1,ground_truth2])\n",
        "\n",
        "# Display some information in the dataset\n",
        "ground_truth.head()"
      ],
      "execution_count": 15,
      "outputs": [
        {
          "output_type": "execute_result",
          "data": {
            "text/html": [
              "<div>\n",
              "<style scoped>\n",
              "    .dataframe tbody tr th:only-of-type {\n",
              "        vertical-align: middle;\n",
              "    }\n",
              "\n",
              "    .dataframe tbody tr th {\n",
              "        vertical-align: top;\n",
              "    }\n",
              "\n",
              "    .dataframe thead th {\n",
              "        text-align: right;\n",
              "    }\n",
              "</style>\n",
              "<table border=\"1\" class=\"dataframe\">\n",
              "  <thead>\n",
              "    <tr style=\"text-align: right;\">\n",
              "      <th></th>\n",
              "      <th>image</th>\n",
              "      <th>MEL</th>\n",
              "      <th>NV</th>\n",
              "      <th>BCC</th>\n",
              "      <th>AK</th>\n",
              "      <th>BKL</th>\n",
              "      <th>DF</th>\n",
              "      <th>VASC</th>\n",
              "      <th>SCC</th>\n",
              "      <th>UNK</th>\n",
              "    </tr>\n",
              "  </thead>\n",
              "  <tbody>\n",
              "    <tr>\n",
              "      <th>0</th>\n",
              "      <td>ISIC_0000000</td>\n",
              "      <td>0.0</td>\n",
              "      <td>1.0</td>\n",
              "      <td>0.0</td>\n",
              "      <td>0.0</td>\n",
              "      <td>0.0</td>\n",
              "      <td>0.0</td>\n",
              "      <td>0.0</td>\n",
              "      <td>0.0</td>\n",
              "      <td>0.0</td>\n",
              "    </tr>\n",
              "    <tr>\n",
              "      <th>1</th>\n",
              "      <td>ISIC_0000001</td>\n",
              "      <td>0.0</td>\n",
              "      <td>1.0</td>\n",
              "      <td>0.0</td>\n",
              "      <td>0.0</td>\n",
              "      <td>0.0</td>\n",
              "      <td>0.0</td>\n",
              "      <td>0.0</td>\n",
              "      <td>0.0</td>\n",
              "      <td>0.0</td>\n",
              "    </tr>\n",
              "    <tr>\n",
              "      <th>2</th>\n",
              "      <td>ISIC_0000002</td>\n",
              "      <td>1.0</td>\n",
              "      <td>0.0</td>\n",
              "      <td>0.0</td>\n",
              "      <td>0.0</td>\n",
              "      <td>0.0</td>\n",
              "      <td>0.0</td>\n",
              "      <td>0.0</td>\n",
              "      <td>0.0</td>\n",
              "      <td>0.0</td>\n",
              "    </tr>\n",
              "    <tr>\n",
              "      <th>3</th>\n",
              "      <td>ISIC_0000003</td>\n",
              "      <td>0.0</td>\n",
              "      <td>1.0</td>\n",
              "      <td>0.0</td>\n",
              "      <td>0.0</td>\n",
              "      <td>0.0</td>\n",
              "      <td>0.0</td>\n",
              "      <td>0.0</td>\n",
              "      <td>0.0</td>\n",
              "      <td>0.0</td>\n",
              "    </tr>\n",
              "    <tr>\n",
              "      <th>4</th>\n",
              "      <td>ISIC_0000004</td>\n",
              "      <td>1.0</td>\n",
              "      <td>0.0</td>\n",
              "      <td>0.0</td>\n",
              "      <td>0.0</td>\n",
              "      <td>0.0</td>\n",
              "      <td>0.0</td>\n",
              "      <td>0.0</td>\n",
              "      <td>0.0</td>\n",
              "      <td>0.0</td>\n",
              "    </tr>\n",
              "  </tbody>\n",
              "</table>\n",
              "</div>"
            ],
            "text/plain": [
              "          image  MEL   NV  BCC   AK  BKL   DF  VASC  SCC  UNK\n",
              "0  ISIC_0000000  0.0  1.0  0.0  0.0  0.0  0.0   0.0  0.0  0.0\n",
              "1  ISIC_0000001  0.0  1.0  0.0  0.0  0.0  0.0   0.0  0.0  0.0\n",
              "2  ISIC_0000002  1.0  0.0  0.0  0.0  0.0  0.0   0.0  0.0  0.0\n",
              "3  ISIC_0000003  0.0  1.0  0.0  0.0  0.0  0.0   0.0  0.0  0.0\n",
              "4  ISIC_0000004  1.0  0.0  0.0  0.0  0.0  0.0   0.0  0.0  0.0"
            ]
          },
          "metadata": {
            "tags": []
          },
          "execution_count": 15
        }
      ]
    },
    {
      "cell_type": "code",
      "metadata": {
        "id": "JjEvXx__3ePG",
        "colab_type": "code",
        "colab": {}
      },
      "source": [
        "!mkdir ISIC_Training_Input\n",
        "!mv /content/ISIC2018_Task3_Training_Input/*.jpg /content/ISIC_Training_Input\n",
        "!mv /content/ISIC_2019_Training_Input/*.jpg /content/ISIC_Training_Input"
      ],
      "execution_count": 16,
      "outputs": []
    },
    {
      "cell_type": "markdown",
      "metadata": {
        "id": "BXaZWN0uqZNK",
        "colab_type": "text"
      },
      "source": [
        "### Separando base de treinamento e de validação"
      ]
    },
    {
      "cell_type": "code",
      "metadata": {
        "id": "U_VyLoDlDuvB",
        "colab_type": "code",
        "colab": {}
      },
      "source": [
        "# Set y as the labels\n",
        "y = []\n",
        "for row in ground_truth.iterrows():\n",
        "    innerlist = []\n",
        "    newlist = row[1].index[row[1].values[1:].argmax() + 1]\n",
        "    y.append(newlist)\n",
        "\n",
        "\n",
        "#add a name to the label series\n",
        "yd = pd.Series(y) \n",
        "yd.name = 'cclass'\n",
        "\n",
        "from sklearn.model_selection import train_test_split\n",
        "df_train, df_val = train_test_split(ground_truth, test_size=0.2, random_state=41, stratify=yd)\n",
        "\n",
        "# Get a list of images in each of the two folders\n",
        "folder = os.listdir('ISIC_Training_Input')\n",
        "\n",
        "# Get a list of train and val images\n",
        "#all_list = list(ground_truth['image'])\n",
        "#\n",
        "train_list = list(df_train['image'])\n",
        "val_list = list(df_val['image'])"
      ],
      "execution_count": 17,
      "outputs": []
    },
    {
      "cell_type": "markdown",
      "metadata": {
        "id": "1VT0vKNCqzmi",
        "colab_type": "text"
      },
      "source": [
        "### Criando subdiretório das classes"
      ]
    },
    {
      "cell_type": "code",
      "metadata": {
        "id": "yQVWYQtfDucv",
        "colab_type": "code",
        "colab": {}
      },
      "source": [
        "#create sub directory for the classes\n",
        "for col in ground_truth.columns:\n",
        "    if not (col == 'image' or  col == 'UNK'):\n",
        "        dir_path = os.path.join(train_dir, col)\n",
        "        if not os.path.exists(dir_path):\n",
        "          os.mkdir(dir_path)\n",
        "        dir_path = os.path.join(valid_dir, col)\n",
        "        if not os.path.exists(dir_path):\n",
        "          os.mkdir(dir_path)"
      ],
      "execution_count": 18,
      "outputs": []
    },
    {
      "cell_type": "markdown",
      "metadata": {
        "id": "b-h7pZBzq5Gu",
        "colab_type": "text"
      },
      "source": [
        "### Transferindo arquivos - base de treinamento"
      ]
    },
    {
      "cell_type": "code",
      "metadata": {
        "id": "qRTSwhmAHxt0",
        "colab_type": "code",
        "colab": {
          "base_uri": "https://localhost:8080/",
          "height": 0
        },
        "outputId": "e87835f6-6127-419f-dff1-fae45f82412f"
      },
      "source": [
        "%%time\n",
        "# Transfer the training images\n",
        "for row in df_train.iterrows():\n",
        "    image = row[1].image\n",
        "    # The argmax error was occuring because the first column (image) is a string.\n",
        "    # By using row[1].values[1:] we skip the first column.  This means we need \n",
        "    # add 1 to get the correct row[1].index.\n",
        "    label = row[1].index[row[1].values[1:].argmax() + 1]\n",
        "    fname = image + '.jpg'\n",
        "\n",
        "    if fname in folder:\n",
        "        # source path to image\n",
        "        src = os.path.join('ISIC_Training_Input', fname)\n",
        "        # destination path to image\n",
        "        dst = os.path.join(train_dir, label, fname)\n",
        "        # copy the image from the source to the destination\n",
        "        shutil.copyfile(src, dst)"
      ],
      "execution_count": 19,
      "outputs": [
        {
          "output_type": "stream",
          "text": [
            "CPU times: user 14.8 s, sys: 13.9 s, total: 28.7 s\n",
            "Wall time: 3min 52s\n"
          ],
          "name": "stdout"
        }
      ]
    },
    {
      "cell_type": "markdown",
      "metadata": {
        "id": "dN1GC7rlrASa",
        "colab_type": "text"
      },
      "source": [
        "### Transferindo arquivos - base de validação"
      ]
    },
    {
      "cell_type": "code",
      "metadata": {
        "id": "IjK3evbLHxlf",
        "colab_type": "code",
        "colab": {
          "base_uri": "https://localhost:8080/",
          "height": 0
        },
        "outputId": "e99c74a1-8531-4f01-e3cf-4801e728fafa"
      },
      "source": [
        "%%time\n",
        "# Transfer the valid images\n",
        "for row in df_val.iterrows():\n",
        "    image = row[1].image\n",
        "    # The argmax error was occuring because the first column (image) is a string.\n",
        "    # By using row[1].values[1:] we skip the first column.  This means we need \n",
        "    # add 1 to get the correct row[1].index.\n",
        "    label = row[1].index[row[1].values[1:].argmax() + 1]\n",
        "    fname = image + '.jpg'\n",
        "\n",
        "    if fname in folder:\n",
        "        # source path to image\n",
        "        src = os.path.join('ISIC_Training_Input', fname)\n",
        "        # destination path to image\n",
        "        dst = os.path.join(valid_dir, label, fname)\n",
        "        # copy the image from the source to the destination\n",
        "        shutil.copyfile(src, dst)"
      ],
      "execution_count": 20,
      "outputs": [
        {
          "output_type": "stream",
          "text": [
            "CPU times: user 3.74 s, sys: 3.37 s, total: 7.12 s\n",
            "Wall time: 1min 2s\n"
          ],
          "name": "stdout"
        }
      ]
    },
    {
      "cell_type": "markdown",
      "metadata": {
        "id": "JuJTelonrFtr",
        "colab_type": "text"
      },
      "source": [
        "### Números das bases de treinamento"
      ]
    },
    {
      "cell_type": "code",
      "metadata": {
        "id": "Q6bWTXeTHxcD",
        "colab_type": "code",
        "colab": {
          "base_uri": "https://localhost:8080/",
          "height": 0
        },
        "outputId": "8006e35f-b999-4d79-ac31-74d114300069"
      },
      "source": [
        "# training examples\n",
        "total = 0\n",
        "for col in ground_truth.columns:\n",
        "    if not (col == 'image' or  col == 'UNK'):\n",
        "        npath = os.path.join(train_dir, col)\n",
        "        print(col,len(os.listdir(npath)))\n",
        "        total = total+len(os.listdir(npath))\n",
        "print('total = ',total)"
      ],
      "execution_count": 21,
      "outputs": [
        {
          "output_type": "stream",
          "text": [
            "MEL 3790\n",
            "NV 11392\n",
            "BCC 2749\n",
            "AK 874\n",
            "BKL 2277\n",
            "DF 211\n",
            "VASC 233\n",
            "SCC 502\n",
            "total =  22028\n"
          ],
          "name": "stdout"
        }
      ]
    },
    {
      "cell_type": "markdown",
      "metadata": {
        "id": "arX5o8G_rOiq",
        "colab_type": "text"
      },
      "source": [
        "### Números das bases de validação"
      ]
    },
    {
      "cell_type": "code",
      "metadata": {
        "id": "W73tLgR0IuaF",
        "colab_type": "code",
        "colab": {
          "base_uri": "https://localhost:8080/",
          "height": 0
        },
        "outputId": "81433670-78b9-4dd9-83ac-5f41813f9220"
      },
      "source": [
        "# validation examples\n",
        "total = 0\n",
        "for col in ground_truth.columns:\n",
        "    if not (col == 'image' or  col == 'UNK'):\n",
        "        npath = os.path.join(valid_dir, col)\n",
        "        print(col,len(os.listdir(npath)))\n",
        "        total = total+len(os.listdir(npath))\n",
        "print('total = ',total)"
      ],
      "execution_count": 22,
      "outputs": [
        {
          "output_type": "stream",
          "text": [
            "MEL 1086\n",
            "NV 3637\n",
            "BCC 746\n",
            "AK 231\n",
            "BKL 701\n",
            "DF 67\n",
            "VASC 75\n",
            "SCC 126\n",
            "total =  6669\n"
          ],
          "name": "stdout"
        }
      ]
    },
    {
      "cell_type": "markdown",
      "metadata": {
        "id": "a4v3E426rTpK",
        "colab_type": "text"
      },
      "source": [
        "### Balanceamento base de validação"
      ]
    },
    {
      "cell_type": "code",
      "metadata": {
        "id": "SNZHzSOBIuQ3",
        "colab_type": "code",
        "colab": {}
      },
      "source": [
        "import os, random\n",
        "mellen = len(os.listdir('./valid/MEL'))\n",
        "nvlen = len(os.listdir('./valid/NV'))\n",
        "for i in range(nvlen - mellen):\n",
        "    file = random.choice(os.listdir(\"./valid/NV\"))\n",
        "    dst = os.path.join(valid_dir,'NV', file)\n",
        "    os.remove(dst)"
      ],
      "execution_count": 23,
      "outputs": []
    },
    {
      "cell_type": "code",
      "metadata": {
        "id": "zG7s-4ChKL7D",
        "colab_type": "code",
        "colab": {
          "base_uri": "https://localhost:8080/",
          "height": 0
        },
        "outputId": "90897e14-274b-465e-f78d-83decec0b1b7"
      },
      "source": [
        "# validation examples\n",
        "total = 0\n",
        "for col in ground_truth.columns:\n",
        "    if not (col == 'image' or  col == 'UNK'):\n",
        "        npath = os.path.join(valid_dir, col)\n",
        "        print(col,len(os.listdir(npath)))\n",
        "        total = total+len(os.listdir(npath))\n",
        "print('total = ',total)        \n",
        "val_len = total"
      ],
      "execution_count": 24,
      "outputs": [
        {
          "output_type": "stream",
          "text": [
            "MEL 1086\n",
            "NV 1086\n",
            "BCC 746\n",
            "AK 231\n",
            "BKL 701\n",
            "DF 67\n",
            "VASC 75\n",
            "SCC 126\n",
            "total =  4118\n"
          ],
          "name": "stdout"
        }
      ]
    },
    {
      "cell_type": "markdown",
      "metadata": {
        "id": "ZXsBWZbRq1Ry",
        "colab_type": "text"
      },
      "source": [
        "AK\n",
        "BCC\n",
        "BKL\n",
        "DF\n",
        "MEL Melanoma\n",
        "NV\n",
        "SCC\n",
        "VASC"
      ]
    },
    {
      "cell_type": "markdown",
      "metadata": {
        "id": "CA-SrKLXrkNl",
        "colab_type": "text"
      },
      "source": [
        "### Criando pesos das classes"
      ]
    },
    {
      "cell_type": "markdown",
      "metadata": {
        "id": "YJRlLGaotJ_J",
        "colab_type": "text"
      },
      "source": [
        "### Criando geradores de dados (Data Generators)\n"
      ]
    },
    {
      "cell_type": "code",
      "metadata": {
        "id": "ydIUm9MvK4pn",
        "colab_type": "code",
        "colab": {}
      },
      "source": [
        "# Data Augmentation (https://keras.io/preprocessing/image/)\n",
        "data_gen_train = ImageDataGenerator(#validation_split=0.2,\n",
        "                                    rescale=1/255., \n",
        "                                    horizontal_flip= True, \n",
        "                                    vertical_flip = True, \n",
        "                                    height_shift_range=0.10, \n",
        "                                    width_shift_range=0.10,\n",
        "                                    rotation_range=180,\n",
        "                                    shear_range=0.01,\n",
        "                                    zoom_range=[0.95, 1.25],\n",
        "                                    fill_mode='constant',\n",
        "                                    #data_format='channels_last',\n",
        "                                    brightness_range=[0.9, 1.1]\n",
        "                                    )\n",
        "\n",
        "data_gen_valid = ImageDataGenerator(rescale=1/255., \n",
        "                                   fill_mode=\"constant\"\n",
        ")\n",
        "\n"
      ],
      "execution_count": 25,
      "outputs": []
    },
    {
      "cell_type": "code",
      "metadata": {
        "id": "r2K46zJnLbzP",
        "colab_type": "code",
        "colab": {
          "base_uri": "https://localhost:8080/",
          "height": 50
        },
        "outputId": "6376c978-3c7a-4907-d7ad-ea8462dd91cf"
      },
      "source": [
        "train_generator = data_gen_train.flow_from_directory(train_dir, target_size=(224,224), batch_size=32, class_mode=\"categorical\", shuffle=False)\n",
        "valid_generator = data_gen_valid.flow_from_directory(valid_dir, target_size=(224,224), batch_size=32, class_mode=\"categorical\", shuffle=False)\n",
        "\n",
        "steps_per_epoch = len(train_generator)"
      ],
      "execution_count": 31,
      "outputs": [
        {
          "output_type": "stream",
          "text": [
            "Found 22028 images belonging to 8 classes.\n",
            "Found 4118 images belonging to 8 classes.\n"
          ],
          "name": "stdout"
        }
      ]
    },
    {
      "cell_type": "markdown",
      "metadata": {
        "id": "pl0Lin9Cc9dG",
        "colab_type": "text"
      },
      "source": [
        "#### Exibição de 3 imagens carregadas"
      ]
    },
    {
      "cell_type": "code",
      "metadata": {
        "id": "cKn3UrOG--w-",
        "colab_type": "code",
        "colab": {
          "base_uri": "https://localhost:8080/",
          "height": 823
        },
        "outputId": "a94082ee-9961-49d4-ef11-71d02582b571"
      },
      "source": [
        "x,y = train_generator.next()\n",
        "for i in range(0,3):\n",
        "    image = x[i]\n",
        "    label = y[i]\n",
        "    print (label)\n",
        "    plt.imshow(image)\n",
        "    plt.show()"
      ],
      "execution_count": 27,
      "outputs": [
        {
          "output_type": "stream",
          "text": [
            "[0. 1. 0. 0. 0. 0. 0. 0.]\n"
          ],
          "name": "stdout"
        },
        {
          "output_type": "display_data",
          "data": {
            "image/png": "[encoded data removed]",
            "text/plain": [
              "<Figure size 432x288 with 1 Axes>"
            ]
          },
          "metadata": {
            "tags": [],
            "needs_background": "light"
          }
        },
        {
          "output_type": "stream",
          "text": [
            "[0. 0. 0. 0. 1. 0. 0. 0.]\n"
          ],
          "name": "stdout"
        },
        {
          "output_type": "display_data",
          "data": {
            "image/png": "[encoded data removed]",
            "text/plain": [
              "<Figure size 432x288 with 1 Axes>"
            ]
          },
          "metadata": {
            "tags": [],
            "needs_background": "light"
          }
        },
        {
          "output_type": "stream",
          "text": [
            "[0. 0. 0. 0. 0. 1. 0. 0.]\n"
          ],
          "name": "stdout"
        },
        {
          "output_type": "display_data",
          "data": {
            "image/png": "[encoded data removed]",
            "text/plain": [
              "<Figure size 432x288 with 1 Axes>"
            ]
          },
          "metadata": {
            "tags": [],
            "needs_background": "light"
          }
        }
      ]
    },
    {
      "cell_type": "code",
      "metadata": {
        "id": "8U-Au_T1J7Im",
        "colab_type": "code",
        "colab": {
          "base_uri": "https://localhost:8080/",
          "height": 34
        },
        "outputId": "7cf87e7b-f1e7-4b7c-e5ce-625176042a90"
      },
      "source": [
        "import numpy as np\n",
        "\n",
        "from sklearn.utils import class_weight\n",
        "class_weights = dict(zip(np.unique(train_generator.classes), class_weight.compute_class_weight('balanced',\n",
        "                                                 np.unique(train_generator.classes),\n",
        "                                                 train_generator.classes))) \n",
        "\n",
        "\n",
        "class_weights\n",
        "train_generator.class_indices"
      ],
      "execution_count": 28,
      "outputs": [
        {
          "output_type": "execute_result",
          "data": {
            "text/plain": [
              "{'AK': 0, 'BCC': 1, 'BKL': 2, 'DF': 3, 'MEL': 4, 'NV': 5, 'SCC': 6, 'VASC': 7}"
            ]
          },
          "metadata": {
            "tags": []
          },
          "execution_count": 28
        }
      ]
    },
    {
      "cell_type": "markdown",
      "metadata": {
        "id": "-YLQb_WOmjwP",
        "colab_type": "text"
      },
      "source": [
        "## Etapa 3: Construindo o modelo"
      ]
    },
    {
      "cell_type": "markdown",
      "metadata": {
        "id": "PoMFwC51mmNa",
        "colab_type": "text"
      },
      "source": [
        "### Carregando o modelo pré-treinado (InceptionResNetV2)"
      ]
    },
    {
      "cell_type": "code",
      "metadata": {
        "id": "IRRKgkWqAyNF",
        "colab_type": "code",
        "colab": {
          "base_uri": "https://localhost:8080/",
          "height": 1000
        },
        "outputId": "f760453d-e4b6-4a58-bbb1-d33c514ce6f7"
      },
      "source": [
        "img_shape = (224, 224, 3)\n",
        "base_model = tf.keras.applications.InceptionResNetV2(input_shape = img_shape, \n",
        "                                               include_top = False,\n",
        "                                               weights = \"imagenet\")\n",
        "\n",
        "#base_model = hub.KerasLayer(\"https://tfhub.dev/google/imagenet/resnet_v2_152/classification/4\", trainable=False, arguments=dict(batch_norm_momentum=0.997))\n",
        "\n",
        "base_model.trainable = False #@param {type:\"boolean\"}\n",
        "prediction_layer = tf.keras.layers.GlobalAveragePooling2D()(base_model.output)\n",
        "\"\"\"global_average_layer = tf.keras.layers.Dropout(0.2)global_average_layer(global_average_layer)\n",
        "global_average_layer = tf.keras.layers.Dense(1024, activation=\"relu\")(global_average_layer)\n",
        "global_average_layer = tf.keras.layers.Dropout(0.2)(global_average_layer)\n",
        "global_average_layer = tf.keras.layers.Dense(512, activation=\"relu\")(global_average_layer)\n",
        "prediction_layer = tf.keras.layers.Dense(units = 8, activation = \"softmax\")(global_average_layer)\"\"\"\n",
        "model = tf.keras.models.Model(inputs = base_model.input, outputs = prediction_layer)\n",
        "model.summary()\n"
      ],
      "execution_count": 32,
      "outputs": [
        {
          "output_type": "stream",
          "text": [
            "Model: \"functional_1\"\n",
            "__________________________________________________________________________________________________\n",
            "Layer (type)                    Output Shape         Param #     Connected to                     \n",
            "==================================================================================================\n",
            "input_2 (InputLayer)            [(None, 224, 224, 3) 0                                            \n",
            "__________________________________________________________________________________________________\n",
            "conv2d_203 (Conv2D)             (None, 111, 111, 32) 864         input_2[0][0]                    \n",
            "__________________________________________________________________________________________________\n",
            "batch_normalization_203 (BatchN (None, 111, 111, 32) 96          conv2d_203[0][0]                 \n",
            "__________________________________________________________________________________________________\n",
            "activation_203 (Activation)     (None, 111, 111, 32) 0           batch_normalization_203[0][0]    \n",
            "__________________________________________________________________________________________________\n",
            "conv2d_204 (Conv2D)             (None, 109, 109, 32) 9216        activation_203[0][0]             \n",
            "__________________________________________________________________________________________________\n",
            "batch_normalization_204 (BatchN (None, 109, 109, 32) 96          conv2d_204[0][0]                 \n",
            "__________________________________________________________________________________________________\n",
            "activation_204 (Activation)     (None, 109, 109, 32) 0           batch_normalization_204[0][0]    \n",
            "__________________________________________________________________________________________________\n",
            "conv2d_205 (Conv2D)             (None, 109, 109, 64) 18432       activation_204[0][0]             \n",
            "__________________________________________________________________________________________________\n",
            "batch_normalization_205 (BatchN (None, 109, 109, 64) 192         conv2d_205[0][0]                 \n",
            "__________________________________________________________________________________________________\n",
            "activation_205 (Activation)     (None, 109, 109, 64) 0           batch_normalization_205[0][0]    \n",
            "__________________________________________________________________________________________________\n",
            "max_pooling2d_4 (MaxPooling2D)  (None, 54, 54, 64)   0           activation_205[0][0]             \n",
            "__________________________________________________________________________________________________\n",
            "conv2d_206 (Conv2D)             (None, 54, 54, 80)   5120        max_pooling2d_4[0][0]            \n",
            "__________________________________________________________________________________________________\n",
            "batch_normalization_206 (BatchN (None, 54, 54, 80)   240         conv2d_206[0][0]                 \n",
            "__________________________________________________________________________________________________\n",
            "activation_206 (Activation)     (None, 54, 54, 80)   0           batch_normalization_206[0][0]    \n",
            "__________________________________________________________________________________________________\n",
            "conv2d_207 (Conv2D)             (None, 52, 52, 192)  138240      activation_206[0][0]             \n",
            "__________________________________________________________________________________________________\n",
            "batch_normalization_207 (BatchN (None, 52, 52, 192)  576         conv2d_207[0][0]                 \n",
            "__________________________________________________________________________________________________\n",
            "activation_207 (Activation)     (None, 52, 52, 192)  0           batch_normalization_207[0][0]    \n",
            "__________________________________________________________________________________________________\n",
            "max_pooling2d_5 (MaxPooling2D)  (None, 25, 25, 192)  0           activation_207[0][0]             \n",
            "__________________________________________________________________________________________________\n",
            "conv2d_211 (Conv2D)             (None, 25, 25, 64)   12288       max_pooling2d_5[0][0]            \n",
            "__________________________________________________________________________________________________\n",
            "batch_normalization_211 (BatchN (None, 25, 25, 64)   192         conv2d_211[0][0]                 \n",
            "__________________________________________________________________________________________________\n",
            "activation_211 (Activation)     (None, 25, 25, 64)   0           batch_normalization_211[0][0]    \n",
            "__________________________________________________________________________________________________\n",
            "conv2d_209 (Conv2D)             (None, 25, 25, 48)   9216        max_pooling2d_5[0][0]            \n",
            "__________________________________________________________________________________________________\n",
            "conv2d_212 (Conv2D)             (None, 25, 25, 96)   55296       activation_211[0][0]             \n",
            "__________________________________________________________________________________________________\n",
            "batch_normalization_209 (BatchN (None, 25, 25, 48)   144         conv2d_209[0][0]                 \n",
            "__________________________________________________________________________________________________\n",
            "batch_normalization_212 (BatchN (None, 25, 25, 96)   288         conv2d_212[0][0]                 \n",
            "__________________________________________________________________________________________________\n",
            "activation_209 (Activation)     (None, 25, 25, 48)   0           batch_normalization_209[0][0]    \n",
            "__________________________________________________________________________________________________\n",
            "activation_212 (Activation)     (None, 25, 25, 96)   0           batch_normalization_212[0][0]    \n",
            "__________________________________________________________________________________________________\n",
            "average_pooling2d_1 (AveragePoo (None, 25, 25, 192)  0           max_pooling2d_5[0][0]            \n",
            "__________________________________________________________________________________________________\n",
            "conv2d_208 (Conv2D)             (None, 25, 25, 96)   18432       max_pooling2d_5[0][0]            \n",
            "__________________________________________________________________________________________________\n",
            "conv2d_210 (Conv2D)             (None, 25, 25, 64)   76800       activation_209[0][0]             \n",
            "__________________________________________________________________________________________________\n",
            "conv2d_213 (Conv2D)             (None, 25, 25, 96)   82944       activation_212[0][0]             \n",
            "__________________________________________________________________________________________________\n",
            "conv2d_214 (Conv2D)             (None, 25, 25, 64)   12288       average_pooling2d_1[0][0]        \n",
            "__________________________________________________________________________________________________\n",
            "batch_normalization_208 (BatchN (None, 25, 25, 96)   288         conv2d_208[0][0]                 \n",
            "__________________________________________________________________________________________________\n",
            "batch_normalization_210 (BatchN (None, 25, 25, 64)   192         conv2d_210[0][0]                 \n",
            "__________________________________________________________________________________________________\n",
            "batch_normalization_213 (BatchN (None, 25, 25, 96)   288         conv2d_213[0][0]                 \n",
            "__________________________________________________________________________________________________\n",
            "batch_normalization_214 (BatchN (None, 25, 25, 64)   192         conv2d_214[0][0]                 \n",
            "__________________________________________________________________________________________________\n",
            "activation_208 (Activation)     (None, 25, 25, 96)   0           batch_normalization_208[0][0]    \n",
            "__________________________________________________________________________________________________\n",
            "activation_210 (Activation)     (None, 25, 25, 64)   0           batch_normalization_210[0][0]    \n",
            "__________________________________________________________________________________________________\n",
            "activation_213 (Activation)     (None, 25, 25, 96)   0           batch_normalization_213[0][0]    \n",
            "__________________________________________________________________________________________________\n",
            "activation_214 (Activation)     (None, 25, 25, 64)   0           batch_normalization_214[0][0]    \n",
            "__________________________________________________________________________________________________\n",
            "mixed_5b (Concatenate)          (None, 25, 25, 320)  0           activation_208[0][0]             \n",
            "                                                                 activation_210[0][0]             \n",
            "                                                                 activation_213[0][0]             \n",
            "                                                                 activation_214[0][0]             \n",
            "__________________________________________________________________________________________________\n",
            "conv2d_218 (Conv2D)             (None, 25, 25, 32)   10240       mixed_5b[0][0]                   \n",
            "__________________________________________________________________________________________________\n",
            "batch_normalization_218 (BatchN (None, 25, 25, 32)   96          conv2d_218[0][0]                 \n",
            "__________________________________________________________________________________________________\n",
            "activation_218 (Activation)     (None, 25, 25, 32)   0           batch_normalization_218[0][0]    \n",
            "__________________________________________________________________________________________________\n",
            "conv2d_216 (Conv2D)             (None, 25, 25, 32)   10240       mixed_5b[0][0]                   \n",
            "__________________________________________________________________________________________________\n",
            "conv2d_219 (Conv2D)             (None, 25, 25, 48)   13824       activation_218[0][0]             \n",
            "__________________________________________________________________________________________________\n",
            "batch_normalization_216 (BatchN (None, 25, 25, 32)   96          conv2d_216[0][0]                 \n",
            "__________________________________________________________________________________________________\n",
            "batch_normalization_219 (BatchN (None, 25, 25, 48)   144         conv2d_219[0][0]                 \n",
            "__________________________________________________________________________________________________\n",
            "activation_216 (Activation)     (None, 25, 25, 32)   0           batch_normalization_216[0][0]    \n",
            "__________________________________________________________________________________________________\n",
            "activation_219 (Activation)     (None, 25, 25, 48)   0           batch_normalization_219[0][0]    \n",
            "__________________________________________________________________________________________________\n",
            "conv2d_215 (Conv2D)             (None, 25, 25, 32)   10240       mixed_5b[0][0]                   \n",
            "__________________________________________________________________________________________________\n",
            "conv2d_217 (Conv2D)             (None, 25, 25, 32)   9216        activation_216[0][0]             \n",
            "__________________________________________________________________________________________________\n",
            "conv2d_220 (Conv2D)             (None, 25, 25, 64)   27648       activation_219[0][0]             \n",
            "__________________________________________________________________________________________________\n",
            "batch_normalization_215 (BatchN (None, 25, 25, 32)   96          conv2d_215[0][0]                 \n",
            "__________________________________________________________________________________________________\n",
            "batch_normalization_217 (BatchN (None, 25, 25, 32)   96          conv2d_217[0][0]                 \n",
            "__________________________________________________________________________________________________\n",
            "batch_normalization_220 (BatchN (None, 25, 25, 64)   192         conv2d_220[0][0]                 \n",
            "__________________________________________________________________________________________________\n",
            "activation_215 (Activation)     (None, 25, 25, 32)   0           batch_normalization_215[0][0]    \n",
            "__________________________________________________________________________________________________\n",
            "activation_217 (Activation)     (None, 25, 25, 32)   0           batch_normalization_217[0][0]    \n",
            "__________________________________________________________________________________________________\n",
            "activation_220 (Activation)     (None, 25, 25, 64)   0           batch_normalization_220[0][0]    \n",
            "__________________________________________________________________________________________________\n",
            "block35_1_mixed (Concatenate)   (None, 25, 25, 128)  0           activation_215[0][0]             \n",
            "                                                                 activation_217[0][0]             \n",
            "                                                                 activation_220[0][0]             \n",
            "__________________________________________________________________________________________________\n",
            "block35_1_conv (Conv2D)         (None, 25, 25, 320)  41280       block35_1_mixed[0][0]            \n",
            "__________________________________________________________________________________________________\n",
            "block35_1 (Lambda)              (None, 25, 25, 320)  0           mixed_5b[0][0]                   \n",
            "                                                                 block35_1_conv[0][0]             \n",
            "__________________________________________________________________________________________________\n",
            "block35_1_ac (Activation)       (None, 25, 25, 320)  0           block35_1[0][0]                  \n",
            "__________________________________________________________________________________________________\n",
            "conv2d_224 (Conv2D)             (None, 25, 25, 32)   10240       block35_1_ac[0][0]               \n",
            "__________________________________________________________________________________________________\n",
            "batch_normalization_224 (BatchN (None, 25, 25, 32)   96          conv2d_224[0][0]                 \n",
            "__________________________________________________________________________________________________\n",
            "activation_224 (Activation)     (None, 25, 25, 32)   0           batch_normalization_224[0][0]    \n",
            "__________________________________________________________________________________________________\n",
            "conv2d_222 (Conv2D)             (None, 25, 25, 32)   10240       block35_1_ac[0][0]               \n",
            "__________________________________________________________________________________________________\n",
            "conv2d_225 (Conv2D)             (None, 25, 25, 48)   13824       activation_224[0][0]             \n",
            "__________________________________________________________________________________________________\n",
            "batch_normalization_222 (BatchN (None, 25, 25, 32)   96          conv2d_222[0][0]                 \n",
            "__________________________________________________________________________________________________\n",
            "batch_normalization_225 (BatchN (None, 25, 25, 48)   144         conv2d_225[0][0]                 \n",
            "__________________________________________________________________________________________________\n",
            "activation_222 (Activation)     (None, 25, 25, 32)   0           batch_normalization_222[0][0]    \n",
            "__________________________________________________________________________________________________\n",
            "activation_225 (Activation)     (None, 25, 25, 48)   0           batch_normalization_225[0][0]    \n",
            "__________________________________________________________________________________________________\n",
            "conv2d_221 (Conv2D)             (None, 25, 25, 32)   10240       block35_1_ac[0][0]               \n",
            "__________________________________________________________________________________________________\n",
            "conv2d_223 (Conv2D)             (None, 25, 25, 32)   9216        activation_222[0][0]             \n",
            "__________________________________________________________________________________________________\n",
            "conv2d_226 (Conv2D)             (None, 25, 25, 64)   27648       activation_225[0][0]             \n",
            "__________________________________________________________________________________________________\n",
            "batch_normalization_221 (BatchN (None, 25, 25, 32)   96          conv2d_221[0][0]                 \n",
            "__________________________________________________________________________________________________\n",
            "batch_normalization_223 (BatchN (None, 25, 25, 32)   96          conv2d_223[0][0]                 \n",
            "__________________________________________________________________________________________________\n",
            "batch_normalization_226 (BatchN (None, 25, 25, 64)   192         conv2d_226[0][0]                 \n",
            "__________________________________________________________________________________________________\n",
            "activation_221 (Activation)     (None, 25, 25, 32)   0           batch_normalization_221[0][0]    \n",
            "__________________________________________________________________________________________________\n",
            "activation_223 (Activation)     (None, 25, 25, 32)   0           batch_normalization_223[0][0]    \n",
            "__________________________________________________________________________________________________\n",
            "activation_226 (Activation)     (None, 25, 25, 64)   0           batch_normalization_226[0][0]    \n",
            "__________________________________________________________________________________________________\n",
            "block35_2_mixed (Concatenate)   (None, 25, 25, 128)  0           activation_221[0][0]             \n",
            "                                                                 activation_223[0][0]             \n",
            "                                                                 activation_226[0][0]             \n",
            "__________________________________________________________________________________________________\n",
            "block35_2_conv (Conv2D)         (None, 25, 25, 320)  41280       block35_2_mixed[0][0]            \n",
            "__________________________________________________________________________________________________\n",
            "block35_2 (Lambda)              (None, 25, 25, 320)  0           block35_1_ac[0][0]               \n",
            "                                                                 block35_2_conv[0][0]             \n",
            "__________________________________________________________________________________________________\n",
            "block35_2_ac (Activation)       (None, 25, 25, 320)  0           block35_2[0][0]                  \n",
            "__________________________________________________________________________________________________\n",
            "conv2d_230 (Conv2D)             (None, 25, 25, 32)   10240       block35_2_ac[0][0]               \n",
            "__________________________________________________________________________________________________\n",
            "batch_normalization_230 (BatchN (None, 25, 25, 32)   96          conv2d_230[0][0]                 \n",
            "__________________________________________________________________________________________________\n",
            "activation_230 (Activation)     (None, 25, 25, 32)   0           batch_normalization_230[0][0]    \n",
            "__________________________________________________________________________________________________\n",
            "conv2d_228 (Conv2D)             (None, 25, 25, 32)   10240       block35_2_ac[0][0]               \n",
            "__________________________________________________________________________________________________\n",
            "conv2d_231 (Conv2D)             (None, 25, 25, 48)   13824       activation_230[0][0]             \n",
            "__________________________________________________________________________________________________\n",
            "batch_normalization_228 (BatchN (None, 25, 25, 32)   96          conv2d_228[0][0]                 \n",
            "__________________________________________________________________________________________________\n",
            "batch_normalization_231 (BatchN (None, 25, 25, 48)   144         conv2d_231[0][0]                 \n",
            "__________________________________________________________________________________________________\n",
            "activation_228 (Activation)     (None, 25, 25, 32)   0           batch_normalization_228[0][0]    \n",
            "__________________________________________________________________________________________________\n",
            "activation_231 (Activation)     (None, 25, 25, 48)   0           batch_normalization_231[0][0]    \n",
            "__________________________________________________________________________________________________\n",
            "conv2d_227 (Conv2D)             (None, 25, 25, 32)   10240       block35_2_ac[0][0]               \n",
            "__________________________________________________________________________________________________\n",
            "conv2d_229 (Conv2D)             (None, 25, 25, 32)   9216        activation_228[0][0]             \n",
            "__________________________________________________________________________________________________\n",
            "conv2d_232 (Conv2D)             (None, 25, 25, 64)   27648       activation_231[0][0]             \n",
            "__________________________________________________________________________________________________\n",
            "batch_normalization_227 (BatchN (None, 25, 25, 32)   96          conv2d_227[0][0]                 \n",
            "__________________________________________________________________________________________________\n",
            "batch_normalization_229 (BatchN (None, 25, 25, 32)   96          conv2d_229[0][0]                 \n",
            "__________________________________________________________________________________________________\n",
            "batch_normalization_232 (BatchN (None, 25, 25, 64)   192         conv2d_232[0][0]                 \n",
            "__________________________________________________________________________________________________\n",
            "activation_227 (Activation)     (None, 25, 25, 32)   0           batch_normalization_227[0][0]    \n",
            "__________________________________________________________________________________________________\n",
            "activation_229 (Activation)     (None, 25, 25, 32)   0           batch_normalization_229[0][0]    \n",
            "__________________________________________________________________________________________________\n",
            "activation_232 (Activation)     (None, 25, 25, 64)   0           batch_normalization_232[0][0]    \n",
            "__________________________________________________________________________________________________\n",
            "block35_3_mixed (Concatenate)   (None, 25, 25, 128)  0           activation_227[0][0]             \n",
            "                                                                 activation_229[0][0]             \n",
            "                                                                 activation_232[0][0]             \n",
            "__________________________________________________________________________________________________\n",
            "block35_3_conv (Conv2D)         (None, 25, 25, 320)  41280       block35_3_mixed[0][0]            \n",
            "__________________________________________________________________________________________________\n",
            "block35_3 (Lambda)              (None, 25, 25, 320)  0           block35_2_ac[0][0]               \n",
            "                                                                 block35_3_conv[0][0]             \n",
            "__________________________________________________________________________________________________\n",
            "block35_3_ac (Activation)       (None, 25, 25, 320)  0           block35_3[0][0]                  \n",
            "__________________________________________________________________________________________________\n",
            "conv2d_236 (Conv2D)             (None, 25, 25, 32)   10240       block35_3_ac[0][0]               \n",
            "__________________________________________________________________________________________________\n",
            "batch_normalization_236 (BatchN (None, 25, 25, 32)   96          conv2d_236[0][0]                 \n",
            "__________________________________________________________________________________________________\n",
            "activation_236 (Activation)     (None, 25, 25, 32)   0           batch_normalization_236[0][0]    \n",
            "__________________________________________________________________________________________________\n",
            "conv2d_234 (Conv2D)             (None, 25, 25, 32)   10240       block35_3_ac[0][0]               \n",
            "__________________________________________________________________________________________________\n",
            "conv2d_237 (Conv2D)             (None, 25, 25, 48)   13824       activation_236[0][0]             \n",
            "__________________________________________________________________________________________________\n",
            "batch_normalization_234 (BatchN (None, 25, 25, 32)   96          conv2d_234[0][0]                 \n",
            "__________________________________________________________________________________________________\n",
            "batch_normalization_237 (BatchN (None, 25, 25, 48)   144         conv2d_237[0][0]                 \n",
            "__________________________________________________________________________________________________\n",
            "activation_234 (Activation)     (None, 25, 25, 32)   0           batch_normalization_234[0][0]    \n",
            "__________________________________________________________________________________________________\n",
            "activation_237 (Activation)     (None, 25, 25, 48)   0           batch_normalization_237[0][0]    \n",
            "__________________________________________________________________________________________________\n",
            "conv2d_233 (Conv2D)             (None, 25, 25, 32)   10240       block35_3_ac[0][0]               \n",
            "__________________________________________________________________________________________________\n",
            "conv2d_235 (Conv2D)             (None, 25, 25, 32)   9216        activation_234[0][0]             \n",
            "__________________________________________________________________________________________________\n",
            "conv2d_238 (Conv2D)             (None, 25, 25, 64)   27648       activation_237[0][0]             \n",
            "__________________________________________________________________________________________________\n",
            "batch_normalization_233 (BatchN (None, 25, 25, 32)   96          conv2d_233[0][0]                 \n",
            "__________________________________________________________________________________________________\n",
            "batch_normalization_235 (BatchN (None, 25, 25, 32)   96          conv2d_235[0][0]                 \n",
            "__________________________________________________________________________________________________\n",
            "batch_normalization_238 (BatchN (None, 25, 25, 64)   192         conv2d_238[0][0]                 \n",
            "__________________________________________________________________________________________________\n",
            "activation_233 (Activation)     (None, 25, 25, 32)   0           batch_normalization_233[0][0]    \n",
            "__________________________________________________________________________________________________\n",
            "activation_235 (Activation)     (None, 25, 25, 32)   0           batch_normalization_235[0][0]    \n",
            "__________________________________________________________________________________________________\n",
            "activation_238 (Activation)     (None, 25, 25, 64)   0           batch_normalization_238[0][0]    \n",
            "__________________________________________________________________________________________________\n",
            "block35_4_mixed (Concatenate)   (None, 25, 25, 128)  0           activation_233[0][0]             \n",
            "                                                                 activation_235[0][0]             \n",
            "                                                                 activation_238[0][0]             \n",
            "__________________________________________________________________________________________________\n",
            "block35_4_conv (Conv2D)         (None, 25, 25, 320)  41280       block35_4_mixed[0][0]            \n",
            "__________________________________________________________________________________________________\n",
            "block35_4 (Lambda)              (None, 25, 25, 320)  0           block35_3_ac[0][0]               \n",
            "                                                                 block35_4_conv[0][0]             \n",
            "__________________________________________________________________________________________________\n",
            "block35_4_ac (Activation)       (None, 25, 25, 320)  0           block35_4[0][0]                  \n",
            "__________________________________________________________________________________________________\n",
            "conv2d_242 (Conv2D)             (None, 25, 25, 32)   10240       block35_4_ac[0][0]               \n",
            "__________________________________________________________________________________________________\n",
            "batch_normalization_242 (BatchN (None, 25, 25, 32)   96          conv2d_242[0][0]                 \n",
            "__________________________________________________________________________________________________\n",
            "activation_242 (Activation)     (None, 25, 25, 32)   0           batch_normalization_242[0][0]    \n",
            "__________________________________________________________________________________________________\n",
            "conv2d_240 (Conv2D)             (None, 25, 25, 32)   10240       block35_4_ac[0][0]               \n",
            "__________________________________________________________________________________________________\n",
            "conv2d_243 (Conv2D)             (None, 25, 25, 48)   13824       activation_242[0][0]             \n",
            "__________________________________________________________________________________________________\n",
            "batch_normalization_240 (BatchN (None, 25, 25, 32)   96          conv2d_240[0][0]                 \n",
            "__________________________________________________________________________________________________\n",
            "batch_normalization_243 (BatchN (None, 25, 25, 48)   144         conv2d_243[0][0]                 \n",
            "__________________________________________________________________________________________________\n",
            "activation_240 (Activation)     (None, 25, 25, 32)   0           batch_normalization_240[0][0]    \n",
            "__________________________________________________________________________________________________\n",
            "activation_243 (Activation)     (None, 25, 25, 48)   0           batch_normalization_243[0][0]    \n",
            "__________________________________________________________________________________________________\n",
            "conv2d_239 (Conv2D)             (None, 25, 25, 32)   10240       block35_4_ac[0][0]               \n",
            "__________________________________________________________________________________________________\n",
            "conv2d_241 (Conv2D)             (None, 25, 25, 32)   9216        activation_240[0][0]             \n",
            "__________________________________________________________________________________________________\n",
            "conv2d_244 (Conv2D)             (None, 25, 25, 64)   27648       activation_243[0][0]             \n",
            "__________________________________________________________________________________________________\n",
            "batch_normalization_239 (BatchN (None, 25, 25, 32)   96          conv2d_239[0][0]                 \n",
            "__________________________________________________________________________________________________\n",
            "batch_normalization_241 (BatchN (None, 25, 25, 32)   96          conv2d_241[0][0]                 \n",
            "__________________________________________________________________________________________________\n",
            "batch_normalization_244 (BatchN (None, 25, 25, 64)   192         conv2d_244[0][0]                 \n",
            "__________________________________________________________________________________________________\n",
            "activation_239 (Activation)     (None, 25, 25, 32)   0           batch_normalization_239[0][0]    \n",
            "__________________________________________________________________________________________________\n",
            "activation_241 (Activation)     (None, 25, 25, 32)   0           batch_normalization_241[0][0]    \n",
            "__________________________________________________________________________________________________\n",
            "activation_244 (Activation)     (None, 25, 25, 64)   0           batch_normalization_244[0][0]    \n",
            "__________________________________________________________________________________________________\n",
            "block35_5_mixed (Concatenate)   (None, 25, 25, 128)  0           activation_239[0][0]             \n",
            "                                                                 activation_241[0][0]             \n",
            "                                                                 activation_244[0][0]             \n",
            "__________________________________________________________________________________________________\n",
            "block35_5_conv (Conv2D)         (None, 25, 25, 320)  41280       block35_5_mixed[0][0]            \n",
            "__________________________________________________________________________________________________\n",
            "block35_5 (Lambda)              (None, 25, 25, 320)  0           block35_4_ac[0][0]               \n",
            "                                                                 block35_5_conv[0][0]             \n",
            "__________________________________________________________________________________________________\n",
            "block35_5_ac (Activation)       (None, 25, 25, 320)  0           block35_5[0][0]                  \n",
            "__________________________________________________________________________________________________\n",
            "conv2d_248 (Conv2D)             (None, 25, 25, 32)   10240       block35_5_ac[0][0]               \n",
            "__________________________________________________________________________________________________\n",
            "batch_normalization_248 (BatchN (None, 25, 25, 32)   96          conv2d_248[0][0]                 \n",
            "__________________________________________________________________________________________________\n",
            "activation_248 (Activation)     (None, 25, 25, 32)   0           batch_normalization_248[0][0]    \n",
            "__________________________________________________________________________________________________\n",
            "conv2d_246 (Conv2D)             (None, 25, 25, 32)   10240       block35_5_ac[0][0]               \n",
            "__________________________________________________________________________________________________\n",
            "conv2d_249 (Conv2D)             (None, 25, 25, 48)   13824       activation_248[0][0]             \n",
            "__________________________________________________________________________________________________\n",
            "batch_normalization_246 (BatchN (None, 25, 25, 32)   96          conv2d_246[0][0]                 \n",
            "__________________________________________________________________________________________________\n",
            "batch_normalization_249 (BatchN (None, 25, 25, 48)   144         conv2d_249[0][0]                 \n",
            "__________________________________________________________________________________________________\n",
            "activation_246 (Activation)     (None, 25, 25, 32)   0           batch_normalization_246[0][0]    \n",
            "__________________________________________________________________________________________________\n",
            "activation_249 (Activation)     (None, 25, 25, 48)   0           batch_normalization_249[0][0]    \n",
            "__________________________________________________________________________________________________\n",
            "conv2d_245 (Conv2D)             (None, 25, 25, 32)   10240       block35_5_ac[0][0]               \n",
            "__________________________________________________________________________________________________\n",
            "conv2d_247 (Conv2D)             (None, 25, 25, 32)   9216        activation_246[0][0]             \n",
            "__________________________________________________________________________________________________\n",
            "conv2d_250 (Conv2D)             (None, 25, 25, 64)   27648       activation_249[0][0]             \n",
            "__________________________________________________________________________________________________\n",
            "batch_normalization_245 (BatchN (None, 25, 25, 32)   96          conv2d_245[0][0]                 \n",
            "__________________________________________________________________________________________________\n",
            "batch_normalization_247 (BatchN (None, 25, 25, 32)   96          conv2d_247[0][0]                 \n",
            "__________________________________________________________________________________________________\n",
            "batch_normalization_250 (BatchN (None, 25, 25, 64)   192         conv2d_250[0][0]                 \n",
            "__________________________________________________________________________________________________\n",
            "activation_245 (Activation)     (None, 25, 25, 32)   0           batch_normalization_245[0][0]    \n",
            "__________________________________________________________________________________________________\n",
            "activation_247 (Activation)     (None, 25, 25, 32)   0           batch_normalization_247[0][0]    \n",
            "__________________________________________________________________________________________________\n",
            "activation_250 (Activation)     (None, 25, 25, 64)   0           batch_normalization_250[0][0]    \n",
            "__________________________________________________________________________________________________\n",
            "block35_6_mixed (Concatenate)   (None, 25, 25, 128)  0           activation_245[0][0]             \n",
            "                                                                 activation_247[0][0]             \n",
            "                                                                 activation_250[0][0]             \n",
            "__________________________________________________________________________________________________\n",
            "block35_6_conv (Conv2D)         (None, 25, 25, 320)  41280       block35_6_mixed[0][0]            \n",
            "__________________________________________________________________________________________________\n",
            "block35_6 (Lambda)              (None, 25, 25, 320)  0           block35_5_ac[0][0]               \n",
            "                                                                 block35_6_conv[0][0]             \n",
            "__________________________________________________________________________________________________\n",
            "block35_6_ac (Activation)       (None, 25, 25, 320)  0           block35_6[0][0]                  \n",
            "__________________________________________________________________________________________________\n",
            "conv2d_254 (Conv2D)             (None, 25, 25, 32)   10240       block35_6_ac[0][0]               \n",
            "__________________________________________________________________________________________________\n",
            "batch_normalization_254 (BatchN (None, 25, 25, 32)   96          conv2d_254[0][0]                 \n",
            "__________________________________________________________________________________________________\n",
            "activation_254 (Activation)     (None, 25, 25, 32)   0           batch_normalization_254[0][0]    \n",
            "__________________________________________________________________________________________________\n",
            "conv2d_252 (Conv2D)             (None, 25, 25, 32)   10240       block35_6_ac[0][0]               \n",
            "__________________________________________________________________________________________________\n",
            "conv2d_255 (Conv2D)             (None, 25, 25, 48)   13824       activation_254[0][0]             \n",
            "__________________________________________________________________________________________________\n",
            "batch_normalization_252 (BatchN (None, 25, 25, 32)   96          conv2d_252[0][0]                 \n",
            "__________________________________________________________________________________________________\n",
            "batch_normalization_255 (BatchN (None, 25, 25, 48)   144         conv2d_255[0][0]                 \n",
            "__________________________________________________________________________________________________\n",
            "activation_252 (Activation)     (None, 25, 25, 32)   0           batch_normalization_252[0][0]    \n",
            "__________________________________________________________________________________________________\n",
            "activation_255 (Activation)     (None, 25, 25, 48)   0           batch_normalization_255[0][0]    \n",
            "__________________________________________________________________________________________________\n",
            "conv2d_251 (Conv2D)             (None, 25, 25, 32)   10240       block35_6_ac[0][0]               \n",
            "__________________________________________________________________________________________________\n",
            "conv2d_253 (Conv2D)             (None, 25, 25, 32)   9216        activation_252[0][0]             \n",
            "__________________________________________________________________________________________________\n",
            "conv2d_256 (Conv2D)             (None, 25, 25, 64)   27648       activation_255[0][0]             \n",
            "__________________________________________________________________________________________________\n",
            "batch_normalization_251 (BatchN (None, 25, 25, 32)   96          conv2d_251[0][0]                 \n",
            "__________________________________________________________________________________________________\n",
            "batch_normalization_253 (BatchN (None, 25, 25, 32)   96          conv2d_253[0][0]                 \n",
            "__________________________________________________________________________________________________\n",
            "batch_normalization_256 (BatchN (None, 25, 25, 64)   192         conv2d_256[0][0]                 \n",
            "__________________________________________________________________________________________________\n",
            "activation_251 (Activation)     (None, 25, 25, 32)   0           batch_normalization_251[0][0]    \n",
            "__________________________________________________________________________________________________\n",
            "activation_253 (Activation)     (None, 25, 25, 32)   0           batch_normalization_253[0][0]    \n",
            "__________________________________________________________________________________________________\n",
            "activation_256 (Activation)     (None, 25, 25, 64)   0           batch_normalization_256[0][0]    \n",
            "__________________________________________________________________________________________________\n",
            "block35_7_mixed (Concatenate)   (None, 25, 25, 128)  0           activation_251[0][0]             \n",
            "                                                                 activation_253[0][0]             \n",
            "                                                                 activation_256[0][0]             \n",
            "__________________________________________________________________________________________________\n",
            "block35_7_conv (Conv2D)         (None, 25, 25, 320)  41280       block35_7_mixed[0][0]            \n",
            "__________________________________________________________________________________________________\n",
            "block35_7 (Lambda)              (None, 25, 25, 320)  0           block35_6_ac[0][0]               \n",
            "                                                                 block35_7_conv[0][0]             \n",
            "__________________________________________________________________________________________________\n",
            "block35_7_ac (Activation)       (None, 25, 25, 320)  0           block35_7[0][0]                  \n",
            "__________________________________________________________________________________________________\n",
            "conv2d_260 (Conv2D)             (None, 25, 25, 32)   10240       block35_7_ac[0][0]               \n",
            "__________________________________________________________________________________________________\n",
            "batch_normalization_260 (BatchN (None, 25, 25, 32)   96          conv2d_260[0][0]                 \n",
            "__________________________________________________________________________________________________\n",
            "activation_260 (Activation)     (None, 25, 25, 32)   0           batch_normalization_260[0][0]    \n",
            "__________________________________________________________________________________________________\n",
            "conv2d_258 (Conv2D)             (None, 25, 25, 32)   10240       block35_7_ac[0][0]               \n",
            "__________________________________________________________________________________________________\n",
            "conv2d_261 (Conv2D)             (None, 25, 25, 48)   13824       activation_260[0][0]             \n",
            "__________________________________________________________________________________________________\n",
            "batch_normalization_258 (BatchN (None, 25, 25, 32)   96          conv2d_258[0][0]                 \n",
            "__________________________________________________________________________________________________\n",
            "batch_normalization_261 (BatchN (None, 25, 25, 48)   144         conv2d_261[0][0]                 \n",
            "__________________________________________________________________________________________________\n",
            "activation_258 (Activation)     (None, 25, 25, 32)   0           batch_normalization_258[0][0]    \n",
            "__________________________________________________________________________________________________\n",
            "activation_261 (Activation)     (None, 25, 25, 48)   0           batch_normalization_261[0][0]    \n",
            "__________________________________________________________________________________________________\n",
            "conv2d_257 (Conv2D)             (None, 25, 25, 32)   10240       block35_7_ac[0][0]               \n",
            "__________________________________________________________________________________________________\n",
            "conv2d_259 (Conv2D)             (None, 25, 25, 32)   9216        activation_258[0][0]             \n",
            "__________________________________________________________________________________________________\n",
            "conv2d_262 (Conv2D)             (None, 25, 25, 64)   27648       activation_261[0][0]             \n",
            "__________________________________________________________________________________________________\n",
            "batch_normalization_257 (BatchN (None, 25, 25, 32)   96          conv2d_257[0][0]                 \n",
            "__________________________________________________________________________________________________\n",
            "batch_normalization_259 (BatchN (None, 25, 25, 32)   96          conv2d_259[0][0]                 \n",
            "__________________________________________________________________________________________________\n",
            "batch_normalization_262 (BatchN (None, 25, 25, 64)   192         conv2d_262[0][0]                 \n",
            "__________________________________________________________________________________________________\n",
            "activation_257 (Activation)     (None, 25, 25, 32)   0           batch_normalization_257[0][0]    \n",
            "__________________________________________________________________________________________________\n",
            "activation_259 (Activation)     (None, 25, 25, 32)   0           batch_normalization_259[0][0]    \n",
            "__________________________________________________________________________________________________\n",
            "activation_262 (Activation)     (None, 25, 25, 64)   0           batch_normalization_262[0][0]    \n",
            "__________________________________________________________________________________________________\n",
            "block35_8_mixed (Concatenate)   (None, 25, 25, 128)  0           activation_257[0][0]             \n",
            "                                                                 activation_259[0][0]             \n",
            "                                                                 activation_262[0][0]             \n",
            "__________________________________________________________________________________________________\n",
            "block35_8_conv (Conv2D)         (None, 25, 25, 320)  41280       block35_8_mixed[0][0]            \n",
            "__________________________________________________________________________________________________\n",
            "block35_8 (Lambda)              (None, 25, 25, 320)  0           block35_7_ac[0][0]               \n",
            "                                                                 block35_8_conv[0][0]             \n",
            "__________________________________________________________________________________________________\n",
            "block35_8_ac (Activation)       (None, 25, 25, 320)  0           block35_8[0][0]                  \n",
            "__________________________________________________________________________________________________\n",
            "conv2d_266 (Conv2D)             (None, 25, 25, 32)   10240       block35_8_ac[0][0]               \n",
            "__________________________________________________________________________________________________\n",
            "batch_normalization_266 (BatchN (None, 25, 25, 32)   96          conv2d_266[0][0]                 \n",
            "__________________________________________________________________________________________________\n",
            "activation_266 (Activation)     (None, 25, 25, 32)   0           batch_normalization_266[0][0]    \n",
            "__________________________________________________________________________________________________\n",
            "conv2d_264 (Conv2D)             (None, 25, 25, 32)   10240       block35_8_ac[0][0]               \n",
            "__________________________________________________________________________________________________\n",
            "conv2d_267 (Conv2D)             (None, 25, 25, 48)   13824       activation_266[0][0]             \n",
            "__________________________________________________________________________________________________\n",
            "batch_normalization_264 (BatchN (None, 25, 25, 32)   96          conv2d_264[0][0]                 \n",
            "__________________________________________________________________________________________________\n",
            "batch_normalization_267 (BatchN (None, 25, 25, 48)   144         conv2d_267[0][0]                 \n",
            "__________________________________________________________________________________________________\n",
            "activation_264 (Activation)     (None, 25, 25, 32)   0           batch_normalization_264[0][0]    \n",
            "__________________________________________________________________________________________________\n",
            "activation_267 (Activation)     (None, 25, 25, 48)   0           batch_normalization_267[0][0]    \n",
            "__________________________________________________________________________________________________\n",
            "conv2d_263 (Conv2D)             (None, 25, 25, 32)   10240       block35_8_ac[0][0]               \n",
            "__________________________________________________________________________________________________\n",
            "conv2d_265 (Conv2D)             (None, 25, 25, 32)   9216        activation_264[0][0]             \n",
            "__________________________________________________________________________________________________\n",
            "conv2d_268 (Conv2D)             (None, 25, 25, 64)   27648       activation_267[0][0]             \n",
            "__________________________________________________________________________________________________\n",
            "batch_normalization_263 (BatchN (None, 25, 25, 32)   96          conv2d_263[0][0]                 \n",
            "__________________________________________________________________________________________________\n",
            "batch_normalization_265 (BatchN (None, 25, 25, 32)   96          conv2d_265[0][0]                 \n",
            "__________________________________________________________________________________________________\n",
            "batch_normalization_268 (BatchN (None, 25, 25, 64)   192         conv2d_268[0][0]                 \n",
            "__________________________________________________________________________________________________\n",
            "activation_263 (Activation)     (None, 25, 25, 32)   0           batch_normalization_263[0][0]    \n",
            "__________________________________________________________________________________________________\n",
            "activation_265 (Activation)     (None, 25, 25, 32)   0           batch_normalization_265[0][0]    \n",
            "__________________________________________________________________________________________________\n",
            "activation_268 (Activation)     (None, 25, 25, 64)   0           batch_normalization_268[0][0]    \n",
            "__________________________________________________________________________________________________\n",
            "block35_9_mixed (Concatenate)   (None, 25, 25, 128)  0           activation_263[0][0]             \n",
            "                                                                 activation_265[0][0]             \n",
            "                                                                 activation_268[0][0]             \n",
            "__________________________________________________________________________________________________\n",
            "block35_9_conv (Conv2D)         (None, 25, 25, 320)  41280       block35_9_mixed[0][0]            \n",
            "__________________________________________________________________________________________________\n",
            "block35_9 (Lambda)              (None, 25, 25, 320)  0           block35_8_ac[0][0]               \n",
            "                                                                 block35_9_conv[0][0]             \n",
            "__________________________________________________________________________________________________\n",
            "block35_9_ac (Activation)       (None, 25, 25, 320)  0           block35_9[0][0]                  \n",
            "__________________________________________________________________________________________________\n",
            "conv2d_272 (Conv2D)             (None, 25, 25, 32)   10240       block35_9_ac[0][0]               \n",
            "__________________________________________________________________________________________________\n",
            "batch_normalization_272 (BatchN (None, 25, 25, 32)   96          conv2d_272[0][0]                 \n",
            "__________________________________________________________________________________________________\n",
            "activation_272 (Activation)     (None, 25, 25, 32)   0           batch_normalization_272[0][0]    \n",
            "__________________________________________________________________________________________________\n",
            "conv2d_270 (Conv2D)             (None, 25, 25, 32)   10240       block35_9_ac[0][0]               \n",
            "__________________________________________________________________________________________________\n",
            "conv2d_273 (Conv2D)             (None, 25, 25, 48)   13824       activation_272[0][0]             \n",
            "__________________________________________________________________________________________________\n",
            "batch_normalization_270 (BatchN (None, 25, 25, 32)   96          conv2d_270[0][0]                 \n",
            "__________________________________________________________________________________________________\n",
            "batch_normalization_273 (BatchN (None, 25, 25, 48)   144         conv2d_273[0][0]                 \n",
            "__________________________________________________________________________________________________\n",
            "activation_270 (Activation)     (None, 25, 25, 32)   0           batch_normalization_270[0][0]    \n",
            "__________________________________________________________________________________________________\n",
            "activation_273 (Activation)     (None, 25, 25, 48)   0           batch_normalization_273[0][0]    \n",
            "__________________________________________________________________________________________________\n",
            "conv2d_269 (Conv2D)             (None, 25, 25, 32)   10240       block35_9_ac[0][0]               \n",
            "__________________________________________________________________________________________________\n",
            "conv2d_271 (Conv2D)             (None, 25, 25, 32)   9216        activation_270[0][0]             \n",
            "__________________________________________________________________________________________________\n",
            "conv2d_274 (Conv2D)             (None, 25, 25, 64)   27648       activation_273[0][0]             \n",
            "__________________________________________________________________________________________________\n",
            "batch_normalization_269 (BatchN (None, 25, 25, 32)   96          conv2d_269[0][0]                 \n",
            "__________________________________________________________________________________________________\n",
            "batch_normalization_271 (BatchN (None, 25, 25, 32)   96          conv2d_271[0][0]                 \n",
            "__________________________________________________________________________________________________\n",
            "batch_normalization_274 (BatchN (None, 25, 25, 64)   192         conv2d_274[0][0]                 \n",
            "__________________________________________________________________________________________________\n",
            "activation_269 (Activation)     (None, 25, 25, 32)   0           batch_normalization_269[0][0]    \n",
            "__________________________________________________________________________________________________\n",
            "activation_271 (Activation)     (None, 25, 25, 32)   0           batch_normalization_271[0][0]    \n",
            "__________________________________________________________________________________________________\n",
            "activation_274 (Activation)     (None, 25, 25, 64)   0           batch_normalization_274[0][0]    \n",
            "__________________________________________________________________________________________________\n",
            "block35_10_mixed (Concatenate)  (None, 25, 25, 128)  0           activation_269[0][0]             \n",
            "                                                                 activation_271[0][0]             \n",
            "                                                                 activation_274[0][0]             \n",
            "__________________________________________________________________________________________________\n",
            "block35_10_conv (Conv2D)        (None, 25, 25, 320)  41280       block35_10_mixed[0][0]           \n",
            "__________________________________________________________________________________________________\n",
            "block35_10 (Lambda)             (None, 25, 25, 320)  0           block35_9_ac[0][0]               \n",
            "                                                                 block35_10_conv[0][0]            \n",
            "__________________________________________________________________________________________________\n",
            "block35_10_ac (Activation)      (None, 25, 25, 320)  0           block35_10[0][0]                 \n",
            "__________________________________________________________________________________________________\n",
            "conv2d_276 (Conv2D)             (None, 25, 25, 256)  81920       block35_10_ac[0][0]              \n",
            "__________________________________________________________________________________________________\n",
            "batch_normalization_276 (BatchN (None, 25, 25, 256)  768         conv2d_276[0][0]                 \n",
            "__________________________________________________________________________________________________\n",
            "activation_276 (Activation)     (None, 25, 25, 256)  0           batch_normalization_276[0][0]    \n",
            "__________________________________________________________________________________________________\n",
            "conv2d_277 (Conv2D)             (None, 25, 25, 256)  589824      activation_276[0][0]             \n",
            "__________________________________________________________________________________________________\n",
            "batch_normalization_277 (BatchN (None, 25, 25, 256)  768         conv2d_277[0][0]                 \n",
            "__________________________________________________________________________________________________\n",
            "activation_277 (Activation)     (None, 25, 25, 256)  0           batch_normalization_277[0][0]    \n",
            "__________________________________________________________________________________________________\n",
            "conv2d_275 (Conv2D)             (None, 12, 12, 384)  1105920     block35_10_ac[0][0]              \n",
            "__________________________________________________________________________________________________\n",
            "conv2d_278 (Conv2D)             (None, 12, 12, 384)  884736      activation_277[0][0]             \n",
            "__________________________________________________________________________________________________\n",
            "batch_normalization_275 (BatchN (None, 12, 12, 384)  1152        conv2d_275[0][0]                 \n",
            "__________________________________________________________________________________________________\n",
            "batch_normalization_278 (BatchN (None, 12, 12, 384)  1152        conv2d_278[0][0]                 \n",
            "__________________________________________________________________________________________________\n",
            "activation_275 (Activation)     (None, 12, 12, 384)  0           batch_normalization_275[0][0]    \n",
            "__________________________________________________________________________________________________\n",
            "activation_278 (Activation)     (None, 12, 12, 384)  0           batch_normalization_278[0][0]    \n",
            "__________________________________________________________________________________________________\n",
            "max_pooling2d_6 (MaxPooling2D)  (None, 12, 12, 320)  0           block35_10_ac[0][0]              \n",
            "__________________________________________________________________________________________________\n",
            "mixed_6a (Concatenate)          (None, 12, 12, 1088) 0           activation_275[0][0]             \n",
            "                                                                 activation_278[0][0]             \n",
            "                                                                 max_pooling2d_6[0][0]            \n",
            "__________________________________________________________________________________________________\n",
            "conv2d_280 (Conv2D)             (None, 12, 12, 128)  139264      mixed_6a[0][0]                   \n",
            "__________________________________________________________________________________________________\n",
            "batch_normalization_280 (BatchN (None, 12, 12, 128)  384         conv2d_280[0][0]                 \n",
            "__________________________________________________________________________________________________\n",
            "activation_280 (Activation)     (None, 12, 12, 128)  0           batch_normalization_280[0][0]    \n",
            "__________________________________________________________________________________________________\n",
            "conv2d_281 (Conv2D)             (None, 12, 12, 160)  143360      activation_280[0][0]             \n",
            "__________________________________________________________________________________________________\n",
            "batch_normalization_281 (BatchN (None, 12, 12, 160)  480         conv2d_281[0][0]                 \n",
            "__________________________________________________________________________________________________\n",
            "activation_281 (Activation)     (None, 12, 12, 160)  0           batch_normalization_281[0][0]    \n",
            "__________________________________________________________________________________________________\n",
            "conv2d_279 (Conv2D)             (None, 12, 12, 192)  208896      mixed_6a[0][0]                   \n",
            "__________________________________________________________________________________________________\n",
            "conv2d_282 (Conv2D)             (None, 12, 12, 192)  215040      activation_281[0][0]             \n",
            "__________________________________________________________________________________________________\n",
            "batch_normalization_279 (BatchN (None, 12, 12, 192)  576         conv2d_279[0][0]                 \n",
            "__________________________________________________________________________________________________\n",
            "batch_normalization_282 (BatchN (None, 12, 12, 192)  576         conv2d_282[0][0]                 \n",
            "__________________________________________________________________________________________________\n",
            "activation_279 (Activation)     (None, 12, 12, 192)  0           batch_normalization_279[0][0]    \n",
            "__________________________________________________________________________________________________\n",
            "activation_282 (Activation)     (None, 12, 12, 192)  0           batch_normalization_282[0][0]    \n",
            "__________________________________________________________________________________________________\n",
            "block17_1_mixed (Concatenate)   (None, 12, 12, 384)  0           activation_279[0][0]             \n",
            "                                                                 activation_282[0][0]             \n",
            "__________________________________________________________________________________________________\n",
            "block17_1_conv (Conv2D)         (None, 12, 12, 1088) 418880      block17_1_mixed[0][0]            \n",
            "__________________________________________________________________________________________________\n",
            "block17_1 (Lambda)              (None, 12, 12, 1088) 0           mixed_6a[0][0]                   \n",
            "                                                                 block17_1_conv[0][0]             \n",
            "__________________________________________________________________________________________________\n",
            "block17_1_ac (Activation)       (None, 12, 12, 1088) 0           block17_1[0][0]                  \n",
            "__________________________________________________________________________________________________\n",
            "conv2d_284 (Conv2D)             (None, 12, 12, 128)  139264      block17_1_ac[0][0]               \n",
            "__________________________________________________________________________________________________\n",
            "batch_normalization_284 (BatchN (None, 12, 12, 128)  384         conv2d_284[0][0]                 \n",
            "__________________________________________________________________________________________________\n",
            "activation_284 (Activation)     (None, 12, 12, 128)  0           batch_normalization_284[0][0]    \n",
            "__________________________________________________________________________________________________\n",
            "conv2d_285 (Conv2D)             (None, 12, 12, 160)  143360      activation_284[0][0]             \n",
            "__________________________________________________________________________________________________\n",
            "batch_normalization_285 (BatchN (None, 12, 12, 160)  480         conv2d_285[0][0]                 \n",
            "__________________________________________________________________________________________________\n",
            "activation_285 (Activation)     (None, 12, 12, 160)  0           batch_normalization_285[0][0]    \n",
            "__________________________________________________________________________________________________\n",
            "conv2d_283 (Conv2D)             (None, 12, 12, 192)  208896      block17_1_ac[0][0]               \n",
            "__________________________________________________________________________________________________\n",
            "conv2d_286 (Conv2D)             (None, 12, 12, 192)  215040      activation_285[0][0]             \n",
            "__________________________________________________________________________________________________\n",
            "batch_normalization_283 (BatchN (None, 12, 12, 192)  576         conv2d_283[0][0]                 \n",
            "__________________________________________________________________________________________________\n",
            "batch_normalization_286 (BatchN (None, 12, 12, 192)  576         conv2d_286[0][0]                 \n",
            "__________________________________________________________________________________________________\n",
            "activation_283 (Activation)     (None, 12, 12, 192)  0           batch_normalization_283[0][0]    \n",
            "__________________________________________________________________________________________________\n",
            "activation_286 (Activation)     (None, 12, 12, 192)  0           batch_normalization_286[0][0]    \n",
            "__________________________________________________________________________________________________\n",
            "block17_2_mixed (Concatenate)   (None, 12, 12, 384)  0           activation_283[0][0]             \n",
            "                                                                 activation_286[0][0]             \n",
            "__________________________________________________________________________________________________\n",
            "block17_2_conv (Conv2D)         (None, 12, 12, 1088) 418880      block17_2_mixed[0][0]            \n",
            "__________________________________________________________________________________________________\n",
            "block17_2 (Lambda)              (None, 12, 12, 1088) 0           block17_1_ac[0][0]               \n",
            "                                                                 block17_2_conv[0][0]             \n",
            "__________________________________________________________________________________________________\n",
            "block17_2_ac (Activation)       (None, 12, 12, 1088) 0           block17_2[0][0]                  \n",
            "__________________________________________________________________________________________________\n",
            "conv2d_288 (Conv2D)             (None, 12, 12, 128)  139264      block17_2_ac[0][0]               \n",
            "__________________________________________________________________________________________________\n",
            "batch_normalization_288 (BatchN (None, 12, 12, 128)  384         conv2d_288[0][0]                 \n",
            "__________________________________________________________________________________________________\n",
            "activation_288 (Activation)     (None, 12, 12, 128)  0           batch_normalization_288[0][0]    \n",
            "__________________________________________________________________________________________________\n",
            "conv2d_289 (Conv2D)             (None, 12, 12, 160)  143360      activation_288[0][0]             \n",
            "__________________________________________________________________________________________________\n",
            "batch_normalization_289 (BatchN (None, 12, 12, 160)  480         conv2d_289[0][0]                 \n",
            "__________________________________________________________________________________________________\n",
            "activation_289 (Activation)     (None, 12, 12, 160)  0           batch_normalization_289[0][0]    \n",
            "__________________________________________________________________________________________________\n",
            "conv2d_287 (Conv2D)             (None, 12, 12, 192)  208896      block17_2_ac[0][0]               \n",
            "__________________________________________________________________________________________________\n",
            "conv2d_290 (Conv2D)             (None, 12, 12, 192)  215040      activation_289[0][0]             \n",
            "__________________________________________________________________________________________________\n",
            "batch_normalization_287 (BatchN (None, 12, 12, 192)  576         conv2d_287[0][0]                 \n",
            "__________________________________________________________________________________________________\n",
            "batch_normalization_290 (BatchN (None, 12, 12, 192)  576         conv2d_290[0][0]                 \n",
            "__________________________________________________________________________________________________\n",
            "activation_287 (Activation)     (None, 12, 12, 192)  0           batch_normalization_287[0][0]    \n",
            "__________________________________________________________________________________________________\n",
            "activation_290 (Activation)     (None, 12, 12, 192)  0           batch_normalization_290[0][0]    \n",
            "__________________________________________________________________________________________________\n",
            "block17_3_mixed (Concatenate)   (None, 12, 12, 384)  0           activation_287[0][0]             \n",
            "                                                                 activation_290[0][0]             \n",
            "__________________________________________________________________________________________________\n",
            "block17_3_conv (Conv2D)         (None, 12, 12, 1088) 418880      block17_3_mixed[0][0]            \n",
            "__________________________________________________________________________________________________\n",
            "block17_3 (Lambda)              (None, 12, 12, 1088) 0           block17_2_ac[0][0]               \n",
            "                                                                 block17_3_conv[0][0]             \n",
            "__________________________________________________________________________________________________\n",
            "block17_3_ac (Activation)       (None, 12, 12, 1088) 0           block17_3[0][0]                  \n",
            "__________________________________________________________________________________________________\n",
            "conv2d_292 (Conv2D)             (None, 12, 12, 128)  139264      block17_3_ac[0][0]               \n",
            "__________________________________________________________________________________________________\n",
            "batch_normalization_292 (BatchN (None, 12, 12, 128)  384         conv2d_292[0][0]                 \n",
            "__________________________________________________________________________________________________\n",
            "activation_292 (Activation)     (None, 12, 12, 128)  0           batch_normalization_292[0][0]    \n",
            "__________________________________________________________________________________________________\n",
            "conv2d_293 (Conv2D)             (None, 12, 12, 160)  143360      activation_292[0][0]             \n",
            "__________________________________________________________________________________________________\n",
            "batch_normalization_293 (BatchN (None, 12, 12, 160)  480         conv2d_293[0][0]                 \n",
            "__________________________________________________________________________________________________\n",
            "activation_293 (Activation)     (None, 12, 12, 160)  0           batch_normalization_293[0][0]    \n",
            "__________________________________________________________________________________________________\n",
            "conv2d_291 (Conv2D)             (None, 12, 12, 192)  208896      block17_3_ac[0][0]               \n",
            "__________________________________________________________________________________________________\n",
            "conv2d_294 (Conv2D)             (None, 12, 12, 192)  215040      activation_293[0][0]             \n",
            "__________________________________________________________________________________________________\n",
            "batch_normalization_291 (BatchN (None, 12, 12, 192)  576         conv2d_291[0][0]                 \n",
            "__________________________________________________________________________________________________\n",
            "batch_normalization_294 (BatchN (None, 12, 12, 192)  576         conv2d_294[0][0]                 \n",
            "__________________________________________________________________________________________________\n",
            "activation_291 (Activation)     (None, 12, 12, 192)  0           batch_normalization_291[0][0]    \n",
            "__________________________________________________________________________________________________\n",
            "activation_294 (Activation)     (None, 12, 12, 192)  0           batch_normalization_294[0][0]    \n",
            "__________________________________________________________________________________________________\n",
            "block17_4_mixed (Concatenate)   (None, 12, 12, 384)  0           activation_291[0][0]             \n",
            "                                                                 activation_294[0][0]             \n",
            "__________________________________________________________________________________________________\n",
            "block17_4_conv (Conv2D)         (None, 12, 12, 1088) 418880      block17_4_mixed[0][0]            \n",
            "__________________________________________________________________________________________________\n",
            "block17_4 (Lambda)              (None, 12, 12, 1088) 0           block17_3_ac[0][0]               \n",
            "                                                                 block17_4_conv[0][0]             \n",
            "__________________________________________________________________________________________________\n",
            "block17_4_ac (Activation)       (None, 12, 12, 1088) 0           block17_4[0][0]                  \n",
            "__________________________________________________________________________________________________\n",
            "conv2d_296 (Conv2D)             (None, 12, 12, 128)  139264      block17_4_ac[0][0]               \n",
            "__________________________________________________________________________________________________\n",
            "batch_normalization_296 (BatchN (None, 12, 12, 128)  384         conv2d_296[0][0]                 \n",
            "__________________________________________________________________________________________________\n",
            "activation_296 (Activation)     (None, 12, 12, 128)  0           batch_normalization_296[0][0]    \n",
            "__________________________________________________________________________________________________\n",
            "conv2d_297 (Conv2D)             (None, 12, 12, 160)  143360      activation_296[0][0]             \n",
            "__________________________________________________________________________________________________\n",
            "batch_normalization_297 (BatchN (None, 12, 12, 160)  480         conv2d_297[0][0]                 \n",
            "__________________________________________________________________________________________________\n",
            "activation_297 (Activation)     (None, 12, 12, 160)  0           batch_normalization_297[0][0]    \n",
            "__________________________________________________________________________________________________\n",
            "conv2d_295 (Conv2D)             (None, 12, 12, 192)  208896      block17_4_ac[0][0]               \n",
            "__________________________________________________________________________________________________\n",
            "conv2d_298 (Conv2D)             (None, 12, 12, 192)  215040      activation_297[0][0]             \n",
            "__________________________________________________________________________________________________\n",
            "batch_normalization_295 (BatchN (None, 12, 12, 192)  576         conv2d_295[0][0]                 \n",
            "__________________________________________________________________________________________________\n",
            "batch_normalization_298 (BatchN (None, 12, 12, 192)  576         conv2d_298[0][0]                 \n",
            "__________________________________________________________________________________________________\n",
            "activation_295 (Activation)     (None, 12, 12, 192)  0           batch_normalization_295[0][0]    \n",
            "__________________________________________________________________________________________________\n",
            "activation_298 (Activation)     (None, 12, 12, 192)  0           batch_normalization_298[0][0]    \n",
            "__________________________________________________________________________________________________\n",
            "block17_5_mixed (Concatenate)   (None, 12, 12, 384)  0           activation_295[0][0]             \n",
            "                                                                 activation_298[0][0]             \n",
            "__________________________________________________________________________________________________\n",
            "block17_5_conv (Conv2D)         (None, 12, 12, 1088) 418880      block17_5_mixed[0][0]            \n",
            "__________________________________________________________________________________________________\n",
            "block17_5 (Lambda)              (None, 12, 12, 1088) 0           block17_4_ac[0][0]               \n",
            "                                                                 block17_5_conv[0][0]             \n",
            "__________________________________________________________________________________________________\n",
            "block17_5_ac (Activation)       (None, 12, 12, 1088) 0           block17_5[0][0]                  \n",
            "__________________________________________________________________________________________________\n",
            "conv2d_300 (Conv2D)             (None, 12, 12, 128)  139264      block17_5_ac[0][0]               \n",
            "__________________________________________________________________________________________________\n",
            "batch_normalization_300 (BatchN (None, 12, 12, 128)  384         conv2d_300[0][0]                 \n",
            "__________________________________________________________________________________________________\n",
            "activation_300 (Activation)     (None, 12, 12, 128)  0           batch_normalization_300[0][0]    \n",
            "__________________________________________________________________________________________________\n",
            "conv2d_301 (Conv2D)             (None, 12, 12, 160)  143360      activation_300[0][0]             \n",
            "__________________________________________________________________________________________________\n",
            "batch_normalization_301 (BatchN (None, 12, 12, 160)  480         conv2d_301[0][0]                 \n",
            "__________________________________________________________________________________________________\n",
            "activation_301 (Activation)     (None, 12, 12, 160)  0           batch_normalization_301[0][0]    \n",
            "__________________________________________________________________________________________________\n",
            "conv2d_299 (Conv2D)             (None, 12, 12, 192)  208896      block17_5_ac[0][0]               \n",
            "__________________________________________________________________________________________________\n",
            "conv2d_302 (Conv2D)             (None, 12, 12, 192)  215040      activation_301[0][0]             \n",
            "__________________________________________________________________________________________________\n",
            "batch_normalization_299 (BatchN (None, 12, 12, 192)  576         conv2d_299[0][0]                 \n",
            "__________________________________________________________________________________________________\n",
            "batch_normalization_302 (BatchN (None, 12, 12, 192)  576         conv2d_302[0][0]                 \n",
            "__________________________________________________________________________________________________\n",
            "activation_299 (Activation)     (None, 12, 12, 192)  0           batch_normalization_299[0][0]    \n",
            "__________________________________________________________________________________________________\n",
            "activation_302 (Activation)     (None, 12, 12, 192)  0           batch_normalization_302[0][0]    \n",
            "__________________________________________________________________________________________________\n",
            "block17_6_mixed (Concatenate)   (None, 12, 12, 384)  0           activation_299[0][0]             \n",
            "                                                                 activation_302[0][0]             \n",
            "__________________________________________________________________________________________________\n",
            "block17_6_conv (Conv2D)         (None, 12, 12, 1088) 418880      block17_6_mixed[0][0]            \n",
            "__________________________________________________________________________________________________\n",
            "block17_6 (Lambda)              (None, 12, 12, 1088) 0           block17_5_ac[0][0]               \n",
            "                                                                 block17_6_conv[0][0]             \n",
            "__________________________________________________________________________________________________\n",
            "block17_6_ac (Activation)       (None, 12, 12, 1088) 0           block17_6[0][0]                  \n",
            "__________________________________________________________________________________________________\n",
            "conv2d_304 (Conv2D)             (None, 12, 12, 128)  139264      block17_6_ac[0][0]               \n",
            "__________________________________________________________________________________________________\n",
            "batch_normalization_304 (BatchN (None, 12, 12, 128)  384         conv2d_304[0][0]                 \n",
            "__________________________________________________________________________________________________\n",
            "activation_304 (Activation)     (None, 12, 12, 128)  0           batch_normalization_304[0][0]    \n",
            "__________________________________________________________________________________________________\n",
            "conv2d_305 (Conv2D)             (None, 12, 12, 160)  143360      activation_304[0][0]             \n",
            "__________________________________________________________________________________________________\n",
            "batch_normalization_305 (BatchN (None, 12, 12, 160)  480         conv2d_305[0][0]                 \n",
            "__________________________________________________________________________________________________\n",
            "activation_305 (Activation)     (None, 12, 12, 160)  0           batch_normalization_305[0][0]    \n",
            "__________________________________________________________________________________________________\n",
            "conv2d_303 (Conv2D)             (None, 12, 12, 192)  208896      block17_6_ac[0][0]               \n",
            "__________________________________________________________________________________________________\n",
            "conv2d_306 (Conv2D)             (None, 12, 12, 192)  215040      activation_305[0][0]             \n",
            "__________________________________________________________________________________________________\n",
            "batch_normalization_303 (BatchN (None, 12, 12, 192)  576         conv2d_303[0][0]                 \n",
            "__________________________________________________________________________________________________\n",
            "batch_normalization_306 (BatchN (None, 12, 12, 192)  576         conv2d_306[0][0]                 \n",
            "__________________________________________________________________________________________________\n",
            "activation_303 (Activation)     (None, 12, 12, 192)  0           batch_normalization_303[0][0]    \n",
            "__________________________________________________________________________________________________\n",
            "activation_306 (Activation)     (None, 12, 12, 192)  0           batch_normalization_306[0][0]    \n",
            "__________________________________________________________________________________________________\n",
            "block17_7_mixed (Concatenate)   (None, 12, 12, 384)  0           activation_303[0][0]             \n",
            "                                                                 activation_306[0][0]             \n",
            "__________________________________________________________________________________________________\n",
            "block17_7_conv (Conv2D)         (None, 12, 12, 1088) 418880      block17_7_mixed[0][0]            \n",
            "__________________________________________________________________________________________________\n",
            "block17_7 (Lambda)              (None, 12, 12, 1088) 0           block17_6_ac[0][0]               \n",
            "                                                                 block17_7_conv[0][0]             \n",
            "__________________________________________________________________________________________________\n",
            "block17_7_ac (Activation)       (None, 12, 12, 1088) 0           block17_7[0][0]                  \n",
            "__________________________________________________________________________________________________\n",
            "conv2d_308 (Conv2D)             (None, 12, 12, 128)  139264      block17_7_ac[0][0]               \n",
            "__________________________________________________________________________________________________\n",
            "batch_normalization_308 (BatchN (None, 12, 12, 128)  384         conv2d_308[0][0]                 \n",
            "__________________________________________________________________________________________________\n",
            "activation_308 (Activation)     (None, 12, 12, 128)  0           batch_normalization_308[0][0]    \n",
            "__________________________________________________________________________________________________\n",
            "conv2d_309 (Conv2D)             (None, 12, 12, 160)  143360      activation_308[0][0]             \n",
            "__________________________________________________________________________________________________\n",
            "batch_normalization_309 (BatchN (None, 12, 12, 160)  480         conv2d_309[0][0]                 \n",
            "__________________________________________________________________________________________________\n",
            "activation_309 (Activation)     (None, 12, 12, 160)  0           batch_normalization_309[0][0]    \n",
            "__________________________________________________________________________________________________\n",
            "conv2d_307 (Conv2D)             (None, 12, 12, 192)  208896      block17_7_ac[0][0]               \n",
            "__________________________________________________________________________________________________\n",
            "conv2d_310 (Conv2D)             (None, 12, 12, 192)  215040      activation_309[0][0]             \n",
            "__________________________________________________________________________________________________\n",
            "batch_normalization_307 (BatchN (None, 12, 12, 192)  576         conv2d_307[0][0]                 \n",
            "__________________________________________________________________________________________________\n",
            "batch_normalization_310 (BatchN (None, 12, 12, 192)  576         conv2d_310[0][0]                 \n",
            "__________________________________________________________________________________________________\n",
            "activation_307 (Activation)     (None, 12, 12, 192)  0           batch_normalization_307[0][0]    \n",
            "__________________________________________________________________________________________________\n",
            "activation_310 (Activation)     (None, 12, 12, 192)  0           batch_normalization_310[0][0]    \n",
            "__________________________________________________________________________________________________\n",
            "block17_8_mixed (Concatenate)   (None, 12, 12, 384)  0           activation_307[0][0]             \n",
            "                                                                 activation_310[0][0]             \n",
            "__________________________________________________________________________________________________\n",
            "block17_8_conv (Conv2D)         (None, 12, 12, 1088) 418880      block17_8_mixed[0][0]            \n",
            "__________________________________________________________________________________________________\n",
            "block17_8 (Lambda)              (None, 12, 12, 1088) 0           block17_7_ac[0][0]               \n",
            "                                                                 block17_8_conv[0][0]             \n",
            "__________________________________________________________________________________________________\n",
            "block17_8_ac (Activation)       (None, 12, 12, 1088) 0           block17_8[0][0]                  \n",
            "__________________________________________________________________________________________________\n",
            "conv2d_312 (Conv2D)             (None, 12, 12, 128)  139264      block17_8_ac[0][0]               \n",
            "__________________________________________________________________________________________________\n",
            "batch_normalization_312 (BatchN (None, 12, 12, 128)  384         conv2d_312[0][0]                 \n",
            "__________________________________________________________________________________________________\n",
            "activation_312 (Activation)     (None, 12, 12, 128)  0           batch_normalization_312[0][0]    \n",
            "__________________________________________________________________________________________________\n",
            "conv2d_313 (Conv2D)             (None, 12, 12, 160)  143360      activation_312[0][0]             \n",
            "__________________________________________________________________________________________________\n",
            "batch_normalization_313 (BatchN (None, 12, 12, 160)  480         conv2d_313[0][0]                 \n",
            "__________________________________________________________________________________________________\n",
            "activation_313 (Activation)     (None, 12, 12, 160)  0           batch_normalization_313[0][0]    \n",
            "__________________________________________________________________________________________________\n",
            "conv2d_311 (Conv2D)             (None, 12, 12, 192)  208896      block17_8_ac[0][0]               \n",
            "__________________________________________________________________________________________________\n",
            "conv2d_314 (Conv2D)             (None, 12, 12, 192)  215040      activation_313[0][0]             \n",
            "__________________________________________________________________________________________________\n",
            "batch_normalization_311 (BatchN (None, 12, 12, 192)  576         conv2d_311[0][0]                 \n",
            "__________________________________________________________________________________________________\n",
            "batch_normalization_314 (BatchN (None, 12, 12, 192)  576         conv2d_314[0][0]                 \n",
            "__________________________________________________________________________________________________\n",
            "activation_311 (Activation)     (None, 12, 12, 192)  0           batch_normalization_311[0][0]    \n",
            "__________________________________________________________________________________________________\n",
            "activation_314 (Activation)     (None, 12, 12, 192)  0           batch_normalization_314[0][0]    \n",
            "__________________________________________________________________________________________________\n",
            "block17_9_mixed (Concatenate)   (None, 12, 12, 384)  0           activation_311[0][0]             \n",
            "                                                                 activation_314[0][0]             \n",
            "__________________________________________________________________________________________________\n",
            "block17_9_conv (Conv2D)         (None, 12, 12, 1088) 418880      block17_9_mixed[0][0]            \n",
            "__________________________________________________________________________________________________\n",
            "block17_9 (Lambda)              (None, 12, 12, 1088) 0           block17_8_ac[0][0]               \n",
            "                                                                 block17_9_conv[0][0]             \n",
            "__________________________________________________________________________________________________\n",
            "block17_9_ac (Activation)       (None, 12, 12, 1088) 0           block17_9[0][0]                  \n",
            "__________________________________________________________________________________________________\n",
            "conv2d_316 (Conv2D)             (None, 12, 12, 128)  139264      block17_9_ac[0][0]               \n",
            "__________________________________________________________________________________________________\n",
            "batch_normalization_316 (BatchN (None, 12, 12, 128)  384         conv2d_316[0][0]                 \n",
            "__________________________________________________________________________________________________\n",
            "activation_316 (Activation)     (None, 12, 12, 128)  0           batch_normalization_316[0][0]    \n",
            "__________________________________________________________________________________________________\n",
            "conv2d_317 (Conv2D)             (None, 12, 12, 160)  143360      activation_316[0][0]             \n",
            "__________________________________________________________________________________________________\n",
            "batch_normalization_317 (BatchN (None, 12, 12, 160)  480         conv2d_317[0][0]                 \n",
            "__________________________________________________________________________________________________\n",
            "activation_317 (Activation)     (None, 12, 12, 160)  0           batch_normalization_317[0][0]    \n",
            "__________________________________________________________________________________________________\n",
            "conv2d_315 (Conv2D)             (None, 12, 12, 192)  208896      block17_9_ac[0][0]               \n",
            "__________________________________________________________________________________________________\n",
            "conv2d_318 (Conv2D)             (None, 12, 12, 192)  215040      activation_317[0][0]             \n",
            "__________________________________________________________________________________________________\n",
            "batch_normalization_315 (BatchN (None, 12, 12, 192)  576         conv2d_315[0][0]                 \n",
            "__________________________________________________________________________________________________\n",
            "batch_normalization_318 (BatchN (None, 12, 12, 192)  576         conv2d_318[0][0]                 \n",
            "__________________________________________________________________________________________________\n",
            "activation_315 (Activation)     (None, 12, 12, 192)  0           batch_normalization_315[0][0]    \n",
            "__________________________________________________________________________________________________\n",
            "activation_318 (Activation)     (None, 12, 12, 192)  0           batch_normalization_318[0][0]    \n",
            "__________________________________________________________________________________________________\n",
            "block17_10_mixed (Concatenate)  (None, 12, 12, 384)  0           activation_315[0][0]             \n",
            "                                                                 activation_318[0][0]             \n",
            "__________________________________________________________________________________________________\n",
            "block17_10_conv (Conv2D)        (None, 12, 12, 1088) 418880      block17_10_mixed[0][0]           \n",
            "__________________________________________________________________________________________________\n",
            "block17_10 (Lambda)             (None, 12, 12, 1088) 0           block17_9_ac[0][0]               \n",
            "                                                                 block17_10_conv[0][0]            \n",
            "__________________________________________________________________________________________________\n",
            "block17_10_ac (Activation)      (None, 12, 12, 1088) 0           block17_10[0][0]                 \n",
            "__________________________________________________________________________________________________\n",
            "conv2d_320 (Conv2D)             (None, 12, 12, 128)  139264      block17_10_ac[0][0]              \n",
            "__________________________________________________________________________________________________\n",
            "batch_normalization_320 (BatchN (None, 12, 12, 128)  384         conv2d_320[0][0]                 \n",
            "__________________________________________________________________________________________________\n",
            "activation_320 (Activation)     (None, 12, 12, 128)  0           batch_normalization_320[0][0]    \n",
            "__________________________________________________________________________________________________\n",
            "conv2d_321 (Conv2D)             (None, 12, 12, 160)  143360      activation_320[0][0]             \n",
            "__________________________________________________________________________________________________\n",
            "batch_normalization_321 (BatchN (None, 12, 12, 160)  480         conv2d_321[0][0]                 \n",
            "__________________________________________________________________________________________________\n",
            "activation_321 (Activation)     (None, 12, 12, 160)  0           batch_normalization_321[0][0]    \n",
            "__________________________________________________________________________________________________\n",
            "conv2d_319 (Conv2D)             (None, 12, 12, 192)  208896      block17_10_ac[0][0]              \n",
            "__________________________________________________________________________________________________\n",
            "conv2d_322 (Conv2D)             (None, 12, 12, 192)  215040      activation_321[0][0]             \n",
            "__________________________________________________________________________________________________\n",
            "batch_normalization_319 (BatchN (None, 12, 12, 192)  576         conv2d_319[0][0]                 \n",
            "__________________________________________________________________________________________________\n",
            "batch_normalization_322 (BatchN (None, 12, 12, 192)  576         conv2d_322[0][0]                 \n",
            "__________________________________________________________________________________________________\n",
            "activation_319 (Activation)     (None, 12, 12, 192)  0           batch_normalization_319[0][0]    \n",
            "__________________________________________________________________________________________________\n",
            "activation_322 (Activation)     (None, 12, 12, 192)  0           batch_normalization_322[0][0]    \n",
            "__________________________________________________________________________________________________\n",
            "block17_11_mixed (Concatenate)  (None, 12, 12, 384)  0           activation_319[0][0]             \n",
            "                                                                 activation_322[0][0]             \n",
            "__________________________________________________________________________________________________\n",
            "block17_11_conv (Conv2D)        (None, 12, 12, 1088) 418880      block17_11_mixed[0][0]           \n",
            "__________________________________________________________________________________________________\n",
            "block17_11 (Lambda)             (None, 12, 12, 1088) 0           block17_10_ac[0][0]              \n",
            "                                                                 block17_11_conv[0][0]            \n",
            "__________________________________________________________________________________________________\n",
            "block17_11_ac (Activation)      (None, 12, 12, 1088) 0           block17_11[0][0]                 \n",
            "__________________________________________________________________________________________________\n",
            "conv2d_324 (Conv2D)             (None, 12, 12, 128)  139264      block17_11_ac[0][0]              \n",
            "__________________________________________________________________________________________________\n",
            "batch_normalization_324 (BatchN (None, 12, 12, 128)  384         conv2d_324[0][0]                 \n",
            "__________________________________________________________________________________________________\n",
            "activation_324 (Activation)     (None, 12, 12, 128)  0           batch_normalization_324[0][0]    \n",
            "__________________________________________________________________________________________________\n",
            "conv2d_325 (Conv2D)             (None, 12, 12, 160)  143360      activation_324[0][0]             \n",
            "__________________________________________________________________________________________________\n",
            "batch_normalization_325 (BatchN (None, 12, 12, 160)  480         conv2d_325[0][0]                 \n",
            "__________________________________________________________________________________________________\n",
            "activation_325 (Activation)     (None, 12, 12, 160)  0           batch_normalization_325[0][0]    \n",
            "__________________________________________________________________________________________________\n",
            "conv2d_323 (Conv2D)             (None, 12, 12, 192)  208896      block17_11_ac[0][0]              \n",
            "__________________________________________________________________________________________________\n",
            "conv2d_326 (Conv2D)             (None, 12, 12, 192)  215040      activation_325[0][0]             \n",
            "__________________________________________________________________________________________________\n",
            "batch_normalization_323 (BatchN (None, 12, 12, 192)  576         conv2d_323[0][0]                 \n",
            "__________________________________________________________________________________________________\n",
            "batch_normalization_326 (BatchN (None, 12, 12, 192)  576         conv2d_326[0][0]                 \n",
            "__________________________________________________________________________________________________\n",
            "activation_323 (Activation)     (None, 12, 12, 192)  0           batch_normalization_323[0][0]    \n",
            "__________________________________________________________________________________________________\n",
            "activation_326 (Activation)     (None, 12, 12, 192)  0           batch_normalization_326[0][0]    \n",
            "__________________________________________________________________________________________________\n",
            "block17_12_mixed (Concatenate)  (None, 12, 12, 384)  0           activation_323[0][0]             \n",
            "                                                                 activation_326[0][0]             \n",
            "__________________________________________________________________________________________________\n",
            "block17_12_conv (Conv2D)        (None, 12, 12, 1088) 418880      block17_12_mixed[0][0]           \n",
            "__________________________________________________________________________________________________\n",
            "block17_12 (Lambda)             (None, 12, 12, 1088) 0           block17_11_ac[0][0]              \n",
            "                                                                 block17_12_conv[0][0]            \n",
            "__________________________________________________________________________________________________\n",
            "block17_12_ac (Activation)      (None, 12, 12, 1088) 0           block17_12[0][0]                 \n",
            "__________________________________________________________________________________________________\n",
            "conv2d_328 (Conv2D)             (None, 12, 12, 128)  139264      block17_12_ac[0][0]              \n",
            "__________________________________________________________________________________________________\n",
            "batch_normalization_328 (BatchN (None, 12, 12, 128)  384         conv2d_328[0][0]                 \n",
            "__________________________________________________________________________________________________\n",
            "activation_328 (Activation)     (None, 12, 12, 128)  0           batch_normalization_328[0][0]    \n",
            "__________________________________________________________________________________________________\n",
            "conv2d_329 (Conv2D)             (None, 12, 12, 160)  143360      activation_328[0][0]             \n",
            "__________________________________________________________________________________________________\n",
            "batch_normalization_329 (BatchN (None, 12, 12, 160)  480         conv2d_329[0][0]                 \n",
            "__________________________________________________________________________________________________\n",
            "activation_329 (Activation)     (None, 12, 12, 160)  0           batch_normalization_329[0][0]    \n",
            "__________________________________________________________________________________________________\n",
            "conv2d_327 (Conv2D)             (None, 12, 12, 192)  208896      block17_12_ac[0][0]              \n",
            "__________________________________________________________________________________________________\n",
            "conv2d_330 (Conv2D)             (None, 12, 12, 192)  215040      activation_329[0][0]             \n",
            "__________________________________________________________________________________________________\n",
            "batch_normalization_327 (BatchN (None, 12, 12, 192)  576         conv2d_327[0][0]                 \n",
            "__________________________________________________________________________________________________\n",
            "batch_normalization_330 (BatchN (None, 12, 12, 192)  576         conv2d_330[0][0]                 \n",
            "__________________________________________________________________________________________________\n",
            "activation_327 (Activation)     (None, 12, 12, 192)  0           batch_normalization_327[0][0]    \n",
            "__________________________________________________________________________________________________\n",
            "activation_330 (Activation)     (None, 12, 12, 192)  0           batch_normalization_330[0][0]    \n",
            "__________________________________________________________________________________________________\n",
            "block17_13_mixed (Concatenate)  (None, 12, 12, 384)  0           activation_327[0][0]             \n",
            "                                                                 activation_330[0][0]             \n",
            "__________________________________________________________________________________________________\n",
            "block17_13_conv (Conv2D)        (None, 12, 12, 1088) 418880      block17_13_mixed[0][0]           \n",
            "__________________________________________________________________________________________________\n",
            "block17_13 (Lambda)             (None, 12, 12, 1088) 0           block17_12_ac[0][0]              \n",
            "                                                                 block17_13_conv[0][0]            \n",
            "__________________________________________________________________________________________________\n",
            "block17_13_ac (Activation)      (None, 12, 12, 1088) 0           block17_13[0][0]                 \n",
            "__________________________________________________________________________________________________\n",
            "conv2d_332 (Conv2D)             (None, 12, 12, 128)  139264      block17_13_ac[0][0]              \n",
            "__________________________________________________________________________________________________\n",
            "batch_normalization_332 (BatchN (None, 12, 12, 128)  384         conv2d_332[0][0]                 \n",
            "__________________________________________________________________________________________________\n",
            "activation_332 (Activation)     (None, 12, 12, 128)  0           batch_normalization_332[0][0]    \n",
            "__________________________________________________________________________________________________\n",
            "conv2d_333 (Conv2D)             (None, 12, 12, 160)  143360      activation_332[0][0]             \n",
            "__________________________________________________________________________________________________\n",
            "batch_normalization_333 (BatchN (None, 12, 12, 160)  480         conv2d_333[0][0]                 \n",
            "__________________________________________________________________________________________________\n",
            "activation_333 (Activation)     (None, 12, 12, 160)  0           batch_normalization_333[0][0]    \n",
            "__________________________________________________________________________________________________\n",
            "conv2d_331 (Conv2D)             (None, 12, 12, 192)  208896      block17_13_ac[0][0]              \n",
            "__________________________________________________________________________________________________\n",
            "conv2d_334 (Conv2D)             (None, 12, 12, 192)  215040      activation_333[0][0]             \n",
            "__________________________________________________________________________________________________\n",
            "batch_normalization_331 (BatchN (None, 12, 12, 192)  576         conv2d_331[0][0]                 \n",
            "__________________________________________________________________________________________________\n",
            "batch_normalization_334 (BatchN (None, 12, 12, 192)  576         conv2d_334[0][0]                 \n",
            "__________________________________________________________________________________________________\n",
            "activation_331 (Activation)     (None, 12, 12, 192)  0           batch_normalization_331[0][0]    \n",
            "__________________________________________________________________________________________________\n",
            "activation_334 (Activation)     (None, 12, 12, 192)  0           batch_normalization_334[0][0]    \n",
            "__________________________________________________________________________________________________\n",
            "block17_14_mixed (Concatenate)  (None, 12, 12, 384)  0           activation_331[0][0]             \n",
            "                                                                 activation_334[0][0]             \n",
            "__________________________________________________________________________________________________\n",
            "block17_14_conv (Conv2D)        (None, 12, 12, 1088) 418880      block17_14_mixed[0][0]           \n",
            "__________________________________________________________________________________________________\n",
            "block17_14 (Lambda)             (None, 12, 12, 1088) 0           block17_13_ac[0][0]              \n",
            "                                                                 block17_14_conv[0][0]            \n",
            "__________________________________________________________________________________________________\n",
            "block17_14_ac (Activation)      (None, 12, 12, 1088) 0           block17_14[0][0]                 \n",
            "__________________________________________________________________________________________________\n",
            "conv2d_336 (Conv2D)             (None, 12, 12, 128)  139264      block17_14_ac[0][0]              \n",
            "__________________________________________________________________________________________________\n",
            "batch_normalization_336 (BatchN (None, 12, 12, 128)  384         conv2d_336[0][0]                 \n",
            "__________________________________________________________________________________________________\n",
            "activation_336 (Activation)     (None, 12, 12, 128)  0           batch_normalization_336[0][0]    \n",
            "__________________________________________________________________________________________________\n",
            "conv2d_337 (Conv2D)             (None, 12, 12, 160)  143360      activation_336[0][0]             \n",
            "__________________________________________________________________________________________________\n",
            "batch_normalization_337 (BatchN (None, 12, 12, 160)  480         conv2d_337[0][0]                 \n",
            "__________________________________________________________________________________________________\n",
            "activation_337 (Activation)     (None, 12, 12, 160)  0           batch_normalization_337[0][0]    \n",
            "__________________________________________________________________________________________________\n",
            "conv2d_335 (Conv2D)             (None, 12, 12, 192)  208896      block17_14_ac[0][0]              \n",
            "__________________________________________________________________________________________________\n",
            "conv2d_338 (Conv2D)             (None, 12, 12, 192)  215040      activation_337[0][0]             \n",
            "__________________________________________________________________________________________________\n",
            "batch_normalization_335 (BatchN (None, 12, 12, 192)  576         conv2d_335[0][0]                 \n",
            "__________________________________________________________________________________________________\n",
            "batch_normalization_338 (BatchN (None, 12, 12, 192)  576         conv2d_338[0][0]                 \n",
            "__________________________________________________________________________________________________\n",
            "activation_335 (Activation)     (None, 12, 12, 192)  0           batch_normalization_335[0][0]    \n",
            "__________________________________________________________________________________________________\n",
            "activation_338 (Activation)     (None, 12, 12, 192)  0           batch_normalization_338[0][0]    \n",
            "__________________________________________________________________________________________________\n",
            "block17_15_mixed (Concatenate)  (None, 12, 12, 384)  0           activation_335[0][0]             \n",
            "                                                                 activation_338[0][0]             \n",
            "__________________________________________________________________________________________________\n",
            "block17_15_conv (Conv2D)        (None, 12, 12, 1088) 418880      block17_15_mixed[0][0]           \n",
            "__________________________________________________________________________________________________\n",
            "block17_15 (Lambda)             (None, 12, 12, 1088) 0           block17_14_ac[0][0]              \n",
            "                                                                 block17_15_conv[0][0]            \n",
            "__________________________________________________________________________________________________\n",
            "block17_15_ac (Activation)      (None, 12, 12, 1088) 0           block17_15[0][0]                 \n",
            "__________________________________________________________________________________________________\n",
            "conv2d_340 (Conv2D)             (None, 12, 12, 128)  139264      block17_15_ac[0][0]              \n",
            "__________________________________________________________________________________________________\n",
            "batch_normalization_340 (BatchN (None, 12, 12, 128)  384         conv2d_340[0][0]                 \n",
            "__________________________________________________________________________________________________\n",
            "activation_340 (Activation)     (None, 12, 12, 128)  0           batch_normalization_340[0][0]    \n",
            "__________________________________________________________________________________________________\n",
            "conv2d_341 (Conv2D)             (None, 12, 12, 160)  143360      activation_340[0][0]             \n",
            "__________________________________________________________________________________________________\n",
            "batch_normalization_341 (BatchN (None, 12, 12, 160)  480         conv2d_341[0][0]                 \n",
            "__________________________________________________________________________________________________\n",
            "activation_341 (Activation)     (None, 12, 12, 160)  0           batch_normalization_341[0][0]    \n",
            "__________________________________________________________________________________________________\n",
            "conv2d_339 (Conv2D)             (None, 12, 12, 192)  208896      block17_15_ac[0][0]              \n",
            "__________________________________________________________________________________________________\n",
            "conv2d_342 (Conv2D)             (None, 12, 12, 192)  215040      activation_341[0][0]             \n",
            "__________________________________________________________________________________________________\n",
            "batch_normalization_339 (BatchN (None, 12, 12, 192)  576         conv2d_339[0][0]                 \n",
            "__________________________________________________________________________________________________\n",
            "batch_normalization_342 (BatchN (None, 12, 12, 192)  576         conv2d_342[0][0]                 \n",
            "__________________________________________________________________________________________________\n",
            "activation_339 (Activation)     (None, 12, 12, 192)  0           batch_normalization_339[0][0]    \n",
            "__________________________________________________________________________________________________\n",
            "activation_342 (Activation)     (None, 12, 12, 192)  0           batch_normalization_342[0][0]    \n",
            "__________________________________________________________________________________________________\n",
            "block17_16_mixed (Concatenate)  (None, 12, 12, 384)  0           activation_339[0][0]             \n",
            "                                                                 activation_342[0][0]             \n",
            "__________________________________________________________________________________________________\n",
            "block17_16_conv (Conv2D)        (None, 12, 12, 1088) 418880      block17_16_mixed[0][0]           \n",
            "__________________________________________________________________________________________________\n",
            "block17_16 (Lambda)             (None, 12, 12, 1088) 0           block17_15_ac[0][0]              \n",
            "                                                                 block17_16_conv[0][0]            \n",
            "__________________________________________________________________________________________________\n",
            "block17_16_ac (Activation)      (None, 12, 12, 1088) 0           block17_16[0][0]                 \n",
            "__________________________________________________________________________________________________\n",
            "conv2d_344 (Conv2D)             (None, 12, 12, 128)  139264      block17_16_ac[0][0]              \n",
            "__________________________________________________________________________________________________\n",
            "batch_normalization_344 (BatchN (None, 12, 12, 128)  384         conv2d_344[0][0]                 \n",
            "__________________________________________________________________________________________________\n",
            "activation_344 (Activation)     (None, 12, 12, 128)  0           batch_normalization_344[0][0]    \n",
            "__________________________________________________________________________________________________\n",
            "conv2d_345 (Conv2D)             (None, 12, 12, 160)  143360      activation_344[0][0]             \n",
            "__________________________________________________________________________________________________\n",
            "batch_normalization_345 (BatchN (None, 12, 12, 160)  480         conv2d_345[0][0]                 \n",
            "__________________________________________________________________________________________________\n",
            "activation_345 (Activation)     (None, 12, 12, 160)  0           batch_normalization_345[0][0]    \n",
            "__________________________________________________________________________________________________\n",
            "conv2d_343 (Conv2D)             (None, 12, 12, 192)  208896      block17_16_ac[0][0]              \n",
            "__________________________________________________________________________________________________\n",
            "conv2d_346 (Conv2D)             (None, 12, 12, 192)  215040      activation_345[0][0]             \n",
            "__________________________________________________________________________________________________\n",
            "batch_normalization_343 (BatchN (None, 12, 12, 192)  576         conv2d_343[0][0]                 \n",
            "__________________________________________________________________________________________________\n",
            "batch_normalization_346 (BatchN (None, 12, 12, 192)  576         conv2d_346[0][0]                 \n",
            "__________________________________________________________________________________________________\n",
            "activation_343 (Activation)     (None, 12, 12, 192)  0           batch_normalization_343[0][0]    \n",
            "__________________________________________________________________________________________________\n",
            "activation_346 (Activation)     (None, 12, 12, 192)  0           batch_normalization_346[0][0]    \n",
            "__________________________________________________________________________________________________\n",
            "block17_17_mixed (Concatenate)  (None, 12, 12, 384)  0           activation_343[0][0]             \n",
            "                                                                 activation_346[0][0]             \n",
            "__________________________________________________________________________________________________\n",
            "block17_17_conv (Conv2D)        (None, 12, 12, 1088) 418880      block17_17_mixed[0][0]           \n",
            "__________________________________________________________________________________________________\n",
            "block17_17 (Lambda)             (None, 12, 12, 1088) 0           block17_16_ac[0][0]              \n",
            "                                                                 block17_17_conv[0][0]            \n",
            "__________________________________________________________________________________________________\n",
            "block17_17_ac (Activation)      (None, 12, 12, 1088) 0           block17_17[0][0]                 \n",
            "__________________________________________________________________________________________________\n",
            "conv2d_348 (Conv2D)             (None, 12, 12, 128)  139264      block17_17_ac[0][0]              \n",
            "__________________________________________________________________________________________________\n",
            "batch_normalization_348 (BatchN (None, 12, 12, 128)  384         conv2d_348[0][0]                 \n",
            "__________________________________________________________________________________________________\n",
            "activation_348 (Activation)     (None, 12, 12, 128)  0           batch_normalization_348[0][0]    \n",
            "__________________________________________________________________________________________________\n",
            "conv2d_349 (Conv2D)             (None, 12, 12, 160)  143360      activation_348[0][0]             \n",
            "__________________________________________________________________________________________________\n",
            "batch_normalization_349 (BatchN (None, 12, 12, 160)  480         conv2d_349[0][0]                 \n",
            "__________________________________________________________________________________________________\n",
            "activation_349 (Activation)     (None, 12, 12, 160)  0           batch_normalization_349[0][0]    \n",
            "__________________________________________________________________________________________________\n",
            "conv2d_347 (Conv2D)             (None, 12, 12, 192)  208896      block17_17_ac[0][0]              \n",
            "__________________________________________________________________________________________________\n",
            "conv2d_350 (Conv2D)             (None, 12, 12, 192)  215040      activation_349[0][0]             \n",
            "__________________________________________________________________________________________________\n",
            "batch_normalization_347 (BatchN (None, 12, 12, 192)  576         conv2d_347[0][0]                 \n",
            "__________________________________________________________________________________________________\n",
            "batch_normalization_350 (BatchN (None, 12, 12, 192)  576         conv2d_350[0][0]                 \n",
            "__________________________________________________________________________________________________\n",
            "activation_347 (Activation)     (None, 12, 12, 192)  0           batch_normalization_347[0][0]    \n",
            "__________________________________________________________________________________________________\n",
            "activation_350 (Activation)     (None, 12, 12, 192)  0           batch_normalization_350[0][0]    \n",
            "__________________________________________________________________________________________________\n",
            "block17_18_mixed (Concatenate)  (None, 12, 12, 384)  0           activation_347[0][0]             \n",
            "                                                                 activation_350[0][0]             \n",
            "__________________________________________________________________________________________________\n",
            "block17_18_conv (Conv2D)        (None, 12, 12, 1088) 418880      block17_18_mixed[0][0]           \n",
            "__________________________________________________________________________________________________\n",
            "block17_18 (Lambda)             (None, 12, 12, 1088) 0           block17_17_ac[0][0]              \n",
            "                                                                 block17_18_conv[0][0]            \n",
            "__________________________________________________________________________________________________\n",
            "block17_18_ac (Activation)      (None, 12, 12, 1088) 0           block17_18[0][0]                 \n",
            "__________________________________________________________________________________________________\n",
            "conv2d_352 (Conv2D)             (None, 12, 12, 128)  139264      block17_18_ac[0][0]              \n",
            "__________________________________________________________________________________________________\n",
            "batch_normalization_352 (BatchN (None, 12, 12, 128)  384         conv2d_352[0][0]                 \n",
            "__________________________________________________________________________________________________\n",
            "activation_352 (Activation)     (None, 12, 12, 128)  0           batch_normalization_352[0][0]    \n",
            "__________________________________________________________________________________________________\n",
            "conv2d_353 (Conv2D)             (None, 12, 12, 160)  143360      activation_352[0][0]             \n",
            "__________________________________________________________________________________________________\n",
            "batch_normalization_353 (BatchN (None, 12, 12, 160)  480         conv2d_353[0][0]                 \n",
            "__________________________________________________________________________________________________\n",
            "activation_353 (Activation)     (None, 12, 12, 160)  0           batch_normalization_353[0][0]    \n",
            "__________________________________________________________________________________________________\n",
            "conv2d_351 (Conv2D)             (None, 12, 12, 192)  208896      block17_18_ac[0][0]              \n",
            "__________________________________________________________________________________________________\n",
            "conv2d_354 (Conv2D)             (None, 12, 12, 192)  215040      activation_353[0][0]             \n",
            "__________________________________________________________________________________________________\n",
            "batch_normalization_351 (BatchN (None, 12, 12, 192)  576         conv2d_351[0][0]                 \n",
            "__________________________________________________________________________________________________\n",
            "batch_normalization_354 (BatchN (None, 12, 12, 192)  576         conv2d_354[0][0]                 \n",
            "__________________________________________________________________________________________________\n",
            "activation_351 (Activation)     (None, 12, 12, 192)  0           batch_normalization_351[0][0]    \n",
            "__________________________________________________________________________________________________\n",
            "activation_354 (Activation)     (None, 12, 12, 192)  0           batch_normalization_354[0][0]    \n",
            "__________________________________________________________________________________________________\n",
            "block17_19_mixed (Concatenate)  (None, 12, 12, 384)  0           activation_351[0][0]             \n",
            "                                                                 activation_354[0][0]             \n",
            "__________________________________________________________________________________________________\n",
            "block17_19_conv (Conv2D)        (None, 12, 12, 1088) 418880      block17_19_mixed[0][0]           \n",
            "__________________________________________________________________________________________________\n",
            "block17_19 (Lambda)             (None, 12, 12, 1088) 0           block17_18_ac[0][0]              \n",
            "                                                                 block17_19_conv[0][0]            \n",
            "__________________________________________________________________________________________________\n",
            "block17_19_ac (Activation)      (None, 12, 12, 1088) 0           block17_19[0][0]                 \n",
            "__________________________________________________________________________________________________\n",
            "conv2d_356 (Conv2D)             (None, 12, 12, 128)  139264      block17_19_ac[0][0]              \n",
            "__________________________________________________________________________________________________\n",
            "batch_normalization_356 (BatchN (None, 12, 12, 128)  384         conv2d_356[0][0]                 \n",
            "__________________________________________________________________________________________________\n",
            "activation_356 (Activation)     (None, 12, 12, 128)  0           batch_normalization_356[0][0]    \n",
            "__________________________________________________________________________________________________\n",
            "conv2d_357 (Conv2D)             (None, 12, 12, 160)  143360      activation_356[0][0]             \n",
            "__________________________________________________________________________________________________\n",
            "batch_normalization_357 (BatchN (None, 12, 12, 160)  480         conv2d_357[0][0]                 \n",
            "__________________________________________________________________________________________________\n",
            "activation_357 (Activation)     (None, 12, 12, 160)  0           batch_normalization_357[0][0]    \n",
            "__________________________________________________________________________________________________\n",
            "conv2d_355 (Conv2D)             (None, 12, 12, 192)  208896      block17_19_ac[0][0]              \n",
            "__________________________________________________________________________________________________\n",
            "conv2d_358 (Conv2D)             (None, 12, 12, 192)  215040      activation_357[0][0]             \n",
            "__________________________________________________________________________________________________\n",
            "batch_normalization_355 (BatchN (None, 12, 12, 192)  576         conv2d_355[0][0]                 \n",
            "__________________________________________________________________________________________________\n",
            "batch_normalization_358 (BatchN (None, 12, 12, 192)  576         conv2d_358[0][0]                 \n",
            "__________________________________________________________________________________________________\n",
            "activation_355 (Activation)     (None, 12, 12, 192)  0           batch_normalization_355[0][0]    \n",
            "__________________________________________________________________________________________________\n",
            "activation_358 (Activation)     (None, 12, 12, 192)  0           batch_normalization_358[0][0]    \n",
            "__________________________________________________________________________________________________\n",
            "block17_20_mixed (Concatenate)  (None, 12, 12, 384)  0           activation_355[0][0]             \n",
            "                                                                 activation_358[0][0]             \n",
            "__________________________________________________________________________________________________\n",
            "block17_20_conv (Conv2D)        (None, 12, 12, 1088) 418880      block17_20_mixed[0][0]           \n",
            "__________________________________________________________________________________________________\n",
            "block17_20 (Lambda)             (None, 12, 12, 1088) 0           block17_19_ac[0][0]              \n",
            "                                                                 block17_20_conv[0][0]            \n",
            "__________________________________________________________________________________________________\n",
            "block17_20_ac (Activation)      (None, 12, 12, 1088) 0           block17_20[0][0]                 \n",
            "__________________________________________________________________________________________________\n",
            "conv2d_363 (Conv2D)             (None, 12, 12, 256)  278528      block17_20_ac[0][0]              \n",
            "__________________________________________________________________________________________________\n",
            "batch_normalization_363 (BatchN (None, 12, 12, 256)  768         conv2d_363[0][0]                 \n",
            "__________________________________________________________________________________________________\n",
            "activation_363 (Activation)     (None, 12, 12, 256)  0           batch_normalization_363[0][0]    \n",
            "__________________________________________________________________________________________________\n",
            "conv2d_359 (Conv2D)             (None, 12, 12, 256)  278528      block17_20_ac[0][0]              \n",
            "__________________________________________________________________________________________________\n",
            "conv2d_361 (Conv2D)             (None, 12, 12, 256)  278528      block17_20_ac[0][0]              \n",
            "__________________________________________________________________________________________________\n",
            "conv2d_364 (Conv2D)             (None, 12, 12, 288)  663552      activation_363[0][0]             \n",
            "__________________________________________________________________________________________________\n",
            "batch_normalization_359 (BatchN (None, 12, 12, 256)  768         conv2d_359[0][0]                 \n",
            "__________________________________________________________________________________________________\n",
            "batch_normalization_361 (BatchN (None, 12, 12, 256)  768         conv2d_361[0][0]                 \n",
            "__________________________________________________________________________________________________\n",
            "batch_normalization_364 (BatchN (None, 12, 12, 288)  864         conv2d_364[0][0]                 \n",
            "__________________________________________________________________________________________________\n",
            "activation_359 (Activation)     (None, 12, 12, 256)  0           batch_normalization_359[0][0]    \n",
            "__________________________________________________________________________________________________\n",
            "activation_361 (Activation)     (None, 12, 12, 256)  0           batch_normalization_361[0][0]    \n",
            "__________________________________________________________________________________________________\n",
            "activation_364 (Activation)     (None, 12, 12, 288)  0           batch_normalization_364[0][0]    \n",
            "__________________________________________________________________________________________________\n",
            "conv2d_360 (Conv2D)             (None, 5, 5, 384)    884736      activation_359[0][0]             \n",
            "__________________________________________________________________________________________________\n",
            "conv2d_362 (Conv2D)             (None, 5, 5, 288)    663552      activation_361[0][0]             \n",
            "__________________________________________________________________________________________________\n",
            "conv2d_365 (Conv2D)             (None, 5, 5, 320)    829440      activation_364[0][0]             \n",
            "__________________________________________________________________________________________________\n",
            "batch_normalization_360 (BatchN (None, 5, 5, 384)    1152        conv2d_360[0][0]                 \n",
            "__________________________________________________________________________________________________\n",
            "batch_normalization_362 (BatchN (None, 5, 5, 288)    864         conv2d_362[0][0]                 \n",
            "__________________________________________________________________________________________________\n",
            "batch_normalization_365 (BatchN (None, 5, 5, 320)    960         conv2d_365[0][0]                 \n",
            "__________________________________________________________________________________________________\n",
            "activation_360 (Activation)     (None, 5, 5, 384)    0           batch_normalization_360[0][0]    \n",
            "__________________________________________________________________________________________________\n",
            "activation_362 (Activation)     (None, 5, 5, 288)    0           batch_normalization_362[0][0]    \n",
            "__________________________________________________________________________________________________\n",
            "activation_365 (Activation)     (None, 5, 5, 320)    0           batch_normalization_365[0][0]    \n",
            "__________________________________________________________________________________________________\n",
            "max_pooling2d_7 (MaxPooling2D)  (None, 5, 5, 1088)   0           block17_20_ac[0][0]              \n",
            "__________________________________________________________________________________________________\n",
            "mixed_7a (Concatenate)          (None, 5, 5, 2080)   0           activation_360[0][0]             \n",
            "                                                                 activation_362[0][0]             \n",
            "                                                                 activation_365[0][0]             \n",
            "                                                                 max_pooling2d_7[0][0]            \n",
            "__________________________________________________________________________________________________\n",
            "conv2d_367 (Conv2D)             (None, 5, 5, 192)    399360      mixed_7a[0][0]                   \n",
            "__________________________________________________________________________________________________\n",
            "batch_normalization_367 (BatchN (None, 5, 5, 192)    576         conv2d_367[0][0]                 \n",
            "__________________________________________________________________________________________________\n",
            "activation_367 (Activation)     (None, 5, 5, 192)    0           batch_normalization_367[0][0]    \n",
            "__________________________________________________________________________________________________\n",
            "conv2d_368 (Conv2D)             (None, 5, 5, 224)    129024      activation_367[0][0]             \n",
            "__________________________________________________________________________________________________\n",
            "batch_normalization_368 (BatchN (None, 5, 5, 224)    672         conv2d_368[0][0]                 \n",
            "__________________________________________________________________________________________________\n",
            "activation_368 (Activation)     (None, 5, 5, 224)    0           batch_normalization_368[0][0]    \n",
            "__________________________________________________________________________________________________\n",
            "conv2d_366 (Conv2D)             (None, 5, 5, 192)    399360      mixed_7a[0][0]                   \n",
            "__________________________________________________________________________________________________\n",
            "conv2d_369 (Conv2D)             (None, 5, 5, 256)    172032      activation_368[0][0]             \n",
            "__________________________________________________________________________________________________\n",
            "batch_normalization_366 (BatchN (None, 5, 5, 192)    576         conv2d_366[0][0]                 \n",
            "__________________________________________________________________________________________________\n",
            "batch_normalization_369 (BatchN (None, 5, 5, 256)    768         conv2d_369[0][0]                 \n",
            "__________________________________________________________________________________________________\n",
            "activation_366 (Activation)     (None, 5, 5, 192)    0           batch_normalization_366[0][0]    \n",
            "__________________________________________________________________________________________________\n",
            "activation_369 (Activation)     (None, 5, 5, 256)    0           batch_normalization_369[0][0]    \n",
            "__________________________________________________________________________________________________\n",
            "block8_1_mixed (Concatenate)    (None, 5, 5, 448)    0           activation_366[0][0]             \n",
            "                                                                 activation_369[0][0]             \n",
            "__________________________________________________________________________________________________\n",
            "block8_1_conv (Conv2D)          (None, 5, 5, 2080)   933920      block8_1_mixed[0][0]             \n",
            "__________________________________________________________________________________________________\n",
            "block8_1 (Lambda)               (None, 5, 5, 2080)   0           mixed_7a[0][0]                   \n",
            "                                                                 block8_1_conv[0][0]              \n",
            "__________________________________________________________________________________________________\n",
            "block8_1_ac (Activation)        (None, 5, 5, 2080)   0           block8_1[0][0]                   \n",
            "__________________________________________________________________________________________________\n",
            "conv2d_371 (Conv2D)             (None, 5, 5, 192)    399360      block8_1_ac[0][0]                \n",
            "__________________________________________________________________________________________________\n",
            "batch_normalization_371 (BatchN (None, 5, 5, 192)    576         conv2d_371[0][0]                 \n",
            "__________________________________________________________________________________________________\n",
            "activation_371 (Activation)     (None, 5, 5, 192)    0           batch_normalization_371[0][0]    \n",
            "__________________________________________________________________________________________________\n",
            "conv2d_372 (Conv2D)             (None, 5, 5, 224)    129024      activation_371[0][0]             \n",
            "__________________________________________________________________________________________________\n",
            "batch_normalization_372 (BatchN (None, 5, 5, 224)    672         conv2d_372[0][0]                 \n",
            "__________________________________________________________________________________________________\n",
            "activation_372 (Activation)     (None, 5, 5, 224)    0           batch_normalization_372[0][0]    \n",
            "__________________________________________________________________________________________________\n",
            "conv2d_370 (Conv2D)             (None, 5, 5, 192)    399360      block8_1_ac[0][0]                \n",
            "__________________________________________________________________________________________________\n",
            "conv2d_373 (Conv2D)             (None, 5, 5, 256)    172032      activation_372[0][0]             \n",
            "__________________________________________________________________________________________________\n",
            "batch_normalization_370 (BatchN (None, 5, 5, 192)    576         conv2d_370[0][0]                 \n",
            "__________________________________________________________________________________________________\n",
            "batch_normalization_373 (BatchN (None, 5, 5, 256)    768         conv2d_373[0][0]                 \n",
            "__________________________________________________________________________________________________\n",
            "activation_370 (Activation)     (None, 5, 5, 192)    0           batch_normalization_370[0][0]    \n",
            "__________________________________________________________________________________________________\n",
            "activation_373 (Activation)     (None, 5, 5, 256)    0           batch_normalization_373[0][0]    \n",
            "__________________________________________________________________________________________________\n",
            "block8_2_mixed (Concatenate)    (None, 5, 5, 448)    0           activation_370[0][0]             \n",
            "                                                                 activation_373[0][0]             \n",
            "__________________________________________________________________________________________________\n",
            "block8_2_conv (Conv2D)          (None, 5, 5, 2080)   933920      block8_2_mixed[0][0]             \n",
            "__________________________________________________________________________________________________\n",
            "block8_2 (Lambda)               (None, 5, 5, 2080)   0           block8_1_ac[0][0]                \n",
            "                                                                 block8_2_conv[0][0]              \n",
            "__________________________________________________________________________________________________\n",
            "block8_2_ac (Activation)        (None, 5, 5, 2080)   0           block8_2[0][0]                   \n",
            "__________________________________________________________________________________________________\n",
            "conv2d_375 (Conv2D)             (None, 5, 5, 192)    399360      block8_2_ac[0][0]                \n",
            "__________________________________________________________________________________________________\n",
            "batch_normalization_375 (BatchN (None, 5, 5, 192)    576         conv2d_375[0][0]                 \n",
            "__________________________________________________________________________________________________\n",
            "activation_375 (Activation)     (None, 5, 5, 192)    0           batch_normalization_375[0][0]    \n",
            "__________________________________________________________________________________________________\n",
            "conv2d_376 (Conv2D)             (None, 5, 5, 224)    129024      activation_375[0][0]             \n",
            "__________________________________________________________________________________________________\n",
            "batch_normalization_376 (BatchN (None, 5, 5, 224)    672         conv2d_376[0][0]                 \n",
            "__________________________________________________________________________________________________\n",
            "activation_376 (Activation)     (None, 5, 5, 224)    0           batch_normalization_376[0][0]    \n",
            "__________________________________________________________________________________________________\n",
            "conv2d_374 (Conv2D)             (None, 5, 5, 192)    399360      block8_2_ac[0][0]                \n",
            "__________________________________________________________________________________________________\n",
            "conv2d_377 (Conv2D)             (None, 5, 5, 256)    172032      activation_376[0][0]             \n",
            "__________________________________________________________________________________________________\n",
            "batch_normalization_374 (BatchN (None, 5, 5, 192)    576         conv2d_374[0][0]                 \n",
            "__________________________________________________________________________________________________\n",
            "batch_normalization_377 (BatchN (None, 5, 5, 256)    768         conv2d_377[0][0]                 \n",
            "__________________________________________________________________________________________________\n",
            "activation_374 (Activation)     (None, 5, 5, 192)    0           batch_normalization_374[0][0]    \n",
            "__________________________________________________________________________________________________\n",
            "activation_377 (Activation)     (None, 5, 5, 256)    0           batch_normalization_377[0][0]    \n",
            "__________________________________________________________________________________________________\n",
            "block8_3_mixed (Concatenate)    (None, 5, 5, 448)    0           activation_374[0][0]             \n",
            "                                                                 activation_377[0][0]             \n",
            "__________________________________________________________________________________________________\n",
            "block8_3_conv (Conv2D)          (None, 5, 5, 2080)   933920      block8_3_mixed[0][0]             \n",
            "__________________________________________________________________________________________________\n",
            "block8_3 (Lambda)               (None, 5, 5, 2080)   0           block8_2_ac[0][0]                \n",
            "                                                                 block8_3_conv[0][0]              \n",
            "__________________________________________________________________________________________________\n",
            "block8_3_ac (Activation)        (None, 5, 5, 2080)   0           block8_3[0][0]                   \n",
            "__________________________________________________________________________________________________\n",
            "conv2d_379 (Conv2D)             (None, 5, 5, 192)    399360      block8_3_ac[0][0]                \n",
            "__________________________________________________________________________________________________\n",
            "batch_normalization_379 (BatchN (None, 5, 5, 192)    576         conv2d_379[0][0]                 \n",
            "__________________________________________________________________________________________________\n",
            "activation_379 (Activation)     (None, 5, 5, 192)    0           batch_normalization_379[0][0]    \n",
            "__________________________________________________________________________________________________\n",
            "conv2d_380 (Conv2D)             (None, 5, 5, 224)    129024      activation_379[0][0]             \n",
            "__________________________________________________________________________________________________\n",
            "batch_normalization_380 (BatchN (None, 5, 5, 224)    672         conv2d_380[0][0]                 \n",
            "__________________________________________________________________________________________________\n",
            "activation_380 (Activation)     (None, 5, 5, 224)    0           batch_normalization_380[0][0]    \n",
            "__________________________________________________________________________________________________\n",
            "conv2d_378 (Conv2D)             (None, 5, 5, 192)    399360      block8_3_ac[0][0]                \n",
            "__________________________________________________________________________________________________\n",
            "conv2d_381 (Conv2D)             (None, 5, 5, 256)    172032      activation_380[0][0]             \n",
            "__________________________________________________________________________________________________\n",
            "batch_normalization_378 (BatchN (None, 5, 5, 192)    576         conv2d_378[0][0]                 \n",
            "__________________________________________________________________________________________________\n",
            "batch_normalization_381 (BatchN (None, 5, 5, 256)    768         conv2d_381[0][0]                 \n",
            "__________________________________________________________________________________________________\n",
            "activation_378 (Activation)     (None, 5, 5, 192)    0           batch_normalization_378[0][0]    \n",
            "__________________________________________________________________________________________________\n",
            "activation_381 (Activation)     (None, 5, 5, 256)    0           batch_normalization_381[0][0]    \n",
            "__________________________________________________________________________________________________\n",
            "block8_4_mixed (Concatenate)    (None, 5, 5, 448)    0           activation_378[0][0]             \n",
            "                                                                 activation_381[0][0]             \n",
            "__________________________________________________________________________________________________\n",
            "block8_4_conv (Conv2D)          (None, 5, 5, 2080)   933920      block8_4_mixed[0][0]             \n",
            "__________________________________________________________________________________________________\n",
            "block8_4 (Lambda)               (None, 5, 5, 2080)   0           block8_3_ac[0][0]                \n",
            "                                                                 block8_4_conv[0][0]              \n",
            "__________________________________________________________________________________________________\n",
            "block8_4_ac (Activation)        (None, 5, 5, 2080)   0           block8_4[0][0]                   \n",
            "__________________________________________________________________________________________________\n",
            "conv2d_383 (Conv2D)             (None, 5, 5, 192)    399360      block8_4_ac[0][0]                \n",
            "__________________________________________________________________________________________________\n",
            "batch_normalization_383 (BatchN (None, 5, 5, 192)    576         conv2d_383[0][0]                 \n",
            "__________________________________________________________________________________________________\n",
            "activation_383 (Activation)     (None, 5, 5, 192)    0           batch_normalization_383[0][0]    \n",
            "__________________________________________________________________________________________________\n",
            "conv2d_384 (Conv2D)             (None, 5, 5, 224)    129024      activation_383[0][0]             \n",
            "__________________________________________________________________________________________________\n",
            "batch_normalization_384 (BatchN (None, 5, 5, 224)    672         conv2d_384[0][0]                 \n",
            "__________________________________________________________________________________________________\n",
            "activation_384 (Activation)     (None, 5, 5, 224)    0           batch_normalization_384[0][0]    \n",
            "__________________________________________________________________________________________________\n",
            "conv2d_382 (Conv2D)             (None, 5, 5, 192)    399360      block8_4_ac[0][0]                \n",
            "__________________________________________________________________________________________________\n",
            "conv2d_385 (Conv2D)             (None, 5, 5, 256)    172032      activation_384[0][0]             \n",
            "__________________________________________________________________________________________________\n",
            "batch_normalization_382 (BatchN (None, 5, 5, 192)    576         conv2d_382[0][0]                 \n",
            "__________________________________________________________________________________________________\n",
            "batch_normalization_385 (BatchN (None, 5, 5, 256)    768         conv2d_385[0][0]                 \n",
            "__________________________________________________________________________________________________\n",
            "activation_382 (Activation)     (None, 5, 5, 192)    0           batch_normalization_382[0][0]    \n",
            "__________________________________________________________________________________________________\n",
            "activation_385 (Activation)     (None, 5, 5, 256)    0           batch_normalization_385[0][0]    \n",
            "__________________________________________________________________________________________________\n",
            "block8_5_mixed (Concatenate)    (None, 5, 5, 448)    0           activation_382[0][0]             \n",
            "                                                                 activation_385[0][0]             \n",
            "__________________________________________________________________________________________________\n",
            "block8_5_conv (Conv2D)          (None, 5, 5, 2080)   933920      block8_5_mixed[0][0]             \n",
            "__________________________________________________________________________________________________\n",
            "block8_5 (Lambda)               (None, 5, 5, 2080)   0           block8_4_ac[0][0]                \n",
            "                                                                 block8_5_conv[0][0]              \n",
            "__________________________________________________________________________________________________\n",
            "block8_5_ac (Activation)        (None, 5, 5, 2080)   0           block8_5[0][0]                   \n",
            "__________________________________________________________________________________________________\n",
            "conv2d_387 (Conv2D)             (None, 5, 5, 192)    399360      block8_5_ac[0][0]                \n",
            "__________________________________________________________________________________________________\n",
            "batch_normalization_387 (BatchN (None, 5, 5, 192)    576         conv2d_387[0][0]                 \n",
            "__________________________________________________________________________________________________\n",
            "activation_387 (Activation)     (None, 5, 5, 192)    0           batch_normalization_387[0][0]    \n",
            "__________________________________________________________________________________________________\n",
            "conv2d_388 (Conv2D)             (None, 5, 5, 224)    129024      activation_387[0][0]             \n",
            "__________________________________________________________________________________________________\n",
            "batch_normalization_388 (BatchN (None, 5, 5, 224)    672         conv2d_388[0][0]                 \n",
            "__________________________________________________________________________________________________\n",
            "activation_388 (Activation)     (None, 5, 5, 224)    0           batch_normalization_388[0][0]    \n",
            "__________________________________________________________________________________________________\n",
            "conv2d_386 (Conv2D)             (None, 5, 5, 192)    399360      block8_5_ac[0][0]                \n",
            "__________________________________________________________________________________________________\n",
            "conv2d_389 (Conv2D)             (None, 5, 5, 256)    172032      activation_388[0][0]             \n",
            "__________________________________________________________________________________________________\n",
            "batch_normalization_386 (BatchN (None, 5, 5, 192)    576         conv2d_386[0][0]                 \n",
            "__________________________________________________________________________________________________\n",
            "batch_normalization_389 (BatchN (None, 5, 5, 256)    768         conv2d_389[0][0]                 \n",
            "__________________________________________________________________________________________________\n",
            "activation_386 (Activation)     (None, 5, 5, 192)    0           batch_normalization_386[0][0]    \n",
            "__________________________________________________________________________________________________\n",
            "activation_389 (Activation)     (None, 5, 5, 256)    0           batch_normalization_389[0][0]    \n",
            "__________________________________________________________________________________________________\n",
            "block8_6_mixed (Concatenate)    (None, 5, 5, 448)    0           activation_386[0][0]             \n",
            "                                                                 activation_389[0][0]             \n",
            "__________________________________________________________________________________________________\n",
            "block8_6_conv (Conv2D)          (None, 5, 5, 2080)   933920      block8_6_mixed[0][0]             \n",
            "__________________________________________________________________________________________________\n",
            "block8_6 (Lambda)               (None, 5, 5, 2080)   0           block8_5_ac[0][0]                \n",
            "                                                                 block8_6_conv[0][0]              \n",
            "__________________________________________________________________________________________________\n",
            "block8_6_ac (Activation)        (None, 5, 5, 2080)   0           block8_6[0][0]                   \n",
            "__________________________________________________________________________________________________\n",
            "conv2d_391 (Conv2D)             (None, 5, 5, 192)    399360      block8_6_ac[0][0]                \n",
            "__________________________________________________________________________________________________\n",
            "batch_normalization_391 (BatchN (None, 5, 5, 192)    576         conv2d_391[0][0]                 \n",
            "__________________________________________________________________________________________________\n",
            "activation_391 (Activation)     (None, 5, 5, 192)    0           batch_normalization_391[0][0]    \n",
            "__________________________________________________________________________________________________\n",
            "conv2d_392 (Conv2D)             (None, 5, 5, 224)    129024      activation_391[0][0]             \n",
            "__________________________________________________________________________________________________\n",
            "batch_normalization_392 (BatchN (None, 5, 5, 224)    672         conv2d_392[0][0]                 \n",
            "__________________________________________________________________________________________________\n",
            "activation_392 (Activation)     (None, 5, 5, 224)    0           batch_normalization_392[0][0]    \n",
            "__________________________________________________________________________________________________\n",
            "conv2d_390 (Conv2D)             (None, 5, 5, 192)    399360      block8_6_ac[0][0]                \n",
            "__________________________________________________________________________________________________\n",
            "conv2d_393 (Conv2D)             (None, 5, 5, 256)    172032      activation_392[0][0]             \n",
            "__________________________________________________________________________________________________\n",
            "batch_normalization_390 (BatchN (None, 5, 5, 192)    576         conv2d_390[0][0]                 \n",
            "__________________________________________________________________________________________________\n",
            "batch_normalization_393 (BatchN (None, 5, 5, 256)    768         conv2d_393[0][0]                 \n",
            "__________________________________________________________________________________________________\n",
            "activation_390 (Activation)     (None, 5, 5, 192)    0           batch_normalization_390[0][0]    \n",
            "__________________________________________________________________________________________________\n",
            "activation_393 (Activation)     (None, 5, 5, 256)    0           batch_normalization_393[0][0]    \n",
            "__________________________________________________________________________________________________\n",
            "block8_7_mixed (Concatenate)    (None, 5, 5, 448)    0           activation_390[0][0]             \n",
            "                                                                 activation_393[0][0]             \n",
            "__________________________________________________________________________________________________\n",
            "block8_7_conv (Conv2D)          (None, 5, 5, 2080)   933920      block8_7_mixed[0][0]             \n",
            "__________________________________________________________________________________________________\n",
            "block8_7 (Lambda)               (None, 5, 5, 2080)   0           block8_6_ac[0][0]                \n",
            "                                                                 block8_7_conv[0][0]              \n",
            "__________________________________________________________________________________________________\n",
            "block8_7_ac (Activation)        (None, 5, 5, 2080)   0           block8_7[0][0]                   \n",
            "__________________________________________________________________________________________________\n",
            "conv2d_395 (Conv2D)             (None, 5, 5, 192)    399360      block8_7_ac[0][0]                \n",
            "__________________________________________________________________________________________________\n",
            "batch_normalization_395 (BatchN (None, 5, 5, 192)    576         conv2d_395[0][0]                 \n",
            "__________________________________________________________________________________________________\n",
            "activation_395 (Activation)     (None, 5, 5, 192)    0           batch_normalization_395[0][0]    \n",
            "__________________________________________________________________________________________________\n",
            "conv2d_396 (Conv2D)             (None, 5, 5, 224)    129024      activation_395[0][0]             \n",
            "__________________________________________________________________________________________________\n",
            "batch_normalization_396 (BatchN (None, 5, 5, 224)    672         conv2d_396[0][0]                 \n",
            "__________________________________________________________________________________________________\n",
            "activation_396 (Activation)     (None, 5, 5, 224)    0           batch_normalization_396[0][0]    \n",
            "__________________________________________________________________________________________________\n",
            "conv2d_394 (Conv2D)             (None, 5, 5, 192)    399360      block8_7_ac[0][0]                \n",
            "__________________________________________________________________________________________________\n",
            "conv2d_397 (Conv2D)             (None, 5, 5, 256)    172032      activation_396[0][0]             \n",
            "__________________________________________________________________________________________________\n",
            "batch_normalization_394 (BatchN (None, 5, 5, 192)    576         conv2d_394[0][0]                 \n",
            "__________________________________________________________________________________________________\n",
            "batch_normalization_397 (BatchN (None, 5, 5, 256)    768         conv2d_397[0][0]                 \n",
            "__________________________________________________________________________________________________\n",
            "activation_394 (Activation)     (None, 5, 5, 192)    0           batch_normalization_394[0][0]    \n",
            "__________________________________________________________________________________________________\n",
            "activation_397 (Activation)     (None, 5, 5, 256)    0           batch_normalization_397[0][0]    \n",
            "__________________________________________________________________________________________________\n",
            "block8_8_mixed (Concatenate)    (None, 5, 5, 448)    0           activation_394[0][0]             \n",
            "                                                                 activation_397[0][0]             \n",
            "__________________________________________________________________________________________________\n",
            "block8_8_conv (Conv2D)          (None, 5, 5, 2080)   933920      block8_8_mixed[0][0]             \n",
            "__________________________________________________________________________________________________\n",
            "block8_8 (Lambda)               (None, 5, 5, 2080)   0           block8_7_ac[0][0]                \n",
            "                                                                 block8_8_conv[0][0]              \n",
            "__________________________________________________________________________________________________\n",
            "block8_8_ac (Activation)        (None, 5, 5, 2080)   0           block8_8[0][0]                   \n",
            "__________________________________________________________________________________________________\n",
            "conv2d_399 (Conv2D)             (None, 5, 5, 192)    399360      block8_8_ac[0][0]                \n",
            "__________________________________________________________________________________________________\n",
            "batch_normalization_399 (BatchN (None, 5, 5, 192)    576         conv2d_399[0][0]                 \n",
            "__________________________________________________________________________________________________\n",
            "activation_399 (Activation)     (None, 5, 5, 192)    0           batch_normalization_399[0][0]    \n",
            "__________________________________________________________________________________________________\n",
            "conv2d_400 (Conv2D)             (None, 5, 5, 224)    129024      activation_399[0][0]             \n",
            "__________________________________________________________________________________________________\n",
            "batch_normalization_400 (BatchN (None, 5, 5, 224)    672         conv2d_400[0][0]                 \n",
            "__________________________________________________________________________________________________\n",
            "activation_400 (Activation)     (None, 5, 5, 224)    0           batch_normalization_400[0][0]    \n",
            "__________________________________________________________________________________________________\n",
            "conv2d_398 (Conv2D)             (None, 5, 5, 192)    399360      block8_8_ac[0][0]                \n",
            "__________________________________________________________________________________________________\n",
            "conv2d_401 (Conv2D)             (None, 5, 5, 256)    172032      activation_400[0][0]             \n",
            "__________________________________________________________________________________________________\n",
            "batch_normalization_398 (BatchN (None, 5, 5, 192)    576         conv2d_398[0][0]                 \n",
            "__________________________________________________________________________________________________\n",
            "batch_normalization_401 (BatchN (None, 5, 5, 256)    768         conv2d_401[0][0]                 \n",
            "__________________________________________________________________________________________________\n",
            "activation_398 (Activation)     (None, 5, 5, 192)    0           batch_normalization_398[0][0]    \n",
            "__________________________________________________________________________________________________\n",
            "activation_401 (Activation)     (None, 5, 5, 256)    0           batch_normalization_401[0][0]    \n",
            "__________________________________________________________________________________________________\n",
            "block8_9_mixed (Concatenate)    (None, 5, 5, 448)    0           activation_398[0][0]             \n",
            "                                                                 activation_401[0][0]             \n",
            "__________________________________________________________________________________________________\n",
            "block8_9_conv (Conv2D)          (None, 5, 5, 2080)   933920      block8_9_mixed[0][0]             \n",
            "__________________________________________________________________________________________________\n",
            "block8_9 (Lambda)               (None, 5, 5, 2080)   0           block8_8_ac[0][0]                \n",
            "                                                                 block8_9_conv[0][0]              \n",
            "__________________________________________________________________________________________________\n",
            "block8_9_ac (Activation)        (None, 5, 5, 2080)   0           block8_9[0][0]                   \n",
            "__________________________________________________________________________________________________\n",
            "conv2d_403 (Conv2D)             (None, 5, 5, 192)    399360      block8_9_ac[0][0]                \n",
            "__________________________________________________________________________________________________\n",
            "batch_normalization_403 (BatchN (None, 5, 5, 192)    576         conv2d_403[0][0]                 \n",
            "__________________________________________________________________________________________________\n",
            "activation_403 (Activation)     (None, 5, 5, 192)    0           batch_normalization_403[0][0]    \n",
            "__________________________________________________________________________________________________\n",
            "conv2d_404 (Conv2D)             (None, 5, 5, 224)    129024      activation_403[0][0]             \n",
            "__________________________________________________________________________________________________\n",
            "batch_normalization_404 (BatchN (None, 5, 5, 224)    672         conv2d_404[0][0]                 \n",
            "__________________________________________________________________________________________________\n",
            "activation_404 (Activation)     (None, 5, 5, 224)    0           batch_normalization_404[0][0]    \n",
            "__________________________________________________________________________________________________\n",
            "conv2d_402 (Conv2D)             (None, 5, 5, 192)    399360      block8_9_ac[0][0]                \n",
            "__________________________________________________________________________________________________\n",
            "conv2d_405 (Conv2D)             (None, 5, 5, 256)    172032      activation_404[0][0]             \n",
            "__________________________________________________________________________________________________\n",
            "batch_normalization_402 (BatchN (None, 5, 5, 192)    576         conv2d_402[0][0]                 \n",
            "__________________________________________________________________________________________________\n",
            "batch_normalization_405 (BatchN (None, 5, 5, 256)    768         conv2d_405[0][0]                 \n",
            "__________________________________________________________________________________________________\n",
            "activation_402 (Activation)     (None, 5, 5, 192)    0           batch_normalization_402[0][0]    \n",
            "__________________________________________________________________________________________________\n",
            "activation_405 (Activation)     (None, 5, 5, 256)    0           batch_normalization_405[0][0]    \n",
            "__________________________________________________________________________________________________\n",
            "block8_10_mixed (Concatenate)   (None, 5, 5, 448)    0           activation_402[0][0]             \n",
            "                                                                 activation_405[0][0]             \n",
            "__________________________________________________________________________________________________\n",
            "block8_10_conv (Conv2D)         (None, 5, 5, 2080)   933920      block8_10_mixed[0][0]            \n",
            "__________________________________________________________________________________________________\n",
            "block8_10 (Lambda)              (None, 5, 5, 2080)   0           block8_9_ac[0][0]                \n",
            "                                                                 block8_10_conv[0][0]             \n",
            "__________________________________________________________________________________________________\n",
            "conv_7b (Conv2D)                (None, 5, 5, 1536)   3194880     block8_10[0][0]                  \n",
            "__________________________________________________________________________________________________\n",
            "conv_7b_bn (BatchNormalization) (None, 5, 5, 1536)   4608        conv_7b[0][0]                    \n",
            "__________________________________________________________________________________________________\n",
            "conv_7b_ac (Activation)         (None, 5, 5, 1536)   0           conv_7b_bn[0][0]                 \n",
            "__________________________________________________________________________________________________\n",
            "global_average_pooling2d_1 (Glo (None, 1536)         0           conv_7b_ac[0][0]                 \n",
            "==================================================================================================\n",
            "Total params: 54,336,736\n",
            "Trainable params: 0\n",
            "Non-trainable params: 54,336,736\n",
            "__________________________________________________________________________________________________\n"
          ],
          "name": "stdout"
        }
      ]
    },
    {
      "cell_type": "code",
      "metadata": {
        "id": "Cy7g7qvZ4QRb",
        "colab_type": "code",
        "colab": {}
      },
      "source": [
        "features = model.predict(train_generator)\n",
        "X_train = features.squeeze()\n",
        "y_train = train_generator.labels\n",
        "len(y_train)-len(X_train)"
      ],
      "execution_count": 33,
      "outputs": []
    },
    {
      "cell_type": "code",
      "metadata": {
        "id": "eGYgrddf-JCS",
        "colab_type": "code",
        "colab": {}
      },
      "source": [
        "import xgboost as xgb\n",
        "\n",
        "model_xgb = xgb.XGBClassifier(max_depth=15, learning_rate=0.1, n_estimators=200, \\\n",
        "                              objective='multi:softmax', nthread=-1, \\\n",
        "                              subsample=0.7, colsample_bytree=0.7, seed=142, missing=None, tree_method='gpu_hist', verbosity=2, predictor='gpu_predictor')\n",
        "model_xgb.fit(X_train, y_train)\n",
        "#y_pred[:, class_i] = model.predict_proba(X_test)[:, 1]"
      ],
      "execution_count": 46,
      "outputs": []
    },
    {
      "cell_type": "code",
      "metadata": {
        "id": "Isto2VFxCiNm",
        "colab_type": "code",
        "colab": {
          "base_uri": "https://localhost:8080/",
          "height": 151
        },
        "outputId": "8a71f3b3-a751-4c1d-db78-b6124dab0319"
      },
      "source": [
        "model_xgb.fit(X_train, y_train)"
      ],
      "execution_count": 47,
      "outputs": [
        {
          "output_type": "execute_result",
          "data": {
            "text/plain": [
              "XGBClassifier(base_score=0.5, booster='gbtree', colsample_bylevel=1,\n",
              "              colsample_bynode=1, colsample_bytree=0.7, gamma=0,\n",
              "              learning_rate=0.1, max_delta_step=0, max_depth=15,\n",
              "              min_child_weight=1, missing=None, n_estimators=200, n_jobs=1,\n",
              "              nthread=-1, objective='multi:softprob', predictor='gpu_predictor',\n",
              "              random_state=0, reg_alpha=0, reg_lambda=1, scale_pos_weight=1,\n",
              "              seed=142, silent=None, subsample=0.7, tree_method='gpu_hist',\n",
              "              verbosity=2)"
            ]
          },
          "metadata": {
            "tags": []
          },
          "execution_count": 47
        }
      ]
    },
    {
      "cell_type": "code",
      "metadata": {
        "id": "iWw7d7jGFr-r",
        "colab_type": "code",
        "colab": {
          "base_uri": "https://localhost:8080/",
          "height": 34
        },
        "outputId": "54326a5a-836a-4280-bce1-32edd2550dab"
      },
      "source": [
        "features_test = model.predict(valid_generator)\n",
        "X_test = features_test.squeeze()\n",
        "y_test= valid_generator.labels\n",
        "len(X_test)-len(y_test)"
      ],
      "execution_count": 48,
      "outputs": [
        {
          "output_type": "execute_result",
          "data": {
            "text/plain": [
              "0"
            ]
          },
          "metadata": {
            "tags": []
          },
          "execution_count": 48
        }
      ]
    },
    {
      "cell_type": "code",
      "metadata": {
        "id": "pJ_OT5ZiFoQ8",
        "colab_type": "code",
        "colab": {}
      },
      "source": [
        "from sklearn.metrics import accuracy_score\n",
        "y_pred = model_xgb.predict(X_test)\n",
        "predictions = [round(value) for value in y_pred]\n",
        "# evaluate predictions\n",
        "accuracy = accuracy_score(y_test, predictions)"
      ],
      "execution_count": 49,
      "outputs": []
    },
    {
      "cell_type": "code",
      "metadata": {
        "id": "Lli9TlWPGt29",
        "colab_type": "code",
        "colab": {
          "base_uri": "https://localhost:8080/",
          "height": 34
        },
        "outputId": "6fb48bba-afb6-434a-803d-a3b355a7bbdb"
      },
      "source": [
        "accuracy"
      ],
      "execution_count": 50,
      "outputs": [
        {
          "output_type": "execute_result",
          "data": {
            "text/plain": [
              "0.48542982030111703"
            ]
          },
          "metadata": {
            "tags": []
          },
          "execution_count": 50
        }
      ]
    },
    {
      "cell_type": "code",
      "metadata": {
        "id": "prVWWHCeGx6i",
        "colab_type": "code",
        "colab": {
          "base_uri": "https://localhost:8080/",
          "height": 1000
        },
        "outputId": "ef5b2b36-54dc-4b85-ceff-d6a399a1b3f9"
      },
      "source": [
        "tf.compat.v1.logging.set_verbosity(tf.compat.v1.logging.ERROR)\n",
        "model6 = tf.keras.models.load_model(os.path.join(derm_ai_path, 'B1-IRN50V2_3'))\n",
        "model6.summary()"
      ],
      "execution_count": 51,
      "outputs": [
        {
          "output_type": "stream",
          "text": [
            "WARNING:tensorflow:Importing a function (__inference_block4d_se_reduce_layer_call_and_return_conditional_losses_1010954) with ops with custom gradients. Will likely fail if a gradient is requested.\n",
            "WARNING:tensorflow:Importing a function (__inference_block6e_activation_layer_call_and_return_conditional_losses_872963) with ops with custom gradients. Will likely fail if a gradient is requested.\n",
            "WARNING:tensorflow:Importing a function (__inference_block6b_se_reduce_layer_call_and_return_conditional_losses_871690) with ops with custom gradients. Will likely fail if a gradient is requested.\n",
            "WARNING:tensorflow:Importing a function (__inference_efficientnetb1_layer_call_and_return_conditional_losses_987945) with ops with custom gradients. Will likely fail if a gradient is requested.\n",
            "WARNING:tensorflow:Importing a function (__inference_efficientnetb1_layer_call_and_return_conditional_losses_987945) with ops with custom gradients. Will likely fail if a gradient is requested.\n",
            "WARNING:tensorflow:Importing a function (__inference_efficientnetb1_layer_call_and_return_conditional_losses_987945) with ops with custom gradients. Will likely fail if a gradient is requested.\n",
            "WARNING:tensorflow:Importing a function (__inference_efficientnetb1_layer_call_and_return_conditional_losses_987945) with ops with custom gradients. Will likely fail if a gradient is requested.\n",
            "WARNING:tensorflow:Importing a function (__inference_efficientnetb1_layer_call_and_return_conditional_losses_987945) with ops with custom gradients. Will likely fail if a gradient is requested.\n",
            "WARNING:tensorflow:Importing a function (__inference_efficientnetb1_layer_call_and_return_conditional_losses_987945) with ops with custom gradients. Will likely fail if a gradient is requested.\n",
            "WARNING:tensorflow:Importing a function (__inference_efficientnetb1_layer_call_and_return_conditional_losses_987945) with ops with custom gradients. Will likely fail if a gradient is requested.\n",
            "WARNING:tensorflow:Importing a function (__inference_efficientnetb1_layer_call_and_return_conditional_losses_987945) with ops with custom gradients. Will likely fail if a gradient is requested.\n",
            "WARNING:tensorflow:Importing a function (__inference_efficientnetb1_layer_call_and_return_conditional_losses_987945) with ops with custom gradients. Will likely fail if a gradient is requested.\n",
            "WARNING:tensorflow:Importing a function (__inference_efficientnetb1_layer_call_and_return_conditional_losses_987945) with ops with custom gradients. Will likely fail if a gradient is requested.\n",
            "WARNING:tensorflow:Importing a function (__inference_efficientnetb1_layer_call_and_return_conditional_losses_987945) with ops with custom gradients. Will likely fail if a gradient is requested.\n",
            "WARNING:tensorflow:Importing a function (__inference_efficientnetb1_layer_call_and_return_conditional_losses_987945) with ops with custom gradients. Will likely fail if a gradient is requested.\n",
            "WARNING:tensorflow:Importing a function (__inference_efficientnetb1_layer_call_and_return_conditional_losses_987945) with ops with custom gradients. Will likely fail if a gradient is requested.\n",
            "WARNING:tensorflow:Importing a function (__inference_efficientnetb1_layer_call_and_return_conditional_losses_987945) with ops with custom gradients. Will likely fail if a gradient is requested.\n",
            "WARNING:tensorflow:Importing a function (__inference_efficientnetb1_layer_call_and_return_conditional_losses_987945) with ops with custom gradients. Will likely fail if a gradient is requested.\n",
            "WARNING:tensorflow:Importing a function (__inference_efficientnetb1_layer_call_and_return_conditional_losses_987945) with ops with custom gradients. Will likely fail if a gradient is requested.\n",
            "WARNING:tensorflow:Importing a function (__inference_efficientnetb1_layer_call_and_return_conditional_losses_987945) with ops with custom gradients. Will likely fail if a gradient is requested.\n",
            "WARNING:tensorflow:Importing a function (__inference_efficientnetb1_layer_call_and_return_conditional_losses_987945) with ops with custom gradients. Will likely fail if a gradient is requested.\n",
            "WARNING:tensorflow:Importing a function (__inference_efficientnetb1_layer_call_and_return_conditional_losses_987945) with ops with custom gradients. Will likely fail if a gradient is requested.\n",
            "WARNING:tensorflow:Importing a function (__inference_efficientnetb1_layer_call_and_return_conditional_losses_987945) with ops with custom gradients. Will likely fail if a gradient is requested.\n",
            "WARNING:tensorflow:Importing a function (__inference_efficientnetb1_layer_call_and_return_conditional_losses_987945) with ops with custom gradients. Will likely fail if a gradient is requested.\n",
            "WARNING:tensorflow:Importing a function (__inference_efficientnetb1_layer_call_and_return_conditional_losses_987945) with ops with custom gradients. Will likely fail if a gradient is requested.\n",
            "WARNING:tensorflow:Importing a function (__inference_efficientnetb1_layer_call_and_return_conditional_losses_987945) with ops with custom gradients. Will likely fail if a gradient is requested.\n",
            "WARNING:tensorflow:Importing a function (__inference_efficientnetb1_layer_call_and_return_conditional_losses_987945) with ops with custom gradients. Will likely fail if a gradient is requested.\n",
            "WARNING:tensorflow:Importing a function (__inference_efficientnetb1_layer_call_and_return_conditional_losses_987945) with ops with custom gradients. Will likely fail if a gradient is requested.\n",
            "WARNING:tensorflow:Importing a function (__inference_efficientnetb1_layer_call_and_return_conditional_losses_987945) with ops with custom gradients. Will likely fail if a gradient is requested.\n",
            "WARNING:tensorflow:Importing a function (__inference_efficientnetb1_layer_call_and_return_conditional_losses_987945) with ops with custom gradients. Will likely fail if a gradient is requested.\n",
            "WARNING:tensorflow:Importing a function (__inference_efficientnetb1_layer_call_and_return_conditional_losses_987945) with ops with custom gradients. Will likely fail if a gradient is requested.\n",
            "WARNING:tensorflow:Importing a function (__inference_efficientnetb1_layer_call_and_return_conditional_losses_987945) with ops with custom gradients. Will likely fail if a gradient is requested.\n",
            "WARNING:tensorflow:Importing a function (__inference_efficientnetb1_layer_call_and_return_conditional_losses_987945) with ops with custom gradients. Will likely fail if a gradient is requested.\n",
            "WARNING:tensorflow:Importing a function (__inference_efficientnetb1_layer_call_and_return_conditional_losses_987945) with ops with custom gradients. Will likely fail if a gradient is requested.\n",
            "WARNING:tensorflow:Importing a function (__inference_efficientnetb1_layer_call_and_return_conditional_losses_987945) with ops with custom gradients. Will likely fail if a gradient is requested.\n",
            "WARNING:tensorflow:Importing a function (__inference_efficientnetb1_layer_call_and_return_conditional_losses_987945) with ops with custom gradients. Will likely fail if a gradient is requested.\n",
            "WARNING:tensorflow:Importing a function (__inference_efficientnetb1_layer_call_and_return_conditional_losses_987945) with ops with custom gradients. Will likely fail if a gradient is requested.\n",
            "WARNING:tensorflow:Importing a function (__inference_efficientnetb1_layer_call_and_return_conditional_losses_987945) with ops with custom gradients. Will likely fail if a gradient is requested.\n",
            "WARNING:tensorflow:Importing a function (__inference_efficientnetb1_layer_call_and_return_conditional_losses_987945) with ops with custom gradients. Will likely fail if a gradient is requested.\n",
            "WARNING:tensorflow:Importing a function (__inference_efficientnetb1_layer_call_and_return_conditional_losses_987945) with ops with custom gradients. Will likely fail if a gradient is requested.\n",
            "WARNING:tensorflow:Importing a function (__inference_efficientnetb1_layer_call_and_return_conditional_losses_987945) with ops with custom gradients. Will likely fail if a gradient is requested.\n",
            "WARNING:tensorflow:Importing a function (__inference_efficientnetb1_layer_call_and_return_conditional_losses_987945) with ops with custom gradients. Will likely fail if a gradient is requested.\n",
            "WARNING:tensorflow:Importing a function (__inference_efficientnetb1_layer_call_and_return_conditional_losses_987945) with ops with custom gradients. Will likely fail if a gradient is requested.\n",
            "WARNING:tensorflow:Importing a function (__inference_efficientnetb1_layer_call_and_return_conditional_losses_987945) with ops with custom gradients. Will likely fail if a gradient is requested.\n",
            "WARNING:tensorflow:Importing a function (__inference_efficientnetb1_layer_call_and_return_conditional_losses_987945) with ops with custom gradients. Will likely fail if a gradient is requested.\n",
            "WARNING:tensorflow:Importing a function (__inference_efficientnetb1_layer_call_and_return_conditional_losses_987945) with ops with custom gradients. Will likely fail if a gradient is requested.\n",
            "WARNING:tensorflow:Importing a function (__inference_efficientnetb1_layer_call_and_return_conditional_losses_987945) with ops with custom gradients. Will likely fail if a gradient is requested.\n",
            "WARNING:tensorflow:Importing a function (__inference_efficientnetb1_layer_call_and_return_conditional_losses_987945) with ops with custom gradients. Will likely fail if a gradient is requested.\n",
            "WARNING:tensorflow:Importing a function (__inference_efficientnetb1_layer_call_and_return_conditional_losses_987945) with ops with custom gradients. Will likely fail if a gradient is requested.\n",
            "WARNING:tensorflow:Importing a function (__inference_efficientnetb1_layer_call_and_return_conditional_losses_987945) with ops with custom gradients. Will likely fail if a gradient is requested.\n",
            "WARNING:tensorflow:Importing a function (__inference_efficientnetb1_layer_call_and_return_conditional_losses_987945) with ops with custom gradients. Will likely fail if a gradient is requested.\n",
            "WARNING:tensorflow:Importing a function (__inference_efficientnetb1_layer_call_and_return_conditional_losses_987945) with ops with custom gradients. Will likely fail if a gradient is requested.\n",
            "WARNING:tensorflow:Importing a function (__inference_efficientnetb1_layer_call_and_return_conditional_losses_987945) with ops with custom gradients. Will likely fail if a gradient is requested.\n",
            "WARNING:tensorflow:Importing a function (__inference_efficientnetb1_layer_call_and_return_conditional_losses_987945) with ops with custom gradients. Will likely fail if a gradient is requested.\n",
            "WARNING:tensorflow:Importing a function (__inference_efficientnetb1_layer_call_and_return_conditional_losses_987945) with ops with custom gradients. Will likely fail if a gradient is requested.\n",
            "WARNING:tensorflow:Importing a function (__inference_efficientnetb1_layer_call_and_return_conditional_losses_987945) with ops with custom gradients. Will likely fail if a gradient is requested.\n",
            "WARNING:tensorflow:Importing a function (__inference_efficientnetb1_layer_call_and_return_conditional_losses_987945) with ops with custom gradients. Will likely fail if a gradient is requested.\n",
            "WARNING:tensorflow:Importing a function (__inference_efficientnetb1_layer_call_and_return_conditional_losses_987945) with ops with custom gradients. Will likely fail if a gradient is requested.\n",
            "WARNING:tensorflow:Importing a function (__inference_efficientnetb1_layer_call_and_return_conditional_losses_987945) with ops with custom gradients. Will likely fail if a gradient is requested.\n",
            "WARNING:tensorflow:Importing a function (__inference_efficientnetb1_layer_call_and_return_conditional_losses_987945) with ops with custom gradients. Will likely fail if a gradient is requested.\n",
            "WARNING:tensorflow:Importing a function (__inference_efficientnetb1_layer_call_and_return_conditional_losses_987945) with ops with custom gradients. Will likely fail if a gradient is requested.\n",
            "WARNING:tensorflow:Importing a function (__inference_efficientnetb1_layer_call_and_return_conditional_losses_987945) with ops with custom gradients. Will likely fail if a gradient is requested.\n",
            "WARNING:tensorflow:Importing a function (__inference_efficientnetb1_layer_call_and_return_conditional_losses_987945) with ops with custom gradients. Will likely fail if a gradient is requested.\n",
            "WARNING:tensorflow:Importing a function (__inference_efficientnetb1_layer_call_and_return_conditional_losses_987945) with ops with custom gradients. Will likely fail if a gradient is requested.\n",
            "WARNING:tensorflow:Importing a function (__inference_efficientnetb1_layer_call_and_return_conditional_losses_987945) with ops with custom gradients. Will likely fail if a gradient is requested.\n",
            "WARNING:tensorflow:Importing a function (__inference_efficientnetb1_layer_call_and_return_conditional_losses_987945) with ops with custom gradients. Will likely fail if a gradient is requested.\n",
            "WARNING:tensorflow:Importing a function (__inference_efficientnetb1_layer_call_and_return_conditional_losses_987945) with ops with custom gradients. Will likely fail if a gradient is requested.\n",
            "WARNING:tensorflow:Importing a function (__inference_efficientnetb1_layer_call_and_return_conditional_losses_987945) with ops with custom gradients. Will likely fail if a gradient is requested.\n",
            "WARNING:tensorflow:Importing a function (__inference_efficientnetb1_layer_call_and_return_conditional_losses_987945) with ops with custom gradients. Will likely fail if a gradient is requested.\n",
            "WARNING:tensorflow:Importing a function (__inference_efficientnetb1_layer_call_and_return_conditional_losses_987945) with ops with custom gradients. Will likely fail if a gradient is requested.\n",
            "WARNING:tensorflow:Importing a function (__inference_efficientnetb1_layer_call_and_return_conditional_losses_987945) with ops with custom gradients. Will likely fail if a gradient is requested.\n",
            "WARNING:tensorflow:Importing a function (__inference_efficientnetb1_layer_call_and_return_conditional_losses_987945) with ops with custom gradients. Will likely fail if a gradient is requested.\n",
            "WARNING:tensorflow:Importing a function (__inference_block2b_se_reduce_layer_call_and_return_conditional_losses_1006624) with ops with custom gradients. Will likely fail if a gradient is requested.\n",
            "WARNING:tensorflow:Importing a function (__inference_block4d_activation_layer_call_and_return_conditional_losses_869108) with ops with custom gradients. Will likely fail if a gradient is requested.\n",
            "WARNING:tensorflow:Importing a function (__inference_functional_1_layer_call_and_return_conditional_losses_979223) with ops with custom gradients. Will likely fail if a gradient is requested.\n",
            "WARNING:tensorflow:Importing a function (__inference_functional_1_layer_call_and_return_conditional_losses_979223) with ops with custom gradients. Will likely fail if a gradient is requested.\n",
            "WARNING:tensorflow:Importing a function (__inference_functional_1_layer_call_and_return_conditional_losses_979223) with ops with custom gradients. Will likely fail if a gradient is requested.\n",
            "WARNING:tensorflow:Importing a function (__inference_functional_1_layer_call_and_return_conditional_losses_979223) with ops with custom gradients. Will likely fail if a gradient is requested.\n",
            "WARNING:tensorflow:Importing a function (__inference_functional_1_layer_call_and_return_conditional_losses_979223) with ops with custom gradients. Will likely fail if a gradient is requested.\n",
            "WARNING:tensorflow:Importing a function (__inference_functional_1_layer_call_and_return_conditional_losses_979223) with ops with custom gradients. Will likely fail if a gradient is requested.\n",
            "WARNING:tensorflow:Importing a function (__inference_functional_1_layer_call_and_return_conditional_losses_979223) with ops with custom gradients. Will likely fail if a gradient is requested.\n",
            "WARNING:tensorflow:Importing a function (__inference_functional_1_layer_call_and_return_conditional_losses_979223) with ops with custom gradients. Will likely fail if a gradient is requested.\n",
            "WARNING:tensorflow:Importing a function (__inference_functional_1_layer_call_and_return_conditional_losses_979223) with ops with custom gradients. Will likely fail if a gradient is requested.\n",
            "WARNING:tensorflow:Importing a function (__inference_functional_1_layer_call_and_return_conditional_losses_979223) with ops with custom gradients. Will likely fail if a gradient is requested.\n",
            "WARNING:tensorflow:Importing a function (__inference_functional_1_layer_call_and_return_conditional_losses_979223) with ops with custom gradients. Will likely fail if a gradient is requested.\n",
            "WARNING:tensorflow:Importing a function (__inference_functional_1_layer_call_and_return_conditional_losses_979223) with ops with custom gradients. Will likely fail if a gradient is requested.\n",
            "WARNING:tensorflow:Importing a function (__inference_functional_1_layer_call_and_return_conditional_losses_979223) with ops with custom gradients. Will likely fail if a gradient is requested.\n",
            "WARNING:tensorflow:Importing a function (__inference_functional_1_layer_call_and_return_conditional_losses_979223) with ops with custom gradients. Will likely fail if a gradient is requested.\n",
            "WARNING:tensorflow:Importing a function (__inference_functional_1_layer_call_and_return_conditional_losses_979223) with ops with custom gradients. Will likely fail if a gradient is requested.\n",
            "WARNING:tensorflow:Importing a function (__inference_functional_1_layer_call_and_return_conditional_losses_979223) with ops with custom gradients. Will likely fail if a gradient is requested.\n",
            "WARNING:tensorflow:Importing a function (__inference_functional_1_layer_call_and_return_conditional_losses_979223) with ops with custom gradients. Will likely fail if a gradient is requested.\n",
            "WARNING:tensorflow:Importing a function (__inference_functional_1_layer_call_and_return_conditional_losses_979223) with ops with custom gradients. Will likely fail if a gradient is requested.\n",
            "WARNING:tensorflow:Importing a function (__inference_functional_1_layer_call_and_return_conditional_losses_979223) with ops with custom gradients. Will likely fail if a gradient is requested.\n",
            "WARNING:tensorflow:Importing a function (__inference_functional_1_layer_call_and_return_conditional_losses_979223) with ops with custom gradients. Will likely fail if a gradient is requested.\n",
            "WARNING:tensorflow:Importing a function (__inference_functional_1_layer_call_and_return_conditional_losses_979223) with ops with custom gradients. Will likely fail if a gradient is requested.\n",
            "WARNING:tensorflow:Importing a function (__inference_functional_1_layer_call_and_return_conditional_losses_979223) with ops with custom gradients. Will likely fail if a gradient is requested.\n",
            "WARNING:tensorflow:Importing a function (__inference_functional_1_layer_call_and_return_conditional_losses_979223) with ops with custom gradients. Will likely fail if a gradient is requested.\n",
            "WARNING:tensorflow:Importing a function (__inference_functional_1_layer_call_and_return_conditional_losses_979223) with ops with custom gradients. Will likely fail if a gradient is requested.\n",
            "WARNING:tensorflow:Importing a function (__inference_functional_1_layer_call_and_return_conditional_losses_979223) with ops with custom gradients. Will likely fail if a gradient is requested.\n",
            "WARNING:tensorflow:Importing a function (__inference_functional_1_layer_call_and_return_conditional_losses_979223) with ops with custom gradients. Will likely fail if a gradient is requested.\n",
            "WARNING:tensorflow:Importing a function (__inference_functional_1_layer_call_and_return_conditional_losses_979223) with ops with custom gradients. Will likely fail if a gradient is requested.\n",
            "WARNING:tensorflow:Importing a function (__inference_functional_1_layer_call_and_return_conditional_losses_979223) with ops with custom gradients. Will likely fail if a gradient is requested.\n",
            "WARNING:tensorflow:Importing a function (__inference_functional_1_layer_call_and_return_conditional_losses_979223) with ops with custom gradients. Will likely fail if a gradient is requested.\n",
            "WARNING:tensorflow:Importing a function (__inference_functional_1_layer_call_and_return_conditional_losses_979223) with ops with custom gradients. Will likely fail if a gradient is requested.\n",
            "WARNING:tensorflow:Importing a function (__inference_functional_1_layer_call_and_return_conditional_losses_979223) with ops with custom gradients. Will likely fail if a gradient is requested.\n",
            "WARNING:tensorflow:Importing a function (__inference_functional_1_layer_call_and_return_conditional_losses_979223) with ops with custom gradients. Will likely fail if a gradient is requested.\n",
            "WARNING:tensorflow:Importing a function (__inference_functional_1_layer_call_and_return_conditional_losses_979223) with ops with custom gradients. Will likely fail if a gradient is requested.\n",
            "WARNING:tensorflow:Importing a function (__inference_functional_1_layer_call_and_return_conditional_losses_979223) with ops with custom gradients. Will likely fail if a gradient is requested.\n",
            "WARNING:tensorflow:Importing a function (__inference_functional_1_layer_call_and_return_conditional_losses_979223) with ops with custom gradients. Will likely fail if a gradient is requested.\n",
            "WARNING:tensorflow:Importing a function (__inference_functional_1_layer_call_and_return_conditional_losses_979223) with ops with custom gradients. Will likely fail if a gradient is requested.\n",
            "WARNING:tensorflow:Importing a function (__inference_functional_1_layer_call_and_return_conditional_losses_979223) with ops with custom gradients. Will likely fail if a gradient is requested.\n",
            "WARNING:tensorflow:Importing a function (__inference_functional_1_layer_call_and_return_conditional_losses_979223) with ops with custom gradients. Will likely fail if a gradient is requested.\n",
            "WARNING:tensorflow:Importing a function (__inference_functional_1_layer_call_and_return_conditional_losses_979223) with ops with custom gradients. Will likely fail if a gradient is requested.\n",
            "WARNING:tensorflow:Importing a function (__inference_functional_1_layer_call_and_return_conditional_losses_979223) with ops with custom gradients. Will likely fail if a gradient is requested.\n",
            "WARNING:tensorflow:Importing a function (__inference_functional_1_layer_call_and_return_conditional_losses_979223) with ops with custom gradients. Will likely fail if a gradient is requested.\n",
            "WARNING:tensorflow:Importing a function (__inference_functional_1_layer_call_and_return_conditional_losses_979223) with ops with custom gradients. Will likely fail if a gradient is requested.\n",
            "WARNING:tensorflow:Importing a function (__inference_functional_1_layer_call_and_return_conditional_losses_979223) with ops with custom gradients. Will likely fail if a gradient is requested.\n",
            "WARNING:tensorflow:Importing a function (__inference_functional_1_layer_call_and_return_conditional_losses_979223) with ops with custom gradients. Will likely fail if a gradient is requested.\n",
            "WARNING:tensorflow:Importing a function (__inference_functional_1_layer_call_and_return_conditional_losses_979223) with ops with custom gradients. Will likely fail if a gradient is requested.\n",
            "WARNING:tensorflow:Importing a function (__inference_functional_1_layer_call_and_return_conditional_losses_979223) with ops with custom gradients. Will likely fail if a gradient is requested.\n",
            "WARNING:tensorflow:Importing a function (__inference_functional_1_layer_call_and_return_conditional_losses_979223) with ops with custom gradients. Will likely fail if a gradient is requested.\n",
            "WARNING:tensorflow:Importing a function (__inference_functional_1_layer_call_and_return_conditional_losses_979223) with ops with custom gradients. Will likely fail if a gradient is requested.\n",
            "WARNING:tensorflow:Importing a function (__inference_functional_1_layer_call_and_return_conditional_losses_979223) with ops with custom gradients. Will likely fail if a gradient is requested.\n",
            "WARNING:tensorflow:Importing a function (__inference_functional_1_layer_call_and_return_conditional_losses_979223) with ops with custom gradients. Will likely fail if a gradient is requested.\n",
            "WARNING:tensorflow:Importing a function (__inference_functional_1_layer_call_and_return_conditional_losses_979223) with ops with custom gradients. Will likely fail if a gradient is requested.\n",
            "WARNING:tensorflow:Importing a function (__inference_functional_1_layer_call_and_return_conditional_losses_979223) with ops with custom gradients. Will likely fail if a gradient is requested.\n",
            "WARNING:tensorflow:Importing a function (__inference_functional_1_layer_call_and_return_conditional_losses_979223) with ops with custom gradients. Will likely fail if a gradient is requested.\n",
            "WARNING:tensorflow:Importing a function (__inference_functional_1_layer_call_and_return_conditional_losses_979223) with ops with custom gradients. Will likely fail if a gradient is requested.\n",
            "WARNING:tensorflow:Importing a function (__inference_functional_1_layer_call_and_return_conditional_losses_979223) with ops with custom gradients. Will likely fail if a gradient is requested.\n",
            "WARNING:tensorflow:Importing a function (__inference_functional_1_layer_call_and_return_conditional_losses_979223) with ops with custom gradients. Will likely fail if a gradient is requested.\n",
            "WARNING:tensorflow:Importing a function (__inference_functional_1_layer_call_and_return_conditional_losses_979223) with ops with custom gradients. Will likely fail if a gradient is requested.\n",
            "WARNING:tensorflow:Importing a function (__inference_functional_1_layer_call_and_return_conditional_losses_979223) with ops with custom gradients. Will likely fail if a gradient is requested.\n",
            "WARNING:tensorflow:Importing a function (__inference_functional_1_layer_call_and_return_conditional_losses_979223) with ops with custom gradients. Will likely fail if a gradient is requested.\n",
            "WARNING:tensorflow:Importing a function (__inference_functional_1_layer_call_and_return_conditional_losses_979223) with ops with custom gradients. Will likely fail if a gradient is requested.\n",
            "WARNING:tensorflow:Importing a function (__inference_functional_1_layer_call_and_return_conditional_losses_979223) with ops with custom gradients. Will likely fail if a gradient is requested.\n",
            "WARNING:tensorflow:Importing a function (__inference_functional_1_layer_call_and_return_conditional_losses_979223) with ops with custom gradients. Will likely fail if a gradient is requested.\n",
            "WARNING:tensorflow:Importing a function (__inference_functional_1_layer_call_and_return_conditional_losses_979223) with ops with custom gradients. Will likely fail if a gradient is requested.\n",
            "WARNING:tensorflow:Importing a function (__inference_functional_1_layer_call_and_return_conditional_losses_979223) with ops with custom gradients. Will likely fail if a gradient is requested.\n",
            "WARNING:tensorflow:Importing a function (__inference_functional_1_layer_call_and_return_conditional_losses_979223) with ops with custom gradients. Will likely fail if a gradient is requested.\n",
            "WARNING:tensorflow:Importing a function (__inference_functional_1_layer_call_and_return_conditional_losses_979223) with ops with custom gradients. Will likely fail if a gradient is requested.\n",
            "WARNING:tensorflow:Importing a function (__inference_functional_1_layer_call_and_return_conditional_losses_979223) with ops with custom gradients. Will likely fail if a gradient is requested.\n",
            "WARNING:tensorflow:Importing a function (__inference_functional_1_layer_call_and_return_conditional_losses_979223) with ops with custom gradients. Will likely fail if a gradient is requested.\n",
            "WARNING:tensorflow:Importing a function (__inference_functional_1_layer_call_and_return_conditional_losses_979223) with ops with custom gradients. Will likely fail if a gradient is requested.\n",
            "WARNING:tensorflow:Importing a function (__inference_block4c_activation_layer_call_and_return_conditional_losses_1010361) with ops with custom gradients. Will likely fail if a gradient is requested.\n",
            "WARNING:tensorflow:Importing a function (__inference_stem_activation_layer_call_and_return_conditional_losses_1005033) with ops with custom gradients. Will likely fail if a gradient is requested.\n",
            "WARNING:tensorflow:Importing a function (__inference_block7a_expand_activation_layer_call_and_return_conditional_losses_873311) with ops with custom gradients. Will likely fail if a gradient is requested.\n",
            "WARNING:tensorflow:Importing a function (__inference_block5b_expand_activation_layer_call_and_return_conditional_losses_869843) with ops with custom gradients. Will likely fail if a gradient is requested.\n",
            "WARNING:tensorflow:Importing a function (__inference_block3b_activation_layer_call_and_return_conditional_losses_866960) with ops with custom gradients. Will likely fail if a gradient is requested.\n",
            "WARNING:tensorflow:Importing a function (__inference_block6c_expand_activation_layer_call_and_return_conditional_losses_871991) with ops with custom gradients. Will likely fail if a gradient is requested.\n",
            "WARNING:tensorflow:Importing a function (__inference_block4a_activation_layer_call_and_return_conditional_losses_1009302) with ops with custom gradients. Will likely fail if a gradient is requested.\n",
            "WARNING:tensorflow:Importing a function (__inference_block6a_se_reduce_layer_call_and_return_conditional_losses_871303) with ops with custom gradients. Will likely fail if a gradient is requested.\n",
            "WARNING:tensorflow:Importing a function (__inference_block3b_se_reduce_layer_call_and_return_conditional_losses_867007) with ops with custom gradients. Will likely fail if a gradient is requested.\n",
            "WARNING:tensorflow:Importing a function (__inference_block6e_expand_activation_layer_call_and_return_conditional_losses_1015658) with ops with custom gradients. Will likely fail if a gradient is requested.\n",
            "WARNING:tensorflow:Importing a function (__inference_block3c_expand_activation_layer_call_and_return_conditional_losses_1008610) with ops with custom gradients. Will likely fail if a gradient is requested.\n",
            "WARNING:tensorflow:Importing a function (__inference_block1b_activation_layer_call_and_return_conditional_losses_1005525) with ops with custom gradients. Will likely fail if a gradient is requested.\n",
            "WARNING:tensorflow:Importing a function (__inference_block4b_se_reduce_layer_call_and_return_conditional_losses_1009848) with ops with custom gradients. Will likely fail if a gradient is requested.\n",
            "WARNING:tensorflow:Importing a function (__inference_block6a_expand_activation_layer_call_and_return_conditional_losses_871163) with ops with custom gradients. Will likely fail if a gradient is requested.\n",
            "WARNING:tensorflow:Importing a function (__inference_block1a_activation_layer_call_and_return_conditional_losses_864585) with ops with custom gradients. Will likely fail if a gradient is requested.\n",
            "WARNING:tensorflow:Importing a function (__inference_block3c_se_reduce_layer_call_and_return_conditional_losses_867447) with ops with custom gradients. Will likely fail if a gradient is requested.\n",
            "WARNING:tensorflow:Importing a function (__inference_block3b_activation_layer_call_and_return_conditional_losses_1008196) with ops with custom gradients. Will likely fail if a gradient is requested.\n",
            "WARNING:tensorflow:Importing a function (__inference_block5c_activation_layer_call_and_return_conditional_losses_1012526) with ops with custom gradients. Will likely fail if a gradient is requested.\n",
            "WARNING:tensorflow:Importing a function (__inference_block3c_expand_activation_layer_call_and_return_conditional_losses_867308) with ops with custom gradients. Will likely fail if a gradient is requested.\n",
            "WARNING:tensorflow:Importing a function (__inference_block4b_activation_layer_call_and_return_conditional_losses_868228) with ops with custom gradients. Will likely fail if a gradient is requested.\n",
            "WARNING:tensorflow:Importing a function (__inference_block3a_expand_activation_layer_call_and_return_conditional_losses_1007551) with ops with custom gradients. Will likely fail if a gradient is requested.\n",
            "WARNING:tensorflow:Importing a function (__inference_block6c_activation_layer_call_and_return_conditional_losses_1014691) with ops with custom gradients. Will likely fail if a gradient is requested.\n",
            "WARNING:tensorflow:Importing a function (__inference_top_activation_layer_call_and_return_conditional_losses_874138) with ops with custom gradients. Will likely fail if a gradient is requested.\n",
            "WARNING:tensorflow:Importing a function (__inference_block4a_se_reduce_layer_call_and_return_conditional_losses_1009342) with ops with custom gradients. Will likely fail if a gradient is requested.\n",
            "WARNING:tensorflow:Importing a function (__inference_block5c_activation_layer_call_and_return_conditional_losses_870375) with ops with custom gradients. Will likely fail if a gradient is requested.\n",
            "WARNING:tensorflow:Importing a function (__inference_block5b_activation_layer_call_and_return_conditional_losses_869935) with ops with custom gradients. Will likely fail if a gradient is requested.\n",
            "WARNING:tensorflow:Importing a function (__inference_block3b_expand_activation_layer_call_and_return_conditional_losses_1008057) with ops with custom gradients. Will likely fail if a gradient is requested.\n",
            "WARNING:tensorflow:Importing a function (__inference_block5c_se_reduce_layer_call_and_return_conditional_losses_870422) with ops with custom gradients. Will likely fail if a gradient is requested.\n",
            "WARNING:tensorflow:Importing a function (__inference__wrapped_model_856683) with ops with custom gradients. Will likely fail if a gradient is requested.\n",
            "WARNING:tensorflow:Importing a function (__inference__wrapped_model_856683) with ops with custom gradients. Will likely fail if a gradient is requested.\n",
            "WARNING:tensorflow:Importing a function (__inference__wrapped_model_856683) with ops with custom gradients. Will likely fail if a gradient is requested.\n",
            "WARNING:tensorflow:Importing a function (__inference__wrapped_model_856683) with ops with custom gradients. Will likely fail if a gradient is requested.\n",
            "WARNING:tensorflow:Importing a function (__inference__wrapped_model_856683) with ops with custom gradients. Will likely fail if a gradient is requested.\n",
            "WARNING:tensorflow:Importing a function (__inference__wrapped_model_856683) with ops with custom gradients. Will likely fail if a gradient is requested.\n",
            "WARNING:tensorflow:Importing a function (__inference__wrapped_model_856683) with ops with custom gradients. Will likely fail if a gradient is requested.\n",
            "WARNING:tensorflow:Importing a function (__inference__wrapped_model_856683) with ops with custom gradients. Will likely fail if a gradient is requested.\n",
            "WARNING:tensorflow:Importing a function (__inference__wrapped_model_856683) with ops with custom gradients. Will likely fail if a gradient is requested.\n",
            "WARNING:tensorflow:Importing a function (__inference__wrapped_model_856683) with ops with custom gradients. Will likely fail if a gradient is requested.\n",
            "WARNING:tensorflow:Importing a function (__inference__wrapped_model_856683) with ops with custom gradients. Will likely fail if a gradient is requested.\n",
            "WARNING:tensorflow:Importing a function (__inference__wrapped_model_856683) with ops with custom gradients. Will likely fail if a gradient is requested.\n",
            "WARNING:tensorflow:Importing a function (__inference__wrapped_model_856683) with ops with custom gradients. Will likely fail if a gradient is requested.\n",
            "WARNING:tensorflow:Importing a function (__inference__wrapped_model_856683) with ops with custom gradients. Will likely fail if a gradient is requested.\n",
            "WARNING:tensorflow:Importing a function (__inference__wrapped_model_856683) with ops with custom gradients. Will likely fail if a gradient is requested.\n",
            "WARNING:tensorflow:Importing a function (__inference__wrapped_model_856683) with ops with custom gradients. Will likely fail if a gradient is requested.\n",
            "WARNING:tensorflow:Importing a function (__inference__wrapped_model_856683) with ops with custom gradients. Will likely fail if a gradient is requested.\n",
            "WARNING:tensorflow:Importing a function (__inference__wrapped_model_856683) with ops with custom gradients. Will likely fail if a gradient is requested.\n",
            "WARNING:tensorflow:Importing a function (__inference__wrapped_model_856683) with ops with custom gradients. Will likely fail if a gradient is requested.\n",
            "WARNING:tensorflow:Importing a function (__inference__wrapped_model_856683) with ops with custom gradients. Will likely fail if a gradient is requested.\n",
            "WARNING:tensorflow:Importing a function (__inference__wrapped_model_856683) with ops with custom gradients. Will likely fail if a gradient is requested.\n",
            "WARNING:tensorflow:Importing a function (__inference__wrapped_model_856683) with ops with custom gradients. Will likely fail if a gradient is requested.\n",
            "WARNING:tensorflow:Importing a function (__inference__wrapped_model_856683) with ops with custom gradients. Will likely fail if a gradient is requested.\n",
            "WARNING:tensorflow:Importing a function (__inference__wrapped_model_856683) with ops with custom gradients. Will likely fail if a gradient is requested.\n",
            "WARNING:tensorflow:Importing a function (__inference__wrapped_model_856683) with ops with custom gradients. Will likely fail if a gradient is requested.\n",
            "WARNING:tensorflow:Importing a function (__inference__wrapped_model_856683) with ops with custom gradients. Will likely fail if a gradient is requested.\n",
            "WARNING:tensorflow:Importing a function (__inference__wrapped_model_856683) with ops with custom gradients. Will likely fail if a gradient is requested.\n",
            "WARNING:tensorflow:Importing a function (__inference__wrapped_model_856683) with ops with custom gradients. Will likely fail if a gradient is requested.\n",
            "WARNING:tensorflow:Importing a function (__inference__wrapped_model_856683) with ops with custom gradients. Will likely fail if a gradient is requested.\n",
            "WARNING:tensorflow:Importing a function (__inference__wrapped_model_856683) with ops with custom gradients. Will likely fail if a gradient is requested.\n",
            "WARNING:tensorflow:Importing a function (__inference__wrapped_model_856683) with ops with custom gradients. Will likely fail if a gradient is requested.\n",
            "WARNING:tensorflow:Importing a function (__inference__wrapped_model_856683) with ops with custom gradients. Will likely fail if a gradient is requested.\n",
            "WARNING:tensorflow:Importing a function (__inference__wrapped_model_856683) with ops with custom gradients. Will likely fail if a gradient is requested.\n",
            "WARNING:tensorflow:Importing a function (__inference__wrapped_model_856683) with ops with custom gradients. Will likely fail if a gradient is requested.\n",
            "WARNING:tensorflow:Importing a function (__inference__wrapped_model_856683) with ops with custom gradients. Will likely fail if a gradient is requested.\n",
            "WARNING:tensorflow:Importing a function (__inference__wrapped_model_856683) with ops with custom gradients. Will likely fail if a gradient is requested.\n",
            "WARNING:tensorflow:Importing a function (__inference__wrapped_model_856683) with ops with custom gradients. Will likely fail if a gradient is requested.\n",
            "WARNING:tensorflow:Importing a function (__inference__wrapped_model_856683) with ops with custom gradients. Will likely fail if a gradient is requested.\n",
            "WARNING:tensorflow:Importing a function (__inference__wrapped_model_856683) with ops with custom gradients. Will likely fail if a gradient is requested.\n",
            "WARNING:tensorflow:Importing a function (__inference__wrapped_model_856683) with ops with custom gradients. Will likely fail if a gradient is requested.\n",
            "WARNING:tensorflow:Importing a function (__inference__wrapped_model_856683) with ops with custom gradients. Will likely fail if a gradient is requested.\n",
            "WARNING:tensorflow:Importing a function (__inference__wrapped_model_856683) with ops with custom gradients. Will likely fail if a gradient is requested.\n",
            "WARNING:tensorflow:Importing a function (__inference__wrapped_model_856683) with ops with custom gradients. Will likely fail if a gradient is requested.\n",
            "WARNING:tensorflow:Importing a function (__inference__wrapped_model_856683) with ops with custom gradients. Will likely fail if a gradient is requested.\n",
            "WARNING:tensorflow:Importing a function (__inference__wrapped_model_856683) with ops with custom gradients. Will likely fail if a gradient is requested.\n",
            "WARNING:tensorflow:Importing a function (__inference__wrapped_model_856683) with ops with custom gradients. Will likely fail if a gradient is requested.\n",
            "WARNING:tensorflow:Importing a function (__inference__wrapped_model_856683) with ops with custom gradients. Will likely fail if a gradient is requested.\n",
            "WARNING:tensorflow:Importing a function (__inference__wrapped_model_856683) with ops with custom gradients. Will likely fail if a gradient is requested.\n",
            "WARNING:tensorflow:Importing a function (__inference__wrapped_model_856683) with ops with custom gradients. Will likely fail if a gradient is requested.\n",
            "WARNING:tensorflow:Importing a function (__inference__wrapped_model_856683) with ops with custom gradients. Will likely fail if a gradient is requested.\n",
            "WARNING:tensorflow:Importing a function (__inference__wrapped_model_856683) with ops with custom gradients. Will likely fail if a gradient is requested.\n",
            "WARNING:tensorflow:Importing a function (__inference__wrapped_model_856683) with ops with custom gradients. Will likely fail if a gradient is requested.\n",
            "WARNING:tensorflow:Importing a function (__inference__wrapped_model_856683) with ops with custom gradients. Will likely fail if a gradient is requested.\n",
            "WARNING:tensorflow:Importing a function (__inference__wrapped_model_856683) with ops with custom gradients. Will likely fail if a gradient is requested.\n",
            "WARNING:tensorflow:Importing a function (__inference__wrapped_model_856683) with ops with custom gradients. Will likely fail if a gradient is requested.\n",
            "WARNING:tensorflow:Importing a function (__inference__wrapped_model_856683) with ops with custom gradients. Will likely fail if a gradient is requested.\n",
            "WARNING:tensorflow:Importing a function (__inference__wrapped_model_856683) with ops with custom gradients. Will likely fail if a gradient is requested.\n",
            "WARNING:tensorflow:Importing a function (__inference__wrapped_model_856683) with ops with custom gradients. Will likely fail if a gradient is requested.\n",
            "WARNING:tensorflow:Importing a function (__inference__wrapped_model_856683) with ops with custom gradients. Will likely fail if a gradient is requested.\n",
            "WARNING:tensorflow:Importing a function (__inference__wrapped_model_856683) with ops with custom gradients. Will likely fail if a gradient is requested.\n",
            "WARNING:tensorflow:Importing a function (__inference__wrapped_model_856683) with ops with custom gradients. Will likely fail if a gradient is requested.\n",
            "WARNING:tensorflow:Importing a function (__inference__wrapped_model_856683) with ops with custom gradients. Will likely fail if a gradient is requested.\n",
            "WARNING:tensorflow:Importing a function (__inference__wrapped_model_856683) with ops with custom gradients. Will likely fail if a gradient is requested.\n",
            "WARNING:tensorflow:Importing a function (__inference__wrapped_model_856683) with ops with custom gradients. Will likely fail if a gradient is requested.\n",
            "WARNING:tensorflow:Importing a function (__inference__wrapped_model_856683) with ops with custom gradients. Will likely fail if a gradient is requested.\n",
            "WARNING:tensorflow:Importing a function (__inference__wrapped_model_856683) with ops with custom gradients. Will likely fail if a gradient is requested.\n",
            "WARNING:tensorflow:Importing a function (__inference__wrapped_model_856683) with ops with custom gradients. Will likely fail if a gradient is requested.\n",
            "WARNING:tensorflow:Importing a function (__inference__wrapped_model_856683) with ops with custom gradients. Will likely fail if a gradient is requested.\n",
            "WARNING:tensorflow:Importing a function (__inference__wrapped_model_856683) with ops with custom gradients. Will likely fail if a gradient is requested.\n",
            "WARNING:tensorflow:Importing a function (__inference_block5a_activation_layer_call_and_return_conditional_losses_869548) with ops with custom gradients. Will likely fail if a gradient is requested.\n",
            "WARNING:tensorflow:Importing a function (__inference_block4b_expand_activation_layer_call_and_return_conditional_losses_868136) with ops with custom gradients. Will likely fail if a gradient is requested.\n",
            "WARNING:tensorflow:Importing a function (__inference_block5d_se_reduce_layer_call_and_return_conditional_losses_870862) with ops with custom gradients. Will likely fail if a gradient is requested.\n",
            "WARNING:tensorflow:Importing a function (__inference_block3c_activation_layer_call_and_return_conditional_losses_867400) with ops with custom gradients. Will likely fail if a gradient is requested.\n",
            "WARNING:tensorflow:Importing a function (__inference_block1b_se_reduce_layer_call_and_return_conditional_losses_1005565) with ops with custom gradients. Will likely fail if a gradient is requested.\n",
            "WARNING:tensorflow:Importing a function (__inference_block4a_se_reduce_layer_call_and_return_conditional_losses_867888) with ops with custom gradients. Will likely fail if a gradient is requested.\n",
            "WARNING:tensorflow:Importing a function (__inference_block4b_expand_activation_layer_call_and_return_conditional_losses_1009669) with ops with custom gradients. Will likely fail if a gradient is requested.\n",
            "WARNING:tensorflow:Importing a function (__inference_block4b_activation_layer_call_and_return_conditional_losses_1009808) with ops with custom gradients. Will likely fail if a gradient is requested.\n",
            "WARNING:tensorflow:Importing a function (__inference_block7a_se_reduce_layer_call_and_return_conditional_losses_1016390) with ops with custom gradients. Will likely fail if a gradient is requested.\n",
            "WARNING:tensorflow:Importing a function (__inference_block6d_se_reduce_layer_call_and_return_conditional_losses_1015284) with ops with custom gradients. Will likely fail if a gradient is requested.\n",
            "WARNING:tensorflow:Importing a function (__inference_block5c_se_reduce_layer_call_and_return_conditional_losses_1012566) with ops with custom gradients. Will likely fail if a gradient is requested.\n",
            "WARNING:tensorflow:Importing a function (__inference_block2a_se_reduce_layer_call_and_return_conditional_losses_1006118) with ops with custom gradients. Will likely fail if a gradient is requested.\n",
            "WARNING:tensorflow:Importing a function (__inference_top_activation_layer_call_and_return_conditional_losses_1017270) with ops with custom gradients. Will likely fail if a gradient is requested.\n",
            "WARNING:tensorflow:Importing a function (__inference_block5b_se_reduce_layer_call_and_return_conditional_losses_869982) with ops with custom gradients. Will likely fail if a gradient is requested.\n",
            "WARNING:tensorflow:Importing a function (__inference_block6b_activation_layer_call_and_return_conditional_losses_1014138) with ops with custom gradients. Will likely fail if a gradient is requested.\n",
            "WARNING:tensorflow:Importing a function (__inference_block5a_activation_layer_call_and_return_conditional_losses_1011467) with ops with custom gradients. Will likely fail if a gradient is requested.\n",
            "WARNING:tensorflow:Importing a function (__inference_block4a_expand_activation_layer_call_and_return_conditional_losses_1009163) with ops with custom gradients. Will likely fail if a gradient is requested.\n",
            "WARNING:tensorflow:Importing a function (__inference_block7b_se_reduce_layer_call_and_return_conditional_losses_873837) with ops with custom gradients. Will likely fail if a gradient is requested.\n",
            "WARNING:tensorflow:Importing a function (__inference_block5a_expand_activation_layer_call_and_return_conditional_losses_1011328) with ops with custom gradients. Will likely fail if a gradient is requested.\n",
            "WARNING:tensorflow:Importing a function (__inference_block7a_activation_layer_call_and_return_conditional_losses_1016350) with ops with custom gradients. Will likely fail if a gradient is requested.\n",
            "WARNING:tensorflow:Importing a function (__inference_block6d_activation_layer_call_and_return_conditional_losses_1015244) with ops with custom gradients. Will likely fail if a gradient is requested.\n",
            "WARNING:tensorflow:Importing a function (__inference_block7b_expand_activation_layer_call_and_return_conditional_losses_1016717) with ops with custom gradients. Will likely fail if a gradient is requested.\n",
            "WARNING:tensorflow:Importing a function (__inference_block6c_se_reduce_layer_call_and_return_conditional_losses_872130) with ops with custom gradients. Will likely fail if a gradient is requested.\n",
            "WARNING:tensorflow:Importing a function (__inference_block4c_expand_activation_layer_call_and_return_conditional_losses_868576) with ops with custom gradients. Will likely fail if a gradient is requested.\n",
            "WARNING:tensorflow:Importing a function (__inference_block4d_activation_layer_call_and_return_conditional_losses_1010914) with ops with custom gradients. Will likely fail if a gradient is requested.\n",
            "WARNING:tensorflow:Importing a function (__inference_block6c_activation_layer_call_and_return_conditional_losses_872083) with ops with custom gradients. Will likely fail if a gradient is requested.\n",
            "WARNING:tensorflow:Importing a function (__inference_block6b_expand_activation_layer_call_and_return_conditional_losses_1013999) with ops with custom gradients. Will likely fail if a gradient is requested.\n",
            "WARNING:tensorflow:Importing a function (__inference_block5d_activation_layer_call_and_return_conditional_losses_1013079) with ops with custom gradients. Will likely fail if a gradient is requested.\n",
            "WARNING:tensorflow:Importing a function (__inference_block6c_se_reduce_layer_call_and_return_conditional_losses_1014731) with ops with custom gradients. Will likely fail if a gradient is requested.\n",
            "WARNING:tensorflow:Importing a function (__inference_block5d_expand_activation_layer_call_and_return_conditional_losses_870723) with ops with custom gradients. Will likely fail if a gradient is requested.\n",
            "WARNING:tensorflow:Importing a function (__inference_block6b_activation_layer_call_and_return_conditional_losses_871643) with ops with custom gradients. Will likely fail if a gradient is requested.\n",
            "WARNING:tensorflow:Importing a function (__inference_block5d_se_reduce_layer_call_and_return_conditional_losses_1013119) with ops with custom gradients. Will likely fail if a gradient is requested.\n",
            "WARNING:tensorflow:Importing a function (__inference_block6c_expand_activation_layer_call_and_return_conditional_losses_1014552) with ops with custom gradients. Will likely fail if a gradient is requested.\n",
            "WARNING:tensorflow:Importing a function (__inference_block2c_activation_layer_call_and_return_conditional_losses_1007137) with ops with custom gradients. Will likely fail if a gradient is requested.\n",
            "WARNING:tensorflow:Importing a function (__inference_block2c_expand_activation_layer_call_and_return_conditional_losses_866040) with ops with custom gradients. Will likely fail if a gradient is requested.\n",
            "WARNING:tensorflow:Importing a function (__inference_block3a_se_reduce_layer_call_and_return_conditional_losses_866620) with ops with custom gradients. Will likely fail if a gradient is requested.\n",
            "WARNING:tensorflow:Importing a function (__inference_block5a_se_reduce_layer_call_and_return_conditional_losses_1011507) with ops with custom gradients. Will likely fail if a gradient is requested.\n",
            "WARNING:tensorflow:Importing a function (__inference_block2a_activation_layer_call_and_return_conditional_losses_1006078) with ops with custom gradients. Will likely fail if a gradient is requested.\n",
            "WARNING:tensorflow:Importing a function (__inference_block6a_se_reduce_layer_call_and_return_conditional_losses_1013672) with ops with custom gradients. Will likely fail if a gradient is requested.\n",
            "WARNING:tensorflow:Importing a function (__inference_block2b_se_reduce_layer_call_and_return_conditional_losses_865739) with ops with custom gradients. Will likely fail if a gradient is requested.\n",
            "WARNING:tensorflow:Importing a function (__inference_block2c_expand_activation_layer_call_and_return_conditional_losses_1006998) with ops with custom gradients. Will likely fail if a gradient is requested.\n",
            "WARNING:tensorflow:Importing a function (__inference_block4a_expand_activation_layer_call_and_return_conditional_losses_867748) with ops with custom gradients. Will likely fail if a gradient is requested.\n",
            "WARNING:tensorflow:Importing a function (__inference_functional_1_layer_call_and_return_conditional_losses_972944) with ops with custom gradients. Will likely fail if a gradient is requested.\n",
            "WARNING:tensorflow:Importing a function (__inference_functional_1_layer_call_and_return_conditional_losses_972944) with ops with custom gradients. Will likely fail if a gradient is requested.\n",
            "WARNING:tensorflow:Importing a function (__inference_functional_1_layer_call_and_return_conditional_losses_972944) with ops with custom gradients. Will likely fail if a gradient is requested.\n",
            "WARNING:tensorflow:Importing a function (__inference_functional_1_layer_call_and_return_conditional_losses_972944) with ops with custom gradients. Will likely fail if a gradient is requested.\n",
            "WARNING:tensorflow:Importing a function (__inference_functional_1_layer_call_and_return_conditional_losses_972944) with ops with custom gradients. Will likely fail if a gradient is requested.\n",
            "WARNING:tensorflow:Importing a function (__inference_functional_1_layer_call_and_return_conditional_losses_972944) with ops with custom gradients. Will likely fail if a gradient is requested.\n",
            "WARNING:tensorflow:Importing a function (__inference_functional_1_layer_call_and_return_conditional_losses_972944) with ops with custom gradients. Will likely fail if a gradient is requested.\n",
            "WARNING:tensorflow:Importing a function (__inference_functional_1_layer_call_and_return_conditional_losses_972944) with ops with custom gradients. Will likely fail if a gradient is requested.\n",
            "WARNING:tensorflow:Importing a function (__inference_functional_1_layer_call_and_return_conditional_losses_972944) with ops with custom gradients. Will likely fail if a gradient is requested.\n",
            "WARNING:tensorflow:Importing a function (__inference_functional_1_layer_call_and_return_conditional_losses_972944) with ops with custom gradients. Will likely fail if a gradient is requested.\n",
            "WARNING:tensorflow:Importing a function (__inference_functional_1_layer_call_and_return_conditional_losses_972944) with ops with custom gradients. Will likely fail if a gradient is requested.\n",
            "WARNING:tensorflow:Importing a function (__inference_functional_1_layer_call_and_return_conditional_losses_972944) with ops with custom gradients. Will likely fail if a gradient is requested.\n",
            "WARNING:tensorflow:Importing a function (__inference_functional_1_layer_call_and_return_conditional_losses_972944) with ops with custom gradients. Will likely fail if a gradient is requested.\n",
            "WARNING:tensorflow:Importing a function (__inference_functional_1_layer_call_and_return_conditional_losses_972944) with ops with custom gradients. Will likely fail if a gradient is requested.\n",
            "WARNING:tensorflow:Importing a function (__inference_functional_1_layer_call_and_return_conditional_losses_972944) with ops with custom gradients. Will likely fail if a gradient is requested.\n",
            "WARNING:tensorflow:Importing a function (__inference_functional_1_layer_call_and_return_conditional_losses_972944) with ops with custom gradients. Will likely fail if a gradient is requested.\n",
            "WARNING:tensorflow:Importing a function (__inference_functional_1_layer_call_and_return_conditional_losses_972944) with ops with custom gradients. Will likely fail if a gradient is requested.\n",
            "WARNING:tensorflow:Importing a function (__inference_functional_1_layer_call_and_return_conditional_losses_972944) with ops with custom gradients. Will likely fail if a gradient is requested.\n",
            "WARNING:tensorflow:Importing a function (__inference_functional_1_layer_call_and_return_conditional_losses_972944) with ops with custom gradients. Will likely fail if a gradient is requested.\n",
            "WARNING:tensorflow:Importing a function (__inference_functional_1_layer_call_and_return_conditional_losses_972944) with ops with custom gradients. Will likely fail if a gradient is requested.\n",
            "WARNING:tensorflow:Importing a function (__inference_functional_1_layer_call_and_return_conditional_losses_972944) with ops with custom gradients. Will likely fail if a gradient is requested.\n",
            "WARNING:tensorflow:Importing a function (__inference_functional_1_layer_call_and_return_conditional_losses_972944) with ops with custom gradients. Will likely fail if a gradient is requested.\n",
            "WARNING:tensorflow:Importing a function (__inference_functional_1_layer_call_and_return_conditional_losses_972944) with ops with custom gradients. Will likely fail if a gradient is requested.\n",
            "WARNING:tensorflow:Importing a function (__inference_functional_1_layer_call_and_return_conditional_losses_972944) with ops with custom gradients. Will likely fail if a gradient is requested.\n",
            "WARNING:tensorflow:Importing a function (__inference_functional_1_layer_call_and_return_conditional_losses_972944) with ops with custom gradients. Will likely fail if a gradient is requested.\n",
            "WARNING:tensorflow:Importing a function (__inference_functional_1_layer_call_and_return_conditional_losses_972944) with ops with custom gradients. Will likely fail if a gradient is requested.\n",
            "WARNING:tensorflow:Importing a function (__inference_functional_1_layer_call_and_return_conditional_losses_972944) with ops with custom gradients. Will likely fail if a gradient is requested.\n",
            "WARNING:tensorflow:Importing a function (__inference_functional_1_layer_call_and_return_conditional_losses_972944) with ops with custom gradients. Will likely fail if a gradient is requested.\n",
            "WARNING:tensorflow:Importing a function (__inference_functional_1_layer_call_and_return_conditional_losses_972944) with ops with custom gradients. Will likely fail if a gradient is requested.\n",
            "WARNING:tensorflow:Importing a function (__inference_functional_1_layer_call_and_return_conditional_losses_972944) with ops with custom gradients. Will likely fail if a gradient is requested.\n",
            "WARNING:tensorflow:Importing a function (__inference_functional_1_layer_call_and_return_conditional_losses_972944) with ops with custom gradients. Will likely fail if a gradient is requested.\n",
            "WARNING:tensorflow:Importing a function (__inference_functional_1_layer_call_and_return_conditional_losses_972944) with ops with custom gradients. Will likely fail if a gradient is requested.\n",
            "WARNING:tensorflow:Importing a function (__inference_functional_1_layer_call_and_return_conditional_losses_972944) with ops with custom gradients. Will likely fail if a gradient is requested.\n",
            "WARNING:tensorflow:Importing a function (__inference_functional_1_layer_call_and_return_conditional_losses_972944) with ops with custom gradients. Will likely fail if a gradient is requested.\n",
            "WARNING:tensorflow:Importing a function (__inference_functional_1_layer_call_and_return_conditional_losses_972944) with ops with custom gradients. Will likely fail if a gradient is requested.\n",
            "WARNING:tensorflow:Importing a function (__inference_functional_1_layer_call_and_return_conditional_losses_972944) with ops with custom gradients. Will likely fail if a gradient is requested.\n",
            "WARNING:tensorflow:Importing a function (__inference_functional_1_layer_call_and_return_conditional_losses_972944) with ops with custom gradients. Will likely fail if a gradient is requested.\n",
            "WARNING:tensorflow:Importing a function (__inference_functional_1_layer_call_and_return_conditional_losses_972944) with ops with custom gradients. Will likely fail if a gradient is requested.\n",
            "WARNING:tensorflow:Importing a function (__inference_functional_1_layer_call_and_return_conditional_losses_972944) with ops with custom gradients. Will likely fail if a gradient is requested.\n",
            "WARNING:tensorflow:Importing a function (__inference_functional_1_layer_call_and_return_conditional_losses_972944) with ops with custom gradients. Will likely fail if a gradient is requested.\n",
            "WARNING:tensorflow:Importing a function (__inference_functional_1_layer_call_and_return_conditional_losses_972944) with ops with custom gradients. Will likely fail if a gradient is requested.\n",
            "WARNING:tensorflow:Importing a function (__inference_functional_1_layer_call_and_return_conditional_losses_972944) with ops with custom gradients. Will likely fail if a gradient is requested.\n",
            "WARNING:tensorflow:Importing a function (__inference_functional_1_layer_call_and_return_conditional_losses_972944) with ops with custom gradients. Will likely fail if a gradient is requested.\n",
            "WARNING:tensorflow:Importing a function (__inference_functional_1_layer_call_and_return_conditional_losses_972944) with ops with custom gradients. Will likely fail if a gradient is requested.\n",
            "WARNING:tensorflow:Importing a function (__inference_functional_1_layer_call_and_return_conditional_losses_972944) with ops with custom gradients. Will likely fail if a gradient is requested.\n",
            "WARNING:tensorflow:Importing a function (__inference_functional_1_layer_call_and_return_conditional_losses_972944) with ops with custom gradients. Will likely fail if a gradient is requested.\n",
            "WARNING:tensorflow:Importing a function (__inference_functional_1_layer_call_and_return_conditional_losses_972944) with ops with custom gradients. Will likely fail if a gradient is requested.\n",
            "WARNING:tensorflow:Importing a function (__inference_functional_1_layer_call_and_return_conditional_losses_972944) with ops with custom gradients. Will likely fail if a gradient is requested.\n",
            "WARNING:tensorflow:Importing a function (__inference_functional_1_layer_call_and_return_conditional_losses_972944) with ops with custom gradients. Will likely fail if a gradient is requested.\n",
            "WARNING:tensorflow:Importing a function (__inference_functional_1_layer_call_and_return_conditional_losses_972944) with ops with custom gradients. Will likely fail if a gradient is requested.\n",
            "WARNING:tensorflow:Importing a function (__inference_functional_1_layer_call_and_return_conditional_losses_972944) with ops with custom gradients. Will likely fail if a gradient is requested.\n",
            "WARNING:tensorflow:Importing a function (__inference_functional_1_layer_call_and_return_conditional_losses_972944) with ops with custom gradients. Will likely fail if a gradient is requested.\n",
            "WARNING:tensorflow:Importing a function (__inference_functional_1_layer_call_and_return_conditional_losses_972944) with ops with custom gradients. Will likely fail if a gradient is requested.\n",
            "WARNING:tensorflow:Importing a function (__inference_functional_1_layer_call_and_return_conditional_losses_972944) with ops with custom gradients. Will likely fail if a gradient is requested.\n",
            "WARNING:tensorflow:Importing a function (__inference_functional_1_layer_call_and_return_conditional_losses_972944) with ops with custom gradients. Will likely fail if a gradient is requested.\n",
            "WARNING:tensorflow:Importing a function (__inference_functional_1_layer_call_and_return_conditional_losses_972944) with ops with custom gradients. Will likely fail if a gradient is requested.\n",
            "WARNING:tensorflow:Importing a function (__inference_functional_1_layer_call_and_return_conditional_losses_972944) with ops with custom gradients. Will likely fail if a gradient is requested.\n",
            "WARNING:tensorflow:Importing a function (__inference_functional_1_layer_call_and_return_conditional_losses_972944) with ops with custom gradients. Will likely fail if a gradient is requested.\n",
            "WARNING:tensorflow:Importing a function (__inference_functional_1_layer_call_and_return_conditional_losses_972944) with ops with custom gradients. Will likely fail if a gradient is requested.\n",
            "WARNING:tensorflow:Importing a function (__inference_functional_1_layer_call_and_return_conditional_losses_972944) with ops with custom gradients. Will likely fail if a gradient is requested.\n",
            "WARNING:tensorflow:Importing a function (__inference_functional_1_layer_call_and_return_conditional_losses_972944) with ops with custom gradients. Will likely fail if a gradient is requested.\n",
            "WARNING:tensorflow:Importing a function (__inference_functional_1_layer_call_and_return_conditional_losses_972944) with ops with custom gradients. Will likely fail if a gradient is requested.\n",
            "WARNING:tensorflow:Importing a function (__inference_functional_1_layer_call_and_return_conditional_losses_972944) with ops with custom gradients. Will likely fail if a gradient is requested.\n",
            "WARNING:tensorflow:Importing a function (__inference_functional_1_layer_call_and_return_conditional_losses_972944) with ops with custom gradients. Will likely fail if a gradient is requested.\n",
            "WARNING:tensorflow:Importing a function (__inference_functional_1_layer_call_and_return_conditional_losses_972944) with ops with custom gradients. Will likely fail if a gradient is requested.\n",
            "WARNING:tensorflow:Importing a function (__inference_functional_1_layer_call_and_return_conditional_losses_972944) with ops with custom gradients. Will likely fail if a gradient is requested.\n",
            "WARNING:tensorflow:Importing a function (__inference_functional_1_layer_call_and_return_conditional_losses_972944) with ops with custom gradients. Will likely fail if a gradient is requested.\n",
            "WARNING:tensorflow:Importing a function (__inference_functional_1_layer_call_and_return_conditional_losses_972944) with ops with custom gradients. Will likely fail if a gradient is requested.\n",
            "WARNING:tensorflow:Importing a function (__inference_functional_1_layer_call_and_return_conditional_losses_972944) with ops with custom gradients. Will likely fail if a gradient is requested.\n",
            "WARNING:tensorflow:Importing a function (__inference_block5d_activation_layer_call_and_return_conditional_losses_870815) with ops with custom gradients. Will likely fail if a gradient is requested.\n",
            "WARNING:tensorflow:Importing a function (__inference_block5c_expand_activation_layer_call_and_return_conditional_losses_870283) with ops with custom gradients. Will likely fail if a gradient is requested.\n",
            "WARNING:tensorflow:Importing a function (__inference_block4d_expand_activation_layer_call_and_return_conditional_losses_1010775) with ops with custom gradients. Will likely fail if a gradient is requested.\n",
            "WARNING:tensorflow:Importing a function (__inference_block2b_activation_layer_call_and_return_conditional_losses_1006584) with ops with custom gradients. Will likely fail if a gradient is requested.\n",
            "WARNING:tensorflow:Importing a function (__inference_block2b_activation_layer_call_and_return_conditional_losses_865692) with ops with custom gradients. Will likely fail if a gradient is requested.\n",
            "WARNING:tensorflow:Importing a function (__inference_block2a_se_reduce_layer_call_and_return_conditional_losses_865352) with ops with custom gradients. Will likely fail if a gradient is requested.\n",
            "WARNING:tensorflow:Importing a function (__inference_block6d_se_reduce_layer_call_and_return_conditional_losses_872570) with ops with custom gradients. Will likely fail if a gradient is requested.\n",
            "WARNING:tensorflow:Importing a function (__inference_block6d_activation_layer_call_and_return_conditional_losses_872523) with ops with custom gradients. Will likely fail if a gradient is requested.\n",
            "WARNING:tensorflow:Importing a function (__inference_block2c_activation_layer_call_and_return_conditional_losses_866132) with ops with custom gradients. Will likely fail if a gradient is requested.\n",
            "WARNING:tensorflow:Importing a function (__inference_block4d_se_reduce_layer_call_and_return_conditional_losses_869155) with ops with custom gradients. Will likely fail if a gradient is requested.\n",
            "WARNING:tensorflow:Importing a function (__inference_stem_activation_layer_call_and_return_conditional_losses_864493) with ops with custom gradients. Will likely fail if a gradient is requested.\n",
            "WARNING:tensorflow:Importing a function (__inference_block4a_activation_layer_call_and_return_conditional_losses_867841) with ops with custom gradients. Will likely fail if a gradient is requested.\n",
            "WARNING:tensorflow:Importing a function (__inference_block4c_expand_activation_layer_call_and_return_conditional_losses_1010222) with ops with custom gradients. Will likely fail if a gradient is requested.\n",
            "WARNING:tensorflow:Importing a function (__inference_block1a_se_reduce_layer_call_and_return_conditional_losses_864632) with ops with custom gradients. Will likely fail if a gradient is requested.\n",
            "WARNING:tensorflow:Importing a function (__inference_block3c_activation_layer_call_and_return_conditional_losses_1008749) with ops with custom gradients. Will likely fail if a gradient is requested.\n",
            "WARNING:tensorflow:Importing a function (__inference_block6b_se_reduce_layer_call_and_return_conditional_losses_1014178) with ops with custom gradients. Will likely fail if a gradient is requested.\n",
            "WARNING:tensorflow:Importing a function (__inference_block2a_activation_layer_call_and_return_conditional_losses_865305) with ops with custom gradients. Will likely fail if a gradient is requested.\n",
            "WARNING:tensorflow:Importing a function (__inference_block6d_expand_activation_layer_call_and_return_conditional_losses_872431) with ops with custom gradients. Will likely fail if a gradient is requested.\n",
            "WARNING:tensorflow:Importing a function (__inference_block4c_se_reduce_layer_call_and_return_conditional_losses_1010401) with ops with custom gradients. Will likely fail if a gradient is requested.\n",
            "WARNING:tensorflow:Importing a function (__inference_block7b_expand_activation_layer_call_and_return_conditional_losses_873698) with ops with custom gradients. Will likely fail if a gradient is requested.\n",
            "WARNING:tensorflow:Importing a function (__inference_block1b_activation_layer_call_and_return_conditional_losses_864864) with ops with custom gradients. Will likely fail if a gradient is requested.\n",
            "WARNING:tensorflow:Importing a function (__inference_block5a_expand_activation_layer_call_and_return_conditional_losses_869456) with ops with custom gradients. Will likely fail if a gradient is requested.\n",
            "WARNING:tensorflow:Importing a function (__inference_block6e_se_reduce_layer_call_and_return_conditional_losses_1015837) with ops with custom gradients. Will likely fail if a gradient is requested.\n",
            "WARNING:tensorflow:Importing a function (__inference_block1b_se_reduce_layer_call_and_return_conditional_losses_864911) with ops with custom gradients. Will likely fail if a gradient is requested.\n",
            "WARNING:tensorflow:Importing a function (__inference_block3a_activation_layer_call_and_return_conditional_losses_1007690) with ops with custom gradients. Will likely fail if a gradient is requested.\n",
            "WARNING:tensorflow:Importing a function (__inference_block1a_activation_layer_call_and_return_conditional_losses_1005172) with ops with custom gradients. Will likely fail if a gradient is requested.\n",
            "WARNING:tensorflow:Importing a function (__inference_block7b_activation_layer_call_and_return_conditional_losses_1016856) with ops with custom gradients. Will likely fail if a gradient is requested.\n",
            "WARNING:tensorflow:Importing a function (__inference_block5b_se_reduce_layer_call_and_return_conditional_losses_1012013) with ops with custom gradients. Will likely fail if a gradient is requested.\n",
            "WARNING:tensorflow:Importing a function (__inference_block6e_expand_activation_layer_call_and_return_conditional_losses_872871) with ops with custom gradients. Will likely fail if a gradient is requested.\n",
            "WARNING:tensorflow:Importing a function (__inference_block3a_se_reduce_layer_call_and_return_conditional_losses_1007730) with ops with custom gradients. Will likely fail if a gradient is requested.\n",
            "WARNING:tensorflow:Importing a function (__inference_block7a_se_reduce_layer_call_and_return_conditional_losses_873450) with ops with custom gradients. Will likely fail if a gradient is requested.\n",
            "WARNING:tensorflow:Importing a function (__inference_block3a_activation_layer_call_and_return_conditional_losses_866573) with ops with custom gradients. Will likely fail if a gradient is requested.\n",
            "WARNING:tensorflow:Importing a function (__inference_block2b_expand_activation_layer_call_and_return_conditional_losses_1006445) with ops with custom gradients. Will likely fail if a gradient is requested.\n",
            "WARNING:tensorflow:Importing a function (__inference_block6a_activation_layer_call_and_return_conditional_losses_871256) with ops with custom gradients. Will likely fail if a gradient is requested.\n",
            "WARNING:tensorflow:Importing a function (__inference_block5a_se_reduce_layer_call_and_return_conditional_losses_869595) with ops with custom gradients. Will likely fail if a gradient is requested.\n",
            "WARNING:tensorflow:Importing a function (__inference_block4c_se_reduce_layer_call_and_return_conditional_losses_868715) with ops with custom gradients. Will likely fail if a gradient is requested.\n",
            "WARNING:tensorflow:Importing a function (__inference_block3b_se_reduce_layer_call_and_return_conditional_losses_1008236) with ops with custom gradients. Will likely fail if a gradient is requested.\n",
            "WARNING:tensorflow:Importing a function (__inference_block3c_se_reduce_layer_call_and_return_conditional_losses_1008789) with ops with custom gradients. Will likely fail if a gradient is requested.\n",
            "WARNING:tensorflow:Importing a function (__inference_block6b_expand_activation_layer_call_and_return_conditional_losses_871551) with ops with custom gradients. Will likely fail if a gradient is requested.\n",
            "WARNING:tensorflow:Importing a function (__inference_block5c_expand_activation_layer_call_and_return_conditional_losses_1012387) with ops with custom gradients. Will likely fail if a gradient is requested.\n",
            "WARNING:tensorflow:Importing a function (__inference_block4b_se_reduce_layer_call_and_return_conditional_losses_868275) with ops with custom gradients. Will likely fail if a gradient is requested.\n",
            "WARNING:tensorflow:Importing a function (__inference_block4c_activation_layer_call_and_return_conditional_losses_868668) with ops with custom gradients. Will likely fail if a gradient is requested.\n",
            "WARNING:tensorflow:Importing a function (__inference_block2b_expand_activation_layer_call_and_return_conditional_losses_865600) with ops with custom gradients. Will likely fail if a gradient is requested.\n",
            "WARNING:tensorflow:Importing a function (__inference_block1a_se_reduce_layer_call_and_return_conditional_losses_1005212) with ops with custom gradients. Will likely fail if a gradient is requested.\n",
            "WARNING:tensorflow:Importing a function (__inference_block6a_activation_layer_call_and_return_conditional_losses_1013632) with ops with custom gradients. Will likely fail if a gradient is requested.\n",
            "WARNING:tensorflow:Importing a function (__inference_block2a_expand_activation_layer_call_and_return_conditional_losses_1005939) with ops with custom gradients. Will likely fail if a gradient is requested.\n",
            "WARNING:tensorflow:Importing a function (__inference_block5b_activation_layer_call_and_return_conditional_losses_1011973) with ops with custom gradients. Will likely fail if a gradient is requested.\n",
            "WARNING:tensorflow:Importing a function (__inference_block2c_se_reduce_layer_call_and_return_conditional_losses_866179) with ops with custom gradients. Will likely fail if a gradient is requested.\n",
            "WARNING:tensorflow:Importing a function (__inference_efficientnetb1_layer_call_and_return_conditional_losses_990237) with ops with custom gradients. Will likely fail if a gradient is requested.\n",
            "WARNING:tensorflow:Importing a function (__inference_efficientnetb1_layer_call_and_return_conditional_losses_990237) with ops with custom gradients. Will likely fail if a gradient is requested.\n",
            "WARNING:tensorflow:Importing a function (__inference_efficientnetb1_layer_call_and_return_conditional_losses_990237) with ops with custom gradients. Will likely fail if a gradient is requested.\n",
            "WARNING:tensorflow:Importing a function (__inference_efficientnetb1_layer_call_and_return_conditional_losses_990237) with ops with custom gradients. Will likely fail if a gradient is requested.\n",
            "WARNING:tensorflow:Importing a function (__inference_efficientnetb1_layer_call_and_return_conditional_losses_990237) with ops with custom gradients. Will likely fail if a gradient is requested.\n",
            "WARNING:tensorflow:Importing a function (__inference_efficientnetb1_layer_call_and_return_conditional_losses_990237) with ops with custom gradients. Will likely fail if a gradient is requested.\n",
            "WARNING:tensorflow:Importing a function (__inference_efficientnetb1_layer_call_and_return_conditional_losses_990237) with ops with custom gradients. Will likely fail if a gradient is requested.\n",
            "WARNING:tensorflow:Importing a function (__inference_efficientnetb1_layer_call_and_return_conditional_losses_990237) with ops with custom gradients. Will likely fail if a gradient is requested.\n",
            "WARNING:tensorflow:Importing a function (__inference_efficientnetb1_layer_call_and_return_conditional_losses_990237) with ops with custom gradients. Will likely fail if a gradient is requested.\n",
            "WARNING:tensorflow:Importing a function (__inference_efficientnetb1_layer_call_and_return_conditional_losses_990237) with ops with custom gradients. Will likely fail if a gradient is requested.\n",
            "WARNING:tensorflow:Importing a function (__inference_efficientnetb1_layer_call_and_return_conditional_losses_990237) with ops with custom gradients. Will likely fail if a gradient is requested.\n",
            "WARNING:tensorflow:Importing a function (__inference_efficientnetb1_layer_call_and_return_conditional_losses_990237) with ops with custom gradients. Will likely fail if a gradient is requested.\n",
            "WARNING:tensorflow:Importing a function (__inference_efficientnetb1_layer_call_and_return_conditional_losses_990237) with ops with custom gradients. Will likely fail if a gradient is requested.\n",
            "WARNING:tensorflow:Importing a function (__inference_efficientnetb1_layer_call_and_return_conditional_losses_990237) with ops with custom gradients. Will likely fail if a gradient is requested.\n",
            "WARNING:tensorflow:Importing a function (__inference_efficientnetb1_layer_call_and_return_conditional_losses_990237) with ops with custom gradients. Will likely fail if a gradient is requested.\n",
            "WARNING:tensorflow:Importing a function (__inference_efficientnetb1_layer_call_and_return_conditional_losses_990237) with ops with custom gradients. Will likely fail if a gradient is requested.\n",
            "WARNING:tensorflow:Importing a function (__inference_efficientnetb1_layer_call_and_return_conditional_losses_990237) with ops with custom gradients. Will likely fail if a gradient is requested.\n",
            "WARNING:tensorflow:Importing a function (__inference_efficientnetb1_layer_call_and_return_conditional_losses_990237) with ops with custom gradients. Will likely fail if a gradient is requested.\n",
            "WARNING:tensorflow:Importing a function (__inference_efficientnetb1_layer_call_and_return_conditional_losses_990237) with ops with custom gradients. Will likely fail if a gradient is requested.\n",
            "WARNING:tensorflow:Importing a function (__inference_efficientnetb1_layer_call_and_return_conditional_losses_990237) with ops with custom gradients. Will likely fail if a gradient is requested.\n",
            "WARNING:tensorflow:Importing a function (__inference_efficientnetb1_layer_call_and_return_conditional_losses_990237) with ops with custom gradients. Will likely fail if a gradient is requested.\n",
            "WARNING:tensorflow:Importing a function (__inference_efficientnetb1_layer_call_and_return_conditional_losses_990237) with ops with custom gradients. Will likely fail if a gradient is requested.\n",
            "WARNING:tensorflow:Importing a function (__inference_efficientnetb1_layer_call_and_return_conditional_losses_990237) with ops with custom gradients. Will likely fail if a gradient is requested.\n",
            "WARNING:tensorflow:Importing a function (__inference_efficientnetb1_layer_call_and_return_conditional_losses_990237) with ops with custom gradients. Will likely fail if a gradient is requested.\n",
            "WARNING:tensorflow:Importing a function (__inference_efficientnetb1_layer_call_and_return_conditional_losses_990237) with ops with custom gradients. Will likely fail if a gradient is requested.\n",
            "WARNING:tensorflow:Importing a function (__inference_efficientnetb1_layer_call_and_return_conditional_losses_990237) with ops with custom gradients. Will likely fail if a gradient is requested.\n",
            "WARNING:tensorflow:Importing a function (__inference_efficientnetb1_layer_call_and_return_conditional_losses_990237) with ops with custom gradients. Will likely fail if a gradient is requested.\n",
            "WARNING:tensorflow:Importing a function (__inference_efficientnetb1_layer_call_and_return_conditional_losses_990237) with ops with custom gradients. Will likely fail if a gradient is requested.\n",
            "WARNING:tensorflow:Importing a function (__inference_efficientnetb1_layer_call_and_return_conditional_losses_990237) with ops with custom gradients. Will likely fail if a gradient is requested.\n",
            "WARNING:tensorflow:Importing a function (__inference_efficientnetb1_layer_call_and_return_conditional_losses_990237) with ops with custom gradients. Will likely fail if a gradient is requested.\n",
            "WARNING:tensorflow:Importing a function (__inference_efficientnetb1_layer_call_and_return_conditional_losses_990237) with ops with custom gradients. Will likely fail if a gradient is requested.\n",
            "WARNING:tensorflow:Importing a function (__inference_efficientnetb1_layer_call_and_return_conditional_losses_990237) with ops with custom gradients. Will likely fail if a gradient is requested.\n",
            "WARNING:tensorflow:Importing a function (__inference_efficientnetb1_layer_call_and_return_conditional_losses_990237) with ops with custom gradients. Will likely fail if a gradient is requested.\n",
            "WARNING:tensorflow:Importing a function (__inference_efficientnetb1_layer_call_and_return_conditional_losses_990237) with ops with custom gradients. Will likely fail if a gradient is requested.\n",
            "WARNING:tensorflow:Importing a function (__inference_efficientnetb1_layer_call_and_return_conditional_losses_990237) with ops with custom gradients. Will likely fail if a gradient is requested.\n",
            "WARNING:tensorflow:Importing a function (__inference_efficientnetb1_layer_call_and_return_conditional_losses_990237) with ops with custom gradients. Will likely fail if a gradient is requested.\n",
            "WARNING:tensorflow:Importing a function (__inference_efficientnetb1_layer_call_and_return_conditional_losses_990237) with ops with custom gradients. Will likely fail if a gradient is requested.\n",
            "WARNING:tensorflow:Importing a function (__inference_efficientnetb1_layer_call_and_return_conditional_losses_990237) with ops with custom gradients. Will likely fail if a gradient is requested.\n",
            "WARNING:tensorflow:Importing a function (__inference_efficientnetb1_layer_call_and_return_conditional_losses_990237) with ops with custom gradients. Will likely fail if a gradient is requested.\n",
            "WARNING:tensorflow:Importing a function (__inference_efficientnetb1_layer_call_and_return_conditional_losses_990237) with ops with custom gradients. Will likely fail if a gradient is requested.\n",
            "WARNING:tensorflow:Importing a function (__inference_efficientnetb1_layer_call_and_return_conditional_losses_990237) with ops with custom gradients. Will likely fail if a gradient is requested.\n",
            "WARNING:tensorflow:Importing a function (__inference_efficientnetb1_layer_call_and_return_conditional_losses_990237) with ops with custom gradients. Will likely fail if a gradient is requested.\n",
            "WARNING:tensorflow:Importing a function (__inference_efficientnetb1_layer_call_and_return_conditional_losses_990237) with ops with custom gradients. Will likely fail if a gradient is requested.\n",
            "WARNING:tensorflow:Importing a function (__inference_efficientnetb1_layer_call_and_return_conditional_losses_990237) with ops with custom gradients. Will likely fail if a gradient is requested.\n",
            "WARNING:tensorflow:Importing a function (__inference_efficientnetb1_layer_call_and_return_conditional_losses_990237) with ops with custom gradients. Will likely fail if a gradient is requested.\n",
            "WARNING:tensorflow:Importing a function (__inference_efficientnetb1_layer_call_and_return_conditional_losses_990237) with ops with custom gradients. Will likely fail if a gradient is requested.\n",
            "WARNING:tensorflow:Importing a function (__inference_efficientnetb1_layer_call_and_return_conditional_losses_990237) with ops with custom gradients. Will likely fail if a gradient is requested.\n",
            "WARNING:tensorflow:Importing a function (__inference_efficientnetb1_layer_call_and_return_conditional_losses_990237) with ops with custom gradients. Will likely fail if a gradient is requested.\n",
            "WARNING:tensorflow:Importing a function (__inference_efficientnetb1_layer_call_and_return_conditional_losses_990237) with ops with custom gradients. Will likely fail if a gradient is requested.\n",
            "WARNING:tensorflow:Importing a function (__inference_efficientnetb1_layer_call_and_return_conditional_losses_990237) with ops with custom gradients. Will likely fail if a gradient is requested.\n",
            "WARNING:tensorflow:Importing a function (__inference_efficientnetb1_layer_call_and_return_conditional_losses_990237) with ops with custom gradients. Will likely fail if a gradient is requested.\n",
            "WARNING:tensorflow:Importing a function (__inference_efficientnetb1_layer_call_and_return_conditional_losses_990237) with ops with custom gradients. Will likely fail if a gradient is requested.\n",
            "WARNING:tensorflow:Importing a function (__inference_efficientnetb1_layer_call_and_return_conditional_losses_990237) with ops with custom gradients. Will likely fail if a gradient is requested.\n",
            "WARNING:tensorflow:Importing a function (__inference_efficientnetb1_layer_call_and_return_conditional_losses_990237) with ops with custom gradients. Will likely fail if a gradient is requested.\n",
            "WARNING:tensorflow:Importing a function (__inference_efficientnetb1_layer_call_and_return_conditional_losses_990237) with ops with custom gradients. Will likely fail if a gradient is requested.\n",
            "WARNING:tensorflow:Importing a function (__inference_efficientnetb1_layer_call_and_return_conditional_losses_990237) with ops with custom gradients. Will likely fail if a gradient is requested.\n",
            "WARNING:tensorflow:Importing a function (__inference_efficientnetb1_layer_call_and_return_conditional_losses_990237) with ops with custom gradients. Will likely fail if a gradient is requested.\n",
            "WARNING:tensorflow:Importing a function (__inference_efficientnetb1_layer_call_and_return_conditional_losses_990237) with ops with custom gradients. Will likely fail if a gradient is requested.\n",
            "WARNING:tensorflow:Importing a function (__inference_efficientnetb1_layer_call_and_return_conditional_losses_990237) with ops with custom gradients. Will likely fail if a gradient is requested.\n",
            "WARNING:tensorflow:Importing a function (__inference_efficientnetb1_layer_call_and_return_conditional_losses_990237) with ops with custom gradients. Will likely fail if a gradient is requested.\n",
            "WARNING:tensorflow:Importing a function (__inference_efficientnetb1_layer_call_and_return_conditional_losses_990237) with ops with custom gradients. Will likely fail if a gradient is requested.\n",
            "WARNING:tensorflow:Importing a function (__inference_efficientnetb1_layer_call_and_return_conditional_losses_990237) with ops with custom gradients. Will likely fail if a gradient is requested.\n",
            "WARNING:tensorflow:Importing a function (__inference_efficientnetb1_layer_call_and_return_conditional_losses_990237) with ops with custom gradients. Will likely fail if a gradient is requested.\n",
            "WARNING:tensorflow:Importing a function (__inference_efficientnetb1_layer_call_and_return_conditional_losses_990237) with ops with custom gradients. Will likely fail if a gradient is requested.\n",
            "WARNING:tensorflow:Importing a function (__inference_efficientnetb1_layer_call_and_return_conditional_losses_990237) with ops with custom gradients. Will likely fail if a gradient is requested.\n",
            "WARNING:tensorflow:Importing a function (__inference_efficientnetb1_layer_call_and_return_conditional_losses_990237) with ops with custom gradients. Will likely fail if a gradient is requested.\n",
            "WARNING:tensorflow:Importing a function (__inference_efficientnetb1_layer_call_and_return_conditional_losses_990237) with ops with custom gradients. Will likely fail if a gradient is requested.\n",
            "WARNING:tensorflow:Importing a function (__inference_efficientnetb1_layer_call_and_return_conditional_losses_990237) with ops with custom gradients. Will likely fail if a gradient is requested.\n",
            "WARNING:tensorflow:Importing a function (__inference_efficientnetb1_layer_call_and_return_conditional_losses_990237) with ops with custom gradients. Will likely fail if a gradient is requested.\n",
            "WARNING:tensorflow:Importing a function (__inference_block6a_expand_activation_layer_call_and_return_conditional_losses_1013493) with ops with custom gradients. Will likely fail if a gradient is requested.\n",
            "WARNING:tensorflow:Importing a function (__inference_block5d_expand_activation_layer_call_and_return_conditional_losses_1012940) with ops with custom gradients. Will likely fail if a gradient is requested.\n",
            "WARNING:tensorflow:Importing a function (__inference_block6e_activation_layer_call_and_return_conditional_losses_1015797) with ops with custom gradients. Will likely fail if a gradient is requested.\n",
            "WARNING:tensorflow:Importing a function (__inference_block7a_activation_layer_call_and_return_conditional_losses_873403) with ops with custom gradients. Will likely fail if a gradient is requested.\n",
            "WARNING:tensorflow:Importing a function (__inference_block6e_se_reduce_layer_call_and_return_conditional_losses_873010) with ops with custom gradients. Will likely fail if a gradient is requested.\n",
            "WARNING:tensorflow:Importing a function (__inference_block5b_expand_activation_layer_call_and_return_conditional_losses_1011834) with ops with custom gradients. Will likely fail if a gradient is requested.\n",
            "WARNING:tensorflow:Importing a function (__inference_block7a_expand_activation_layer_call_and_return_conditional_losses_1016211) with ops with custom gradients. Will likely fail if a gradient is requested.\n",
            "WARNING:tensorflow:Importing a function (__inference_block3b_expand_activation_layer_call_and_return_conditional_losses_866868) with ops with custom gradients. Will likely fail if a gradient is requested.\n",
            "WARNING:tensorflow:Importing a function (__inference_block7b_activation_layer_call_and_return_conditional_losses_873790) with ops with custom gradients. Will likely fail if a gradient is requested.\n",
            "WARNING:tensorflow:Importing a function (__inference_block7b_se_reduce_layer_call_and_return_conditional_losses_1016896) with ops with custom gradients. Will likely fail if a gradient is requested.\n",
            "WARNING:tensorflow:Importing a function (__inference_block2c_se_reduce_layer_call_and_return_conditional_losses_1007177) with ops with custom gradients. Will likely fail if a gradient is requested.\n",
            "WARNING:tensorflow:Importing a function (__inference_block4d_expand_activation_layer_call_and_return_conditional_losses_869016) with ops with custom gradients. Will likely fail if a gradient is requested.\n",
            "WARNING:tensorflow:Importing a function (__inference_block6d_expand_activation_layer_call_and_return_conditional_losses_1015105) with ops with custom gradients. Will likely fail if a gradient is requested.\n",
            "WARNING:tensorflow:Importing a function (__inference_block3a_expand_activation_layer_call_and_return_conditional_losses_866480) with ops with custom gradients. Will likely fail if a gradient is requested.\n",
            "WARNING:tensorflow:Importing a function (__inference_block2a_expand_activation_layer_call_and_return_conditional_losses_865212) with ops with custom gradients. Will likely fail if a gradient is requested.\n",
            "Model: \"functional_1\"\n",
            "__________________________________________________________________________________________________\n",
            "Layer (type)                    Output Shape         Param #     Connected to                     \n",
            "==================================================================================================\n",
            "input_3 (InputLayer)            [(None, 299, 299, 3) 0                                            \n",
            "__________________________________________________________________________________________________\n",
            "efficientnetb1 (Functional)     (None, 10, 10, 1280) 6575239     input_3[0][0]                    \n",
            "__________________________________________________________________________________________________\n",
            "inception_resnet_v2 (Functional (None, 8, 8, 1536)   54336736    input_3[0][0]                    \n",
            "__________________________________________________________________________________________________\n",
            "global_average_pooling2d (Globa (None, 1280)         0           efficientnetb1[0][0]             \n",
            "__________________________________________________________________________________________________\n",
            "global_average_pooling2d_1 (Glo (None, 1536)         0           inception_resnet_v2[0][0]        \n",
            "__________________________________________________________________________________________________\n",
            "concatenate (Concatenate)       (None, 2816)         0           global_average_pooling2d[0][0]   \n",
            "                                                                 global_average_pooling2d_1[0][0] \n",
            "__________________________________________________________________________________________________\n",
            "dropout (Dropout)               (None, 2816)         0           concatenate[0][0]                \n",
            "__________________________________________________________________________________________________\n",
            "dense (Dense)                   (None, 1024)         2884608     dropout[0][0]                    \n",
            "__________________________________________________________________________________________________\n",
            "dropout_1 (Dropout)             (None, 1024)         0           dense[0][0]                      \n",
            "__________________________________________________________________________________________________\n",
            "dense_1 (Dense)                 (None, 512)          524800      dropout_1[0][0]                  \n",
            "__________________________________________________________________________________________________\n",
            "dense_2 (Dense)                 (None, 8)            4104        dense_1[0][0]                    \n",
            "==================================================================================================\n",
            "Total params: 64,325,487\n",
            "Trainable params: 64,202,888\n",
            "Non-trainable params: 122,599\n",
            "__________________________________________________________________________________________________\n"
          ],
          "name": "stdout"
        }
      ]
    },
    {
      "cell_type": "code",
      "metadata": {
        "id": "OZcgQm0mIM28",
        "colab_type": "code",
        "colab": {
          "base_uri": "https://localhost:8080/",
          "height": 370
        },
        "outputId": "e3c42e95-7d43-4f28-ea5b-642e1c71b812"
      },
      "source": [
        "layer_name = \"concatenate\"\n",
        "prediction_layer = model6.get_layer(layer_name).output\n",
        "model2 = tf.keras.models.Model(inputs = model6.input, outputs = prediction_layer)\n",
        "model2.summary()\n"
      ],
      "execution_count": 52,
      "outputs": [
        {
          "output_type": "stream",
          "text": [
            "Model: \"functional_3\"\n",
            "__________________________________________________________________________________________________\n",
            "Layer (type)                    Output Shape         Param #     Connected to                     \n",
            "==================================================================================================\n",
            "input_3 (InputLayer)            [(None, 299, 299, 3) 0                                            \n",
            "__________________________________________________________________________________________________\n",
            "efficientnetb1 (Functional)     (None, 10, 10, 1280) 6575239     input_3[0][0]                    \n",
            "__________________________________________________________________________________________________\n",
            "inception_resnet_v2 (Functional (None, 8, 8, 1536)   54336736    input_3[0][0]                    \n",
            "__________________________________________________________________________________________________\n",
            "global_average_pooling2d (Globa (None, 1280)         0           efficientnetb1[0][0]             \n",
            "__________________________________________________________________________________________________\n",
            "global_average_pooling2d_1 (Glo (None, 1536)         0           inception_resnet_v2[0][0]        \n",
            "__________________________________________________________________________________________________\n",
            "concatenate (Concatenate)       (None, 2816)         0           global_average_pooling2d[0][0]   \n",
            "                                                                 global_average_pooling2d_1[0][0] \n",
            "==================================================================================================\n",
            "Total params: 60,911,975\n",
            "Trainable params: 60,789,376\n",
            "Non-trainable params: 122,599\n",
            "__________________________________________________________________________________________________\n"
          ],
          "name": "stdout"
        }
      ]
    },
    {
      "cell_type": "code",
      "metadata": {
        "id": "VCEbA9sbIMur",
        "colab_type": "code",
        "colab": {
          "base_uri": "https://localhost:8080/",
          "height": 50
        },
        "outputId": "f978a815-594b-476c-b843-d9ad4c748050"
      },
      "source": [
        "train_generator2 = data_gen_train.flow_from_directory(train_dir, target_size=(299,299), batch_size=32, class_mode=\"categorical\", shuffle=False)\n",
        "valid_generator2 = data_gen_valid.flow_from_directory(valid_dir, target_size=(299,299), batch_size=32, class_mode=\"categorical\", shuffle=False)"
      ],
      "execution_count": 53,
      "outputs": [
        {
          "output_type": "stream",
          "text": [
            "Found 22028 images belonging to 8 classes.\n",
            "Found 4118 images belonging to 8 classes.\n"
          ],
          "name": "stdout"
        }
      ]
    },
    {
      "cell_type": "code",
      "metadata": {
        "id": "exigSsuMJUGx",
        "colab_type": "code",
        "colab": {
          "base_uri": "https://localhost:8080/",
          "height": 34
        },
        "outputId": "6d30cc68-6623-4beb-aa52-c17a790a171a"
      },
      "source": [
        "%%time\n",
        "features = model6.predict(train_generator2)\n",
        "X_train = features.squeeze()\n",
        "y_train = train_generator2.labels\n",
        "len(y_train)-len(X_train)"
      ],
      "execution_count": 54,
      "outputs": [
        {
          "output_type": "execute_result",
          "data": {
            "text/plain": [
              "0"
            ]
          },
          "metadata": {
            "tags": []
          },
          "execution_count": 54
        }
      ]
    },
    {
      "cell_type": "code",
      "metadata": {
        "id": "qVsH6DowJUJr",
        "colab_type": "code",
        "colab": {
          "base_uri": "https://localhost:8080/",
          "height": 151
        },
        "outputId": "31880ced-8c87-40a6-f26a-94aa22d83847"
      },
      "source": [
        "%%time\n",
        "model_xgb2 = xgb.XGBClassifier(max_depth=15, learning_rate=0.1, n_estimators=200, \\\n",
        "                              objective='multi:softmax', nthread=-1, \\\n",
        "                              subsample=0.7, colsample_bytree=0.7, seed=142, missing=None, tree_method='gpu_hist', verbosity=2, predictor='gpu_predictor')\n",
        "model_xgb2.fit(X_train, y_train)"
      ],
      "execution_count": 55,
      "outputs": [
        {
          "output_type": "execute_result",
          "data": {
            "text/plain": [
              "XGBClassifier(base_score=0.5, booster='gbtree', colsample_bylevel=1,\n",
              "              colsample_bynode=1, colsample_bytree=0.7, gamma=0,\n",
              "              learning_rate=0.1, max_delta_step=0, max_depth=15,\n",
              "              min_child_weight=1, missing=None, n_estimators=200, n_jobs=1,\n",
              "              nthread=-1, objective='multi:softprob', predictor='gpu_predictor',\n",
              "              random_state=0, reg_alpha=0, reg_lambda=1, scale_pos_weight=1,\n",
              "              seed=142, silent=None, subsample=0.7, tree_method='gpu_hist',\n",
              "              verbosity=2)"
            ]
          },
          "metadata": {
            "tags": []
          },
          "execution_count": 55
        }
      ]
    },
    {
      "cell_type": "code",
      "metadata": {
        "id": "UXjNIdsvJUNj",
        "colab_type": "code",
        "colab": {
          "base_uri": "https://localhost:8080/",
          "height": 50
        },
        "outputId": "16c5609b-3ecc-49f3-8414-28a60ae40b60"
      },
      "source": [
        "%%time\n",
        "features_test = model6.predict(valid_generator2)\n",
        "X_test = features_test.squeeze()\n",
        "y_test= valid_generator2.labels\n",
        "len(X_test)-len(y_test)"
      ],
      "execution_count": 58,
      "outputs": [
        {
          "output_type": "stream",
          "text": [
            "CPU times: user 1min 12s, sys: 7.6 s, total: 1min 19s\n",
            "Wall time: 1min 6s\n"
          ],
          "name": "stdout"
        }
      ]
    },
    {
      "cell_type": "code",
      "metadata": {
        "id": "xbN-_YElJUDZ",
        "colab_type": "code",
        "colab": {
          "base_uri": "https://localhost:8080/",
          "height": 34
        },
        "outputId": "b5bf7b73-322a-437e-e5fa-433e26a3d362"
      },
      "source": [
        "from sklearn.metrics import accuracy_score\n",
        "y_pred = model_xgb2.predict(X_test)\n",
        "predictions = [round(value) for value in y_pred]\n",
        "# evaluate predictions\n",
        "accuracy = accuracy_score(y_test, predictions)\n",
        "accuracy"
      ],
      "execution_count": 59,
      "outputs": [
        {
          "output_type": "execute_result",
          "data": {
            "text/plain": [
              "0.8081593006313744"
            ]
          },
          "metadata": {
            "tags": []
          },
          "execution_count": 59
        }
      ]
    },
    {
      "cell_type": "code",
      "metadata": {
        "id": "BGK5SX7MNM3w",
        "colab_type": "code",
        "colab": {}
      },
      "source": [
        "import pickle\n",
        "file_name = os.path.join(derm_ai_path, 'model_xgb2.pkl')\n",
        "\n",
        "# save\n",
        "pickle.dump(model_xgb2, open(file_name, \"wb\"))"
      ],
      "execution_count": 61,
      "outputs": []
    },
    {
      "cell_type": "code",
      "metadata": {
        "id": "dKv0XPciNrdJ",
        "colab_type": "code",
        "colab": {
          "base_uri": "https://localhost:8080/",
          "height": 104
        },
        "outputId": "39ce45d7-efa0-43e3-8163-d8ec15e67da7"
      },
      "source": [
        "# load\n",
        "xgb_model_loaded = pickle.load(open(file_name, \"rb\"))"
      ],
      "execution_count": 62,
      "outputs": [
        {
          "output_type": "stream",
          "text": [
            "[02:33:56] INFO: /workspace/src/learner.cc:370: Parameter 'predictor' has been recovered from the saved model. It will be set to 'gpu_predictor' for prediction. To override the predictor behavior, explicitly set 'predictor' parameter as follows:\n",
            "  * Python package: bst.set_param('predictor', [new value])\n",
            "  * R package:      xgb.parameters(bst) <- list(predictor = [new value])\n",
            "  * JVM packages:   bst.setParam(\"predictor\", [new value])\n"
          ],
          "name": "stdout"
        }
      ]
    },
    {
      "cell_type": "code",
      "metadata": {
        "id": "i3XV61d_Ny8H",
        "colab_type": "code",
        "colab": {
          "base_uri": "https://localhost:8080/",
          "height": 34
        },
        "outputId": "2b3793d6-eed3-4b91-e2de-bff26f92b1e9"
      },
      "source": [
        "from sklearn.metrics import accuracy_score\n",
        "y_pred = xgb_model_loaded.predict(X_test)\n",
        "predictions = [round(value) for value in y_pred]\n",
        "# evaluate predictions\n",
        "accuracy = accuracy_score(y_test, predictions)\n",
        "accuracy"
      ],
      "execution_count": 63,
      "outputs": [
        {
          "output_type": "execute_result",
          "data": {
            "text/plain": [
              "0.8081593006313744"
            ]
          },
          "metadata": {
            "tags": []
          },
          "execution_count": 63
        }
      ]
    },
    {
      "cell_type": "markdown",
      "metadata": {
        "id": "lZTcqkBipEEM",
        "colab_type": "text"
      },
      "source": [
        "### Definindo o cabeçalho personalizado da rede neural"
      ]
    },
    {
      "cell_type": "code",
      "metadata": {
        "id": "1VKOimOH4HCX",
        "colab_type": "code",
        "colab": {
          "base_uri": "https://localhost:8080/",
          "height": 357
        },
        "outputId": "865a5ee3-ae35-4844-f1b5-d824009593fc"
      },
      "source": [
        "#!pip install -q tensorflow-hub\n",
        "#!pip install -q tensorflow-datasets\n",
        "\n",
        "\"\"\"feature_extractor_url = \"https://tfhub.dev/google/imagenet/pnasnet_large/feature_vector/4\"\n",
        "\n",
        "#feature_extractor_url = \"https://tfhub.dev/google/imagenet/inception_resnet_v2/feature_vector/4\"\n",
        "#feature_extractor_url = \"https://tfhub.dev/google/imagenet/resnet_v2_152/feature_vector/4\"\n",
        "feature_extractor_layer = hub.KerasLayer(feature_extractor_url, input_shape=(331,331,3))\n",
        "feature_extractor_layer.trainable = False #@param {type:\"boolean\"}\n",
        "model = tf.keras.Sequential([\n",
        "  feature_extractor_layer,\n",
        "  tf.keras.layers.Dropout(0.2),\n",
        "  tf.keras.layers.Dense(1024, activation=\"relu\"),\n",
        "  tf.keras.layers.Dropout(0.2),\n",
        " tf.keras.layers.Dense(512, activation=\"relu\"),\n",
        " tf.keras.layers.Dense(units = 8, activation = \"softmax\")\n",
        "])\n",
        "\n",
        "model.summary()\"\"\""
      ],
      "execution_count": null,
      "outputs": [
        {
          "output_type": "stream",
          "text": [
            "Model: \"sequential_4\"\n",
            "_________________________________________________________________\n",
            "Layer (type)                 Output Shape              Param #   \n",
            "=================================================================\n",
            "keras_layer_8 (KerasLayer)   (None, 4320)              81913656  \n",
            "_________________________________________________________________\n",
            "dropout_8 (Dropout)          (None, 4320)              0         \n",
            "_________________________________________________________________\n",
            "dense_12 (Dense)             (None, 1024)              4424704   \n",
            "_________________________________________________________________\n",
            "dropout_9 (Dropout)          (None, 1024)              0         \n",
            "_________________________________________________________________\n",
            "dense_13 (Dense)             (None, 512)               524800    \n",
            "_________________________________________________________________\n",
            "dense_14 (Dense)             (None, 8)                 4104      \n",
            "=================================================================\n",
            "Total params: 86,867,264\n",
            "Trainable params: 4,953,608\n",
            "Non-trainable params: 81,913,656\n",
            "_________________________________________________________________\n"
          ],
          "name": "stdout"
        }
      ]
    },
    {
      "cell_type": "code",
      "metadata": {
        "id": "_I7kwTMSJRpE",
        "colab_type": "code",
        "colab": {}
      },
      "source": [
        ""
      ],
      "execution_count": null,
      "outputs": []
    },
    {
      "cell_type": "code",
      "metadata": {
        "id": "s1xEze36JRfj",
        "colab_type": "code",
        "colab": {}
      },
      "source": [
        ""
      ],
      "execution_count": null,
      "outputs": []
    },
    {
      "cell_type": "code",
      "metadata": {
        "id": "4VmlGQYE6kjV",
        "colab_type": "code",
        "colab": {}
      },
      "source": [
        "model.compile(\n",
        "  optimizer=tf.keras.optimizers.Adam(),\n",
        "  loss=tf.keras.losses.CategoricalCrossentropy(from_logits=True),\n",
        "  metrics=[tf.keras.metrics.CategoricalAccuracy()])"
      ],
      "execution_count": null,
      "outputs": []
    },
    {
      "cell_type": "code",
      "metadata": {
        "id": "5MgOyNcX6Vsl",
        "colab_type": "code",
        "colab": {}
      },
      "source": [
        "class CollectBatchStats(tf.keras.callbacks.Callback):\n",
        "  def __init__(self):\n",
        "    self.batch_losses = []\n",
        "    self.batch_acc = []\n",
        "\n",
        "  def on_train_batch_end(self, batch, logs=None):\n",
        "    self.batch_losses.append(logs['loss'])\n",
        "    self.batch_acc.append(logs['categorical_accuracy'])\n",
        "    self.model.reset_metrics()"
      ],
      "execution_count": null,
      "outputs": []
    },
    {
      "cell_type": "code",
      "metadata": {
        "id": "tjjmu5qEEjgQ",
        "colab_type": "code",
        "colab": {
          "base_uri": "https://localhost:8080/",
          "height": 85
        },
        "outputId": "f4cfb4f8-9daa-4ef5-c0eb-a40b9ae8d864"
      },
      "source": [
        "batch_stats_callback = CollectBatchStats()\n",
        "\n",
        "history = model.fit(train_generator, epochs=2,\n",
        "                    steps_per_epoch=steps_per_epoch)"
      ],
      "execution_count": null,
      "outputs": [
        {
          "output_type": "stream",
          "text": [
            "Epoch 1/2\n",
            "689/689 [==============================] - 697s 1s/step - loss: 1.7576 - categorical_accuracy: 0.5162\n",
            "Epoch 2/2\n",
            "689/689 [==============================] - 706s 1s/step - loss: 1.7568 - categorical_accuracy: 0.5172\n"
          ],
          "name": "stdout"
        }
      ]
    },
    {
      "cell_type": "code",
      "metadata": {
        "id": "4_OVkeNzFsMF",
        "colab_type": "code",
        "colab": {
          "base_uri": "https://localhost:8080/",
          "height": 51
        },
        "outputId": "04455af6-8bbf-4680-d59c-3083659bf0bc"
      },
      "source": [
        "loss, accuracy = model.evaluate(valid_generator)\n",
        "print('Test accuracy :', accuracy)"
      ],
      "execution_count": null,
      "outputs": [
        {
          "output_type": "stream",
          "text": [
            "129/129 [==============================] - 63s 490ms/step - loss: 2.0103 - categorical_accuracy: 0.2637\n",
            "Test accuracy : 0.26372024416923523\n"
          ],
          "name": "stdout"
        }
      ]
    },
    {
      "cell_type": "code",
      "metadata": {
        "id": "x7QYOu0X-MIR",
        "colab_type": "code",
        "colab": {
          "base_uri": "https://localhost:8080/",
          "height": 231
        },
        "outputId": "ac606fcc-3d43-4869-936f-43dd52fd9154"
      },
      "source": [
        "acc = history.history['categorical_accuracy']\n",
        "val_acc = history.history['val_categorical_accuracy']\n",
        "\n",
        "loss = history.history['loss']\n",
        "val_loss = history.history['val_loss']\n",
        "\n",
        "plt.figure(figsize=(8, 8))\n",
        "plt.subplot(2, 1, 1)\n",
        "plt.plot(acc, label='Training Accuracy')\n",
        "plt.plot(val_acc, label='Validation Accuracy')\n",
        "plt.legend(loc='lower right')\n",
        "plt.ylabel('Accuracy')\n",
        "plt.ylim([min(plt.ylim()),1])\n",
        "plt.title('Training and Validation Accuracy')\n",
        "\n",
        "plt.subplot(2, 1, 2)\n",
        "plt.plot(loss, label='Training Loss')\n",
        "plt.plot(val_loss, label='Validation Loss')\n",
        "plt.legend(loc='upper right')\n",
        "plt.ylabel('Cross Entropy')\n",
        "plt.ylim([0,1.0])\n",
        "plt.title('Training and Validation Loss')\n",
        "plt.xlabel('epoch')\n",
        "plt.show()"
      ],
      "execution_count": null,
      "outputs": [
        {
          "output_type": "error",
          "ename": "KeyError",
          "evalue": "ignored",
          "traceback": [
            "\u001b[0;31m---------------------------------------------------------------------------\u001b[0m",
            "\u001b[0;31mKeyError\u001b[0m                                  Traceback (most recent call last)",
            "\u001b[0;32m<ipython-input-63-00a020cecfed>\u001b[0m in \u001b[0;36m<module>\u001b[0;34m()\u001b[0m\n\u001b[0;32m----> 1\u001b[0;31m \u001b[0macc\u001b[0m \u001b[0;34m=\u001b[0m \u001b[0mhistory\u001b[0m\u001b[0;34m.\u001b[0m\u001b[0mhistory\u001b[0m\u001b[0;34m[\u001b[0m\u001b[0;34m'accuracy'\u001b[0m\u001b[0;34m]\u001b[0m\u001b[0;34m\u001b[0m\u001b[0;34m\u001b[0m\u001b[0m\n\u001b[0m\u001b[1;32m      2\u001b[0m \u001b[0mval_acc\u001b[0m \u001b[0;34m=\u001b[0m \u001b[0mhistory\u001b[0m\u001b[0;34m.\u001b[0m\u001b[0mhistory\u001b[0m\u001b[0;34m[\u001b[0m\u001b[0;34m'val_accuracy'\u001b[0m\u001b[0;34m]\u001b[0m\u001b[0;34m\u001b[0m\u001b[0;34m\u001b[0m\u001b[0m\n\u001b[1;32m      3\u001b[0m \u001b[0;34m\u001b[0m\u001b[0m\n\u001b[1;32m      4\u001b[0m \u001b[0mloss\u001b[0m \u001b[0;34m=\u001b[0m \u001b[0mhistory\u001b[0m\u001b[0;34m.\u001b[0m\u001b[0mhistory\u001b[0m\u001b[0;34m[\u001b[0m\u001b[0;34m'loss'\u001b[0m\u001b[0;34m]\u001b[0m\u001b[0;34m\u001b[0m\u001b[0;34m\u001b[0m\u001b[0m\n\u001b[1;32m      5\u001b[0m \u001b[0mval_loss\u001b[0m \u001b[0;34m=\u001b[0m \u001b[0mhistory\u001b[0m\u001b[0;34m.\u001b[0m\u001b[0mhistory\u001b[0m\u001b[0;34m[\u001b[0m\u001b[0;34m'val_loss'\u001b[0m\u001b[0;34m]\u001b[0m\u001b[0;34m\u001b[0m\u001b[0;34m\u001b[0m\u001b[0m\n",
            "\u001b[0;31mKeyError\u001b[0m: 'accuracy'"
          ]
        }
      ]
    },
    {
      "cell_type": "code",
      "metadata": {
        "id": "Za0VhZHx-dmI",
        "colab_type": "code",
        "colab": {
          "base_uri": "https://localhost:8080/",
          "height": 357
        },
        "outputId": "2f0573f6-d9be-4766-816b-a7cd322abdeb"
      },
      "source": [
        "feature_extractor_layer.trainable = True #@param {type:\"boolean\"}\n",
        "model.compile(\n",
        "  optimizer=tf.keras.optimizers.Adam(),\n",
        "  loss=tf.keras.losses.CategoricalCrossentropy(from_logits=True),\n",
        "  metrics=[tf.keras.metrics.CategoricalAccuracy()])\n",
        "model.summary()"
      ],
      "execution_count": null,
      "outputs": [
        {
          "output_type": "stream",
          "text": [
            "Model: \"sequential_1\"\n",
            "_________________________________________________________________\n",
            "Layer (type)                 Output Shape              Param #   \n",
            "=================================================================\n",
            "keras_layer_5 (KerasLayer)   (None, 2048)              58331648  \n",
            "_________________________________________________________________\n",
            "dropout_2 (Dropout)          (None, 2048)              0         \n",
            "_________________________________________________________________\n",
            "dense_3 (Dense)              (None, 1024)              2098176   \n",
            "_________________________________________________________________\n",
            "dropout_3 (Dropout)          (None, 1024)              0         \n",
            "_________________________________________________________________\n",
            "dense_4 (Dense)              (None, 512)               524800    \n",
            "_________________________________________________________________\n",
            "dense_5 (Dense)              (None, 8)                 4104      \n",
            "=================================================================\n",
            "Total params: 60,958,728\n",
            "Trainable params: 60,814,984\n",
            "Non-trainable params: 143,744\n",
            "_________________________________________________________________\n"
          ],
          "name": "stdout"
        }
      ]
    },
    {
      "cell_type": "code",
      "metadata": {
        "id": "tX0P8YTf-T05",
        "colab_type": "code",
        "colab": {
          "base_uri": "https://localhost:8080/",
          "height": 374
        },
        "outputId": "d0e68250-e591-4d5b-f8d8-2504c9e8f395"
      },
      "source": [
        "early_stopping = tf.keras.callbacks.EarlyStopping(\n",
        "    monitor='categorical_accuracy', \n",
        "    verbose=1,\n",
        "    patience=5,\n",
        "    mode='max',\n",
        "    restore_best_weights=True)\n",
        "\n",
        "history_fine = model.fit(train_generator, epochs=20,\n",
        "                    steps_per_epoch=steps_per_epoch, callbacks=[early_stopping])"
      ],
      "execution_count": null,
      "outputs": [
        {
          "output_type": "stream",
          "text": [
            "Epoch 1/20\n",
            " 16/689 [..............................] - ETA: 8:06 - loss: 1.7527 - categorical_accuracy: 0.5234"
          ],
          "name": "stdout"
        },
        {
          "output_type": "error",
          "ename": "KeyboardInterrupt",
          "evalue": "ignored",
          "traceback": [
            "\u001b[0;31m---------------------------------------------------------------------------\u001b[0m",
            "\u001b[0;31mKeyboardInterrupt\u001b[0m                         Traceback (most recent call last)",
            "\u001b[0;32m<ipython-input-53-9d24e0a8c250>\u001b[0m in \u001b[0;36m<module>\u001b[0;34m()\u001b[0m\n\u001b[1;32m      7\u001b[0m \u001b[0;34m\u001b[0m\u001b[0m\n\u001b[1;32m      8\u001b[0m history_fine = model.fit(train_generator, epochs=20,\n\u001b[0;32m----> 9\u001b[0;31m                     steps_per_epoch=steps_per_epoch, callbacks=[early_stopping])\n\u001b[0m",
            "\u001b[0;32m/usr/local/lib/python3.6/dist-packages/tensorflow/python/keras/engine/training.py\u001b[0m in \u001b[0;36m_method_wrapper\u001b[0;34m(self, *args, **kwargs)\u001b[0m\n\u001b[1;32m    106\u001b[0m   \u001b[0;32mdef\u001b[0m \u001b[0m_method_wrapper\u001b[0m\u001b[0;34m(\u001b[0m\u001b[0mself\u001b[0m\u001b[0;34m,\u001b[0m \u001b[0;34m*\u001b[0m\u001b[0margs\u001b[0m\u001b[0;34m,\u001b[0m \u001b[0;34m**\u001b[0m\u001b[0mkwargs\u001b[0m\u001b[0;34m)\u001b[0m\u001b[0;34m:\u001b[0m\u001b[0;34m\u001b[0m\u001b[0;34m\u001b[0m\u001b[0m\n\u001b[1;32m    107\u001b[0m     \u001b[0;32mif\u001b[0m \u001b[0;32mnot\u001b[0m \u001b[0mself\u001b[0m\u001b[0;34m.\u001b[0m\u001b[0m_in_multi_worker_mode\u001b[0m\u001b[0;34m(\u001b[0m\u001b[0;34m)\u001b[0m\u001b[0;34m:\u001b[0m  \u001b[0;31m# pylint: disable=protected-access\u001b[0m\u001b[0;34m\u001b[0m\u001b[0;34m\u001b[0m\u001b[0m\n\u001b[0;32m--> 108\u001b[0;31m       \u001b[0;32mreturn\u001b[0m \u001b[0mmethod\u001b[0m\u001b[0;34m(\u001b[0m\u001b[0mself\u001b[0m\u001b[0;34m,\u001b[0m \u001b[0;34m*\u001b[0m\u001b[0margs\u001b[0m\u001b[0;34m,\u001b[0m \u001b[0;34m**\u001b[0m\u001b[0mkwargs\u001b[0m\u001b[0;34m)\u001b[0m\u001b[0;34m\u001b[0m\u001b[0;34m\u001b[0m\u001b[0m\n\u001b[0m\u001b[1;32m    109\u001b[0m \u001b[0;34m\u001b[0m\u001b[0m\n\u001b[1;32m    110\u001b[0m     \u001b[0;31m# Running inside `run_distribute_coordinator` already.\u001b[0m\u001b[0;34m\u001b[0m\u001b[0;34m\u001b[0m\u001b[0;34m\u001b[0m\u001b[0m\n",
            "\u001b[0;32m/usr/local/lib/python3.6/dist-packages/tensorflow/python/keras/engine/training.py\u001b[0m in \u001b[0;36mfit\u001b[0;34m(self, x, y, batch_size, epochs, verbose, callbacks, validation_split, validation_data, shuffle, class_weight, sample_weight, initial_epoch, steps_per_epoch, validation_steps, validation_batch_size, validation_freq, max_queue_size, workers, use_multiprocessing)\u001b[0m\n\u001b[1;32m   1096\u001b[0m                 batch_size=batch_size):\n\u001b[1;32m   1097\u001b[0m               \u001b[0mcallbacks\u001b[0m\u001b[0;34m.\u001b[0m\u001b[0mon_train_batch_begin\u001b[0m\u001b[0;34m(\u001b[0m\u001b[0mstep\u001b[0m\u001b[0;34m)\u001b[0m\u001b[0;34m\u001b[0m\u001b[0;34m\u001b[0m\u001b[0m\n\u001b[0;32m-> 1098\u001b[0;31m               \u001b[0mtmp_logs\u001b[0m \u001b[0;34m=\u001b[0m \u001b[0mtrain_function\u001b[0m\u001b[0;34m(\u001b[0m\u001b[0miterator\u001b[0m\u001b[0;34m)\u001b[0m\u001b[0;34m\u001b[0m\u001b[0;34m\u001b[0m\u001b[0m\n\u001b[0m\u001b[1;32m   1099\u001b[0m               \u001b[0;32mif\u001b[0m \u001b[0mdata_handler\u001b[0m\u001b[0;34m.\u001b[0m\u001b[0mshould_sync\u001b[0m\u001b[0;34m:\u001b[0m\u001b[0;34m\u001b[0m\u001b[0;34m\u001b[0m\u001b[0m\n\u001b[1;32m   1100\u001b[0m                 \u001b[0mcontext\u001b[0m\u001b[0;34m.\u001b[0m\u001b[0masync_wait\u001b[0m\u001b[0;34m(\u001b[0m\u001b[0;34m)\u001b[0m\u001b[0;34m\u001b[0m\u001b[0;34m\u001b[0m\u001b[0m\n",
            "\u001b[0;32m/usr/local/lib/python3.6/dist-packages/tensorflow/python/eager/def_function.py\u001b[0m in \u001b[0;36m__call__\u001b[0;34m(self, *args, **kwds)\u001b[0m\n\u001b[1;32m    778\u001b[0m       \u001b[0;32melse\u001b[0m\u001b[0;34m:\u001b[0m\u001b[0;34m\u001b[0m\u001b[0;34m\u001b[0m\u001b[0m\n\u001b[1;32m    779\u001b[0m         \u001b[0mcompiler\u001b[0m \u001b[0;34m=\u001b[0m \u001b[0;34m\"nonXla\"\u001b[0m\u001b[0;34m\u001b[0m\u001b[0;34m\u001b[0m\u001b[0m\n\u001b[0;32m--> 780\u001b[0;31m         \u001b[0mresult\u001b[0m \u001b[0;34m=\u001b[0m \u001b[0mself\u001b[0m\u001b[0;34m.\u001b[0m\u001b[0m_call\u001b[0m\u001b[0;34m(\u001b[0m\u001b[0;34m*\u001b[0m\u001b[0margs\u001b[0m\u001b[0;34m,\u001b[0m \u001b[0;34m**\u001b[0m\u001b[0mkwds\u001b[0m\u001b[0;34m)\u001b[0m\u001b[0;34m\u001b[0m\u001b[0;34m\u001b[0m\u001b[0m\n\u001b[0m\u001b[1;32m    781\u001b[0m \u001b[0;34m\u001b[0m\u001b[0m\n\u001b[1;32m    782\u001b[0m       \u001b[0mnew_tracing_count\u001b[0m \u001b[0;34m=\u001b[0m \u001b[0mself\u001b[0m\u001b[0;34m.\u001b[0m\u001b[0m_get_tracing_count\u001b[0m\u001b[0;34m(\u001b[0m\u001b[0;34m)\u001b[0m\u001b[0;34m\u001b[0m\u001b[0;34m\u001b[0m\u001b[0m\n",
            "\u001b[0;32m/usr/local/lib/python3.6/dist-packages/tensorflow/python/eager/def_function.py\u001b[0m in \u001b[0;36m_call\u001b[0;34m(self, *args, **kwds)\u001b[0m\n\u001b[1;32m    805\u001b[0m       \u001b[0;31m# In this case we have created variables on the first call, so we run the\u001b[0m\u001b[0;34m\u001b[0m\u001b[0;34m\u001b[0m\u001b[0;34m\u001b[0m\u001b[0m\n\u001b[1;32m    806\u001b[0m       \u001b[0;31m# defunned version which is guaranteed to never create variables.\u001b[0m\u001b[0;34m\u001b[0m\u001b[0;34m\u001b[0m\u001b[0;34m\u001b[0m\u001b[0m\n\u001b[0;32m--> 807\u001b[0;31m       \u001b[0;32mreturn\u001b[0m \u001b[0mself\u001b[0m\u001b[0;34m.\u001b[0m\u001b[0m_stateless_fn\u001b[0m\u001b[0;34m(\u001b[0m\u001b[0;34m*\u001b[0m\u001b[0margs\u001b[0m\u001b[0;34m,\u001b[0m \u001b[0;34m**\u001b[0m\u001b[0mkwds\u001b[0m\u001b[0;34m)\u001b[0m  \u001b[0;31m# pylint: disable=not-callable\u001b[0m\u001b[0;34m\u001b[0m\u001b[0;34m\u001b[0m\u001b[0m\n\u001b[0m\u001b[1;32m    808\u001b[0m     \u001b[0;32melif\u001b[0m \u001b[0mself\u001b[0m\u001b[0;34m.\u001b[0m\u001b[0m_stateful_fn\u001b[0m \u001b[0;32mis\u001b[0m \u001b[0;32mnot\u001b[0m \u001b[0;32mNone\u001b[0m\u001b[0;34m:\u001b[0m\u001b[0;34m\u001b[0m\u001b[0;34m\u001b[0m\u001b[0m\n\u001b[1;32m    809\u001b[0m       \u001b[0;31m# Release the lock early so that multiple threads can perform the call\u001b[0m\u001b[0;34m\u001b[0m\u001b[0;34m\u001b[0m\u001b[0;34m\u001b[0m\u001b[0m\n",
            "\u001b[0;32m/usr/local/lib/python3.6/dist-packages/tensorflow/python/eager/function.py\u001b[0m in \u001b[0;36m__call__\u001b[0;34m(self, *args, **kwargs)\u001b[0m\n\u001b[1;32m   2827\u001b[0m     \u001b[0;32mwith\u001b[0m \u001b[0mself\u001b[0m\u001b[0;34m.\u001b[0m\u001b[0m_lock\u001b[0m\u001b[0;34m:\u001b[0m\u001b[0;34m\u001b[0m\u001b[0;34m\u001b[0m\u001b[0m\n\u001b[1;32m   2828\u001b[0m       \u001b[0mgraph_function\u001b[0m\u001b[0;34m,\u001b[0m \u001b[0margs\u001b[0m\u001b[0;34m,\u001b[0m \u001b[0mkwargs\u001b[0m \u001b[0;34m=\u001b[0m \u001b[0mself\u001b[0m\u001b[0;34m.\u001b[0m\u001b[0m_maybe_define_function\u001b[0m\u001b[0;34m(\u001b[0m\u001b[0margs\u001b[0m\u001b[0;34m,\u001b[0m \u001b[0mkwargs\u001b[0m\u001b[0;34m)\u001b[0m\u001b[0;34m\u001b[0m\u001b[0;34m\u001b[0m\u001b[0m\n\u001b[0;32m-> 2829\u001b[0;31m     \u001b[0;32mreturn\u001b[0m \u001b[0mgraph_function\u001b[0m\u001b[0;34m.\u001b[0m\u001b[0m_filtered_call\u001b[0m\u001b[0;34m(\u001b[0m\u001b[0margs\u001b[0m\u001b[0;34m,\u001b[0m \u001b[0mkwargs\u001b[0m\u001b[0;34m)\u001b[0m  \u001b[0;31m# pylint: disable=protected-access\u001b[0m\u001b[0;34m\u001b[0m\u001b[0;34m\u001b[0m\u001b[0m\n\u001b[0m\u001b[1;32m   2830\u001b[0m \u001b[0;34m\u001b[0m\u001b[0m\n\u001b[1;32m   2831\u001b[0m   \u001b[0;34m@\u001b[0m\u001b[0mproperty\u001b[0m\u001b[0;34m\u001b[0m\u001b[0;34m\u001b[0m\u001b[0m\n",
            "\u001b[0;32m/usr/local/lib/python3.6/dist-packages/tensorflow/python/eager/function.py\u001b[0m in \u001b[0;36m_filtered_call\u001b[0;34m(self, args, kwargs, cancellation_manager)\u001b[0m\n\u001b[1;32m   1846\u001b[0m                            resource_variable_ops.BaseResourceVariable))],\n\u001b[1;32m   1847\u001b[0m         \u001b[0mcaptured_inputs\u001b[0m\u001b[0;34m=\u001b[0m\u001b[0mself\u001b[0m\u001b[0;34m.\u001b[0m\u001b[0mcaptured_inputs\u001b[0m\u001b[0;34m,\u001b[0m\u001b[0;34m\u001b[0m\u001b[0;34m\u001b[0m\u001b[0m\n\u001b[0;32m-> 1848\u001b[0;31m         cancellation_manager=cancellation_manager)\n\u001b[0m\u001b[1;32m   1849\u001b[0m \u001b[0;34m\u001b[0m\u001b[0m\n\u001b[1;32m   1850\u001b[0m   \u001b[0;32mdef\u001b[0m \u001b[0m_call_flat\u001b[0m\u001b[0;34m(\u001b[0m\u001b[0mself\u001b[0m\u001b[0;34m,\u001b[0m \u001b[0margs\u001b[0m\u001b[0;34m,\u001b[0m \u001b[0mcaptured_inputs\u001b[0m\u001b[0;34m,\u001b[0m \u001b[0mcancellation_manager\u001b[0m\u001b[0;34m=\u001b[0m\u001b[0;32mNone\u001b[0m\u001b[0;34m)\u001b[0m\u001b[0;34m:\u001b[0m\u001b[0;34m\u001b[0m\u001b[0;34m\u001b[0m\u001b[0m\n",
            "\u001b[0;32m/usr/local/lib/python3.6/dist-packages/tensorflow/python/eager/function.py\u001b[0m in \u001b[0;36m_call_flat\u001b[0;34m(self, args, captured_inputs, cancellation_manager)\u001b[0m\n\u001b[1;32m   1922\u001b[0m       \u001b[0;31m# No tape is watching; skip to running the function.\u001b[0m\u001b[0;34m\u001b[0m\u001b[0;34m\u001b[0m\u001b[0;34m\u001b[0m\u001b[0m\n\u001b[1;32m   1923\u001b[0m       return self._build_call_outputs(self._inference_function.call(\n\u001b[0;32m-> 1924\u001b[0;31m           ctx, args, cancellation_manager=cancellation_manager))\n\u001b[0m\u001b[1;32m   1925\u001b[0m     forward_backward = self._select_forward_and_backward_functions(\n\u001b[1;32m   1926\u001b[0m         \u001b[0margs\u001b[0m\u001b[0;34m,\u001b[0m\u001b[0;34m\u001b[0m\u001b[0;34m\u001b[0m\u001b[0m\n",
            "\u001b[0;32m/usr/local/lib/python3.6/dist-packages/tensorflow/python/eager/function.py\u001b[0m in \u001b[0;36mcall\u001b[0;34m(self, ctx, args, cancellation_manager)\u001b[0m\n\u001b[1;32m    548\u001b[0m               \u001b[0minputs\u001b[0m\u001b[0;34m=\u001b[0m\u001b[0margs\u001b[0m\u001b[0;34m,\u001b[0m\u001b[0;34m\u001b[0m\u001b[0;34m\u001b[0m\u001b[0m\n\u001b[1;32m    549\u001b[0m               \u001b[0mattrs\u001b[0m\u001b[0;34m=\u001b[0m\u001b[0mattrs\u001b[0m\u001b[0;34m,\u001b[0m\u001b[0;34m\u001b[0m\u001b[0;34m\u001b[0m\u001b[0m\n\u001b[0;32m--> 550\u001b[0;31m               ctx=ctx)\n\u001b[0m\u001b[1;32m    551\u001b[0m         \u001b[0;32melse\u001b[0m\u001b[0;34m:\u001b[0m\u001b[0;34m\u001b[0m\u001b[0;34m\u001b[0m\u001b[0m\n\u001b[1;32m    552\u001b[0m           outputs = execute.execute_with_cancellation(\n",
            "\u001b[0;32m/usr/local/lib/python3.6/dist-packages/tensorflow/python/eager/execute.py\u001b[0m in \u001b[0;36mquick_execute\u001b[0;34m(op_name, num_outputs, inputs, attrs, ctx, name)\u001b[0m\n\u001b[1;32m     58\u001b[0m     \u001b[0mctx\u001b[0m\u001b[0;34m.\u001b[0m\u001b[0mensure_initialized\u001b[0m\u001b[0;34m(\u001b[0m\u001b[0;34m)\u001b[0m\u001b[0;34m\u001b[0m\u001b[0;34m\u001b[0m\u001b[0m\n\u001b[1;32m     59\u001b[0m     tensors = pywrap_tfe.TFE_Py_Execute(ctx._handle, device_name, op_name,\n\u001b[0;32m---> 60\u001b[0;31m                                         inputs, attrs, num_outputs)\n\u001b[0m\u001b[1;32m     61\u001b[0m   \u001b[0;32mexcept\u001b[0m \u001b[0mcore\u001b[0m\u001b[0;34m.\u001b[0m\u001b[0m_NotOkStatusException\u001b[0m \u001b[0;32mas\u001b[0m \u001b[0me\u001b[0m\u001b[0;34m:\u001b[0m\u001b[0;34m\u001b[0m\u001b[0;34m\u001b[0m\u001b[0m\n\u001b[1;32m     62\u001b[0m     \u001b[0;32mif\u001b[0m \u001b[0mname\u001b[0m \u001b[0;32mis\u001b[0m \u001b[0;32mnot\u001b[0m \u001b[0;32mNone\u001b[0m\u001b[0;34m:\u001b[0m\u001b[0;34m\u001b[0m\u001b[0;34m\u001b[0m\u001b[0m\n",
            "\u001b[0;31mKeyboardInterrupt\u001b[0m: "
          ]
        }
      ]
    },
    {
      "cell_type": "code",
      "metadata": {
        "id": "iGy0MDYe-PSN",
        "colab_type": "code",
        "colab": {}
      },
      "source": [
        "acc += history_fine.history['categorical_accuracy']\n",
        "val_acc += history_fine.history['val_categorical_accuracy']\n",
        "\n",
        "loss += history_fine.history['loss']\n",
        "val_loss += history_fine.history['val_loss']"
      ],
      "execution_count": null,
      "outputs": []
    },
    {
      "cell_type": "code",
      "metadata": {
        "id": "U84-GsXA-RkX",
        "colab_type": "code",
        "colab": {}
      },
      "source": [
        "plt.figure(figsize=(8, 8))\n",
        "plt.subplot(2, 1, 1)\n",
        "plt.plot(acc, label='Training Accuracy')\n",
        "plt.plot(val_acc, label='Validation Accuracy')\n",
        "plt.ylim([0.8, 1])\n",
        "plt.plot([initial_epochs-1,initial_epochs-1],\n",
        "          plt.ylim(), label='Start Fine Tuning')\n",
        "plt.legend(loc='lower right')\n",
        "plt.title('Training and Validation Accuracy')\n",
        "\n",
        "plt.subplot(2, 1, 2)\n",
        "plt.plot(loss, label='Training Loss')\n",
        "plt.plot(val_loss, label='Validation Loss')\n",
        "plt.ylim([0, 1.0])\n",
        "plt.plot([initial_epochs-1,initial_epochs-1],\n",
        "         plt.ylim(), label='Start Fine Tuning')\n",
        "plt.legend(loc='upper right')\n",
        "plt.title('Training and Validation Loss')\n",
        "plt.xlabel('epoch')\n",
        "plt.show()"
      ],
      "execution_count": null,
      "outputs": []
    },
    {
      "cell_type": "code",
      "metadata": {
        "id": "q53B7c0yF4h0",
        "colab_type": "code",
        "colab": {}
      },
      "source": [
        "loss, accuracy = model.evaluate(valid_generator)\n",
        "print('Test accuracy :', accuracy)"
      ],
      "execution_count": null,
      "outputs": []
    },
    {
      "cell_type": "code",
      "metadata": {
        "id": "AwnJ-Tnwa6Q1",
        "colab_type": "code",
        "colab": {}
      },
      "source": [
        "model_filepath = os.path.join(derm_ai_path, 'model7_NasLarge')\n",
        "model.save(model_filepath)"
      ],
      "execution_count": null,
      "outputs": []
    },
    {
      "cell_type": "code",
      "metadata": {
        "id": "vcqXfuggJfL8",
        "colab_type": "code",
        "colab": {}
      },
      "source": [
        "#model_filepath = os.path.join(derm_ai_path, 'model7_ResNet_V2_152')\n",
        "#model.save(model_filepath)"
      ],
      "execution_count": null,
      "outputs": []
    },
    {
      "cell_type": "code",
      "metadata": {
        "id": "Z9RtYH96IhUm",
        "colab_type": "code",
        "colab": {}
      },
      "source": [
        "image_batch, label_batch = next(iter(valid_generator))\n",
        "print(feature_batch.shape)"
      ],
      "execution_count": null,
      "outputs": []
    },
    {
      "cell_type": "code",
      "metadata": {
        "id": "5Ih-ZD_9INcp",
        "colab_type": "code",
        "colab": {}
      },
      "source": [
        "reloaded = tf.keras.models.load_model(model_filepath)\n",
        "result_batch = model.predict(image_batch)\n",
        "reloaded_result_batch = reloaded.predict(image_batch)"
      ],
      "execution_count": null,
      "outputs": []
    },
    {
      "cell_type": "code",
      "metadata": {
        "id": "9ybnAKDgJK7n",
        "colab_type": "code",
        "colab": {}
      },
      "source": [
        "abs(reloaded_result_batch - result_batch).max()"
      ],
      "execution_count": null,
      "outputs": []
    }
  ]
}